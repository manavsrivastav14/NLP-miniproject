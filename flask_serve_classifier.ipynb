{
  "nbformat": 4,
  "nbformat_minor": 0,
  "metadata": {
    "colab": {
      "name": "Untitled0.ipynb",
      "provenance": [],
      "collapsed_sections": []
    },
    "kernelspec": {
      "name": "python3",
      "display_name": "Python 3"
    },
    "language_info": {
      "name": "python"
    }
  },
  "cells": [
    {
      "cell_type": "code",
      "execution_count": 1,
      "metadata": {
        "colab": {
          "base_uri": "https://localhost:8080/"
        },
        "id": "L9R7kYsHChBW",
        "outputId": "563a7b8e-292e-4bb9-8e07-21d89120e303"
      },
      "outputs": [
        {
          "output_type": "stream",
          "name": "stdout",
          "text": [
            "Collecting sentencepiece\n",
            "  Downloading sentencepiece-0.1.96-cp37-cp37m-manylinux_2_17_x86_64.manylinux2014_x86_64.whl (1.2 MB)\n",
            "\u001b[?25l\r\u001b[K     |▎                               | 10 kB 25.7 MB/s eta 0:00:01\r\u001b[K     |▌                               | 20 kB 15.6 MB/s eta 0:00:01\r\u001b[K     |▉                               | 30 kB 10.5 MB/s eta 0:00:01\r\u001b[K     |█                               | 40 kB 9.5 MB/s eta 0:00:01\r\u001b[K     |█▍                              | 51 kB 4.6 MB/s eta 0:00:01\r\u001b[K     |█▋                              | 61 kB 5.4 MB/s eta 0:00:01\r\u001b[K     |██                              | 71 kB 5.9 MB/s eta 0:00:01\r\u001b[K     |██▏                             | 81 kB 6.0 MB/s eta 0:00:01\r\u001b[K     |██▍                             | 92 kB 6.7 MB/s eta 0:00:01\r\u001b[K     |██▊                             | 102 kB 5.3 MB/s eta 0:00:01\r\u001b[K     |███                             | 112 kB 5.3 MB/s eta 0:00:01\r\u001b[K     |███▎                            | 122 kB 5.3 MB/s eta 0:00:01\r\u001b[K     |███▌                            | 133 kB 5.3 MB/s eta 0:00:01\r\u001b[K     |███▉                            | 143 kB 5.3 MB/s eta 0:00:01\r\u001b[K     |████                            | 153 kB 5.3 MB/s eta 0:00:01\r\u001b[K     |████▎                           | 163 kB 5.3 MB/s eta 0:00:01\r\u001b[K     |████▋                           | 174 kB 5.3 MB/s eta 0:00:01\r\u001b[K     |████▉                           | 184 kB 5.3 MB/s eta 0:00:01\r\u001b[K     |█████▏                          | 194 kB 5.3 MB/s eta 0:00:01\r\u001b[K     |█████▍                          | 204 kB 5.3 MB/s eta 0:00:01\r\u001b[K     |█████▊                          | 215 kB 5.3 MB/s eta 0:00:01\r\u001b[K     |██████                          | 225 kB 5.3 MB/s eta 0:00:01\r\u001b[K     |██████▏                         | 235 kB 5.3 MB/s eta 0:00:01\r\u001b[K     |██████▌                         | 245 kB 5.3 MB/s eta 0:00:01\r\u001b[K     |██████▊                         | 256 kB 5.3 MB/s eta 0:00:01\r\u001b[K     |███████                         | 266 kB 5.3 MB/s eta 0:00:01\r\u001b[K     |███████▎                        | 276 kB 5.3 MB/s eta 0:00:01\r\u001b[K     |███████▋                        | 286 kB 5.3 MB/s eta 0:00:01\r\u001b[K     |███████▉                        | 296 kB 5.3 MB/s eta 0:00:01\r\u001b[K     |████████                        | 307 kB 5.3 MB/s eta 0:00:01\r\u001b[K     |████████▍                       | 317 kB 5.3 MB/s eta 0:00:01\r\u001b[K     |████████▋                       | 327 kB 5.3 MB/s eta 0:00:01\r\u001b[K     |█████████                       | 337 kB 5.3 MB/s eta 0:00:01\r\u001b[K     |█████████▏                      | 348 kB 5.3 MB/s eta 0:00:01\r\u001b[K     |█████████▌                      | 358 kB 5.3 MB/s eta 0:00:01\r\u001b[K     |█████████▊                      | 368 kB 5.3 MB/s eta 0:00:01\r\u001b[K     |██████████                      | 378 kB 5.3 MB/s eta 0:00:01\r\u001b[K     |██████████▎                     | 389 kB 5.3 MB/s eta 0:00:01\r\u001b[K     |██████████▌                     | 399 kB 5.3 MB/s eta 0:00:01\r\u001b[K     |██████████▉                     | 409 kB 5.3 MB/s eta 0:00:01\r\u001b[K     |███████████                     | 419 kB 5.3 MB/s eta 0:00:01\r\u001b[K     |███████████▍                    | 430 kB 5.3 MB/s eta 0:00:01\r\u001b[K     |███████████▋                    | 440 kB 5.3 MB/s eta 0:00:01\r\u001b[K     |███████████▉                    | 450 kB 5.3 MB/s eta 0:00:01\r\u001b[K     |████████████▏                   | 460 kB 5.3 MB/s eta 0:00:01\r\u001b[K     |████████████▍                   | 471 kB 5.3 MB/s eta 0:00:01\r\u001b[K     |████████████▊                   | 481 kB 5.3 MB/s eta 0:00:01\r\u001b[K     |█████████████                   | 491 kB 5.3 MB/s eta 0:00:01\r\u001b[K     |█████████████▎                  | 501 kB 5.3 MB/s eta 0:00:01\r\u001b[K     |█████████████▌                  | 512 kB 5.3 MB/s eta 0:00:01\r\u001b[K     |█████████████▊                  | 522 kB 5.3 MB/s eta 0:00:01\r\u001b[K     |██████████████                  | 532 kB 5.3 MB/s eta 0:00:01\r\u001b[K     |██████████████▎                 | 542 kB 5.3 MB/s eta 0:00:01\r\u001b[K     |██████████████▋                 | 552 kB 5.3 MB/s eta 0:00:01\r\u001b[K     |██████████████▉                 | 563 kB 5.3 MB/s eta 0:00:01\r\u001b[K     |███████████████▏                | 573 kB 5.3 MB/s eta 0:00:01\r\u001b[K     |███████████████▍                | 583 kB 5.3 MB/s eta 0:00:01\r\u001b[K     |███████████████▋                | 593 kB 5.3 MB/s eta 0:00:01\r\u001b[K     |████████████████                | 604 kB 5.3 MB/s eta 0:00:01\r\u001b[K     |████████████████▏               | 614 kB 5.3 MB/s eta 0:00:01\r\u001b[K     |████████████████▌               | 624 kB 5.3 MB/s eta 0:00:01\r\u001b[K     |████████████████▊               | 634 kB 5.3 MB/s eta 0:00:01\r\u001b[K     |█████████████████               | 645 kB 5.3 MB/s eta 0:00:01\r\u001b[K     |█████████████████▎              | 655 kB 5.3 MB/s eta 0:00:01\r\u001b[K     |█████████████████▌              | 665 kB 5.3 MB/s eta 0:00:01\r\u001b[K     |█████████████████▉              | 675 kB 5.3 MB/s eta 0:00:01\r\u001b[K     |██████████████████              | 686 kB 5.3 MB/s eta 0:00:01\r\u001b[K     |██████████████████▍             | 696 kB 5.3 MB/s eta 0:00:01\r\u001b[K     |██████████████████▋             | 706 kB 5.3 MB/s eta 0:00:01\r\u001b[K     |███████████████████             | 716 kB 5.3 MB/s eta 0:00:01\r\u001b[K     |███████████████████▏            | 727 kB 5.3 MB/s eta 0:00:01\r\u001b[K     |███████████████████▍            | 737 kB 5.3 MB/s eta 0:00:01\r\u001b[K     |███████████████████▊            | 747 kB 5.3 MB/s eta 0:00:01\r\u001b[K     |████████████████████            | 757 kB 5.3 MB/s eta 0:00:01\r\u001b[K     |████████████████████▎           | 768 kB 5.3 MB/s eta 0:00:01\r\u001b[K     |████████████████████▌           | 778 kB 5.3 MB/s eta 0:00:01\r\u001b[K     |████████████████████▉           | 788 kB 5.3 MB/s eta 0:00:01\r\u001b[K     |█████████████████████           | 798 kB 5.3 MB/s eta 0:00:01\r\u001b[K     |█████████████████████▎          | 808 kB 5.3 MB/s eta 0:00:01\r\u001b[K     |█████████████████████▋          | 819 kB 5.3 MB/s eta 0:00:01\r\u001b[K     |█████████████████████▉          | 829 kB 5.3 MB/s eta 0:00:01\r\u001b[K     |██████████████████████▏         | 839 kB 5.3 MB/s eta 0:00:01\r\u001b[K     |██████████████████████▍         | 849 kB 5.3 MB/s eta 0:00:01\r\u001b[K     |██████████████████████▊         | 860 kB 5.3 MB/s eta 0:00:01\r\u001b[K     |███████████████████████         | 870 kB 5.3 MB/s eta 0:00:01\r\u001b[K     |███████████████████████▏        | 880 kB 5.3 MB/s eta 0:00:01\r\u001b[K     |███████████████████████▌        | 890 kB 5.3 MB/s eta 0:00:01\r\u001b[K     |███████████████████████▊        | 901 kB 5.3 MB/s eta 0:00:01\r\u001b[K     |████████████████████████        | 911 kB 5.3 MB/s eta 0:00:01\r\u001b[K     |████████████████████████▎       | 921 kB 5.3 MB/s eta 0:00:01\r\u001b[K     |████████████████████████▋       | 931 kB 5.3 MB/s eta 0:00:01\r\u001b[K     |████████████████████████▉       | 942 kB 5.3 MB/s eta 0:00:01\r\u001b[K     |█████████████████████████       | 952 kB 5.3 MB/s eta 0:00:01\r\u001b[K     |█████████████████████████▍      | 962 kB 5.3 MB/s eta 0:00:01\r\u001b[K     |█████████████████████████▋      | 972 kB 5.3 MB/s eta 0:00:01\r\u001b[K     |██████████████████████████      | 983 kB 5.3 MB/s eta 0:00:01\r\u001b[K     |██████████████████████████▏     | 993 kB 5.3 MB/s eta 0:00:01\r\u001b[K     |██████████████████████████▌     | 1.0 MB 5.3 MB/s eta 0:00:01\r\u001b[K     |██████████████████████████▊     | 1.0 MB 5.3 MB/s eta 0:00:01\r\u001b[K     |███████████████████████████     | 1.0 MB 5.3 MB/s eta 0:00:01\r\u001b[K     |███████████████████████████▎    | 1.0 MB 5.3 MB/s eta 0:00:01\r\u001b[K     |███████████████████████████▌    | 1.0 MB 5.3 MB/s eta 0:00:01\r\u001b[K     |███████████████████████████▉    | 1.1 MB 5.3 MB/s eta 0:00:01\r\u001b[K     |████████████████████████████    | 1.1 MB 5.3 MB/s eta 0:00:01\r\u001b[K     |████████████████████████████▍   | 1.1 MB 5.3 MB/s eta 0:00:01\r\u001b[K     |████████████████████████████▋   | 1.1 MB 5.3 MB/s eta 0:00:01\r\u001b[K     |████████████████████████████▉   | 1.1 MB 5.3 MB/s eta 0:00:01\r\u001b[K     |█████████████████████████████▏  | 1.1 MB 5.3 MB/s eta 0:00:01\r\u001b[K     |█████████████████████████████▍  | 1.1 MB 5.3 MB/s eta 0:00:01\r\u001b[K     |█████████████████████████████▊  | 1.1 MB 5.3 MB/s eta 0:00:01\r\u001b[K     |██████████████████████████████  | 1.1 MB 5.3 MB/s eta 0:00:01\r\u001b[K     |██████████████████████████████▎ | 1.1 MB 5.3 MB/s eta 0:00:01\r\u001b[K     |██████████████████████████████▌ | 1.2 MB 5.3 MB/s eta 0:00:01\r\u001b[K     |██████████████████████████████▊ | 1.2 MB 5.3 MB/s eta 0:00:01\r\u001b[K     |███████████████████████████████ | 1.2 MB 5.3 MB/s eta 0:00:01\r\u001b[K     |███████████████████████████████▎| 1.2 MB 5.3 MB/s eta 0:00:01\r\u001b[K     |███████████████████████████████▋| 1.2 MB 5.3 MB/s eta 0:00:01\r\u001b[K     |███████████████████████████████▉| 1.2 MB 5.3 MB/s eta 0:00:01\r\u001b[K     |████████████████████████████████| 1.2 MB 5.3 MB/s \n",
            "\u001b[?25hInstalling collected packages: sentencepiece\n",
            "Successfully installed sentencepiece-0.1.96\n",
            "Collecting flask-ngrok\n",
            "  Downloading flask_ngrok-0.0.25-py3-none-any.whl (3.1 kB)\n",
            "Requirement already satisfied: Flask>=0.8 in /usr/local/lib/python3.7/dist-packages (from flask-ngrok) (1.1.4)\n",
            "Requirement already satisfied: requests in /usr/local/lib/python3.7/dist-packages (from flask-ngrok) (2.23.0)\n",
            "Requirement already satisfied: itsdangerous<2.0,>=0.24 in /usr/local/lib/python3.7/dist-packages (from Flask>=0.8->flask-ngrok) (1.1.0)\n",
            "Requirement already satisfied: click<8.0,>=5.1 in /usr/local/lib/python3.7/dist-packages (from Flask>=0.8->flask-ngrok) (7.1.2)\n",
            "Requirement already satisfied: Jinja2<3.0,>=2.10.1 in /usr/local/lib/python3.7/dist-packages (from Flask>=0.8->flask-ngrok) (2.11.3)\n",
            "Requirement already satisfied: Werkzeug<2.0,>=0.15 in /usr/local/lib/python3.7/dist-packages (from Flask>=0.8->flask-ngrok) (1.0.1)\n",
            "Requirement already satisfied: MarkupSafe>=0.23 in /usr/local/lib/python3.7/dist-packages (from Jinja2<3.0,>=2.10.1->Flask>=0.8->flask-ngrok) (2.0.1)\n",
            "Requirement already satisfied: idna<3,>=2.5 in /usr/local/lib/python3.7/dist-packages (from requests->flask-ngrok) (2.10)\n",
            "Requirement already satisfied: certifi>=2017.4.17 in /usr/local/lib/python3.7/dist-packages (from requests->flask-ngrok) (2021.10.8)\n",
            "Requirement already satisfied: urllib3!=1.25.0,!=1.25.1,<1.26,>=1.21.1 in /usr/local/lib/python3.7/dist-packages (from requests->flask-ngrok) (1.24.3)\n",
            "Requirement already satisfied: chardet<4,>=3.0.2 in /usr/local/lib/python3.7/dist-packages (from requests->flask-ngrok) (3.0.4)\n",
            "Installing collected packages: flask-ngrok\n",
            "Successfully installed flask-ngrok-0.0.25\n",
            "Collecting flask-bootstrap\n",
            "  Downloading Flask-Bootstrap-3.3.7.1.tar.gz (456 kB)\n",
            "\u001b[K     |████████████████████████████████| 456 kB 5.2 MB/s \n",
            "\u001b[?25hRequirement already satisfied: Flask>=0.8 in /usr/local/lib/python3.7/dist-packages (from flask-bootstrap) (1.1.4)\n",
            "Collecting dominate\n",
            "  Downloading dominate-2.6.0-py2.py3-none-any.whl (29 kB)\n",
            "Collecting visitor\n",
            "  Downloading visitor-0.1.3.tar.gz (3.3 kB)\n",
            "Requirement already satisfied: itsdangerous<2.0,>=0.24 in /usr/local/lib/python3.7/dist-packages (from Flask>=0.8->flask-bootstrap) (1.1.0)\n",
            "Requirement already satisfied: click<8.0,>=5.1 in /usr/local/lib/python3.7/dist-packages (from Flask>=0.8->flask-bootstrap) (7.1.2)\n",
            "Requirement already satisfied: Jinja2<3.0,>=2.10.1 in /usr/local/lib/python3.7/dist-packages (from Flask>=0.8->flask-bootstrap) (2.11.3)\n",
            "Requirement already satisfied: Werkzeug<2.0,>=0.15 in /usr/local/lib/python3.7/dist-packages (from Flask>=0.8->flask-bootstrap) (1.0.1)\n",
            "Requirement already satisfied: MarkupSafe>=0.23 in /usr/local/lib/python3.7/dist-packages (from Jinja2<3.0,>=2.10.1->Flask>=0.8->flask-bootstrap) (2.0.1)\n",
            "Building wheels for collected packages: flask-bootstrap, visitor\n",
            "  Building wheel for flask-bootstrap (setup.py) ... \u001b[?25l\u001b[?25hdone\n",
            "  Created wheel for flask-bootstrap: filename=Flask_Bootstrap-3.3.7.1-py3-none-any.whl size=460123 sha256=ac655d06f80dc00d5eacee91028fe8d3fad59063b2cafa2778bcfa4c9a0c62c8\n",
            "  Stored in directory: /root/.cache/pip/wheels/67/a2/d6/50d039c9b59b4caca6d7b53839c8100354a52ab7553d2456eb\n",
            "  Building wheel for visitor (setup.py) ... \u001b[?25l\u001b[?25hdone\n",
            "  Created wheel for visitor: filename=visitor-0.1.3-py3-none-any.whl size=3946 sha256=9797b90026181ef88bdc41ddbabc76f8619337b96c1789983c9c857563d2a2ce\n",
            "  Stored in directory: /root/.cache/pip/wheels/64/34/11/053f47218984c9a31a00f911ed98dda036b867481dcc527a12\n",
            "Successfully built flask-bootstrap visitor\n",
            "Installing collected packages: visitor, dominate, flask-bootstrap\n",
            "Successfully installed dominate-2.6.0 flask-bootstrap-3.3.7.1 visitor-0.1.3\n"
          ]
        }
      ],
      "source": [
        "!pip install sentencepiece\n",
        "!pip install flask-ngrok\n",
        "!pip install flask-bootstrap"
      ]
    },
    {
      "cell_type": "code",
      "source": [
        "from google.colab import drive\n",
        "drive.mount('/content/drive')"
      ],
      "metadata": {
        "colab": {
          "base_uri": "https://localhost:8080/"
        },
        "id": "dB3yKW-KCqk1",
        "outputId": "f0b6416d-3f24-4d04-9186-fa85b60fad4c"
      },
      "execution_count": 8,
      "outputs": [
        {
          "output_type": "stream",
          "name": "stdout",
          "text": [
            "Mounted at /content/drive\n"
          ]
        }
      ]
    },
    {
      "cell_type": "code",
      "source": [
        "from fastai.text import *\n",
        "from fastai.vision import *\n",
        "import numpy as np\n",
        "from sklearn.model_selection import train_test_split\n",
        "import pickle\n",
        "import sentencepiece as spm\n",
        "import re\n",
        "import pdb\n",
        "import fastai,torch\n",
        "\n",
        "from flask_ngrok import run_with_ngrok\n",
        "from flask import Flask, render_template , request, jsonify\n",
        "import os\n"
      ],
      "metadata": {
        "id": "FvKlX9tsC0vV"
      },
      "execution_count": 15,
      "outputs": []
    },
    {
      "cell_type": "code",
      "source": [
        "app=Flask(__name__)\n",
        "\n",
        "@app.route('/')\n",
        "def hello_world():\n",
        "   \n",
        "    return render_template(\"regression.html\")\n",
        "\n",
        "run_with_ngrok(app)\n",
        "@app.route('/predict',methods=['POST','GET'])\n",
        "def prediction():\n",
        "    label=['Business','Entertainment','Politics', 'Sports']\n",
        "    # ip=input(\"Enter News Heading:\")\n",
        "    ip=str(request.form.get('news_text'))\n",
        "    print(ip)\n",
        "    pred=list(new_classifier.predict(ip)[2].numpy())\n",
        "    maxpos = pred.index(max(pred))\n",
        "    print(maxpos)\n",
        "    # print(maxpos)\n",
        "    ans=label[maxpos]\n",
        "    print(ans)\n",
        "    return jsonify(pred=ans)"
      ],
      "metadata": {
        "id": "GJkxhMprDA7Y"
      },
      "execution_count": 16,
      "outputs": []
    },
    {
      "cell_type": "code",
      "source": [
        "if __name__=='__main__':\n",
        "    class PanjabiTokenizer(BaseTokenizer):\n",
        "        def __init__(self, lang:str):\n",
        "            self.lang = lang\n",
        "            self.sp = spm.SentencePieceProcessor()\n",
        "            self.sp.Load('/content/drive/MyDrive/NLP/panjabi_lm.model')\n",
        "            \n",
        "        def tokenizer(self, t:str) -> List[str]:\n",
        "            return self.sp.EncodeAsPieces(t)\n",
        "\n",
        "    new_classifier = load_learner('/content/drive/MyDrive/NLP', 'gen_model')\n",
        "\n",
        "    app.run()"
      ],
      "metadata": {
        "colab": {
          "base_uri": "https://localhost:8080/",
          "height": 555
        },
        "id": "8bzzWxO6DMyx",
        "outputId": "bf276cc7-dc47-4ee6-f402-28c33c79a294"
      },
      "execution_count": 17,
      "outputs": [
        {
          "output_type": "display_data",
          "data": {
            "text/plain": [
              "<IPython.core.display.HTML object>"
            ],
            "text/html": [
              "\n",
              "<style>\n",
              "    /* Turns off some styling */\n",
              "    progress {\n",
              "        /* gets rid of default border in Firefox and Opera. */\n",
              "        border: none;\n",
              "        /* Needs to be in here for Safari polyfill so background images work as expected. */\n",
              "        background-size: auto;\n",
              "    }\n",
              "    .progress-bar-interrupted, .progress-bar-interrupted::-webkit-progress-bar {\n",
              "        background: #F44336;\n",
              "    }\n",
              "</style>\n"
            ]
          },
          "metadata": {}
        },
        {
          "output_type": "display_data",
          "data": {
            "text/plain": [
              "<IPython.core.display.HTML object>"
            ],
            "text/html": [
              ""
            ]
          },
          "metadata": {}
        },
        {
          "output_type": "display_data",
          "data": {
            "text/plain": [
              "<IPython.core.display.HTML object>"
            ],
            "text/html": [
              "\n",
              "<style>\n",
              "    /* Turns off some styling */\n",
              "    progress {\n",
              "        /* gets rid of default border in Firefox and Opera. */\n",
              "        border: none;\n",
              "        /* Needs to be in here for Safari polyfill so background images work as expected. */\n",
              "        background-size: auto;\n",
              "    }\n",
              "    .progress-bar-interrupted, .progress-bar-interrupted::-webkit-progress-bar {\n",
              "        background: #F44336;\n",
              "    }\n",
              "</style>\n"
            ]
          },
          "metadata": {}
        },
        {
          "output_type": "display_data",
          "data": {
            "text/plain": [
              "<IPython.core.display.HTML object>"
            ],
            "text/html": [
              ""
            ]
          },
          "metadata": {}
        },
        {
          "output_type": "stream",
          "name": "stdout",
          "text": [
            " * Serving Flask app \"__main__\" (lazy loading)\n",
            " * Environment: production\n",
            "\u001b[31m   WARNING: This is a development server. Do not use it in a production deployment.\u001b[0m\n",
            "\u001b[2m   Use a production WSGI server instead.\u001b[0m\n",
            " * Debug mode: off\n"
          ]
        },
        {
          "output_type": "stream",
          "name": "stderr",
          "text": [
            " * Running on http://127.0.0.1:5000/ (Press CTRL+C to quit)\n"
          ]
        },
        {
          "output_type": "stream",
          "name": "stdout",
          "text": [
            " * Running on http://0ceb-34-70-25-76.ngrok.io\n",
            " * Traffic stats available on http://127.0.0.1:4040\n",
            "\"ਪ੍ਰਸ਼ਾਸਨ ਨੇ ਡਾ. ਧਰਮਵੀਰ ਗਾਂਧੀ ਦੇ ਨਾਂ 'ਤੇ ਲਾਈ ਚੇਪੀ\n",
            "Publish Date:Thu, 11 Apr 2019 08:45 PM (IST)\n",
            "ਡਾ. ਧਰਮਵੀਰ ਗਾਂਧੀ ਨੇ ਆਪਣੇ ਨਾਂ 'ਤੇ ਲਾਈ ਚੇਪੀ ਤੋਂ ਭੜਕਦਿਆਂ ਪ੍ਰਸ਼ਾਸਨ ਦੀ ਇਸ ਕਾਰਵਾਈ ਦੀ ਨਿਖੇਧੀ ਕੀਤੀ ਹੈ। ਡਾ. ਗਾਂਧੀ ਨੇ ਦੋਸ਼ ਲਾਇਆ ਕਿ ਪ੍ਰਸ਼ਾਸਨ ਸਿਆਸੀ ਦਬਾਅ ਹੇਠ ਅਜਿਹੀ ਕਾਰਵਾਈ ਨੂੰ ਅੰਜਾਮ ਦੇ ਰਿਹਾ ਹੈ।\n",
            "ਨਵਦੀਪ ਢੀਂਗਰਾ, ਪਟਿਆਲਾ : ਮੈਂਬਰ ਪਾਰਲੀਮੈਂਟ ਵੱਲੋਂ ਆਪਣੇ ਲੈਂਡ ਫੰਡ 'ਚੋਂ ਪਿੰਡਾਂ ਨੂੰ ਦਿੱਤੇ ਗਏ ਪਾਣੀ ਦੇ ਟੈਂਕਰਾਂ ਉਪਰ ਛਪੇ ਐੱਮਪੀ ਦੇ ਨਾਂ 'ਤੇ ਪ੍ਰਸ਼ਾਸਨ ਨੇ ਚੇਪੀ ਲਗਾ ਦਿੱਤੀ ਹੈ। ਡਾ. ਧਰਮਵੀਰ ਗਾਂਧੀ ਨੇ ਆਪਣੇ ਨਾਂ 'ਤੇ ਲਾਈ ਚੇਪੀ ਤੋਂ ਭੜਕਦਿਆਂ ਪ੍ਰਸ਼ਾਸਨ ਦੀ ਇਸ ਕਾਰਵਾਈ ਦੀ ਨਿਖੇਧੀ ਕੀਤੀ ਹੈ। ਡਾ. ਗਾਂਧੀ ਨੇ ਦੋਸ਼ ਲਾਇਆ ਕਿ ਪ੍ਰਸ਼ਾਸਨ ਸਿਆਸੀ ਦਬਾਅ ਹੇਠ ਅਜਿਹੀ ਕਾਰਵਾਈ ਨੂੰ ਅੰਜਾਮ ਦੇ ਰਿਹਾ ਹੈ।\n",
            "ਡਾ. ਗਾਂਧੀ ਨੇ ਕਿਹਾ ਕਿ ਅੱਗ ਬੁਝਾਉਣ ਲਈ ਪਾਣੀ ਦੇ ਟੈਂਕਰ ਚੋਣ ਜ਼ਾਬਤਾ ਲਾਗੂ ਹੋਣ ਤੋਂ ਪਹਿਲਾਂ ਦਿੱਤੇ ਗਏ ਸਨ। ਇਸ ਉਪਰ ਸਬੰਧਤ ਮੈਂਬਰ ਪਾਰਲੀਮੈਂਟ ਦਾ ਨਾਂ ਐੱਮਪੀ ਲੈਂਡ ਦੇ ਨਿਯਮਾਂ ਮੁਤਾਬਕ ਲਿਖਿਆ ਗਿਆ ਸੀ। ਡਾ. ਗਾਂਧੀ ਨੇ ਕਿਹਾ ਕਿ ਹੋਰਨਾਂ ਥਾਵਾਂ 'ਤੇ ਨੀਂਹ ਪੱਥਰਾਂ ਅਤੇ ਐੱਮਪੀ ਲੈਂਡ ਦੀਆਂ ਲਿਖਤਾਂ ਨੂੰ ਨਹੀਂ ਮਿਟਾਇਆ ਗਿਆ। ਮੰਤਰੀਆਂ, ਮੁੱਖ ਮੰਤਰੀਆਂ ਦੇ ਨਾਂ ਉਸੇ ਤਰ੍ਹਾਂ ਮੌਜੂਦ ਹਨ। ਇਸ ਸਬੰਧੀ ਡਾ. ਗਾਂਧੀ ਨੇ ਇਕ ਚਿੱਠੀ ਮੁੱਖ ਚੋਣ ਅਫਸਰ ਨੂੰ ਲਿਖੀ ਹੈ, ਜਿਸ ਵਿਚ ਉਨ੍ਹਾਂ ਮਾਮਲੇ ਦੀ ਜਾਂਚ ਕਰਵਾਉਣ ਦੀ ਮੰਗ ਕੀਤੀ ਹੈ।\n",
            "ਨਾਂ ਦੁਬਾਰਾ ਲਿਖੋ ਜਾਂ ਸਾਰਿਆਂ ਦੇ ਮਿਟਾਏ ਜਾਣ : ਡਾ. ਗਾਂਧੀ\n",
            "ਡਾ. ਧਰਮਵੀਰ ਗਾਂਧੀ ਨੇ ਮੰਗ ਕੀਤੀ ਕਿ ਜਾਂ ਤਾਂ ਐੱਮਪੀ ਲੈਂਡ ਫੰਡ ਦੇ ਨਿਯਮਾਂ ਅਨੁਸਾਰ ਪਾਰਲੀਮੈਂਟ ਦੇ ਹੁਕਮਾਂ ਤਹਿਤ ਉਨ੍ਹਾਂ ਦਾ ਨਾਂ ਮੁੜ ਲਿਖਿਆ ਜਾਵੇ, ਨਹੀਂ ਤਾਂ ਚੋਣ ਜ਼ਾਬਤੇ ਅਨੁਸਾਰ ਨੀਂਹ ਪੱਥਰ ਜਾਂ ਐੱਮਪੀ ਲੈਂਡ ਦੇ ਸਾਰੇ ਨਾਂ ਮਿਟਾ ਦਿੱਤੇ ਜਾਣ।\n",
            "ਨਿਯਮਾਂ ਤਹਿਤ ਹੀ ਹੋ ਰਹੀ ਕਾਰਵਾਈ : ਡੀਸੀ\n",
            "ਡਿਪਟੀ ਕਮਿਸ਼ਨਰ-ਕਮ-ਜ਼ਿਲ੍ਹਾ ਚੋਣ ਅਧਿਕਾਰੀ ਕੁਮਾਰ ਅਮਿਤ ਨੇ ਕਿਹਾ ਕਿ ਜ਼ਿਲ੍ਹੇ ਵਿਚ ਚੋਣ ਜ਼ਾਬਤੇ ਦੀ ਉਲੰਘਣਾ ਨਹੀਂ ਹੋਣ ਦਿੱਤੀ ਜਾਵੇਗੀ। ਜ਼ਾਬਤੇ ਤਹਿਤ ਕਿਤੇ ਵੀ ਕਿਸੇ ਵੀ ਪਾਰਟੀ ਦੇ ਆਗੂ ਦਾ ਨਾਂ ਜਾਂ ਪਾਰਟੀ ਦੀ ਮਸ਼ਹੂਰੀ ਨਹੀਂ ਕਰਨ ਦਿੱਤੀ ਜਾਵੇਗੀ। ਨਿਯਮਾਂ ਤਹਿਤ ਹੀ ਪਾਣੀ ਦੇ ਟੈਂਕਰਾਂ ਤੋਂ ਐੱਮਪੀ ਦਾ ਨਾਂ ਹਟਾਇਆ ਗਿਆ ਹੈ।\"\n"
          ]
        },
        {
          "output_type": "stream",
          "name": "stderr",
          "text": [
            "127.0.0.1 - - [24/Apr/2022 19:36:06] \"\u001b[37mPOST /predict HTTP/1.1\u001b[0m\" 200 -\n"
          ]
        },
        {
          "output_type": "stream",
          "name": "stdout",
          "text": [
            "2\n",
            "Politics\n",
            "\"ਹਰ ਸਮੇਂ ਨਾਲ ਨਹੀਂ ਰਹੇਗਾ ਖਿਡਾਰੀਆਂ ਦਾ ਪਰਿਵਾਰ\n",
            "Publish Date:Fri, 10 May 2019 09:55 PM (IST)\n",
            "ਇੰਡੀਅਨ ਪ੍ਰੀਮੀਅਰ ਲੀਗ ਸਮਾਪਤ ਹੋਣ ਵਾਲੀ ਹੈ ਤੇ ਕ੍ਰਿਕਟ ਦਾ ਵਿਸ਼ਵ ਕੱਪ ਸ਼ੁਰੂ ਹੋਣ ਵਾਲਾ ਹੈ। ਇਸ ਕਾਰਨ ਜਲਦ ਹੀ ਸਾਰਾ ਫੋਕਸ 30 ਮਈ ਤੋਂ ਇੰਗਲੈਂਡ ਵਿਚ ਸ਼ੁਰੂ ਹੋਣ ਵਾਲੇ ਵਿਸ਼ਵ ਕੱਪ ਵੱਲ ਸ਼ਿਫਟ ਹੋ ਜਾਵੇਗਾ।\n",
            "ਨਵੀਂ ਦਿੱਲੀ (ਜੇਐੱਨਐੱਨ) : ਇੰਡੀਅਨ ਪ੍ਰੀਮੀਅਰ ਲੀਗ ਸਮਾਪਤ ਹੋਣ ਵਾਲੀ ਹੈ ਤੇ ਕ੍ਰਿਕਟ ਦਾ ਵਿਸ਼ਵ ਕੱਪ ਸ਼ੁਰੂ ਹੋਣ ਵਾਲਾ ਹੈ। ਇਸ ਕਾਰਨ ਜਲਦ ਹੀ ਸਾਰਾ ਫੋਕਸ 30 ਮਈ ਤੋਂ ਇੰਗਲੈਂਡ ਵਿਚ ਸ਼ੁਰੂ ਹੋਣ ਵਾਲੇ ਵਿਸ਼ਵ ਕੱਪ ਵੱਲ ਸ਼ਿਫਟ ਹੋ ਜਾਵੇਗਾ। ਹਾਲਾਂਕਿ ਇਸ ਵਿਚਾਲੇ ਭਾਰਤੀ ਟੀਮ ਮੈਨੇਜਮੈਂਟ ਨੇ ਬੀਸੀਸੀਆਈ ਤੋਂ ਵਿਸ਼ਵ ਕੱਪ ਦੌਰਾਨ ਖਿਡਾਰੀਆਂ ਨੂੰ ਪਤਨੀ ਤੇ ਪਰਿਵਾਰ ਨੂੰ ਨਾਲ ਰੱਖਣ ਦੇਣ ਦਾ ਬਿਨੈ ਕੀਤਾ ਸੀ ਪਰ ਬੋਰਡ ਨੇ ਸਿਰਫ਼ 14 ਦਿਨ ਦੀ ਹੀ ਇਜਾਜ਼ਤ ਦਿੱਤੀ ਹੈ। ਇਸ ਐਤਵਾਰ ਨੂੰ ਆਈਪੀਐੱਲ ਫਾਈਨਲ ਹੈ ਤੇ ਇਸ ਤੋਂ ਇਕ ਹਫਤੇ ਬਾਅਦ ਟੀਮ ਇੰਡੀਆ ਇੰਗਲੈਂਡ ਰਵਾਨਾ ਹੋ ਜਾਵੇਗੀ। ਬੀਸੀਸੀਆਈ ਦੇ ਇਕ ਅਧਿਕਾਰੀ ਨੇ ਕਿਹਾ ਕਿ ਟੀਮ ਇੰਡੀਆ ਦੇ ਕਪਤਾਨ ਵਿਰਾਟ ਕੋਹਲੀ ਨੇ ਬੀਸੀਸੀਆਈ ਨੂੰ ਗੁਜ਼ਾਰਿਸ਼ ਕੀਤੀ ਸੀ ਕਿ ਵਿਸ਼ਵ ਕੱਪ ਦੌਰਾਨ ਖਿਡਾਰੀਆਂ ਨੂੰ ਉਨ੍ਹਾਂ ਦੇ ਪਰਿਵਾਰ ਵਾਲਿਆਂ ਨਾਲ ਰਹਿਣ ਦੀ ਇਜਾਜ਼ਤ ਦਿੱਤੀ ਜਾਵੇ। ਬੀਸੀਸੀਆਈ ਨੇ ਉਨ੍ਹਾਂ ਦੀ ਇਸ ਮੰਗ ਨੂੰ ਮੰਨ ਤਾਂ ਲਿਆ ਪਰ ਇਸ ਵਿਚਾਲੇ ਬੀਸੀਸੀਆਈ ਨੇ ਇਕ ਸ਼ਰਤ ਵੀ ਰੱਖ ਦਿੱਤੀ ਹੈ ਕਿ ਵਿਸ਼ਵ ਕੱਪ ਸ਼ੁਰੂ ਹੋਣ ਤੋਂ 21 ਦਿਨ ਬਾਅਦ ਹੀ ਕੋਈ ਵੀ ਖਿਡਾਰੀ ਆਪਣੀ ਪਤਨੀ ਜਾਂ ਪਰਿਵਾਰ ਨੂੰ ਸਿਰਫ਼ 15 ਦਿਨ ਲਈ ਹੀ ਆਪਣੇ ਨਾਲ ਰੱਖ ਸਕਦਾ ਹੈ। ਖੇਡ ਦੌਰਾਨ ਖਿਡਾਰੀਆਂ ਦਾ ਧਿਆਨ ਨਾ ਭਟਕੇ ਇਸ ਕਾਰਨ ਬੀਸੀਸੀਆਈ ਨੇ ਇਹ ਸ਼ਰਤ ਰੱਖੀ ਹੈ।\n",
            "ਪਹਿਲਾ ਅਭਿਆਸ ਮੈਚ ਹੋਵੇਗਾ 25 ਮਈ ਨੂੰ\n",
            "ਭਾਰਤ ਨੇ ਆਪਣਾ ਪਹਿਲਾ ਅਭਿਆਸ ਮੈਚ 25 ਮਈ ਨੂੰ ਓਵਲ ਵਿਚ ਨਿਊਜ਼ੀਲੈਂਡ ਨਾਲ ਤੇ ਦੂਜਾ ਅਭਿਆਸ ਮੈਚ 28 ਮਈ ਨੂੰ ਬੰਗਲਾਦੇਸ਼ ਖ਼ਿਲਾਫ਼ ਕਾਰਡਿਫ ਵਿਚ ਖੇਡਣਾ ਹੈ। ਭਾਰਤ ਨੇ ਵਿਸ਼ਵ ਕੱਪ ਦਾ ਪਹਿਲਾ ਮੁਕਾਬਲਾ ਪੰਜ ਜੂਨ ਨੂੰ ਦੱਖਣੀ ਅਫਰੀਕਾ ਨਾਲ ਖੇਡਣਾ ਹੈ। ਜੇ ਟੀਮ ਫਾਈਨਲ (14 ਜੂਨ) 'ਚ ਪੁੱਜਦੀ ਹੈ ਤਾਂ ਉਸ ਨੂੰ ਲਗਪਗ 55 ਦਿਨ ਘਰ ਤੋਂ ਬਾਹਰ ਰਹਿਣਾ ਪਵੇਗਾ।\"\n"
          ]
        },
        {
          "output_type": "stream",
          "name": "stderr",
          "text": [
            "127.0.0.1 - - [24/Apr/2022 19:36:24] \"\u001b[37mPOST /predict HTTP/1.1\u001b[0m\" 200 -\n"
          ]
        },
        {
          "output_type": "stream",
          "name": "stdout",
          "text": [
            "3\n",
            "Sports\n"
          ]
        }
      ]
    },
    {
      "cell_type": "code",
      "source": [
        "# request format\n",
        "\"\"\"\n",
        "curl --location --request POST 'http://0ceb-34-70-25-76.ngrok.io/predict' \\\n",
        "--form 'news_text=\"\\\"ਹਰ ਸਮੇਂ ਨਾਲ ਨਹੀਂ ਰਹੇਗਾ ਖਿਡਾਰੀਆਂ ਦਾ ਪਰਿਵਾਰ\n",
        "Publish Date:Fri, 10 May 2019 09:55 PM (IST)\n",
        "ਇੰਡੀਅਨ ਪ੍ਰੀਮੀਅਰ ਲੀਗ ਸਮਾਪਤ ਹੋਣ ਵਾਲੀ ਹੈ ਤੇ ਕ੍ਰਿਕਟ ਦਾ ਵਿਸ਼ਵ ਕੱਪ ਸ਼ੁਰੂ ਹੋਣ ਵਾਲਾ ਹੈ। ਇਸ ਕਾਰਨ ਜਲਦ ਹੀ ਸਾਰਾ ਫੋਕਸ 30 ਮਈ ਤੋਂ ਇੰਗਲੈਂਡ ਵਿਚ ਸ਼ੁਰੂ ਹੋਣ ਵਾਲੇ ਵਿਸ਼ਵ ਕੱਪ ਵੱਲ ਸ਼ਿਫਟ ਹੋ ਜਾਵੇਗਾ।\n",
        "ਨਵੀਂ ਦਿੱਲੀ (ਜੇਐੱਨਐੱਨ) : ਇੰਡੀਅਨ ਪ੍ਰੀਮੀਅਰ ਲੀਗ ਸਮਾਪਤ ਹੋਣ ਵਾਲੀ ਹੈ ਤੇ ਕ੍ਰਿਕਟ ਦਾ ਵਿਸ਼ਵ ਕੱਪ ਸ਼ੁਰੂ ਹੋਣ ਵਾਲਾ ਹੈ। ਇਸ ਕਾਰਨ ਜਲਦ ਹੀ ਸਾਰਾ ਫੋਕਸ 30 ਮਈ ਤੋਂ ਇੰਗਲੈਂਡ ਵਿਚ ਸ਼ੁਰੂ ਹੋਣ ਵਾਲੇ ਵਿਸ਼ਵ ਕੱਪ ਵੱਲ ਸ਼ਿਫਟ ਹੋ ਜਾਵੇਗਾ। ਹਾਲਾਂਕਿ ਇਸ ਵਿਚਾਲੇ ਭਾਰਤੀ ਟੀਮ ਮੈਨੇਜਮੈਂਟ ਨੇ ਬੀਸੀਸੀਆਈ ਤੋਂ ਵਿਸ਼ਵ ਕੱਪ ਦੌਰਾਨ ਖਿਡਾਰੀਆਂ ਨੂੰ ਪਤਨੀ ਤੇ ਪਰਿਵਾਰ ਨੂੰ ਨਾਲ ਰੱਖਣ ਦੇਣ ਦਾ ਬਿਨੈ ਕੀਤਾ ਸੀ ਪਰ ਬੋਰਡ ਨੇ ਸਿਰਫ਼ 14 ਦਿਨ ਦੀ ਹੀ ਇਜਾਜ਼ਤ ਦਿੱਤੀ ਹੈ। ਇਸ ਐਤਵਾਰ ਨੂੰ ਆਈਪੀਐੱਲ ਫਾਈਨਲ ਹੈ ਤੇ ਇਸ ਤੋਂ ਇਕ ਹਫਤੇ ਬਾਅਦ ਟੀਮ ਇੰਡੀਆ ਇੰਗਲੈਂਡ ਰਵਾਨਾ ਹੋ ਜਾਵੇਗੀ। ਬੀਸੀਸੀਆਈ ਦੇ ਇਕ ਅਧਿਕਾਰੀ ਨੇ ਕਿਹਾ ਕਿ ਟੀਮ ਇੰਡੀਆ ਦੇ ਕਪਤਾਨ ਵਿਰਾਟ ਕੋਹਲੀ ਨੇ ਬੀਸੀਸੀਆਈ ਨੂੰ ਗੁਜ਼ਾਰਿਸ਼ ਕੀਤੀ ਸੀ ਕਿ ਵਿਸ਼ਵ ਕੱਪ ਦੌਰਾਨ ਖਿਡਾਰੀਆਂ ਨੂੰ ਉਨ੍ਹਾਂ ਦੇ ਪਰਿਵਾਰ ਵਾਲਿਆਂ ਨਾਲ ਰਹਿਣ ਦੀ ਇਜਾਜ਼ਤ ਦਿੱਤੀ ਜਾਵੇ। ਬੀਸੀਸੀਆਈ ਨੇ ਉਨ੍ਹਾਂ ਦੀ ਇਸ ਮੰਗ ਨੂੰ ਮੰਨ ਤਾਂ ਲਿਆ ਪਰ ਇਸ ਵਿਚਾਲੇ ਬੀਸੀਸੀਆਈ ਨੇ ਇਕ ਸ਼ਰਤ ਵੀ ਰੱਖ ਦਿੱਤੀ ਹੈ ਕਿ ਵਿਸ਼ਵ ਕੱਪ ਸ਼ੁਰੂ ਹੋਣ ਤੋਂ 21 ਦਿਨ ਬਾਅਦ ਹੀ ਕੋਈ ਵੀ ਖਿਡਾਰੀ ਆਪਣੀ ਪਤਨੀ ਜਾਂ ਪਰਿਵਾਰ ਨੂੰ ਸਿਰਫ਼ 15 ਦਿਨ ਲਈ ਹੀ ਆਪਣੇ ਨਾਲ ਰੱਖ ਸਕਦਾ ਹੈ। ਖੇਡ ਦੌਰਾਨ ਖਿਡਾਰੀਆਂ ਦਾ ਧਿਆਨ ਨਾ ਭਟਕੇ ਇਸ ਕਾਰਨ ਬੀਸੀਸੀਆਈ ਨੇ ਇਹ ਸ਼ਰਤ ਰੱਖੀ ਹੈ।\n",
        "ਪਹਿਲਾ ਅਭਿਆਸ ਮੈਚ ਹੋਵੇਗਾ 25 ਮਈ ਨੂੰ\n",
        "ਭਾਰਤ ਨੇ ਆਪਣਾ ਪਹਿਲਾ ਅਭਿਆਸ ਮੈਚ 25 ਮਈ ਨੂੰ ਓਵਲ ਵਿਚ ਨਿਊਜ਼ੀਲੈਂਡ ਨਾਲ ਤੇ ਦੂਜਾ ਅਭਿਆਸ ਮੈਚ 28 ਮਈ ਨੂੰ ਬੰਗਲਾਦੇਸ਼ ਖ਼ਿਲਾਫ਼ ਕਾਰਡਿਫ ਵਿਚ ਖੇਡਣਾ ਹੈ। ਭਾਰਤ ਨੇ ਵਿਸ਼ਵ ਕੱਪ ਦਾ ਪਹਿਲਾ ਮੁਕਾਬਲਾ ਪੰਜ ਜੂਨ ਨੂੰ ਦੱਖਣੀ ਅਫਰੀਕਾ ਨਾਲ ਖੇਡਣਾ ਹੈ। ਜੇ ਟੀਮ ਫਾਈਨਲ (14 ਜੂਨ) '\\''ਚ ਪੁੱਜਦੀ ਹੈ ਤਾਂ ਉਸ ਨੂੰ ਲਗਪਗ 55 ਦਿਨ ਘਰ ਤੋਂ ਬਾਹਰ ਰਹਿਣਾ ਪਵੇਗਾ।\\\"\"'\n",
        "\"\"\""
      ],
      "metadata": {
        "id": "TIu6AyhFDa6y"
      },
      "execution_count": null,
      "outputs": []
    }
  ]
}