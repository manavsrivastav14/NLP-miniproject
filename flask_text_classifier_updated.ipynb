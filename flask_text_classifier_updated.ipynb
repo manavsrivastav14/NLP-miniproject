{
  "nbformat": 4,
  "nbformat_minor": 0,
  "metadata": {
    "colab": {
      "name": "flask_text_classifier_updated.ipynb",
      "provenance": [],
      "include_colab_link": true
    },
    "kernelspec": {
      "name": "python3",
      "display_name": "Python 3"
    },
    "language_info": {
      "name": "python"
    },
    "accelerator": "GPU"
  },
  "cells": [
    {
      "cell_type": "markdown",
      "metadata": {
        "id": "view-in-github",
        "colab_type": "text"
      },
      "source": [
        "<a href=\"https://colab.research.google.com/github/manavsrivastav14/NLP-miniproject/blob/main/flask_text_classifier_updated.ipynb\" target=\"_parent\"><img src=\"https://colab.research.google.com/assets/colab-badge.svg\" alt=\"Open In Colab\"/></a>"
      ]
    },
    {
      "cell_type": "code",
      "source": [
        "!pip install sentencepiece"
      ],
      "metadata": {
        "colab": {
          "base_uri": "https://localhost:8080/"
        },
        "id": "voa0RoU29nKK",
        "outputId": "d459a716-19b2-4e24-d453-b5e1919256cd"
      },
      "execution_count": 7,
      "outputs": [
        {
          "output_type": "stream",
          "name": "stdout",
          "text": [
            "Collecting sentencepiece\n",
            "  Downloading sentencepiece-0.1.96-cp37-cp37m-manylinux_2_17_x86_64.manylinux2014_x86_64.whl (1.2 MB)\n",
            "\u001b[K     |████████████████████████████████| 1.2 MB 5.0 MB/s \n",
            "\u001b[?25hInstalling collected packages: sentencepiece\n",
            "Successfully installed sentencepiece-0.1.96\n"
          ]
        }
      ]
    },
    {
      "cell_type": "code",
      "source": [
        "from google.colab import drive\n",
        "drive.mount('/content/drive')"
      ],
      "metadata": {
        "colab": {
          "base_uri": "https://localhost:8080/"
        },
        "id": "AriW8roM953u",
        "outputId": "e24f1579-42e0-4db2-a7ae-fd5883a28076"
      },
      "execution_count": 9,
      "outputs": [
        {
          "output_type": "stream",
          "name": "stdout",
          "text": [
            "Mounted at /content/drive\n"
          ]
        }
      ]
    },
    {
      "cell_type": "code",
      "source": [
        "from flask import Flask, render_template, request\n",
        "from fastai.text import *\n",
        "from fastai.vision import *\n",
        "import numpy as np\n",
        "from sklearn.model_selection import train_test_split\n",
        "import pickle\n",
        "import sentencepiece as spm\n",
        "import re\n",
        "import pdb\n",
        "import fastai,torch\n",
        "\n",
        "app=Flask(__name__)\n",
        "\n",
        "@app.route('/')\n",
        "def hello_world():\n",
        "   \n",
        "    return render_template(\"regression.html\")\n",
        "\n",
        "@app.route('/predict',methods=['POST','GET'])\n",
        "def prediction():\n",
        "    label=['Business','Entertainment','Politics', 'Sports']\n",
        "    # ip=input(\"Enter News Heading:\")\n",
        "    ip=str(request.form.values())\n",
        "    # print(ip)\n",
        "    pred=list(new_classifier.predict(ip)[2].numpy())\n",
        "    maxpos = pred.index(max(pred))\n",
        "    print(maxpos)\n",
        "    # print(maxpos)\n",
        "    ans=label[maxpos]\n",
        "    print(ans)\n",
        "    return render_template('regression.html',pred=ans)\n",
        "\n",
        "if __name__=='__main__':\n",
        "    # def random_seed(seed_value, use_cuda):\n",
        "    #     np.random.seed(seed_value)  \n",
        "    #     torch.manual_seed(seed_value)  \n",
        "    #     random.seed(seed_value)\n",
        "    #     if use_cuda:\n",
        "    #         torch.cuda.manual_seed(seed_value)\n",
        "    #         torch.cuda.manual_seed_all(seed_value)  \n",
        "    #         torch.backends.cudnn.deterministic = True\n",
        "    #         torch.backends.cudnn.benchmark = False\n",
        "    \n",
        "    # random_seed(42, True)\n",
        "    # path = Path('./')\n",
        "    # df_train = pd.read_csv('pa-train.csv', header=None)\n",
        "    # df_valid = pd.read_csv('pa-valid.csv', header=None)\n",
        "    # df_test = pd.read_csv('pa-test.csv', header=None)\n",
        "    # df_train[df_train[0].isnull()].shape, df_valid[df_valid[0].isnull()].shape, df_test[df_test[0].isnull()].shape\n",
        "    # label_cols = [0]\n",
        "    class PanjabiTokenizer(BaseTokenizer):\n",
        "        def __init__(self, lang:str):\n",
        "            self.lang = lang\n",
        "            self.sp = spm.SentencePieceProcessor()\n",
        "            self.sp.Load('/content/drive/MyDrive/NLP/panjabi_lm.model')\n",
        "            \n",
        "        def tokenizer(self, t:str) -> List[str]:\n",
        "            return self.sp.EncodeAsPieces(t)\n",
        "    sp = spm.SentencePieceProcessor()\n",
        "    sp.Load('/content/drive/MyDrive/NLP/panjabi_lm.model')\n",
        "    itos = [sp.IdToPiece(int(i)) for i in range(30000)]\n",
        "    panjabi_vocab = Vocab(itos)\n",
        "    panjabi_tok = PanjabiTokenizer('pb')\n",
        "    # tokenizer = Tokenizer(tok_func=PanjabiTokenizer, lang='pb')\n",
        "    # tokenizer.special_cases\n",
        "    # data_lm = TextLMDataBunch.from_df(path=path, train_df=df_train, valid_df=df_valid, test_df=df_test, tokenizer=tokenizer, vocab=panjabi_vocab, label_cols=label_cols)\n",
        "    # learn = language_model_learner(data_lm, arch=AWD_LSTM, drop_mult=0.3, pretrained=False)\n",
        "    # learn.load('model', with_opt=True)\n",
        "    # learn.save_encoder('fine_tuned_encoder')\n",
        "    # data_clas = TextClasDataBunch.from_df(path=path, train_df=df_train, valid_df=df_valid, test_df=df_test, tokenizer=tokenizer, vocab=panjabi_vocab, label_cols=label_cols, bs=64)\n",
        "    # learn.load_encoder('fine_tuned_encoder')\n",
        "    # learn.fit_one_cycle(2, 1e-2, callbacks=[callbacks.SaveModelCallback(learn, every='improvement', monitor='accuracy', name='final')])\n",
        "    # learn.export('gen_model')\n",
        "    new_classifier = load_learner('/content/drive/MyDrive/NLP', 'gen_model')\n",
        "    # dir(new_classifier)\n",
        "    app.run(debug=True)\n",
        "\n",
        "\n",
        "\n"
      ],
      "metadata": {
        "colab": {
          "base_uri": "https://localhost:8080/",
          "height": 270
        },
        "id": "_60EeJ5r9crd",
        "outputId": "e3ed1116-8a5e-4c37-d0bb-1f497d2b49d6"
      },
      "execution_count": 11,
      "outputs": [
        {
          "output_type": "display_data",
          "data": {
            "text/plain": [
              "<IPython.core.display.HTML object>"
            ],
            "text/html": [
              "\n",
              "<style>\n",
              "    /* Turns off some styling */\n",
              "    progress {\n",
              "        /* gets rid of default border in Firefox and Opera. */\n",
              "        border: none;\n",
              "        /* Needs to be in here for Safari polyfill so background images work as expected. */\n",
              "        background-size: auto;\n",
              "    }\n",
              "    .progress-bar-interrupted, .progress-bar-interrupted::-webkit-progress-bar {\n",
              "        background: #F44336;\n",
              "    }\n",
              "</style>\n"
            ]
          },
          "metadata": {}
        },
        {
          "output_type": "display_data",
          "data": {
            "text/plain": [
              "<IPython.core.display.HTML object>"
            ],
            "text/html": [
              ""
            ]
          },
          "metadata": {}
        },
        {
          "output_type": "display_data",
          "data": {
            "text/plain": [
              "<IPython.core.display.HTML object>"
            ],
            "text/html": [
              "\n",
              "<style>\n",
              "    /* Turns off some styling */\n",
              "    progress {\n",
              "        /* gets rid of default border in Firefox and Opera. */\n",
              "        border: none;\n",
              "        /* Needs to be in here for Safari polyfill so background images work as expected. */\n",
              "        background-size: auto;\n",
              "    }\n",
              "    .progress-bar-interrupted, .progress-bar-interrupted::-webkit-progress-bar {\n",
              "        background: #F44336;\n",
              "    }\n",
              "</style>\n"
            ]
          },
          "metadata": {}
        },
        {
          "output_type": "display_data",
          "data": {
            "text/plain": [
              "<IPython.core.display.HTML object>"
            ],
            "text/html": [
              ""
            ]
          },
          "metadata": {}
        },
        {
          "output_type": "stream",
          "name": "stdout",
          "text": [
            " * Serving Flask app \"__main__\" (lazy loading)\n",
            " * Environment: production\n",
            "\u001b[31m   WARNING: This is a development server. Do not use it in a production deployment.\u001b[0m\n",
            "\u001b[2m   Use a production WSGI server instead.\u001b[0m\n",
            " * Debug mode: on\n"
          ]
        },
        {
          "output_type": "stream",
          "name": "stderr",
          "text": [
            " * Running on http://127.0.0.1:5000/ (Press CTRL+C to quit)\n",
            " * Restarting with stat\n"
          ]
        },
        {
          "output_type": "error",
          "ename": "SystemExit",
          "evalue": "ignored",
          "traceback": [
            "An exception has occurred, use %tb to see the full traceback.\n",
            "\u001b[0;31mSystemExit\u001b[0m\u001b[0;31m:\u001b[0m 1\n"
          ]
        },
        {
          "output_type": "stream",
          "name": "stderr",
          "text": [
            "/usr/local/lib/python3.7/dist-packages/IPython/core/interactiveshell.py:2890: UserWarning: To exit: use 'exit', 'quit', or Ctrl-D.\n",
            "  warn(\"To exit: use 'exit', 'quit', or Ctrl-D.\", stacklevel=1)\n"
          ]
        }
      ]
    },
    {
      "cell_type": "code",
      "source": [
        ""
      ],
      "metadata": {
        "id": "MlQqrCTM9ctc"
      },
      "execution_count": null,
      "outputs": []
    },
    {
      "cell_type": "code",
      "source": [
        ""
      ],
      "metadata": {
        "id": "nXHlJAlu9cvc"
      },
      "execution_count": null,
      "outputs": []
    },
    {
      "cell_type": "code",
      "source": [
        ""
      ],
      "metadata": {
        "id": "hFRC9-sH9cxY"
      },
      "execution_count": null,
      "outputs": []
    },
    {
      "cell_type": "code",
      "source": [
        ""
      ],
      "metadata": {
        "id": "xCFAFaK09czf"
      },
      "execution_count": null,
      "outputs": []
    },
    {
      "cell_type": "code",
      "source": [
        ""
      ],
      "metadata": {
        "id": "w8JhgXpp9c1S"
      },
      "execution_count": null,
      "outputs": []
    }
  ]
}