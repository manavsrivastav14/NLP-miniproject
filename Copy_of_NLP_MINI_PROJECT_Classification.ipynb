{
  "cells": [
    {
      "cell_type": "markdown",
      "metadata": {
        "id": "view-in-github",
        "colab_type": "text"
      },
      "source": [
        "<a href=\"https://colab.research.google.com/github/manavsrivastav14/NLP-miniproject/blob/main/Copy_of_NLP_MINI_PROJECT_Classification.ipynb\" target=\"_parent\"><img src=\"https://colab.research.google.com/assets/colab-badge.svg\" alt=\"Open In Colab\"/></a>"
      ]
    },
    {
      "cell_type": "code",
      "execution_count": null,
      "metadata": {
        "colab": {
          "base_uri": "https://localhost:8080/"
        },
        "id": "74Ze3fuwVg9A",
        "outputId": "ca2372e9-70bc-4ff7-9499-aab286af1fc1"
      },
      "outputs": [
        {
          "output_type": "stream",
          "name": "stdout",
          "text": [
            "Collecting sentencepiece\n",
            "  Downloading sentencepiece-0.1.96-cp37-cp37m-manylinux_2_17_x86_64.manylinux2014_x86_64.whl (1.2 MB)\n",
            "\u001b[?25l\r\u001b[K     |▎                               | 10 kB 19.8 MB/s eta 0:00:01\r\u001b[K     |▌                               | 20 kB 12.1 MB/s eta 0:00:01\r\u001b[K     |▉                               | 30 kB 9.6 MB/s eta 0:00:01\r\u001b[K     |█                               | 40 kB 8.7 MB/s eta 0:00:01\r\u001b[K     |█▍                              | 51 kB 4.3 MB/s eta 0:00:01\r\u001b[K     |█▋                              | 61 kB 5.0 MB/s eta 0:00:01\r\u001b[K     |██                              | 71 kB 5.5 MB/s eta 0:00:01\r\u001b[K     |██▏                             | 81 kB 5.7 MB/s eta 0:00:01\r\u001b[K     |██▍                             | 92 kB 6.4 MB/s eta 0:00:01\r\u001b[K     |██▊                             | 102 kB 5.0 MB/s eta 0:00:01\r\u001b[K     |███                             | 112 kB 5.0 MB/s eta 0:00:01\r\u001b[K     |███▎                            | 122 kB 5.0 MB/s eta 0:00:01\r\u001b[K     |███▌                            | 133 kB 5.0 MB/s eta 0:00:01\r\u001b[K     |███▉                            | 143 kB 5.0 MB/s eta 0:00:01\r\u001b[K     |████                            | 153 kB 5.0 MB/s eta 0:00:01\r\u001b[K     |████▎                           | 163 kB 5.0 MB/s eta 0:00:01\r\u001b[K     |████▋                           | 174 kB 5.0 MB/s eta 0:00:01\r\u001b[K     |████▉                           | 184 kB 5.0 MB/s eta 0:00:01\r\u001b[K     |█████▏                          | 194 kB 5.0 MB/s eta 0:00:01\r\u001b[K     |█████▍                          | 204 kB 5.0 MB/s eta 0:00:01\r\u001b[K     |█████▊                          | 215 kB 5.0 MB/s eta 0:00:01\r\u001b[K     |██████                          | 225 kB 5.0 MB/s eta 0:00:01\r\u001b[K     |██████▏                         | 235 kB 5.0 MB/s eta 0:00:01\r\u001b[K     |██████▌                         | 245 kB 5.0 MB/s eta 0:00:01\r\u001b[K     |██████▊                         | 256 kB 5.0 MB/s eta 0:00:01\r\u001b[K     |███████                         | 266 kB 5.0 MB/s eta 0:00:01\r\u001b[K     |███████▎                        | 276 kB 5.0 MB/s eta 0:00:01\r\u001b[K     |███████▋                        | 286 kB 5.0 MB/s eta 0:00:01\r\u001b[K     |███████▉                        | 296 kB 5.0 MB/s eta 0:00:01\r\u001b[K     |████████                        | 307 kB 5.0 MB/s eta 0:00:01\r\u001b[K     |████████▍                       | 317 kB 5.0 MB/s eta 0:00:01\r\u001b[K     |████████▋                       | 327 kB 5.0 MB/s eta 0:00:01\r\u001b[K     |█████████                       | 337 kB 5.0 MB/s eta 0:00:01\r\u001b[K     |█████████▏                      | 348 kB 5.0 MB/s eta 0:00:01\r\u001b[K     |█████████▌                      | 358 kB 5.0 MB/s eta 0:00:01\r\u001b[K     |█████████▊                      | 368 kB 5.0 MB/s eta 0:00:01\r\u001b[K     |██████████                      | 378 kB 5.0 MB/s eta 0:00:01\r\u001b[K     |██████████▎                     | 389 kB 5.0 MB/s eta 0:00:01\r\u001b[K     |██████████▌                     | 399 kB 5.0 MB/s eta 0:00:01\r\u001b[K     |██████████▉                     | 409 kB 5.0 MB/s eta 0:00:01\r\u001b[K     |███████████                     | 419 kB 5.0 MB/s eta 0:00:01\r\u001b[K     |███████████▍                    | 430 kB 5.0 MB/s eta 0:00:01\r\u001b[K     |███████████▋                    | 440 kB 5.0 MB/s eta 0:00:01\r\u001b[K     |███████████▉                    | 450 kB 5.0 MB/s eta 0:00:01\r\u001b[K     |████████████▏                   | 460 kB 5.0 MB/s eta 0:00:01\r\u001b[K     |████████████▍                   | 471 kB 5.0 MB/s eta 0:00:01\r\u001b[K     |████████████▊                   | 481 kB 5.0 MB/s eta 0:00:01\r\u001b[K     |█████████████                   | 491 kB 5.0 MB/s eta 0:00:01\r\u001b[K     |█████████████▎                  | 501 kB 5.0 MB/s eta 0:00:01\r\u001b[K     |█████████████▌                  | 512 kB 5.0 MB/s eta 0:00:01\r\u001b[K     |█████████████▊                  | 522 kB 5.0 MB/s eta 0:00:01\r\u001b[K     |██████████████                  | 532 kB 5.0 MB/s eta 0:00:01\r\u001b[K     |██████████████▎                 | 542 kB 5.0 MB/s eta 0:00:01\r\u001b[K     |██████████████▋                 | 552 kB 5.0 MB/s eta 0:00:01\r\u001b[K     |██████████████▉                 | 563 kB 5.0 MB/s eta 0:00:01\r\u001b[K     |███████████████▏                | 573 kB 5.0 MB/s eta 0:00:01\r\u001b[K     |███████████████▍                | 583 kB 5.0 MB/s eta 0:00:01\r\u001b[K     |███████████████▋                | 593 kB 5.0 MB/s eta 0:00:01\r\u001b[K     |████████████████                | 604 kB 5.0 MB/s eta 0:00:01\r\u001b[K     |████████████████▏               | 614 kB 5.0 MB/s eta 0:00:01\r\u001b[K     |████████████████▌               | 624 kB 5.0 MB/s eta 0:00:01\r\u001b[K     |████████████████▊               | 634 kB 5.0 MB/s eta 0:00:01\r\u001b[K     |█████████████████               | 645 kB 5.0 MB/s eta 0:00:01\r\u001b[K     |█████████████████▎              | 655 kB 5.0 MB/s eta 0:00:01\r\u001b[K     |█████████████████▌              | 665 kB 5.0 MB/s eta 0:00:01\r\u001b[K     |█████████████████▉              | 675 kB 5.0 MB/s eta 0:00:01\r\u001b[K     |██████████████████              | 686 kB 5.0 MB/s eta 0:00:01\r\u001b[K     |██████████████████▍             | 696 kB 5.0 MB/s eta 0:00:01\r\u001b[K     |██████████████████▋             | 706 kB 5.0 MB/s eta 0:00:01\r\u001b[K     |███████████████████             | 716 kB 5.0 MB/s eta 0:00:01\r\u001b[K     |███████████████████▏            | 727 kB 5.0 MB/s eta 0:00:01\r\u001b[K     |███████████████████▍            | 737 kB 5.0 MB/s eta 0:00:01\r\u001b[K     |███████████████████▊            | 747 kB 5.0 MB/s eta 0:00:01\r\u001b[K     |████████████████████            | 757 kB 5.0 MB/s eta 0:00:01\r\u001b[K     |████████████████████▎           | 768 kB 5.0 MB/s eta 0:00:01\r\u001b[K     |████████████████████▌           | 778 kB 5.0 MB/s eta 0:00:01\r\u001b[K     |████████████████████▉           | 788 kB 5.0 MB/s eta 0:00:01\r\u001b[K     |█████████████████████           | 798 kB 5.0 MB/s eta 0:00:01\r\u001b[K     |█████████████████████▎          | 808 kB 5.0 MB/s eta 0:00:01\r\u001b[K     |█████████████████████▋          | 819 kB 5.0 MB/s eta 0:00:01\r\u001b[K     |█████████████████████▉          | 829 kB 5.0 MB/s eta 0:00:01\r\u001b[K     |██████████████████████▏         | 839 kB 5.0 MB/s eta 0:00:01\r\u001b[K     |██████████████████████▍         | 849 kB 5.0 MB/s eta 0:00:01\r\u001b[K     |██████████████████████▊         | 860 kB 5.0 MB/s eta 0:00:01\r\u001b[K     |███████████████████████         | 870 kB 5.0 MB/s eta 0:00:01\r\u001b[K     |███████████████████████▏        | 880 kB 5.0 MB/s eta 0:00:01\r\u001b[K     |███████████████████████▌        | 890 kB 5.0 MB/s eta 0:00:01\r\u001b[K     |███████████████████████▊        | 901 kB 5.0 MB/s eta 0:00:01\r\u001b[K     |████████████████████████        | 911 kB 5.0 MB/s eta 0:00:01\r\u001b[K     |████████████████████████▎       | 921 kB 5.0 MB/s eta 0:00:01\r\u001b[K     |████████████████████████▋       | 931 kB 5.0 MB/s eta 0:00:01\r\u001b[K     |████████████████████████▉       | 942 kB 5.0 MB/s eta 0:00:01\r\u001b[K     |█████████████████████████       | 952 kB 5.0 MB/s eta 0:00:01\r\u001b[K     |█████████████████████████▍      | 962 kB 5.0 MB/s eta 0:00:01\r\u001b[K     |█████████████████████████▋      | 972 kB 5.0 MB/s eta 0:00:01\r\u001b[K     |██████████████████████████      | 983 kB 5.0 MB/s eta 0:00:01\r\u001b[K     |██████████████████████████▏     | 993 kB 5.0 MB/s eta 0:00:01\r\u001b[K     |██████████████████████████▌     | 1.0 MB 5.0 MB/s eta 0:00:01\r\u001b[K     |██████████████████████████▊     | 1.0 MB 5.0 MB/s eta 0:00:01\r\u001b[K     |███████████████████████████     | 1.0 MB 5.0 MB/s eta 0:00:01\r\u001b[K     |███████████████████████████▎    | 1.0 MB 5.0 MB/s eta 0:00:01\r\u001b[K     |███████████████████████████▌    | 1.0 MB 5.0 MB/s eta 0:00:01\r\u001b[K     |███████████████████████████▉    | 1.1 MB 5.0 MB/s eta 0:00:01\r\u001b[K     |████████████████████████████    | 1.1 MB 5.0 MB/s eta 0:00:01\r\u001b[K     |████████████████████████████▍   | 1.1 MB 5.0 MB/s eta 0:00:01\r\u001b[K     |████████████████████████████▋   | 1.1 MB 5.0 MB/s eta 0:00:01\r\u001b[K     |████████████████████████████▉   | 1.1 MB 5.0 MB/s eta 0:00:01\r\u001b[K     |█████████████████████████████▏  | 1.1 MB 5.0 MB/s eta 0:00:01\r\u001b[K     |█████████████████████████████▍  | 1.1 MB 5.0 MB/s eta 0:00:01\r\u001b[K     |█████████████████████████████▊  | 1.1 MB 5.0 MB/s eta 0:00:01\r\u001b[K     |██████████████████████████████  | 1.1 MB 5.0 MB/s eta 0:00:01\r\u001b[K     |██████████████████████████████▎ | 1.1 MB 5.0 MB/s eta 0:00:01\r\u001b[K     |██████████████████████████████▌ | 1.2 MB 5.0 MB/s eta 0:00:01\r\u001b[K     |██████████████████████████████▊ | 1.2 MB 5.0 MB/s eta 0:00:01\r\u001b[K     |███████████████████████████████ | 1.2 MB 5.0 MB/s eta 0:00:01\r\u001b[K     |███████████████████████████████▎| 1.2 MB 5.0 MB/s eta 0:00:01\r\u001b[K     |███████████████████████████████▋| 1.2 MB 5.0 MB/s eta 0:00:01\r\u001b[K     |███████████████████████████████▉| 1.2 MB 5.0 MB/s eta 0:00:01\r\u001b[K     |████████████████████████████████| 1.2 MB 5.0 MB/s \n",
            "\u001b[?25hInstalling collected packages: sentencepiece\n",
            "Successfully installed sentencepiece-0.1.96\n"
          ]
        }
      ],
      "source": [
        "pip install sentencepiece"
      ]
    },
    {
      "cell_type": "code",
      "execution_count": null,
      "metadata": {
        "id": "-kUoCB_PVGNr"
      },
      "outputs": [],
      "source": [
        "from fastai.text import *\n",
        "import numpy as np\n",
        "from sklearn.model_selection import train_test_split\n",
        "import pickle\n",
        "import sentencepiece as spm\n",
        "import re\n",
        "import pdb"
      ]
    },
    {
      "cell_type": "code",
      "execution_count": null,
      "metadata": {
        "colab": {
          "base_uri": "https://localhost:8080/"
        },
        "id": "z8HtSXYiVGNt",
        "outputId": "ca212202-8361-44e2-877a-8223414e1c18"
      },
      "outputs": [
        {
          "output_type": "execute_result",
          "data": {
            "text/plain": [
              "('1.0.61', '1.10.0+cu111')"
            ]
          },
          "metadata": {},
          "execution_count": 3
        }
      ],
      "source": [
        "import fastai, torch\n",
        "fastai.__version__ , torch.__version__"
      ]
    },
    {
      "cell_type": "code",
      "execution_count": null,
      "metadata": {
        "id": "l-BCD-4-VGNv"
      },
      "outputs": [],
      "source": [
        "def random_seed(seed_value, use_cuda):\n",
        "    np.random.seed(seed_value)  \n",
        "    torch.manual_seed(seed_value)  \n",
        "    random.seed(seed_value)\n",
        "    if use_cuda:\n",
        "        torch.cuda.manual_seed(seed_value)\n",
        "        torch.cuda.manual_seed_all(seed_value)  \n",
        "        torch.backends.cudnn.deterministic = True\n",
        "        torch.backends.cudnn.benchmark = False"
      ]
    },
    {
      "cell_type": "code",
      "execution_count": null,
      "metadata": {
        "id": "wofWU1uiVGNv"
      },
      "outputs": [],
      "source": [
        "random_seed(42, True)"
      ]
    },
    {
      "cell_type": "code",
      "execution_count": null,
      "metadata": {
        "id": "gx4FOq4wVGNv"
      },
      "outputs": [],
      "source": [
        "path = Path('./')"
      ]
    },
    {
      "cell_type": "code",
      "execution_count": null,
      "metadata": {
        "colab": {
          "base_uri": "https://localhost:8080/"
        },
        "id": "UdLRLZ-3N7KP",
        "outputId": "98efbf32-a3d7-4417-c3bc-b24d1260ebfe"
      },
      "outputs": [
        {
          "output_type": "stream",
          "name": "stdout",
          "text": [
            "Mounted at /content/drive\n"
          ]
        }
      ],
      "source": [
        "from google.colab import drive\n",
        "drive.mount('/content/drive')"
      ]
    },
    {
      "cell_type": "code",
      "execution_count": null,
      "metadata": {
        "colab": {
          "base_uri": "https://localhost:8080/"
        },
        "id": "m52LtyceO8WP",
        "outputId": "be4c17b8-921e-4126-e48e-c872db024436"
      },
      "outputs": [
        {
          "output_type": "stream",
          "name": "stdout",
          "text": [
            "/usr/local/lib/python3.7/dist-packages/gdown/cli.py:131: FutureWarning: Option `--id` was deprecated in version 4.3.1 and will be removed in 5.0. You don't need to pass it anymore to use a file ID.\n",
            "  category=FutureWarning,\n",
            "Downloading...\n",
            "From: https://drive.google.com/uc?id=1oRWNkYp3lU8Hq8kdmkddXEprObr177CD\n",
            "To: /content/pa-train.csv\n",
            "100% 10.2M/10.2M [00:00<00:00, 138MB/s]\n"
          ]
        }
      ],
      "source": [
        "! gdown --id 1oRWNkYp3lU8Hq8kdmkddXEprObr177CD\n"
      ]
    },
    {
      "cell_type": "code",
      "execution_count": null,
      "metadata": {
        "colab": {
          "base_uri": "https://localhost:8080/",
          "height": 206
        },
        "id": "PrOX2GzWVGNw",
        "outputId": "50a14d01-e106-4a2c-b60b-ea47e0ede01a"
      },
      "outputs": [
        {
          "output_type": "execute_result",
          "data": {
            "text/plain": [
              "               0                                                  1\n",
              "0         sports  ⁄   ਕ੍ਰਿਕੇਟ\\n  ⁄  ਜਨਰਲ\\nInd vs Ban : ਚਾਰ ਸਾਲਾਂ...\n",
              "1       business  ਸੈਂਸੈਕਸ ਦੀਆਂ ਟਾਪ 10 ਕੰਪਨੀਆਂ 'ਚੋਂ ਸੱਤ ਦਾ ਬਾਜ਼ਾਰ ...\n",
              "2  entertainment  ਵਿੱਦਿਆ ਬਾਲਨ ਨੇ ਮਨਾਇਆ ਵਰਲਡ ਮੈਥਸ ਡੇ\\nPublish Dat...\n",
              "3         sports  ਆਈਐੱਸਐੱਲ-6 ਦਾ ਆਗਾਜ਼, ਬਲਾਸਟਰਜ਼ ਨੇ ਜਿੱਤਿਆ ਮੈਚ\\nPub...\n",
              "4  entertainment  ਬਚਪਨ ਦੇ ਦੋਸਤ ਲਈ ਰਣਵੀਰ ਸਿੰਘ ਨੇ ਬਦਲਿਆ ਆਪਣਾ ਸ਼ਡਿਊਲ..."
            ],
            "text/html": [
              "\n",
              "  <div id=\"df-cd899a81-4393-4bd5-89b4-66159ed233f7\">\n",
              "    <div class=\"colab-df-container\">\n",
              "      <div>\n",
              "<style scoped>\n",
              "    .dataframe tbody tr th:only-of-type {\n",
              "        vertical-align: middle;\n",
              "    }\n",
              "\n",
              "    .dataframe tbody tr th {\n",
              "        vertical-align: top;\n",
              "    }\n",
              "\n",
              "    .dataframe thead th {\n",
              "        text-align: right;\n",
              "    }\n",
              "</style>\n",
              "<table border=\"1\" class=\"dataframe\">\n",
              "  <thead>\n",
              "    <tr style=\"text-align: right;\">\n",
              "      <th></th>\n",
              "      <th>0</th>\n",
              "      <th>1</th>\n",
              "    </tr>\n",
              "  </thead>\n",
              "  <tbody>\n",
              "    <tr>\n",
              "      <th>0</th>\n",
              "      <td>sports</td>\n",
              "      <td>⁄   ਕ੍ਰਿਕੇਟ\\n  ⁄  ਜਨਰਲ\\nInd vs Ban : ਚਾਰ ਸਾਲਾਂ...</td>\n",
              "    </tr>\n",
              "    <tr>\n",
              "      <th>1</th>\n",
              "      <td>business</td>\n",
              "      <td>ਸੈਂਸੈਕਸ ਦੀਆਂ ਟਾਪ 10 ਕੰਪਨੀਆਂ 'ਚੋਂ ਸੱਤ ਦਾ ਬਾਜ਼ਾਰ ...</td>\n",
              "    </tr>\n",
              "    <tr>\n",
              "      <th>2</th>\n",
              "      <td>entertainment</td>\n",
              "      <td>ਵਿੱਦਿਆ ਬਾਲਨ ਨੇ ਮਨਾਇਆ ਵਰਲਡ ਮੈਥਸ ਡੇ\\nPublish Dat...</td>\n",
              "    </tr>\n",
              "    <tr>\n",
              "      <th>3</th>\n",
              "      <td>sports</td>\n",
              "      <td>ਆਈਐੱਸਐੱਲ-6 ਦਾ ਆਗਾਜ਼, ਬਲਾਸਟਰਜ਼ ਨੇ ਜਿੱਤਿਆ ਮੈਚ\\nPub...</td>\n",
              "    </tr>\n",
              "    <tr>\n",
              "      <th>4</th>\n",
              "      <td>entertainment</td>\n",
              "      <td>ਬਚਪਨ ਦੇ ਦੋਸਤ ਲਈ ਰਣਵੀਰ ਸਿੰਘ ਨੇ ਬਦਲਿਆ ਆਪਣਾ ਸ਼ਡਿਊਲ...</td>\n",
              "    </tr>\n",
              "  </tbody>\n",
              "</table>\n",
              "</div>\n",
              "      <button class=\"colab-df-convert\" onclick=\"convertToInteractive('df-cd899a81-4393-4bd5-89b4-66159ed233f7')\"\n",
              "              title=\"Convert this dataframe to an interactive table.\"\n",
              "              style=\"display:none;\">\n",
              "        \n",
              "  <svg xmlns=\"http://www.w3.org/2000/svg\" height=\"24px\"viewBox=\"0 0 24 24\"\n",
              "       width=\"24px\">\n",
              "    <path d=\"M0 0h24v24H0V0z\" fill=\"none\"/>\n",
              "    <path d=\"M18.56 5.44l.94 2.06.94-2.06 2.06-.94-2.06-.94-.94-2.06-.94 2.06-2.06.94zm-11 1L8.5 8.5l.94-2.06 2.06-.94-2.06-.94L8.5 2.5l-.94 2.06-2.06.94zm10 10l.94 2.06.94-2.06 2.06-.94-2.06-.94-.94-2.06-.94 2.06-2.06.94z\"/><path d=\"M17.41 7.96l-1.37-1.37c-.4-.4-.92-.59-1.43-.59-.52 0-1.04.2-1.43.59L10.3 9.45l-7.72 7.72c-.78.78-.78 2.05 0 2.83L4 21.41c.39.39.9.59 1.41.59.51 0 1.02-.2 1.41-.59l7.78-7.78 2.81-2.81c.8-.78.8-2.07 0-2.86zM5.41 20L4 18.59l7.72-7.72 1.47 1.35L5.41 20z\"/>\n",
              "  </svg>\n",
              "      </button>\n",
              "      \n",
              "  <style>\n",
              "    .colab-df-container {\n",
              "      display:flex;\n",
              "      flex-wrap:wrap;\n",
              "      gap: 12px;\n",
              "    }\n",
              "\n",
              "    .colab-df-convert {\n",
              "      background-color: #E8F0FE;\n",
              "      border: none;\n",
              "      border-radius: 50%;\n",
              "      cursor: pointer;\n",
              "      display: none;\n",
              "      fill: #1967D2;\n",
              "      height: 32px;\n",
              "      padding: 0 0 0 0;\n",
              "      width: 32px;\n",
              "    }\n",
              "\n",
              "    .colab-df-convert:hover {\n",
              "      background-color: #E2EBFA;\n",
              "      box-shadow: 0px 1px 2px rgba(60, 64, 67, 0.3), 0px 1px 3px 1px rgba(60, 64, 67, 0.15);\n",
              "      fill: #174EA6;\n",
              "    }\n",
              "\n",
              "    [theme=dark] .colab-df-convert {\n",
              "      background-color: #3B4455;\n",
              "      fill: #D2E3FC;\n",
              "    }\n",
              "\n",
              "    [theme=dark] .colab-df-convert:hover {\n",
              "      background-color: #434B5C;\n",
              "      box-shadow: 0px 1px 3px 1px rgba(0, 0, 0, 0.15);\n",
              "      filter: drop-shadow(0px 1px 2px rgba(0, 0, 0, 0.3));\n",
              "      fill: #FFFFFF;\n",
              "    }\n",
              "  </style>\n",
              "\n",
              "      <script>\n",
              "        const buttonEl =\n",
              "          document.querySelector('#df-cd899a81-4393-4bd5-89b4-66159ed233f7 button.colab-df-convert');\n",
              "        buttonEl.style.display =\n",
              "          google.colab.kernel.accessAllowed ? 'block' : 'none';\n",
              "\n",
              "        async function convertToInteractive(key) {\n",
              "          const element = document.querySelector('#df-cd899a81-4393-4bd5-89b4-66159ed233f7');\n",
              "          const dataTable =\n",
              "            await google.colab.kernel.invokeFunction('convertToInteractive',\n",
              "                                                     [key], {});\n",
              "          if (!dataTable) return;\n",
              "\n",
              "          const docLinkHtml = 'Like what you see? Visit the ' +\n",
              "            '<a target=\"_blank\" href=https://colab.research.google.com/notebooks/data_table.ipynb>data table notebook</a>'\n",
              "            + ' to learn more about interactive tables.';\n",
              "          element.innerHTML = '';\n",
              "          dataTable['output_type'] = 'display_data';\n",
              "          await google.colab.output.renderOutput(dataTable, element);\n",
              "          const docLink = document.createElement('div');\n",
              "          docLink.innerHTML = docLinkHtml;\n",
              "          element.appendChild(docLink);\n",
              "        }\n",
              "      </script>\n",
              "    </div>\n",
              "  </div>\n",
              "  "
            ]
          },
          "metadata": {},
          "execution_count": 9
        }
      ],
      "source": [
        "df_train = pd.read_csv(path/'/content/pa-train.csv', header=None)\n",
        "df_train.head()"
      ]
    },
    {
      "cell_type": "code",
      "execution_count": null,
      "metadata": {
        "colab": {
          "base_uri": "https://localhost:8080/"
        },
        "id": "3w9nFo75PbYA",
        "outputId": "04ae7540-8a1d-4f26-c9ce-941d008445ea"
      },
      "outputs": [
        {
          "output_type": "stream",
          "name": "stdout",
          "text": [
            "/usr/local/lib/python3.7/dist-packages/gdown/cli.py:131: FutureWarning: Option `--id` was deprecated in version 4.3.1 and will be removed in 5.0. You don't need to pass it anymore to use a file ID.\n",
            "  category=FutureWarning,\n",
            "Downloading...\n",
            "From: https://drive.google.com/uc?id=1PvbCH67SmgdWLDp0m1kEz2C8PWLNwf_r\n",
            "To: /content/pa-valid.csv\n",
            "100% 1.27M/1.27M [00:00<00:00, 109MB/s]\n"
          ]
        }
      ],
      "source": [
        "! gdown --id 1PvbCH67SmgdWLDp0m1kEz2C8PWLNwf_r"
      ]
    },
    {
      "cell_type": "code",
      "execution_count": null,
      "metadata": {
        "colab": {
          "base_uri": "https://localhost:8080/",
          "height": 206
        },
        "id": "oJdPZteCVGNw",
        "outputId": "8e35c6a8-aefd-4df2-b4e2-3b7ea7d59b0a"
      },
      "outputs": [
        {
          "output_type": "execute_result",
          "data": {
            "text/plain": [
              "               0                                                  1\n",
              "0  entertainment  ⁄   ਮਨੋਰੰਜਨ\\n  ⁄   ਬਾਲੀਵੁੱਡ\\nLady Gaga Viral V...\n",
              "1  entertainment  ⁄   ਮਨੋਰੰਜਨ\\n  ⁄   ਬਾਲੀਵੁੱਡ\\nਨਸੀਰੂਦੀਨ ਸ਼ਾਹ ਦੇ ਬ...\n",
              "2         sports  ਮਾਸਟਰ ਹੈੱਡ\\nPublish Date:Mon, 20 Aug 2018 10:2...\n",
              "3       business  ਟੀਵੀਐੱਸ ਮੋਟਰ ਦਾ ਮੁਨਾਫ਼ਾ ਵਧ ਕੇ ਹੋਇਆ 154.3 ਕਰੋੜ ਰ...\n",
              "4       politics  ⁄   ਚੋਣਾਂ\\n  ⁄  ਲੋਕ ਸਭਾ\\nਦਰਿਆਈ ਪਾਣੀ ਹੋਇਆ ਜ਼ਹਿਰੀ..."
            ],
            "text/html": [
              "\n",
              "  <div id=\"df-b9b25475-ab30-434a-bdde-f5378e584aae\">\n",
              "    <div class=\"colab-df-container\">\n",
              "      <div>\n",
              "<style scoped>\n",
              "    .dataframe tbody tr th:only-of-type {\n",
              "        vertical-align: middle;\n",
              "    }\n",
              "\n",
              "    .dataframe tbody tr th {\n",
              "        vertical-align: top;\n",
              "    }\n",
              "\n",
              "    .dataframe thead th {\n",
              "        text-align: right;\n",
              "    }\n",
              "</style>\n",
              "<table border=\"1\" class=\"dataframe\">\n",
              "  <thead>\n",
              "    <tr style=\"text-align: right;\">\n",
              "      <th></th>\n",
              "      <th>0</th>\n",
              "      <th>1</th>\n",
              "    </tr>\n",
              "  </thead>\n",
              "  <tbody>\n",
              "    <tr>\n",
              "      <th>0</th>\n",
              "      <td>entertainment</td>\n",
              "      <td>⁄   ਮਨੋਰੰਜਨ\\n  ⁄   ਬਾਲੀਵੁੱਡ\\nLady Gaga Viral V...</td>\n",
              "    </tr>\n",
              "    <tr>\n",
              "      <th>1</th>\n",
              "      <td>entertainment</td>\n",
              "      <td>⁄   ਮਨੋਰੰਜਨ\\n  ⁄   ਬਾਲੀਵੁੱਡ\\nਨਸੀਰੂਦੀਨ ਸ਼ਾਹ ਦੇ ਬ...</td>\n",
              "    </tr>\n",
              "    <tr>\n",
              "      <th>2</th>\n",
              "      <td>sports</td>\n",
              "      <td>ਮਾਸਟਰ ਹੈੱਡ\\nPublish Date:Mon, 20 Aug 2018 10:2...</td>\n",
              "    </tr>\n",
              "    <tr>\n",
              "      <th>3</th>\n",
              "      <td>business</td>\n",
              "      <td>ਟੀਵੀਐੱਸ ਮੋਟਰ ਦਾ ਮੁਨਾਫ਼ਾ ਵਧ ਕੇ ਹੋਇਆ 154.3 ਕਰੋੜ ਰ...</td>\n",
              "    </tr>\n",
              "    <tr>\n",
              "      <th>4</th>\n",
              "      <td>politics</td>\n",
              "      <td>⁄   ਚੋਣਾਂ\\n  ⁄  ਲੋਕ ਸਭਾ\\nਦਰਿਆਈ ਪਾਣੀ ਹੋਇਆ ਜ਼ਹਿਰੀ...</td>\n",
              "    </tr>\n",
              "  </tbody>\n",
              "</table>\n",
              "</div>\n",
              "      <button class=\"colab-df-convert\" onclick=\"convertToInteractive('df-b9b25475-ab30-434a-bdde-f5378e584aae')\"\n",
              "              title=\"Convert this dataframe to an interactive table.\"\n",
              "              style=\"display:none;\">\n",
              "        \n",
              "  <svg xmlns=\"http://www.w3.org/2000/svg\" height=\"24px\"viewBox=\"0 0 24 24\"\n",
              "       width=\"24px\">\n",
              "    <path d=\"M0 0h24v24H0V0z\" fill=\"none\"/>\n",
              "    <path d=\"M18.56 5.44l.94 2.06.94-2.06 2.06-.94-2.06-.94-.94-2.06-.94 2.06-2.06.94zm-11 1L8.5 8.5l.94-2.06 2.06-.94-2.06-.94L8.5 2.5l-.94 2.06-2.06.94zm10 10l.94 2.06.94-2.06 2.06-.94-2.06-.94-.94-2.06-.94 2.06-2.06.94z\"/><path d=\"M17.41 7.96l-1.37-1.37c-.4-.4-.92-.59-1.43-.59-.52 0-1.04.2-1.43.59L10.3 9.45l-7.72 7.72c-.78.78-.78 2.05 0 2.83L4 21.41c.39.39.9.59 1.41.59.51 0 1.02-.2 1.41-.59l7.78-7.78 2.81-2.81c.8-.78.8-2.07 0-2.86zM5.41 20L4 18.59l7.72-7.72 1.47 1.35L5.41 20z\"/>\n",
              "  </svg>\n",
              "      </button>\n",
              "      \n",
              "  <style>\n",
              "    .colab-df-container {\n",
              "      display:flex;\n",
              "      flex-wrap:wrap;\n",
              "      gap: 12px;\n",
              "    }\n",
              "\n",
              "    .colab-df-convert {\n",
              "      background-color: #E8F0FE;\n",
              "      border: none;\n",
              "      border-radius: 50%;\n",
              "      cursor: pointer;\n",
              "      display: none;\n",
              "      fill: #1967D2;\n",
              "      height: 32px;\n",
              "      padding: 0 0 0 0;\n",
              "      width: 32px;\n",
              "    }\n",
              "\n",
              "    .colab-df-convert:hover {\n",
              "      background-color: #E2EBFA;\n",
              "      box-shadow: 0px 1px 2px rgba(60, 64, 67, 0.3), 0px 1px 3px 1px rgba(60, 64, 67, 0.15);\n",
              "      fill: #174EA6;\n",
              "    }\n",
              "\n",
              "    [theme=dark] .colab-df-convert {\n",
              "      background-color: #3B4455;\n",
              "      fill: #D2E3FC;\n",
              "    }\n",
              "\n",
              "    [theme=dark] .colab-df-convert:hover {\n",
              "      background-color: #434B5C;\n",
              "      box-shadow: 0px 1px 3px 1px rgba(0, 0, 0, 0.15);\n",
              "      filter: drop-shadow(0px 1px 2px rgba(0, 0, 0, 0.3));\n",
              "      fill: #FFFFFF;\n",
              "    }\n",
              "  </style>\n",
              "\n",
              "      <script>\n",
              "        const buttonEl =\n",
              "          document.querySelector('#df-b9b25475-ab30-434a-bdde-f5378e584aae button.colab-df-convert');\n",
              "        buttonEl.style.display =\n",
              "          google.colab.kernel.accessAllowed ? 'block' : 'none';\n",
              "\n",
              "        async function convertToInteractive(key) {\n",
              "          const element = document.querySelector('#df-b9b25475-ab30-434a-bdde-f5378e584aae');\n",
              "          const dataTable =\n",
              "            await google.colab.kernel.invokeFunction('convertToInteractive',\n",
              "                                                     [key], {});\n",
              "          if (!dataTable) return;\n",
              "\n",
              "          const docLinkHtml = 'Like what you see? Visit the ' +\n",
              "            '<a target=\"_blank\" href=https://colab.research.google.com/notebooks/data_table.ipynb>data table notebook</a>'\n",
              "            + ' to learn more about interactive tables.';\n",
              "          element.innerHTML = '';\n",
              "          dataTable['output_type'] = 'display_data';\n",
              "          await google.colab.output.renderOutput(dataTable, element);\n",
              "          const docLink = document.createElement('div');\n",
              "          docLink.innerHTML = docLinkHtml;\n",
              "          element.appendChild(docLink);\n",
              "        }\n",
              "      </script>\n",
              "    </div>\n",
              "  </div>\n",
              "  "
            ]
          },
          "metadata": {},
          "execution_count": 11
        }
      ],
      "source": [
        "df_valid = pd.read_csv(path/'/content/pa-valid.csv', header=None)\n",
        "df_valid.head()"
      ]
    },
    {
      "cell_type": "code",
      "execution_count": null,
      "metadata": {
        "colab": {
          "base_uri": "https://localhost:8080/"
        },
        "id": "b7PMut3BPz9H",
        "outputId": "4c331fda-d98d-411e-c402-83c2315e38f8"
      },
      "outputs": [
        {
          "output_type": "stream",
          "name": "stdout",
          "text": [
            "/usr/local/lib/python3.7/dist-packages/gdown/cli.py:131: FutureWarning: Option `--id` was deprecated in version 4.3.1 and will be removed in 5.0. You don't need to pass it anymore to use a file ID.\n",
            "  category=FutureWarning,\n",
            "Downloading...\n",
            "From: https://drive.google.com/uc?id=186o_Jh8ufmsd_uSiSkzTZMGNPWURcHQh\n",
            "To: /content/pa-test.csv\n",
            "100% 1.32M/1.32M [00:00<00:00, 42.6MB/s]\n"
          ]
        }
      ],
      "source": [
        "! gdown --id 186o_Jh8ufmsd_uSiSkzTZMGNPWURcHQh"
      ]
    },
    {
      "cell_type": "code",
      "execution_count": null,
      "metadata": {
        "colab": {
          "base_uri": "https://localhost:8080/",
          "height": 206
        },
        "id": "At1p_xdpVGNw",
        "outputId": "5f610f91-1c0b-4cd2-ecc8-2a2df905a29f",
        "scrolled": true
      },
      "outputs": [
        {
          "output_type": "execute_result",
          "data": {
            "text/plain": [
              "               0                                                  1\n",
              "0       politics  ਪ੍ਰਸ਼ਾਸਨ ਨੇ ਡਾ. ਧਰਮਵੀਰ ਗਾਂਧੀ ਦੇ ਨਾਂ 'ਤੇ ਲਾਈ ਚੇਪ...\n",
              "1         sports  ਹਰ ਸਮੇਂ ਨਾਲ ਨਹੀਂ ਰਹੇਗਾ ਖਿਡਾਰੀਆਂ ਦਾ ਪਰਿਵਾਰ\\nPub...\n",
              "2       business  4ਜੀ ਨੂੰ ਪਛਾੜ ਐੱਲਈਡੀ ਬਲਬ ਦੇਵੇਗਾ ਹਾਈ ਸਪੀਡ ਇੰਟਰਨੈ...\n",
              "3  entertainment  ਪੀਐਮ ਮੋਦੀ ਦੇ ਬਚਪਨ ’ਤੇ ਬਣੀ ਫਿ਼ਲਮ ‘ਚਲੋ ਜੀਤੇ ਹੈਂ’...\n",
              "4         sports  ਬਹੁਤ ਚੰਗਾ ਮਹਿਸੂਸ ਹੋ ਰਿਹੈ : ਕੋਹਲੀ\\nPublish Date..."
            ],
            "text/html": [
              "\n",
              "  <div id=\"df-f53287bc-1f27-419c-8a31-7dd0ac96fd30\">\n",
              "    <div class=\"colab-df-container\">\n",
              "      <div>\n",
              "<style scoped>\n",
              "    .dataframe tbody tr th:only-of-type {\n",
              "        vertical-align: middle;\n",
              "    }\n",
              "\n",
              "    .dataframe tbody tr th {\n",
              "        vertical-align: top;\n",
              "    }\n",
              "\n",
              "    .dataframe thead th {\n",
              "        text-align: right;\n",
              "    }\n",
              "</style>\n",
              "<table border=\"1\" class=\"dataframe\">\n",
              "  <thead>\n",
              "    <tr style=\"text-align: right;\">\n",
              "      <th></th>\n",
              "      <th>0</th>\n",
              "      <th>1</th>\n",
              "    </tr>\n",
              "  </thead>\n",
              "  <tbody>\n",
              "    <tr>\n",
              "      <th>0</th>\n",
              "      <td>politics</td>\n",
              "      <td>ਪ੍ਰਸ਼ਾਸਨ ਨੇ ਡਾ. ਧਰਮਵੀਰ ਗਾਂਧੀ ਦੇ ਨਾਂ 'ਤੇ ਲਾਈ ਚੇਪ...</td>\n",
              "    </tr>\n",
              "    <tr>\n",
              "      <th>1</th>\n",
              "      <td>sports</td>\n",
              "      <td>ਹਰ ਸਮੇਂ ਨਾਲ ਨਹੀਂ ਰਹੇਗਾ ਖਿਡਾਰੀਆਂ ਦਾ ਪਰਿਵਾਰ\\nPub...</td>\n",
              "    </tr>\n",
              "    <tr>\n",
              "      <th>2</th>\n",
              "      <td>business</td>\n",
              "      <td>4ਜੀ ਨੂੰ ਪਛਾੜ ਐੱਲਈਡੀ ਬਲਬ ਦੇਵੇਗਾ ਹਾਈ ਸਪੀਡ ਇੰਟਰਨੈ...</td>\n",
              "    </tr>\n",
              "    <tr>\n",
              "      <th>3</th>\n",
              "      <td>entertainment</td>\n",
              "      <td>ਪੀਐਮ ਮੋਦੀ ਦੇ ਬਚਪਨ ’ਤੇ ਬਣੀ ਫਿ਼ਲਮ ‘ਚਲੋ ਜੀਤੇ ਹੈਂ’...</td>\n",
              "    </tr>\n",
              "    <tr>\n",
              "      <th>4</th>\n",
              "      <td>sports</td>\n",
              "      <td>ਬਹੁਤ ਚੰਗਾ ਮਹਿਸੂਸ ਹੋ ਰਿਹੈ : ਕੋਹਲੀ\\nPublish Date...</td>\n",
              "    </tr>\n",
              "  </tbody>\n",
              "</table>\n",
              "</div>\n",
              "      <button class=\"colab-df-convert\" onclick=\"convertToInteractive('df-f53287bc-1f27-419c-8a31-7dd0ac96fd30')\"\n",
              "              title=\"Convert this dataframe to an interactive table.\"\n",
              "              style=\"display:none;\">\n",
              "        \n",
              "  <svg xmlns=\"http://www.w3.org/2000/svg\" height=\"24px\"viewBox=\"0 0 24 24\"\n",
              "       width=\"24px\">\n",
              "    <path d=\"M0 0h24v24H0V0z\" fill=\"none\"/>\n",
              "    <path d=\"M18.56 5.44l.94 2.06.94-2.06 2.06-.94-2.06-.94-.94-2.06-.94 2.06-2.06.94zm-11 1L8.5 8.5l.94-2.06 2.06-.94-2.06-.94L8.5 2.5l-.94 2.06-2.06.94zm10 10l.94 2.06.94-2.06 2.06-.94-2.06-.94-.94-2.06-.94 2.06-2.06.94z\"/><path d=\"M17.41 7.96l-1.37-1.37c-.4-.4-.92-.59-1.43-.59-.52 0-1.04.2-1.43.59L10.3 9.45l-7.72 7.72c-.78.78-.78 2.05 0 2.83L4 21.41c.39.39.9.59 1.41.59.51 0 1.02-.2 1.41-.59l7.78-7.78 2.81-2.81c.8-.78.8-2.07 0-2.86zM5.41 20L4 18.59l7.72-7.72 1.47 1.35L5.41 20z\"/>\n",
              "  </svg>\n",
              "      </button>\n",
              "      \n",
              "  <style>\n",
              "    .colab-df-container {\n",
              "      display:flex;\n",
              "      flex-wrap:wrap;\n",
              "      gap: 12px;\n",
              "    }\n",
              "\n",
              "    .colab-df-convert {\n",
              "      background-color: #E8F0FE;\n",
              "      border: none;\n",
              "      border-radius: 50%;\n",
              "      cursor: pointer;\n",
              "      display: none;\n",
              "      fill: #1967D2;\n",
              "      height: 32px;\n",
              "      padding: 0 0 0 0;\n",
              "      width: 32px;\n",
              "    }\n",
              "\n",
              "    .colab-df-convert:hover {\n",
              "      background-color: #E2EBFA;\n",
              "      box-shadow: 0px 1px 2px rgba(60, 64, 67, 0.3), 0px 1px 3px 1px rgba(60, 64, 67, 0.15);\n",
              "      fill: #174EA6;\n",
              "    }\n",
              "\n",
              "    [theme=dark] .colab-df-convert {\n",
              "      background-color: #3B4455;\n",
              "      fill: #D2E3FC;\n",
              "    }\n",
              "\n",
              "    [theme=dark] .colab-df-convert:hover {\n",
              "      background-color: #434B5C;\n",
              "      box-shadow: 0px 1px 3px 1px rgba(0, 0, 0, 0.15);\n",
              "      filter: drop-shadow(0px 1px 2px rgba(0, 0, 0, 0.3));\n",
              "      fill: #FFFFFF;\n",
              "    }\n",
              "  </style>\n",
              "\n",
              "      <script>\n",
              "        const buttonEl =\n",
              "          document.querySelector('#df-f53287bc-1f27-419c-8a31-7dd0ac96fd30 button.colab-df-convert');\n",
              "        buttonEl.style.display =\n",
              "          google.colab.kernel.accessAllowed ? 'block' : 'none';\n",
              "\n",
              "        async function convertToInteractive(key) {\n",
              "          const element = document.querySelector('#df-f53287bc-1f27-419c-8a31-7dd0ac96fd30');\n",
              "          const dataTable =\n",
              "            await google.colab.kernel.invokeFunction('convertToInteractive',\n",
              "                                                     [key], {});\n",
              "          if (!dataTable) return;\n",
              "\n",
              "          const docLinkHtml = 'Like what you see? Visit the ' +\n",
              "            '<a target=\"_blank\" href=https://colab.research.google.com/notebooks/data_table.ipynb>data table notebook</a>'\n",
              "            + ' to learn more about interactive tables.';\n",
              "          element.innerHTML = '';\n",
              "          dataTable['output_type'] = 'display_data';\n",
              "          await google.colab.output.renderOutput(dataTable, element);\n",
              "          const docLink = document.createElement('div');\n",
              "          docLink.innerHTML = docLinkHtml;\n",
              "          element.appendChild(docLink);\n",
              "        }\n",
              "      </script>\n",
              "    </div>\n",
              "  </div>\n",
              "  "
            ]
          },
          "metadata": {},
          "execution_count": 13
        }
      ],
      "source": [
        "df_test = pd.read_csv('pa-test.csv', header=None)\n",
        "df_test.head()"
      ]
    },
    {
      "cell_type": "code",
      "source": [
        "df_train.shape, df_valid.shape, df_test.shape"
      ],
      "metadata": {
        "colab": {
          "base_uri": "https://localhost:8080/"
        },
        "id": "66eEojG2NDfy",
        "outputId": "b1d7a2b1-ea03-47de-dc9e-e9b63f7c81e6"
      },
      "execution_count": null,
      "outputs": [
        {
          "output_type": "execute_result",
          "data": {
            "text/plain": [
              "((2496, 2), (312, 2), (312, 2))"
            ]
          },
          "metadata": {},
          "execution_count": 14
        }
      ]
    },
    {
      "cell_type": "code",
      "execution_count": null,
      "metadata": {
        "colab": {
          "base_uri": "https://localhost:8080/"
        },
        "id": "EownIe_7VGNx",
        "outputId": "c90ab630-9ad0-4968-b8e4-f15f24648cba"
      },
      "outputs": [
        {
          "output_type": "execute_result",
          "data": {
            "text/plain": [
              "((0, 2), (0, 2), (0, 2))"
            ]
          },
          "metadata": {},
          "execution_count": 15
        }
      ],
      "source": [
        "df_train[df_train[0].isnull()].shape, df_valid[df_valid[0].isnull()].shape, df_test[df_test[0].isnull()].shape"
      ]
    },
    {
      "cell_type": "code",
      "execution_count": null,
      "metadata": {
        "id": "vS1al5DJVGNy"
      },
      "outputs": [],
      "source": [
        "label_cols = [0]"
      ]
    },
    {
      "cell_type": "code",
      "execution_count": null,
      "metadata": {
        "id": "q4lvK4w_VGNy"
      },
      "outputs": [],
      "source": [
        "class PanjabiTokenizer(BaseTokenizer):\n",
        "    def __init__(self, lang:str):\n",
        "        self.lang = lang\n",
        "        self.sp = spm.SentencePieceProcessor()\n",
        "        self.sp.Load(str('panjabi_lm.model'))\n",
        "        \n",
        "    def tokenizer(self, t:str) -> List[str]:\n",
        "        return self.sp.EncodeAsPieces(t)"
      ]
    },
    {
      "cell_type": "code",
      "execution_count": null,
      "metadata": {
        "colab": {
          "base_uri": "https://localhost:8080/"
        },
        "id": "n2bqw51UP9DH",
        "outputId": "738c3af3-6038-414f-9320-9d747b5e4c1a"
      },
      "outputs": [
        {
          "output_type": "stream",
          "name": "stdout",
          "text": [
            "/usr/local/lib/python3.7/dist-packages/gdown/cli.py:131: FutureWarning: Option `--id` was deprecated in version 4.3.1 and will be removed in 5.0. You don't need to pass it anymore to use a file ID.\n",
            "  category=FutureWarning,\n",
            "Downloading...\n",
            "From: https://drive.google.com/uc?id=16y0GO7fglAMRl3mB-tUa2kY1kRjzyM6i\n",
            "To: /content/panjabi_lm.model\n",
            "100% 4.22M/4.22M [00:00<00:00, 74.1MB/s]\n"
          ]
        }
      ],
      "source": [
        "! gdown --id 16y0GO7fglAMRl3mB-tUa2kY1kRjzyM6i"
      ]
    },
    {
      "cell_type": "code",
      "execution_count": null,
      "metadata": {
        "id": "BHzOWfK1VGNy"
      },
      "outputs": [],
      "source": [
        "sp = spm.SentencePieceProcessor()\n",
        "sp.Load('/content/panjabi_lm.model')\n",
        "itos = [sp.IdToPiece(int(i)) for i in range(30000)]"
      ]
    },
    {
      "cell_type": "code",
      "execution_count": null,
      "metadata": {
        "id": "q2VPp2c4VGNy"
      },
      "outputs": [],
      "source": [
        "# 30,000 is the vocab size that we chose in sentencepiece\n",
        "panjabi_vocab = Vocab(itos)"
      ]
    },
    {
      "cell_type": "code",
      "execution_count": null,
      "metadata": {
        "id": "KCBir-4tVGNz"
      },
      "outputs": [],
      "source": [
        "panjabi_tok = PanjabiTokenizer('pb')"
      ]
    },
    {
      "cell_type": "code",
      "execution_count": null,
      "metadata": {
        "id": "nQyAxp4FVGNz"
      },
      "outputs": [],
      "source": [
        "tokenizer = Tokenizer(tok_func=PanjabiTokenizer, lang='pb')"
      ]
    },
    {
      "cell_type": "code",
      "execution_count": null,
      "metadata": {
        "colab": {
          "base_uri": "https://localhost:8080/"
        },
        "id": "x1pctSiwVGNz",
        "outputId": "32982bef-b909-4b45-fe22-f3a4a4e33f20"
      },
      "outputs": [
        {
          "output_type": "execute_result",
          "data": {
            "text/plain": [
              "['xxunk',\n",
              " 'xxpad',\n",
              " 'xxbos',\n",
              " 'xxeos',\n",
              " 'xxfld',\n",
              " 'xxmaj',\n",
              " 'xxup',\n",
              " 'xxrep',\n",
              " 'xxwrep']"
            ]
          },
          "metadata": {},
          "execution_count": 23
        }
      ],
      "source": [
        "tokenizer.special_cases"
      ]
    },
    {
      "cell_type": "code",
      "execution_count": null,
      "metadata": {
        "colab": {
          "base_uri": "https://localhost:8080/",
          "height": 72
        },
        "id": "LUFKkkytVGNz",
        "outputId": "174b14a9-6511-4fd6-eea9-5996f7de06a2"
      },
      "outputs": [
        {
          "output_type": "display_data",
          "data": {
            "text/plain": [
              "<IPython.core.display.HTML object>"
            ],
            "text/html": [
              "\n",
              "<style>\n",
              "    /* Turns off some styling */\n",
              "    progress {\n",
              "        /* gets rid of default border in Firefox and Opera. */\n",
              "        border: none;\n",
              "        /* Needs to be in here for Safari polyfill so background images work as expected. */\n",
              "        background-size: auto;\n",
              "    }\n",
              "    .progress-bar-interrupted, .progress-bar-interrupted::-webkit-progress-bar {\n",
              "        background: #F44336;\n",
              "    }\n",
              "</style>\n"
            ]
          },
          "metadata": {}
        },
        {
          "output_type": "display_data",
          "data": {
            "text/plain": [
              "<IPython.core.display.HTML object>"
            ],
            "text/html": [
              ""
            ]
          },
          "metadata": {}
        },
        {
          "output_type": "stream",
          "name": "stderr",
          "text": [
            "/usr/local/lib/python3.7/dist-packages/fastai/core.py:302: VisibleDeprecationWarning: Creating an ndarray from ragged nested sequences (which is a list-or-tuple of lists-or-tuples-or ndarrays with different lengths or shapes) is deprecated. If you meant to do this, you must specify 'dtype=object' when creating the ndarray.\n",
            "  return np.array(a, dtype=dtype, **kwargs)\n"
          ]
        },
        {
          "output_type": "display_data",
          "data": {
            "text/plain": [
              "<IPython.core.display.HTML object>"
            ],
            "text/html": [
              "\n",
              "<style>\n",
              "    /* Turns off some styling */\n",
              "    progress {\n",
              "        /* gets rid of default border in Firefox and Opera. */\n",
              "        border: none;\n",
              "        /* Needs to be in here for Safari polyfill so background images work as expected. */\n",
              "        background-size: auto;\n",
              "    }\n",
              "    .progress-bar-interrupted, .progress-bar-interrupted::-webkit-progress-bar {\n",
              "        background: #F44336;\n",
              "    }\n",
              "</style>\n"
            ]
          },
          "metadata": {}
        },
        {
          "output_type": "display_data",
          "data": {
            "text/plain": [
              "<IPython.core.display.HTML object>"
            ],
            "text/html": [
              ""
            ]
          },
          "metadata": {}
        },
        {
          "output_type": "display_data",
          "data": {
            "text/plain": [
              "<IPython.core.display.HTML object>"
            ],
            "text/html": [
              "\n",
              "<style>\n",
              "    /* Turns off some styling */\n",
              "    progress {\n",
              "        /* gets rid of default border in Firefox and Opera. */\n",
              "        border: none;\n",
              "        /* Needs to be in here for Safari polyfill so background images work as expected. */\n",
              "        background-size: auto;\n",
              "    }\n",
              "    .progress-bar-interrupted, .progress-bar-interrupted::-webkit-progress-bar {\n",
              "        background: #F44336;\n",
              "    }\n",
              "</style>\n"
            ]
          },
          "metadata": {}
        },
        {
          "output_type": "display_data",
          "data": {
            "text/plain": [
              "<IPython.core.display.HTML object>"
            ],
            "text/html": [
              ""
            ]
          },
          "metadata": {}
        }
      ],
      "source": [
        "data_lm = TextLMDataBunch.from_df(path=path, train_df=df_train, valid_df=df_valid, test_df=df_test, tokenizer=tokenizer, vocab=panjabi_vocab, label_cols=label_cols)"
      ]
    },
    {
      "cell_type": "code",
      "execution_count": null,
      "metadata": {
        "id": "AsX92EOUVGN0"
      },
      "outputs": [],
      "source": [
        "learn = language_model_learner(data_lm, arch=AWD_LSTM, drop_mult=0.3, pretrained=False)"
      ]
    },
    {
      "cell_type": "code",
      "execution_count": null,
      "metadata": {
        "colab": {
          "base_uri": "https://localhost:8080/"
        },
        "id": "NvBp53R9VGN0",
        "outputId": "f6f407f2-85f1-41f1-9e13-0c12cf0bbd5f"
      },
      "outputs": [
        {
          "output_type": "execute_result",
          "data": {
            "text/plain": [
              "LanguageLearner(data=TextLMDataBunch;\n",
              "\n",
              "Train: LabelList (2496 items)\n",
              "x: LMTextList\n",
              "▁x x bo s ▁ ⁄ ▁ਕ੍ਰਿਕੇਟ ▁ ⁄ ▁ਜਨਰਲ ▁in d ▁vs <unk> ▁b an ▁: ▁ਚਾਰ ▁ਸਾਲਾਂ ▁' ਚ ▁ਖੇਡੇ ▁ਗਏ ▁ਸਿਰਫ਼ ▁11 <unk> - n ight ▁ਟੈਸਟ ▁ਮੈਚ , ▁ਭਾਰਤ ▁ਬਣੇਗਾ ▁ਅਜਿਹਾ ▁ਕਰਨ ▁ਵਾਲਾ ▁7 ਵਾਂ ▁ਦੇਸ਼ <unk> ▁p ub lish <unk> ▁d ate : t hu , ▁31 <unk> ▁o ct ▁ 2019 ▁0 9 : 13 <unk> <unk> ▁( i <unk> st ) ▁ਭਾਰਤੀ ▁ਕ੍ਰਿਕਟ ▁ਕੰਟਰੋਲ ▁ਬੋਰਡ ▁ਦੇ ▁ਪ੍ਰਧਾਨ ▁ਸੌਰ ਵ ▁ਗਾਂਗੁਲੀ ▁ਦੇ ▁ ਡੇਅ - ਨਾਈਟ ▁ਟੈਸਟ ▁ਦੇ ▁ਭਾਰਤ ▁' ਚ ▁' ਚ ▁ਕਰਵਾਉਣ ▁ਦੇ ▁ਫ਼ੈਸਲੇ ▁ਨੇ ▁ਨਵਾਂ ▁ਇਤਿਹਾਸ ▁ਰਚਿਆ ▁ਹੈ । ▁ਨਵੀਂ ▁ਦਿੱਲੀ , ▁ਜੇ ਐੱਨ ਐੱਨ ▁: ▁ਭਾਰਤੀ ▁ਕ੍ਰਿਕਟ ▁ਕੰਟਰੋਲ ▁ਬੋਰਡ ▁ਦੇ ▁ਪ੍ਰਧਾਨ ▁ਸੌਰ ਵ ▁ਗਾਂਗੁਲੀ ▁ਦੇ ▁ ਡੇਅ - ਨਾਈਟ ▁ਟੈਸਟ ▁ਦੇ ▁ਭਾਰਤ ▁' ਚ ▁' ਚ ▁ਕਰਵਾਉਣ ▁ਦੇ ▁ਫ਼ੈਸਲੇ ▁ਨੇ ▁ਨਵਾਂ ▁ਇਤਿਹਾਸ ▁ਰਚਿਆ ▁ਹੈ । ▁ਇਸ ▁ਫ਼ੈਸਲੇ ▁ਤੋਂ ▁ਬਾਅਦ ▁ਹੁਣ ▁ਭਾਰਤ ▁ਵੀ ▁ਉਨ੍ਹਾਂ ▁ਟੀਮਾਂ ▁ਦੀ ▁ਸੂਚੀ ▁' ਚ ▁ਸ਼ਾਮਲ ▁ਹੋ ▁ਜਾਵੇਗਾ , ▁ਜਿਨ੍ਹਾਂ ▁ਨੇ ▁ਟੈਸਟ ▁ਕ੍ਰਿਕਟ ▁ਦੇ ▁ਇਸ ▁ਨਵੇਂ ▁ਰੋਮ ਾਂ ਚ ▁' ਚ ▁ਸ਼ਿਰਕ ਤ ▁ਕੀਤੀ ▁ਹੈ । ▁ਸੰਨ ▁2015 ▁' ਚ ▁ਨਵੰਬਰ ▁' ਚ ▁ਪਹਿਲੀ ▁ਵਾਰ ▁ਇੰਟਰਨੈਸ਼ਨਲ ▁ ਡੇਅ - ਨਾਈਟ ▁ਟੈਸਟ ▁ਮੈਚ ▁ਖੇਡਿਆ ▁ਗਿਆ ▁ਸੀ ▁ਪਰ ▁ਉਦੋਂ ▁ਤੋਂ ▁ਹੁਣ ▁ਤਕ ▁ਸਿਰਫ਼ ▁11 ▁ਮੈਚ ▁ਹੀ ▁ਖੇਡੇ ▁ਜਾ ▁ਸਕੇ ▁ਹਨ । ▁ਭਾਰਤ ▁ਅਤੇ ▁ਬੰਗਲਾਦੇਸ਼ ▁ਦਰਮਿਆਨ ▁22 ▁ਤੋਂ ▁26 ▁ਨਵੰਬਰ ▁ਦਰਮਿਆਨ ▁ਕੋਲਕਾਤਾ ▁ਦੇ ▁ਈ ਡਨ ▁ਗਾਰਡਨ ▁ਮੈਦਾਨ ▁' ਤੇ ▁ ਡੇਅ - ਨਾਈਟ ▁ਟੈਸਟ ▁ਮੈਚ ▁ਖੇਡਿਆ ▁ਜਾਵੇਗਾ । ▁ਇਸ ▁ਮੈਚ ▁ਦਾ ▁ਮਹੱਤਵ ▁ਇਸ ▁ਲਈ ▁ਵੀ ▁ਹੈ ▁ਕਿ ▁ਟੀਮ ▁ਇੰਡੀਆ ▁ਪਹਿਲੀ ▁ਵਾਰ ▁ਕੋਈ ▁ ਡੇਅ - ਨਾਈਟ ▁ਮੈਚ ▁ਖੇਡੇ ਗੀ ▁ਅਤੇ ▁ਇਸ ▁ਦਾ ▁ਪ੍ਰਬੰਧ ▁ਭਾਰਤ ▁' ਚ ▁ਕੀਤਾ ▁ਜਾਣਾ ▁ਹੈ । ▁ਭਾਰਤ ▁ਅਤੇ ▁ਬੰਗਲਾਦੇਸ਼ ▁ਦਰਮਿਆਨ ▁ਹੋਣ ▁ਵਾਲਾ ▁ਇਹ ▁ਮੁਕਾਬਲਾ ▁12 ਵਾਂ ▁ ਡੇਅ - ਨਾਈਟ ▁ਟੈਸਟ ▁ਹੋਵੇਗਾ । ▁ਇਸ ▁ਤੋਂ ▁ਪਹਿਲਾਂ ▁ਕੁੱਲ ▁11 ▁ਅਜਿਹੇ ▁ਟੈਸਟ ▁ਮੈਚ ▁ਖੇਡੇ ▁ਜਾ ▁ਚੁੱਕੇ ▁ਹਨ । ▁ਚ ਲੋ ▁ਤੁਹਾਨੂੰ ▁ਦੱਸਦੇ ▁ਹਾਂ ▁ਕਿਹੜੀ ਆਂ - ਕਿ ਹੜ ੀਆਂ ▁ਟੀਮਾਂ ▁ਵਿਚਕਾਰ ▁ਖੇਡਿਆ ▁ਜਾ ▁ਚੁੱਕਿਆ ▁ਹੈ ▁ ਡੇਅ - ਨਾਈਟ ▁ਮੈਚ ▁ਆਸਟ੍ਰੇਲੀਆ ▁ਅਤੇ ▁ਨਿਊਜ਼ੀਲੈਂਡ ▁ਨੇ ▁ਕੀਤਾ ▁ਸੀ ▁ਆਗਾਜ਼ ▁ਪਹਿਲੇ ▁ ਡੇਅ - ਨਾਈਟ ▁ਟੈਸਟ ▁ਮੈਚ ▁ਨੂੰ ▁ਸਾਲ ▁2015 ▁' ਚ ▁ਆਸਟ੍ਰੇਲੀਆ ▁ਅਤੇ ▁ਨਿਊਜ਼ੀਲੈਂਡ ▁ਦੀ ▁ਟੀਮ ▁ਵਿਚਕਾਰ ▁ਖੇਡਿਆ ▁ਗਿਆ ▁ਸੀ । ▁ਇਹ ▁ਮੈਚ ▁ਆਸਟ੍ਰੇਲੀਆ ▁ਦੇ ▁ਏ ਡੀ ਲੇ ਡ ▁' ਚ ▁27 ▁ਨਵੰਬਰ ▁ਤੋਂ ▁ਇਕ ▁ਦਸੰਬਰ ▁ਦੌਰਾਨ ▁ਖੇਡਿਆ ▁ਗਿਆ ▁ਸੀ । ▁ਮੇਜ਼ਬਾਨ ▁ਆਸਟ੍ਰੇਲੀਆ ▁ਨੇ ▁ਇਹ ▁ਮੈਚ ▁ਤਿੰਨ ▁ਵਿਕਟਾਂ ▁ਨਾਲ ▁ਜਿੱਤਿਆ ▁ਸੀ । ▁ਭਾਰਤ ▁ ਡੇਅ - ਨਾਈਟ ▁ਟੈਸਟ ▁ਦੀ ▁ਮੇਜ਼ਬਾਨੀ ▁ਕਰਨ ▁ਵਾਲੀ ▁ਸੱਤਵੀਂ ▁ਟੀਮ ▁ਹੁਣ ▁ਤਕ ▁ਆਸਟ੍ਰੇਲੀਆ , ▁ਪਾਕਿਸਤਾਨ , ▁ਇੰਗਲੈਂਡ , ▁ਦੱਖਣੀ ▁ਅਫਰੀਕਾ , ▁ਨਿਊਜ਼ੀਲੈਂਡ ▁ਅਤੇ ▁ਵੈਸਟਇੰਡੀਜ਼ ▁ ਡੇਅ - ਨਾਈਟ ▁ਟੈਸਟ ▁ਦੀ ▁ਮੇਜ਼ਬਾਨੀ ▁ਕਰ ▁ਚੁੱਕੀ ▁ਹੈ । ▁ਕੋਲਕਾਤਾ ▁ਟੈਸਟ ▁ਮੈਚ ▁ਤੋਂ ▁ਬਾਅਦ ▁ਭਾਰਤ ▁ਅਜਿਹਾ ▁ਕਰਨ ▁ਵਾਲਾ ▁ਸੱਤ ਵਾਂ ▁ਦੇਸ਼ ▁ਬਣ ▁ਜਾਵੇਗਾ । ▁ਹੁਣ ▁ਤਕ ▁ਸਭ ▁ਤੋਂ ▁ਵੱਧ ▁ਆਸਟ੍ਰੇਲੀਆ ▁ਨੇ ▁ ਡੇਅ - ਨਾਈਟ ▁ਟੈਸਟ ▁ਮੈਚ ▁ਦੀ ▁ਮੇਜ਼ਬਾਨੀ ▁ਕੀਤੀ ▁ਹੈ । ▁ਉੱਥੇ ▁ਪਾਕਿਸਤਾਨ ▁ਇਸ ▁ਸੂਚੀ ▁' ਚ ▁ਦੂਜੇ ▁ਨੰਬਰ ▁' ਤੇ ▁ਹੈ । ▁ਹੁਣ ▁ਤਕ ▁ਖੇਡੇ ▁ਗਏ ▁11 ▁ ਡੇਅ - ਨਾਈਟ ▁ਟੈਸਟ ▁ਮੈਚ ▁ਆਸਟ੍ਰੇਲੀਆ ▁ਬਨਾਮ ▁ਨਿਊਜ਼ੀਲੈਂਡ ▁27 ▁ਨਵੰਬਰ ▁ਤੋਂ ▁1 ▁ਦਸੰਬਰ ▁2015 ▁ਪਾਕਿਸਤਾਨ ▁ਬਨਾਮ ▁ਵੈਸਟਇੰਡੀਜ਼ ▁13 ▁ਤੋਂ ▁17 ▁ਅਕਤੂਬਰ ▁2016 ▁ਆਸਟ੍ਰੇਲੀਆ ▁ਬਨਾਮ ▁ਦੱਖਣੀ ▁ਅਫਰੀਕਾ ▁24 ▁ਤੋਂ ▁28 ▁ਨਵੰਬਰ ▁2016 ▁ਆਸਟ੍ਰੇਲੀਆ ▁ਬਨਾਮ ▁ਪਾਕਿਸਤਾਨ ▁15 ▁ਤੋਂ ▁19 ▁ਦਸੰਬਰ ▁2016 ▁ਇੰਗਲੈਂਡ ▁ਬਨਾਮ ▁ਵੈਸਟਇੰਡੀਜ਼ ▁17 ▁ਤੋਂ ▁21 ਅਗਸਤ ▁2017 ▁ਪਾਕਿਸਤਾਨ ▁ਬਨਾਮ ▁ਸ੍ਰੀਲੰਕਾ ▁6 ▁ਤੋਂ ▁10 ▁ਅਕਤੂਬਰ ▁2017 ▁ਆਸਟ੍ਰੇਲੀਆ ▁ਬਨਾਮ ▁ਇੰਗਲੈਂਡ ▁2 ▁ਤੋਂ ▁6 ▁ਦਸੰਬਰ ▁2017 ▁ਦੱਖਣੀ ▁ਅਫਰੀਕਾ ▁ਬਨਾਮ ▁ਜਿੰ ਬਾਬ ਵੇ ▁26 ▁ਤੋਂ ▁29 ▁ਦਸੰਬਰ ▁2017 ▁ਨਿਊਜ਼ੀਲੈਂਡ ▁ਬਨਾਮ ▁ਇੰਗਲੈਂਡ ▁22 ▁ਤੋਂ ▁26 ▁ਮਾਰਚ ▁2018 ▁ਵੈਸਟਇੰਡੀਜ਼ ▁ਬਨਾਮ ▁ਸ੍ਰੀਲੰਕਾ ▁23 ▁ਤੋਂ ▁27 ▁ਜੂਨ ▁2018 ▁ਆਸਟ੍ਰੇਲੀਆ ▁ਬਨਾਮ ▁ਸ੍ਰੀਲੰਕਾ ▁24 ▁ਤੋਂ ▁28 ▁ਜਨਵਰੀ ▁ 2019 ▁post ed <unk> ▁b y : <unk> j it <unk>,▁x x bo s ▁ਸੈਂ ਸੈਕਸ ▁ਦੀਆਂ ▁ਟਾਪ ▁10 ▁ਕੰਪਨੀਆਂ ▁' ਚੋਂ ▁ਸੱਤ ▁ਦਾ ▁ਬਾਜ਼ਾਰ ▁ਪੂੰਜੀ ਕਰਨ ▁ਇਕ ▁ਲੱਖ ▁ਕਰੋੜ ▁ਘਟ ਿਆ <unk> ▁b <unk> us i n e <unk> <unk> ▁ <unk> news <unk> ( ਵ ਪਾਰ ) ▁ਸੈਂ ਸੈਕਸ ▁ਦੀਆਂ ▁ਟਾਪ ▁10 ▁ਕੰਪਨੀਆਂ ▁' ਚੋਂ ▁ਸੱਤ ▁ਦਾ ▁ਬਾਜ਼ਾਰ ▁ਪੂੰਜੀ ਕਰਨ ▁ਇਕ ▁ਲੱਖ ▁ਕਰੋੜ ▁ਘਟ ਿਆ ▁edit ed <unk> ▁b y <unk> ▁a art i <unk> ▁d hil lon , <unk> ▁t w it ter ▁ਨਵੀਂ ▁ਦਿੱਲੀ — ਸੈਂਸ ੈਕਸ ▁ਦੀਆਂ ▁ਟਾਪ ▁10 ▁ਕੰਪਨੀਆਂ ▁' ਚੋਂ ▁ਸੱਤ ▁ਦੇ ▁ਬਾਜ਼ਾਰ ▁ਪੂੰਜੀ ਕਰਨ ▁( ਐਮ - ਕ ੈਪ ) ▁' ਚ ▁ਬੀਤੇ ▁ਹਫਤੇ ▁ਕੁੱਲ ▁ਮਿਲਾ ▁ਕੇ ▁ਇਕ ▁ਲੱਖ ▁ਕਰੋੜ ▁ਰੁਪਏ ▁ਦੀ ▁ਕਮੀ ▁ਆਈ । ▁ਐੱਚ . ਡੀ . ਐੱਫ . ਸੀ . ▁ਬੈਂਕ ▁ਦੇ ▁ਐਮ - ਕ ੈਪ ▁' ਚ ▁ਸਭ ▁ਤੋਂ ▁ਜ਼ਿਆਦਾ ▁30,000 ▁ਕਰੋੜ ▁ਰੁਪਏ ▁ਤੋਂ ▁ਜ਼ਿਆਦਾ ▁ਦੀ ▁ਕਮੀ ▁ਦਰਜ ▁ਕੀਤੀ ▁ਗਈ ▁ਹੈ । ▁ਐੱਚ . ਡੀ . ਐੱਫ . ਸੀ . ▁ਬੈਂਕ ▁ਦੇ ▁ਇਲਾਵਾ , ▁ਰਿਲਾਇੰਸ ▁ਇੰਡਸਟਰੀਜ਼ , ▁ਹਿੰਦੁਸਤਾਨ ▁ਯੂਨੀ ਲੀ ਵਰ ▁ਲਿਮਟਿਡ , ▁ਐੱਚ . ਡੀ . ਐੱਫ . ਸੀ . , ▁ਕੋਟ ਕ ▁ਮਹਿੰਦਰ ਾ ▁ਬੈਂਕ , ▁ਆਈ . ਸੀ . ਆਈ . ਸੀ . ਆਈ . ▁ਅਤੇ ▁ਬਜਾਜ ▁ਫਾਈਨੈਂਸ ▁ਦਾ ▁ਬਾਜ਼ਾਰ ▁ਪੂੰਜੀ ਕਰਨ ▁ਘਟ ਿਆ ▁ਹੈ । ▁ਉੱਧ ਰ ▁ਦੂਜੇ ▁ਪਾਸੇ ▁ਟਾਟਾ ▁ਕੰਸ ਲਟ ੈਂਸੀ ▁ਸਰਵਿਸ ੇਜ਼ , ▁ਇੰ ਫ ੋਸਿਸ ▁ਅਤੇ ▁ਆਈ . ਟੀ . ਸੀ . ▁ਦੇ ▁ਬਾਜ਼ਾਰ ▁ਪੂੰਜੀ ਕਰਨ ▁' ਚ ▁ਵਾਧਾ ▁ਦਰਜ ▁ਕੀਤਾ ▁ਗਿਆ ▁ਹੈ । ▁ਐੱਚ . ਡੀ . ਐੱਫ . ਸੀ . ਬੈਂਕ ▁ਦਾ ▁ਬਾਜ਼ਾਰ ▁ਪੂੰਜੀ ਕਰਨ ▁30 , 19 8 . 62 ▁ਕਰੋੜ ▁ਰੁਪਏ ▁ਘੱਟ ▁ਕੇ ▁6 , 50 , 44 6. 47 ▁ਕਰੋੜ ▁ਰੁਪਏ ▁' ਤੇ ▁ਆ ▁ਗਿਆ ▁ਹੈ । ▁ਆਈ . ਸੀ . ਆਈ . ਸੀ . ਆਈ . ▁ਬੈਂਕ ▁ਦਾ ▁ਐਮ - ਕ ੈਪ ▁22 , 86 6. 93 ▁ਕਰੋੜ ▁ਰੁਪਏ ▁ਡਿੱਗ ▁ਕੇ ▁2 , 67 , 26 2. 32 ▁ਕਰੋੜ ▁ਰੁਪਏ ▁ਅਤੇ ▁ਕੋਟ ਕ ▁ਮਹਿੰਦਰ ਾ ▁ਬੈਂਕ ▁ਦਾ ▁ਪੂੰਜੀ ਕਰਨ ▁15 , 62 4. 6 ▁ਕਰੋੜ ▁ਘੱਟ ▁ਕੇ ▁2 , 98 , 4 13 . 27 ▁ਕਰੋੜ ▁ਰੁਪਏ ▁ਰਹਿ ▁ਗਿਆ । ▁ਇਸ ▁ਤਰ੍ਹਾਂ ▁ਹਿੰਦੁਸਤਾਨ ▁ਯੂਨੀ ਲੀ ਵਰ ▁ਦਾ ▁ਬਾਜ਼ਾਰ ▁ਪੂੰਜੀ ਕਰਨ ▁14 , 2 87 . 76 ▁ਕਰੋੜ ▁ਰੁਪਏ ▁ਘੱਟ ▁ਹੋ ▁ਕੇ ▁4 , 20 , 77 4. 52 ▁ਕਰੋੜ ▁ਰੁਪਏ ▁ਜਦੋਂਕਿ ▁ਐੱਚ . ਡੀ . ਐੱਫ . ਸੀ . ▁ਦਾ ▁ਐਮ - ਕ ੈਪ ▁10 , 1 78 . 8 4 ▁ਕਰੋੜ ▁ਰੁਪਏ ▁ਡਿੱਗ ▁ਕੇ ▁3 , 4 1,3 49 . 33 ▁ਕਰੋੜ ▁ਰੁਪਏ ▁' ਤੇ ▁ਆ ▁ਗਿਆ ▁ਹੈ । ▁ਬਜਾਜ ▁ਫਾਈਨੈਂਸ ▁ਦਾ ▁ਐਮ - ਕ ੈਪ ▁9 , 4 37 . 91 ▁ਕਰੋੜ ▁ਘੱਟ ▁ਕੇ ▁2 , 26 , 30 9.3 7 ▁ਕਰੋੜ ▁ਰੁਪਏ ▁ਅਤੇ ▁ਰਿਲਾਇੰਸ ▁ਇੰਡਸਟਰੀਜ਼ ▁ਦਾ ▁ਪੂੰਜੀ ਕਰਨ ▁8 24 .08 ▁ਕਰੋੜ ▁ਰੁਪਏ ▁ਘੱਟ ▁ਹੋ ▁ਕੇ ▁8 , 28 , 80 8 . 67 ▁ਕਰੋੜ ▁ਰੁਪਏ ▁ਰਹਿ ▁ਗਿਆ । ▁ਦੂਜੇ ▁ਪਾਸੇ , ▁ਟੀ . ਸੀ . ਐੱਸ . ▁ਦਾ ▁ਬਾਜ਼ਾਰ ▁ਪੂੰਜੀ ਕਰਨ ▁8 , 23 6. 49 ▁ਕਰੋੜ ▁ਰੁਪਏ ▁ਉ ਛ ਲ ▁ਕੇ ▁7, 79 , 98 9 .45 ▁ਕਰੋੜ ▁ਰੁਪਏ ▁ਅਤੇ ▁ਇੰ ਫ ੋਸਿਸ ▁ਦਾ ▁ਪੂੰਜੀ ਕਰਨ ▁4 , 68 1.5 9 ▁ਕਰੋੜ ▁ਰੁਪਏ ▁ਵਧ ▁ਕੇ ▁3 , 40 , 70 4. 24 ▁ਕਰੋੜ ▁ਰੁਪਏ ▁ਹੋ ▁ਗਿਆ । ▁ਆਈ . ਟੀ . ਸੀ . ਦਾ ▁ਐਮ - ਕ ੈਪ ▁5 ,344 . 62 ▁ਕਰੋੜ ▁ਰੁਪਏ ▁ਚੜ੍ਹ ▁ਕੇ ▁3 , 16 , 0 69 . 96 ▁ਕਰੋੜ ▁ਰੁਪਏ ▁' ਤੇ ▁ਪਹੁੰਚ ▁ਗਿਆ ।,▁x x bo s ▁ਵਿੱਦਿਆ ▁ਬਾਲ ਨ ▁ਨੇ ▁ਮਨਾਇਆ ▁ਵਰਲਡ ▁ਮੈਥ ਸ ▁ਡੇ <unk> ▁p ub lish <unk> ▁d ate : t u e , ▁15 <unk> ▁o ct ▁ 2019 ▁ 07 : 43 <unk> ▁p m ▁( i <unk> st ) ▁ਮਿਸ਼ਨ ▁ਮੰਗਲ ▁' ਚ ▁ਇਸ ਰੋ ▁ਦੇ ▁ਵਿਗਿਆਨੀ ▁ਦਾ ▁ਰੋਲ ▁ਨਿਭਾਉਣ ▁ਤੋਂ ▁ਬਾਅਦ ▁ਹੁਣ ▁ਅਦਾਕਾਰਾ ▁ਵਿੱਦਿਆ ▁ਬਾਲ ਨ ▁ਮਹਾਨ ▁ਗਣਿਤ ▁ਮਾਹਿਰ ▁ਸ਼ਕੁੰਤਲਾ ▁ਦੇਵੀ ▁ਦਾ ▁ਕਿਰਦਾਰ ▁ਨਿਭਾਉਣ ▁ਲਈ ▁ਪੂ ੁਰੀ ▁ਤਰ੍ਹਾਂ ▁ਤਿਆਰ ▁ਹੈ । ▁ਮਿਸ਼ਨ ▁ਮੰਗਲ ▁' ਚ ▁ਇਸ ਰੋ ▁ਦੇ ▁ਵਿਗਿਆਨੀ ▁ਦਾ ▁ਰੋਲ ▁ਨਿਭਾਉਣ ▁ਤੋਂ ▁ਬਾਅਦ ▁ਹੁਣ ▁ਅਦਾਕਾਰਾ ▁ਵਿੱਦਿਆ ▁ਬਾਲ ਨ ▁ਮਹਾਨ ▁ਗਣਿਤ ▁ਮਾਹਿਰ ▁ਸ਼ਕੁੰਤਲਾ ▁ਦੇਵੀ ▁ਦਾ ▁ਕਿਰਦਾਰ ▁ਨਿਭਾਉਣ ▁ਲਈ ▁ਪੂ ੁਰੀ ▁ਤਰ੍ਹਾਂ ▁ਤਿਆਰ ▁ਹੈ । ▁ਵਰਲਡ ▁ਮੈਥ ਸ ▁ਡੇ ▁ਮੌਕੇ ▁15 ▁ਅਕਤੂਬਰ ▁ਨੂੰ ▁ਅਦਾਕਾਰਾ ▁ਵਿੱਦਿਆ ▁ਬਾਲ ਨ ▁ਨੇ ▁ਉਨ੍ਹਾਂ ▁ਦੀ ▁ਆਉਣ ▁ਵਾਲੀ ▁ਫਿਲਮ ▁' ਸ਼ ਕੁ ੰਤ ਲਾ ▁ਦੇਵੀ ' ▁ਦਾ ▁ਇਕ ▁ਨਵਾਂ ▁ਪੋਸਟ ਰ ▁ਸ਼ੇਅਰ ▁ਕੀਤਾ ▁ਹੈ । ▁ਵਿੱਦਿਆ ▁ਨੇ ▁ਆਪਣੇ ▁ਇੰਸ ਟਾ ਗ੍ਰਾਮ ▁' ਤੇ ▁ਪੋਸਟ ਰ ▁ਸ਼ੇਅਰ ▁ਕਰਦਿਆਂ ▁ਕੈਪ ਸ਼ਨ ▁ਦਿੱਤਾ ▁ਹੈ , ▁' ਦੁਨੀਆ ▁ਦੀ ▁ਸੰਕਲਪ ਨਾ ▁ਜੋ ▁ਅੰਕਾਂ ▁ਨੂੰ ▁ਲੈ ▁ਕੇ ▁ਸੀ , ▁ਉਸ ▁ਨੂੰ ▁ਉਨ੍ਹਾਂ ▁ਬਦਲ ▁ਦਿੱਤਾ । ▁ਸੈਲੀ ਬ੍ਰੇਟ ਿੰਗ ▁ਦ ▁ਮੈਥ ▁ਵਿਦ ▁ਜੀ ਨੀਅਸ । ' ▁ਸ਼ਕੁੰਤਲਾ ▁ਦੇਵੀ ▁ਨੇ ▁ਆਪਣੇ ▁ਟੈਲ ੇਂਟ ▁ਦੀ ▁ਵਜ੍ਹਾ ▁ਨਾਲ ▁ਗਿਨੀ ਜ਼ ▁ਬੁੱਕ ▁ਆਫ ▁ਵਰਲਡ ▁ਰਿਕਾਰਡਜ਼ ▁' ਚ ▁ਆਪਣਾ ▁ਨਾਂ ▁ਦਰਜ ▁ਕਰਵਾ ▁ਲਿਆ ▁ਸੀ । ▁ਉਹ ▁ਪੰਜ ▁ਸਾਲ ▁ਦੀ ▁ਉਮਰ ▁' ਚ ▁ਹੀ ▁ਗਣਿਤ ▁ਦੀਆਂ ▁ਉਨ੍ਹਾਂ ▁ਸਮੱਸਿਆਵਾਂ ▁ਦਾ ▁ਹੱਲ ▁ਕੱਢ ▁ਦਿੰਦੀ ▁ਸੀ , ▁ਜੋ ▁18 ▁ਸਾਲ ▁ਦੇ ▁ਵਿਦਿਆਰਥੀ ▁ਹੀ ▁ਹੱਲ ▁ਕਰ ▁ਸਕਦੇ ▁ਹਨ । ▁ਹੁਣ ▁ਇਹ ▁ਵੇਖਣਾ ▁ਹੈ ▁ਕਿ ▁ਵਿੱਦਿਆ ▁ਉਨ੍ਹਾਂ ▁ਦੇ ▁ਕਿਰਦਾਰ ▁ਨੂੰ ▁ਕਿਸ ▁ਤਰ੍ਹਾਂ ▁ਨਿਭਾਉਂਦੀ ▁ਹੈ । ▁post ed <unk> ▁b y : <unk> ▁s ara b jee t <unk>,▁x x bo s ▁ਆਈ ਐੱਸ ਐੱਲ - 6 ▁ਦਾ ▁ਆਗਾਜ਼ , ▁ਬਲ ਾ ਸਟਰ ਜ਼ ▁ਨੇ ▁ਜਿੱਤਿਆ ▁ਮੈਚ <unk> ▁p ub lish <unk> ▁d ate : m on , ▁21 <unk> ▁o ct ▁ 2019 ▁12 : 39 <unk> <unk> ▁( i <unk> st ) ▁ਇੰਡੀਅਨ ▁ਸੁਪਰ ▁ਲੀਗ ▁( ਆਈ ਐੱਸ ਐੱਲ - 6 ) ▁ਦੇ ▁ਛੇਵੇਂ ▁ਸੈਸ਼ਨ ▁ਦੇ ▁ਪਹਿਲੇ ▁ਮੁਕਾਬਲੇ ▁ਵਿਚ ▁ਕੇਰਲ ▁ਬਲ ਾ ਸਟਰ ਜ਼ ▁ਨੇ ▁ਐਤਵਾਰ ▁ਨੂੰ ▁ਇੱਥੇ ▁ਜਵਾਹਰ ▁ਲਾਲ ▁ਨਹਿਰੂ ▁ਸਟੇਡੀਅਮ ▁ਵਿਚ ▁ਦੋ ▁ਵਾਰ ▁ਦੇ ▁ਚੈਂਪੀਅਨ ▁ਏ ਟੀ ਕੇ ▁ਨੂੰ ▁2 -1 ▁ਨਾਲ ▁ਹਰਾ ▁ਦਿੱਤਾ ▁ਤੇ ▁ਇਸੇ ▁ਨਾਲ ▁ਕੋਚੀ ▁( ਪੀ ਟੀ ਆਈ ) ▁: ▁ਇੰਡੀਅਨ ▁ਸੁਪਰ ▁ਲੀਗ ▁( ਆਈ ਐੱਸ ਐੱਲ - 6 ) ▁ਦੇ ▁ਛੇਵੇਂ ▁ਸੈਸ਼ਨ ▁ਦੇ ▁ਪਹਿਲੇ ▁ਮੁਕਾਬਲੇ ▁ਵਿਚ ▁ਕੇਰਲ ▁ਬਲ ਾ ਸਟਰ ਜ਼ ▁ਨੇ ▁ਐਤਵਾਰ ▁ਨੂੰ ▁ਇੱਥੇ ▁ਜਵਾਹਰ ▁ਲਾਲ ▁ਨਹਿਰੂ ▁ਸਟੇਡੀਅਮ ▁ਵਿਚ ▁ਦੋ ▁ਵਾਰ ▁ਦੇ ▁ਚੈਂਪੀਅਨ ▁ਏ ਟੀ ਕੇ ▁ਨੂੰ ▁2 -1 ▁ਨਾਲ ▁ਹਰਾ ▁ਦਿੱਤਾ ▁ਤੇ ▁ਇਸੇ ▁ਨਾਲ ▁ਇਸ ▁ਸੈਸ਼ਨ ▁ਦਾ ▁ਅਗਾ ਜ਼ ▁ਵੀ ▁ਹੋ ▁ਗਿਆ । ▁ਬਲ ਾ ਸਟਰ ਜ਼ ▁ਦੀ ▁ਜਿੱਤ ▁ਵਿਚ ▁ਉਸ ▁ਦੇ ▁ਕਪਤਾਨ ▁ਬਾਰ ਥੋਲ ੋਮੋ ਵ ▁ਓ ਗ ਬੇ ਚੇ ▁ਦਾ ▁ਅਹਿਮ ▁ਯੋਗਦਾਨ ▁ਰਿਹਾ ▁ਜਿਨ੍ਹਾਂ ▁ਨੇ ▁ਦੋਵੇਂ ▁ਗੋਲ ▁ਕੀਤੇ । ▁ਇਸ ▁ਤੋਂ ▁ਪਹਿਲਾਂ ▁ਖੇਡ ▁ਦੇ ▁ਛੇਵੇਂ ▁ਮਿੰਟ ▁ਵਿਚ ▁ਹੀ ▁ਕਾਰਲ ▁ਮੈਕ ਹ ਗ ▁ਨੇ ▁ਗੇਂਦ ▁ਨੂੰ ▁ਗੋਲ ▁ਪੋਸਟ ▁ਵਿਚ ▁ਪਹੁੰਚਾ ▁ਕੇ ▁ਏ ਟੀ ਕੇ ▁ਨੂੰ ▁ਬ ੜ੍ਹ ਤ ▁ਦਿਵਾਈ ▁ਸੀ । ▁ਹਾਲਾਂਕਿ ▁35 000 ▁ਦਰਸ਼ਕਾਂ ▁ਦੀ ▁ਮੌਜੂਦਗੀ ▁ਵਿਚ ▁ਓ ਗ ਬੇ ਚੇ ▁(3 0 ਵੇਂ ▁ਤੇ ▁45 ਵੇਂ ▁ਮਿੰਟ ) ▁ਨੇ ▁15 ▁ਮਿੰਟ ▁ਅੰਦਰ ▁ਦੋ ▁ਗੋਲ ▁ਕਰ ▁ਕੇ ▁ਆਪਣੀ ▁ਟੀਮ ▁ਨੂੰ ▁ਸ਼ਾਨਦਾਰ ▁ਜਿੱਤ ▁ਦਿਵਾਈ ।,▁x x bo s ▁ਬਚਪਨ ▁ਦੇ ▁ਦੋਸਤ ▁ਲਈ ▁ਰਣ ਵੀਰ ▁ਸਿੰਘ ▁ਨੇ ▁ਬਦਲਿਆ ▁ਆਪਣਾ ▁ਸ਼ ਡ ਿਊਲ <unk> ▁p ub lish <unk> ▁d ate : f ri , ▁18 <unk> ▁o ct ▁ 2019 ▁ 08 : 18 <unk> ▁p m ▁( i <unk> st ) ▁ਆਮ ▁ਤੌਰ ▁' ਤੇ ▁ਉਸ ▁ਵਿਚ ▁ਬਦਲਾਅ ▁ਦੀ ▁ਗੁੰਜਾਇਸ਼ ▁ਨਹੀਂ ▁ਹੁੰਦੀ ▁ਹੈ , ▁ਪਰ ▁ਜਦੋਂ ▁ਗੱਲ ▁ਬਚਪਨ ▁ਦੀ ▁ਦੋਸਤੀ ▁ਦੀ ▁ਆਉਂਦੀ ▁ਹੈ ▁ਤਾਂ ▁ਹਰ ▁ਬਦਲਾਅ ▁ਮੁਮਕਿਨ ▁ਹੈ । ▁ਕੁਝ ▁ਅਜਿਹਾ ▁ਹੀ ▁ਕੀਤਾ ▁ਰਣ ਵੀਰ ▁ਸਿੰਘ ▁ਨੇ ▁ਵੀ । ▁ਦਰਅਸਲ , ▁ਉਨ੍ਹਾਂ ▁ਦੀ ▁ਬ੍ਰ ਾਈਡ ਲ ▁ਡਿਜ਼ਾਈਨ ▁ਸਿਤਾਰੇ ▁ਆਪਣੇ ▁ਮਸ ਰੂ ਫ਼ ▁ਸ਼ ਡ ਿਊਲ ▁ਮੁਤਾਬਕ ▁ਹੀ ▁ਕੰਮ ▁ਕਰਦੇ ▁ਹਨ । ▁ਆਮ ▁ਤੌਰ ▁' ਤੇ ▁ਉਸ ▁ਵਿਚ ▁ਬਦਲਾਅ ▁ਦੀ ▁ਗੁੰਜਾਇਸ਼ ▁ਨਹੀਂ ▁ਹੁੰਦੀ ▁ਹੈ , ▁ਪਰ ▁ਜਦੋਂ ▁ਗੱਲ ▁ਬਚਪਨ ▁ਦੀ ▁ਦੋਸਤੀ ▁ਦੀ ▁ਆਉਂਦੀ ▁ਹੈ ▁ਤਾਂ ▁ਹਰ ▁ਬਦਲਾਅ ▁ਮੁਮਕਿਨ ▁ਹੈ । ▁ਕੁਝ ▁ਅਜਿਹਾ ▁ਹੀ ▁ਕੀਤਾ ▁ਰਣ ਵੀਰ ▁ਸਿੰਘ ▁ਨੇ ▁ਵੀ । ▁ਦਰਅਸਲ , ▁ਉਨ੍ਹਾਂ ▁ਦੀ ▁ਬ੍ਰ ਾਈਡ ਲ ▁ਡਿਜ਼ਾਈਨ ▁ਫ੍ਰੈਂਡ ▁ਸਿਮੋਨ ▁ਖੰਬ ਾ ਟਾ ▁ਉਨ੍ਹਾਂ ▁ਦੀ ▁ਬਚਪਨ ▁ਦੀ ▁ਦੋਸਤ ▁ਹੈ । ▁ਜਦੋਂ ▁ਦੋਵੇਂ ▁11 ▁ਸਾਲ ▁ਦੇ ▁ਸਨ , ▁ਉਦੋਂ ▁ਤੋਂ ▁ਉਨ੍ਹਾਂ ▁ਦੀ ▁ਦੋਸਤੀ ▁ਚੱਲੀ ▁ਆ ▁ਰਹੀ ▁ਹੈ । ▁ਵਧਦੀ ▁ਉਮਰ ▁ਨਾਲ ▁ਰਣ ਵੀਰ ▁ਦੀ ▁ਸਭ ▁ਤੋਂ ▁ਚੰਗੀ ▁ਦੋਸਤ ▁ਸਿਮੋਨ ▁ਉਨ੍ਹਾਂ ▁ਨਾਲ ▁ਕਈ ▁ਯਾਤਰਾਵਾਂ ▁' ਤੇ ▁ਵੀ ▁ਗਈ ▁ਹੈ । ▁ਸਟਾਰ ▁ਬਣਨ ▁ਤੋਂ ▁ਬਾਅਦ ▁ਰਣ ਵੀਰ ▁ਦਾ ▁ਸ਼ੂਟਿੰਗ ▁ਦੇ ▁ਸਿਲਸਿਲੇ ▁ਵਿਚ ▁ਮੁੰਬਈ ▁ਤੋਂ ▁ਬਾਹਰ ▁ਆਉਣਾ - ਜਾਣ ਾ ▁ਲੱਗਾ ▁ਰਹਿੰਦਾ ▁ਹੈ । ▁ਇਸ ▁ਵਾਰ ▁ਜਦੋਂ ▁ਉਨ੍ਹਾਂ ▁ਦੀ ▁ਦੋਸਤ ▁ਨੂੰ ▁ਉਨ੍ਹਾਂ ▁ਦੀ ▁ਜ਼ਰੂਰਤ ▁ਸੀ ▁ਤਾਂ ▁ਰਣ ਵੀਰ ▁ਮੁੰਬਈ ▁ਵਿਚ ▁ਹੀ ▁ਸਨ । ▁ਸੂਤਰਾਂ ▁ਦੀ ▁ਮੰਨੀ ਏ ▁ਤਾਂ ▁ਸਿਮੋਨ ▁ਦੋ ▁ਦਿਨਾਂ ▁ਤਕ ▁ਚੱਲਣ ▁ਵਾਲੇ ▁ਵੈਡ ਿੰਗ ▁ਐਗ ਜੀ ਬਿ ਸ਼ਨ ▁ਵਿਚ ▁ਆਪਣਾ ▁ਕਲੈਕਸ਼ਨ ▁ਸ਼ੋਅ ਕੇਸ ▁ਕਰਨ ▁ਵਾਲੀ ▁ਸੀ । ▁ਜਿਵੇਂ ▁ਹੀ ▁ਇਸ ▁ਦੀ ▁ਖ਼ਬਰ ▁ਰਣ ਵੀਰ ▁ਨੂੰ ▁ਲੱਗੀ , ▁ਉਨ੍ਹਾਂ ▁ਸਿਮੋਨ ▁ਦੇ ▁ਸ਼ੋਅ ▁ਵਿਚ ▁ਰ ੈਂਪ ▁ਵਾਕ ▁ਕਰਨ ▁ਲਈ ▁ਉਸ ▁ਦਿਨ ▁ਦੇ ▁ਸਾਰੇ ▁ਕੰਮ ▁ਰੱਦ ▁ਕਰ ▁ਦਿੱਤੇ ▁ਅਤੇ ▁ਪੂਰਾ ▁ਦਿਨ ▁ਆਪਣੀ ▁ਦੋਸਤ ▁ਨੂੰ ▁ਸਮਰਪਿਤ ▁ਕਰ ▁ਦਿੱਤਾ । ▁ਸਿਮੋਨ ▁ਨੂੰ ▁ਸਪੋਰਟ ▁ਕਰਨ ▁ਲਈ ▁ਰਣ ਵੀਰ ▁ਉਸ ▁ਦੇ ▁ਫੈਸ਼ਨ ▁ਸ਼ੋਅ ▁ਵਿਚ ▁ਪੁੱਜੇ । ▁ਸਿਮੋਨ ▁ਰਣ ਵੀਰ ▁ਦੇ ▁ਸ਼ੋਅ ▁ਸਟਾਪ ਰ ▁ਬਣਨ ▁ਦੇ ▁ਫ਼ੈਸਲੇ ▁ਤੋਂ ▁ਬਹੁਤ ▁ਖ਼ੁਸ਼ ▁ਸੀ । ▁ਉਨ੍ਹਾਂ ▁ਕਿਹਾ ▁ਕਿ ▁ਰਣ ਵੀਰ ▁ਅਤੇ ▁ਉਨ੍ਹਾਂ ▁ਦੀ ▁ਦੋਸਤੀ ▁ਸਮੇਂ ▁ਦੇ ▁ਨਾਲ - ਨਾਲ ▁ਡੂੰਘੀ ▁ਹੋਈ ▁ਹੈ । ▁ਜਦੋਂ ▁ਰਣ ਵੀਰ ▁ਆਪਣੇ ▁ਜਨਮ ▁ਦਿਨ ▁ਦੀ ▁ਪਾਰਟੀ ▁ਵਿਚ ▁ਗੋਵਿੰਦ ਾ ▁ਦੇ ▁ਗੀਤਾਂ ▁' ਤੇ ▁ਡਾਂਸ ▁ਕਰਦੇ ▁ਸਨ , ▁ਉਹ ▁ਉਦੋਂ ▁ਤੋਂ ▁ਹੀ ▁ਇਹ ▁ਗੱਲ ▁ਜਾਣਦੀ ▁ਸੀ ▁ਕਿ ▁ਉਹ ▁ਇਕ ▁ਦਿਨ ▁ਬਹੁਤ ▁ਵੱਡੇ ▁ਸਟਾਰ ▁ਬਣਨ ਗੇ । ▁post ed <unk> ▁b y : ▁su kh de v <unk>\n",
              "y: LMLabelList\n",
              ",,,,\n",
              "Path: .;\n",
              "\n",
              "Valid: LabelList (312 items)\n",
              "x: LMTextList\n",
              "▁x x bo s ▁ ⁄ ▁ਮਨੋਰੰਜਨ ▁ ⁄ ▁ਬਾਲੀਵੁੱਡ <unk> <unk> ▁g ag a <unk> ▁v ir al <unk> ▁v ide o : ▁ਫੈਨ ▁ਨੇ ▁ਕੀਤੀ ▁ਅਜਿਹੀ ▁ਹਰਕਤ ▁ਕਿ ▁ਲਾਈਵ ▁ਕੰਸ ਰਟ ▁ਦੌਰਾਨ ▁ਸਟੇਜ ▁ਤੋਂ ▁ਡਿੱਗ ੀ ▁ਲੇਡੀ ▁ਗਾਗ ਾ , ▁ਦੇਖੋ ▁ਵਾਇਰਲ ▁ਵੀਡੀਓ <unk> ▁p ub lish <unk> ▁d ate : <unk> <unk> , ▁19 <unk> ▁o ct ▁ 2019 ▁0 2 :15 <unk> ▁p m ▁( i <unk> st ) ▁ਅਮਰੀਕਾ ▁ਦੀ ▁ਪਾਪ ਲੂਰ ▁ਗਾਇਕਾ ▁ਲੇਡੀ ▁ਗਾਗ ਾ ▁ਆਏ ▁ਦਿਨ ▁ਬੇ ਹਤਰੀਨ ▁ਗਾਣ ਿਆਂ ▁ਦੇ ▁ਚਲਦੇ ▁ਸੁਰਖੀਆਂ ▁' ਚ ▁ਬਣੀ ▁ਰਹਿੰਦੀ ▁ਹੈ । ▁ਲੇਡੀ ▁ਗਾਗ ਾ ▁ਨੂੰ ▁ਹਾਲ ▁ਹੀ ▁' ਚ ▁ਫਿਲਮ ▁' ਅ ▁ਸਟਾਰ ▁ਈ ਜ਼ ▁ਬੋਰਨ ' ▁ਦੇ ▁ਗਾਣੇ ▁' ਸ਼ੈਲ ੋ ' ▁ਲਈ ▁ਆਸਕਰ ▁ਐਵਾਰਡ ▁ਨਾਲ ▁ਨਵ ਜ ਾਇਆ ▁ਜਾ ▁ਜੇ ਐੱਨ ਐੱਨ , ▁ਨਵੀਂ ▁ਦਿੱਲੀ ▁: ▁ਅਮਰੀਕਾ ▁ਦੀ ▁ਪਾਪ ਲੂਰ ▁ਗਾਇਕਾ ▁ਲੇਡੀ ▁ਗਾਗ ਾ ▁ਆਏ ▁ਦਿਨ ▁ਬੇ ਹਤਰੀਨ ▁ਗਾਣ ਿਆਂ ▁ਦੇ ▁ਚਲਦੇ ▁ਸੁਰਖੀਆਂ ▁' ਚ ▁ਬਣੀ ▁ਰਹਿੰਦੀ ▁ਹੈ । ▁ਲੇਡੀ ▁ਗਾਗ ਾ ▁ਨੂੰ ▁ਹਾਲ ▁ਹੀ ▁' ਚ ▁ਫਿਲਮ ▁' ਅ ▁ਸਟਾਰ ▁ਈ ਜ਼ ▁ਬੋਰਨ ' ▁ਦੇ ▁ਗਾਣੇ ▁' ਸ਼ੈਲ ੋ ' ▁ਲਈ ▁ਆਸਕਰ ▁ਐਵਾਰਡ ▁ਨਾਲ ▁ਨਵ ਜ ਾਇਆ ▁ਜਾ ▁ਚੁੱਕਿਆ ▁ਹੈ । ▁ਪਰ ▁ਇਨ੍ ਹੀਂ ▁ਦਿਨਾਂ ▁ਗਾਗ ਾ ▁ਆਪਣੇ ▁ਇਕ ▁ਫੈਨ ▁ਦੀ ▁ਹਰਕਤ ▁ਕਾਰਨ ▁ਸੋਸ਼ਲ ▁ਮੀਡੀਆ ▁' ਤੇ ▁ ਛਾਈ ▁ਹੋਈ ▁ਹੈ । ▁ਦਰਅਸਲ ▁ਹਾਲ ▁ਹੀ ▁' ਚ ▁ਲੇਡੀ ▁ਗਾਗ ਾ ▁ਇਕ ▁ਕੰਸ ਰਟ ▁' ਚ ▁ਪਹੁੰਚੀ ▁ਸੀ ▁ਜਿੱਥੇ ▁ਇਕ ▁ਵੀਡੀਓ ▁ਇਨ੍ ਹੀਂ ▁ਦਿਨੀਂ ▁ਸੋਸ਼ਲ ▁ਮੀਡੀਆ ▁' ਤੇ ▁ਤੇ ਜ਼ੀ ▁ਨਾਲ ▁ਵਾਇਰਲ ▁ਹੋ ▁ਰਹੀ ▁ਹੈ । ▁ਇਸ ▁ਵੀਡੀਓ ▁' ਚ ▁ਦਿਖਾਇਆ ▁ਗਿਆ ▁ਹੈ ▁ਕਿ ▁ਸਟੇਜ ਼ ▁' ਤੇ ▁ਪਰ ਫਾਰਮ ▁ਕਰਨ ▁ਦੌਰਾਨ ▁ਲੇਡੀ ▁ਗਾਗ ਾ ▁ਦਾ ▁ਇਕ ▁ਫੈਨ ▁ਸਟੇਜ ਼ ▁' ਤੇ ▁ਅਚਾਨਕ ▁ਚੜ ▁ਜਾਂਦਾ ▁ਹੈ । ▁ਕਿਉਂਕਿ ▁ਲੇਡੀ ▁ਗਾਗ ਾ ▁ਹਮੇਸ਼ਾ ▁ਤੋਂ ▁ਹੀ ▁ਆਪਣੇ ▁ਫੈਨ ਜ਼ ▁ਦਾ ▁ਖਿਆਲ ▁ਰੱਖਦੀ ▁ਹੈ । ▁ਸਟੇਜ ਼ ▁' ਤੇ ▁ਪਹੁੰਚੇ ▁ਆਪਣੇ ▁ਫੈਨ ਜ਼ ▁ਨੂੰ ▁ਦੇਖ ▁ਕੇ ▁ਲੇਡੀ ▁ਗਾਗ ਾ ▁ਨੇ ▁ਉਸ ▁ਨੂੰ ▁ਗਲ਼ ੇ ▁ਲਗਾ ▁ਲਿਆ , ▁ਪਰ ▁ਉਸ ▁ਤੋਂ ▁ਬਾਅਦ ▁ਜੋ ▁ਹੋਇਆ ▁ਉਹ ▁ਕਾਫੀ ▁ਹੈਰਾਨ ▁ਕਰਨ ▁ਵਾਲਾ ▁ਸੀ । ▁w ww . ins ta gra m . com ▁/ ▁ tv ▁/ <unk> ▁b 3 v 9 r n z j l k y ▁/ ▁ਜਿਵੇਂ ▁ਹੀ ▁ਫੈਨ ▁ਨੇ ▁ਲੇਡੀ ▁ਗਾਗ ਾ ▁ਨੂੰ ▁ਆਪਣੇ ▁ਗਲ਼ ੇ ▁ਨਾਲ ▁ਲਗਾਇਆ , ▁ਉਵੇਂ ▁ਹੀ ▁ਗਾਗ ਾ ▁ਉਨ੍ਹਾਂ ▁ਦੀ ▁ਗੋਦ ▁' ਚ ▁ਆ ▁ਗਈ , ▁ਫੈਨ ਜ਼ ▁ਸਟੇਜ ਼ ▁' ਤੇ ▁ਗਾਗ ਾ ▁ਨੂੰ ▁ਉਠਾ ▁ਕੇ ▁ਮਸਤੀ ▁ਕਰ ▁ਰਿਹਾ ▁ਸੀ ▁ਉਦੋਂ ▁ਉਨ੍ਹਾਂ ▁ਦਾ ▁ਬੈਲੇ ਂਸ ▁ਖਰਾਬ ▁ਹੋ ▁ਗਿਆ ▁ਤੇ ▁ਉਹ ▁ਗਾਗ ਾ ▁ਨੂੰ ▁ਲੈ ▁ਕੇ ▁ਸਟੇਜ ਼ ▁ਤੋਂ ▁ਸਿੱਧਾ ▁ਹੇਠਾਂ ▁ਡਿੱਗ ▁ਗਿਆ । ▁ਇਸ ▁ਮੰ ਜ਼ਰ ▁ਨੂੰ ▁ਦੇਖ ▁ਕੰਸ ਰਟ ▁' ਚ ▁ਮੌਜੂਦ ▁ਸਾਰੇ ▁ਲੋਕ ▁ਹੱਕ ਾ - ਬ ੱਕਾ ▁ਰਹਿ ▁ਗਏ । ▁ਅਚਾਨਕ ▁ਜ਼ਮੀਨ ▁' ਤੇ ▁ਡਿੱਗ ੀ ▁ਲੇਡੀ ▁ਗਾਗ ਾ ▁ਨੇ ▁ਮਾਈ ਕ ▁' ਤੇ ▁ਕਿਹਾ , ▁' ਸਭ ▁ਠੀਕ ▁ਹੈ ▁ਤੇ ▁ਇਸੇ ▁ਨਾਲ ▁ਕੌਨ ਸਰ ਟ ▁' ਚ ▁ਦੁਬਾਰਾ ▁ਜਾਨ ▁ਆ ▁ਗਈ । ' ▁ਲੇਡੀ ▁ਗਾਗ ਾ ▁ਨੇ ▁ਮਾਈ ਕ ▁' ਤੇ ▁ਆਪਣੇ ▁ਫੈਨ ▁ਨੂੰ ▁ਕਿਹਾ ▁ਕਿ ▁ਇਹ ▁ਤੁਹਾਡੀ ▁ਗਲਤੀ ▁ਨਹੀਂ ▁ਹੈ , ▁ਚ ਲੋ ▁ , ▁ਕੀ ▁ਤੁਸੀਂ ▁ਠੀਕ ▁ਹੋ । ▁ਇਸ ▁ਤੋਂ ▁ਬਾਅਦ ▁ਗਾਗ ਾ ▁ਦੁਬਾਰਾ ▁ਆਪਣੇ ▁ਫੈਨ ▁ਨੂੰ ▁ਸਟੇਜ ਼ ▁' ਤੇ ▁ਲੈ ▁ਕੇ ▁ਜਾਂਦੀ ▁ਹੈ । ▁ਲੇਡੀ ▁ਗਾਗ ਾ ▁ਦਾ ▁ਇਹ ▁ਐਕਸ਼ਨ ▁ਦੇਖ ▁ਕੇ ▁ਪੂਰਾ ▁ਗਰਾਊਂਡ ▁ਉਨ੍ਹਾਂ ▁ਦੀ ▁ਤਾਰੀਫ਼ ▁ਕਰ ▁ਰਿਹਾ ▁ਸੀ । ▁post ed <unk> ▁b y : <unk> ▁a mi ta <unk> ▁v er ma,▁x x bo s ▁ ⁄ ▁ਮਨੋਰੰਜਨ ▁ ⁄ ▁ਬਾਲੀਵੁੱਡ ▁ਨਸੀਰ ੂਦੀਨ ▁ਸ਼ਾਹ ▁ਦੇ ▁ਬਿਆਨ ▁' ਤੇ ▁ਹੰਗਾਮ ਾ , ▁ ਪਾਕਿ ▁ਦਾ ▁ਹੋਇਆ ▁ਟਿਕਟ ▁ਬੁੱਕ <unk> ▁p ub lish <unk> ▁d ate : f ri , ▁21 ▁de c ▁2018 ▁ 05 : 10 <unk> ▁p m ▁( i <unk> st ) ▁ਨਸੀਰ ੂਦੀਨ ▁ਸ਼ਾਹ ▁ਦਾ ▁ਇਕ ▁ਵੀਡੀਓ ▁ਵਾਇਰਲ ▁ਹੋ ▁ਰਿਹਾ ▁ਹੈ ▁ਜਿਸ ▁' ਚ ▁ਉਨ੍ਹਾਂ ▁ਦੇ ▁ਦਿੱਤੇ ▁ਗਏ ▁ਬਿਆਨ ▁ਨੂੰ ▁ਲੈ ▁ਕੇ ▁ਕਾਫੀ ▁ਹੰਗਾਮ ਾ ▁ਮਚ ▁ਗਿਆ ▁ਹੈ । ▁ਨਸੀਰ ▁ਦੇ ▁ਬਿਆਨ ▁ਤੋਂ ▁ਬਾਅਦ ▁ਕਿਤੇ ▁ਦੇਸ਼ ▁' ਚ ▁ਅ ਸਹਿਣ ਸ਼ੀਲਤਾ ▁ਦੀ ▁ਕੋਈ ▁ਵਾਪਸੀ ▁ਤਾਂ ▁ਨਹੀਂ ▁ਹੋ ▁ਰਹੀ ▁ਮੁੰਬਈ - ▁ਨਸੀਰ ੂਦੀਨ ▁ਸ਼ਾਹ ▁ਦਾ ▁ਇਕ ▁ਵੀਡੀਓ ▁ਵਾਇਰਲ ▁ਹੋ ▁ਰਿਹਾ ▁ਹੈ ▁ਜਿਸ ▁' ਚ ▁ਉਨ੍ਹਾਂ ▁ਦੇ ▁ਦਿੱਤੇ ▁ਗਏ ▁ਬਿਆਨ ▁ਨੂੰ ▁ਲੈ ▁ਕੇ ▁ਕਾਫੀ ▁ਹੰਗਾਮ ਾ ▁ਮਚ ▁ਗਿਆ ▁ਹੈ । ▁ਨਸੀਰ ▁ਦੇ ▁ਬਿਆਨ ▁ਤੋਂ ▁ਬਾਅਦ ▁ਕਿਤੇ ▁ਦੇਸ਼ ▁' ਚ ▁ਅ ਸਹਿਣ ਸ਼ੀਲਤਾ ▁ਦੀ ▁ਕੋਈ ▁ਵਾਪਸੀ ▁ਤਾਂ ▁ਨਹੀਂ ▁ਹੋ ▁ਰਹੀ ▁ਹੈ । ▁ਨਸੀਰ ▁ਪਿਛਲੇ ▁ਕੁਝ ▁ਦਿਨਾਂ ▁ਤੋਂ ▁ਚਰਚਾ ▁' ਚ ▁ਹੈ । ▁ਪਹਿਲਾਂ ▁ਉਨ੍ਹਾਂ ▁ਟੀਮ ▁ਇੰਡੀਆ ▁ਦੇ ▁ਕਪਤਾਨ ▁ਵਿਰਾਟ ▁ਕੋਹਲੀ ▁ਖਿਲਾਫ਼ ▁ਟਿੱਪਣੀ ▁ਕਰਦਿਆਂ ▁ਕਿਹਾ , ▁' ▁ਉਹ ▁ਨਾ ▁ਸਿਰਫ ▁ਦੁਨੀਆ ▁ਦਾ ▁ਵਧੀਆ ▁ਬੱਲੇਬਾਜ਼ ▁ਹੈ ▁ਬਲਕਿ ▁ਉਹ ▁ਦੁਨੀਆ ▁ਦਾ ▁ਸਭ ▁ਤੋਂ ▁ਖਰਾਬ ▁ਵਰਤ ਾਅ ▁ਕਰਨ ▁ਵਾਲਾ ▁ਖਿਡਾਰੀ ▁ਹੈ । ▁ਉਨ੍ਹਾਂ ▁ਦੇ ▁ਗਲਤ ▁ਵਰਤ ਾਅ ▁ਸਾਹਮਣੇ ▁ਉਨਾਂ ▁ਦੀ ▁ਇਸ ▁ਖੇਡ ▁ਦੀ ▁ਮਹਾਨਤਾ ▁ਫੀ ਕੀ ▁ਲੱਗਣ ▁ਲੱਗਦੀ ▁ਹੈ । ' ▁ਦੂਜਾ ▁ਵਿਵਾਦ ▁ਹੋਇਆ ▁ਹੈ ▁ਨਸੀਰ ▁ਦੇ ▁ਵੀਡੀਓ ▁ਨੂੰ ▁ਲੈ ▁ਕੇ । ▁' ਕਾਰ ਵਾਂ - ਏ - ਮੁਹ ੰਬ ਤ ▁ਇੰਡੀਆ ' ▁ਦੇ ▁ਇਕ ▁ਵੀਡੀਓ ▁ਇੰਟਰਵਿਊ ▁' ਚ ▁ਨਸੀਰ ▁ਨੇ ▁ਭੀੜ ▁ਦੀ ▁ਹਿੰਸਾ ▁ਨੂੰ ▁ਲੈ ▁ਕੇ ▁ਟਿੱਪਣੀ ▁ਕਰਦਿਆਂ ▁ਕਿਹਾ ▁ਕਿ ▁ਕਈ ▁ਥਾਵਾਂ ▁' ਤੇ ▁ਇਕ ▁ਗਾਂ ▁ਦੀ ▁ਮੌਤ ▁ਨੂੰ ▁ਇਕ ▁ਪੁਲਿਸ ▁ਅਧਿਕਾਰੀ ▁ਦੀ ▁ਹੱਤਿਆ ▁ਨਾਲ ▁ਜ਼ਿਆਦਾ ▁ਤਵੱਜੋ ▁ਦਿੱਤੀ ▁ਗਈ ▁ਹੈ । ▁ਕਈ ▁ਰਾਜਨੀਤਕ ▁ਦਲ ▁ਨਸੀਰ ੂਦੀਨ ▁ਸ਼ਾਹ ▁ਦੀ ▁ਅਲੋਚਨਾ ▁ਕਰ ▁ਰਹੇ ▁ਹਨ ▁ਤੇ ▁ਕੁਝ ▁ਬਿਆਨ ▁ਦਾ ▁ਸਮਰਥਨ ▁ਵੀ ▁ਕਰ ▁ਰਹੇ ▁ਹਨ ▁ਪਰ ▁ਹੁਣ ▁ਉੱਤਰ ▁ਪ੍ਰਦੇਸ਼ ▁ਨਵ - ਨਿਰਮਾਣ ▁ਸੈਨਾ ▁ਦੇ ▁ਮੁਖੀ ▁ਅਮਿਤ ▁ਜਾਨੀ ▁ਨੇ ▁ਨਸੀਰ ੂਦੀਨ ▁ਸ਼ਾਹ ▁ਲਈ ▁ਪਾਕਿਸਤਾਨ ▁ਦੀ ▁ਟਿਕਟ ▁ਬੁੱਕ ▁ਕਰਵਾ ▁ਦਿੱਤੀ ▁ਹੈ ।,▁x x bo s ▁ਮਾਸਟਰ ▁ਹੈੱਡ <unk> ▁p ub lish <unk> ▁d ate : m on , ▁20 <unk> ▁a ug ▁2018 ▁10 : 24 <unk> ▁p m ▁( i <unk> st ) ▁ਇੰਡੋਨੇਸ਼ੀਆ ▁ਦੇ ▁ਰਾਸ਼ਟਰਪਤੀ ▁ਜੋ ਕੋ ▁ਜੋ ਕੋਵ ੀ ▁ਵਿ ਡੋ ਡੋ ▁ਨੇ ▁ਇੰਡੋਨੇਸ਼ੀਆ ▁ਦੀ ▁ਵੁ ਸ਼ੂ ▁ਐਥਲੀਟ ▁ਲ ਿੰਡ ਸ ਵੇਲ ▁ਕਵ ੋਕ ▁ਨੂੰ ▁ਏਸ਼ੀਆ ▁ਦੀ ▁ਕ ▁ਇੰਡੋਨੇਸ਼ੀਆ ▁ਦੇ ▁ਰਾਸ਼ਟਰਪਤੀ ▁ਜੋ ਕੋ ▁ਜੋ ਕੋਵ ੀ ▁ਵਿ ਡੋ ਡੋ ▁ਨੇ ▁ਇੰਡੋਨੇਸ਼ੀਆ ▁ਦੀ ▁ਵੁ ਸ਼ੂ ▁ਐਥਲੀਟ ▁ਲ ਿੰਡ ਸ ਵੇਲ ▁ਕਵ ੋਕ ▁ਨ ▁ਇੰਡੋਨੇਸ਼ੀਆ ▁ਦੇ ▁ਰਾਸ਼ਟਰਪਤੀ ▁ਜੋ ਕੋ ▁ਜੋ ਕੋਵ ੀ ▁ਵਿ ਡੋ ਡੋ ▁ਨੇ ▁ਇੰਡੋਨੇਸ਼ੀਆ ▁ਦੀ ▁ਵੁ ਸ਼ੂ ▁ਐਥਲੀਟ ▁ਲ ਿੰਡ ਸ ਵੇਲ ▁ਕਵ ੋਕ ▁ਨੂੰ ▁ਏਸ਼ੀਆ ▁ਦੀ ▁ਕਵੀ ਨ ▁ਦੱਸਿਆ । ▁ਲ ਿੰਡ ਸ ਵੇਲ ▁ਨੇ ▁ਏਸ਼ੀਅਨ ▁ਖੇਡਾਂ ▁ਵਿਚ ▁ਦੂਜਾ ▁ਗੋਲਡ ▁ਮੈਡਲ ▁ਜਿੱਤਿਆ ▁ਹੈ ।,▁x x bo s ▁ਟੀਵੀ ਐੱਸ ▁ਮੋਟਰ ▁ਦਾ ▁ਮੁਨਾਫ਼ਾ ▁ਵਧ ▁ਕੇ ▁ਹੋਇਆ ▁15 4. 3 ▁ਕਰੋੜ ▁ਰੁਪਏ <unk> ▁p ub lish <unk> ▁d ate : t u e , ▁30 <unk> ▁2018 ▁ 04 : 20 <unk> ▁p m ▁( i <unk> st ) ▁ਨਵੀਂ ▁ਦਿੱਲੀ ▁( ਏ ਜ ੰਸ ੀ ) ▁: ▁ਵਿੱਤੀ ▁ਸਾਲ ▁2018 ▁ਦੀ ▁ਤੀਜੀ ▁ਤਿਮਾਹੀ ▁' ਚ ▁ਟੀਵੀ ਐੱਸ ▁ਮੋਟਰ ▁ਦਾ ▁ਮੁਨਾਫ਼ਾ ▁16 . 3 ▁ਫ਼ੀਸਦੀ ▁ਵਧ ▁ਕੇ ▁15 4. 3 ▁ਕਰੋ ੋ ੜ ▁ਰੁਪਏ ▁ਹੋ ▁ਗਿਆ ▁ਹੈ । ▁ਪਿਛਲੇ ▁ਸਾਲ ▁ਇਸ ▁ਦਾ ▁ਮੁਨਾਫ਼ਾ ▁132 . 7 ▁ਕਰੋੜ ▁ਰੁਪਏ ▁ਰਿਹਾ ▁ਸੀ । ▁ਵਿੱਤੀ ▁ਸਾਲ ▁ਨਵੀਂ ▁ਦਿੱਲੀ ▁( ਏ ਜ ੰਸ ੀ ) ▁: ▁ਵਿੱਤੀ ▁ਸਾਲ ▁2018 ▁ਦੀ ▁ਤੀਜੀ ▁ਤਿਮਾਹੀ ▁' ਚ ▁ਟੀਵੀ ਐੱਸ ▁ਮੋਟਰ ▁ਦਾ ▁ਮੁਨਾਫ਼ਾ ▁16 . 3 ▁ਫ਼ੀਸਦੀ ▁ਵਧ ▁ਕੇ ▁15 4. 3 ▁ਕਰੋ ੋ ੜ ▁ਰੁਪਏ ▁ਹੋ ▁ਗਿਆ ▁ਹੈ । ▁ਪਿਛਲੇ ▁ਸਾਲ ▁ਇਸ ▁ਦਾ ▁ਮੁਨਾਫ਼ਾ ▁132 . 7 ▁ਕਰੋੜ ▁ਰੁਪਏ ▁ਰਿਹਾ ▁ਸੀ । ▁ਵਿੱਤੀ ▁ਸਾਲ ▁2018 ▁ਦੀ ▁ਤੀਜੀ ▁ਤਿਮਾਹੀ ▁' ਚ ▁ਟੀਵੀ ਐੱਸ ▁ਮੋਟਰ ▁ਦੀ ▁ਆਮਦਨ ▁23 . 5 ▁ਫ਼ੀਸਦੀ ▁ਵਧ ▁ਕੇ ▁3 , 6 85 ▁ਕਰੋੜ ▁ਰੁਪਏ ▁ਪਹੁੰਚ ▁ਗਈ ▁ਹੈ । ▁ਉਥੇ ▁ਪਿਛਲੇ ▁ਸਾਲ ▁ਟੀਵੀ ਐੱਸ ▁ਮੋਟਰ ▁ਦੀ ▁ਆਮਦਨ ▁2 , 983 .4 ▁ਕਰੋੜ ▁ਰੁਪਏ ▁ਰਹੀ ▁ਸੀ । ▁ਸਾਲਾਨਾ ▁ਆਧਾਰ ▁' ਤੇ ▁ਤੀਜੀ ▁ਤਿਮਾਹੀ ▁' ਚ ▁ਟੀਵੀ ਐੱਸ ▁ਮੋਟਰ ▁ਦਾ ▁ਐ ਵਿਟ ਡਾ ▁2 18 . 5 ▁ਕਰੋੜ ▁ਰੁਪਏ ▁ਤੋਂ ▁ਵਧ ▁ਕੇ ▁28 6. 8 ▁ਕਰੋੜ ▁ਰੁਪਏ ▁ਰਿਹਾ ▁ਹੈ । ▁ਸਾਲ ▁ਦਰ ▁ਸਾਲ ▁ਆਧਾਰ ▁' ਤੇ ▁ਤੀਜੀ ▁ਤਿਮਾਹੀ ▁' ਚ ▁ਟੀਵੀ ਐੱਸ ▁ਮੋਟਰ ▁ਦਾ ▁ਐ ਵਿਟ ਡਾ ▁ਮਾਰ ਿਜ ਿਜ਼ ▁7. 3 ▁ਫ਼ੀਸਦੀ ▁ਤੋਂ ▁ਵਧ ▁ਕੇ ▁7. 8 ▁ਫ਼ੀਸਦੀ ▁ਰਿਹਾ ▁ਹੈ । ▁ਟੀਵੀ ਐੱਸ ▁ਮੋਟਰ ▁ਦਾ ▁ਟੈਕਸ ▁ਖਰਚ ▁37 ▁ਕਰੋੜ ▁ਰੁਪਏ ▁ਤੋਂ ▁ਵਧ ▁ਕੇ ▁56 ▁ਕਰੋੜ ▁ਰੁਪਏ ▁ਰਿਹਾ ▁ਹੈ ▁ਉਥੇ ▁ਘਰੇਲੂ ▁ਬਾਜ਼ਾਰਾਂ ▁' ਚ ▁ਟੀਵੀ ਐੱਸ ▁ਮੋਟਰ ▁ਦੀ ▁2 ▁ਵਹੀ ਲਰ ▁ਦੇ ▁ਐਕਸ ਪੋਰਟ ▁' ਚ ▁38 ▁ਫ਼ੀਸਦੀ ▁ਦਾ ▁ਵਾਧਾ ▁ਦਰਜ ▁ਕੀਤਾ ▁ਗਿਆ ▁ਹੈ । ▁# ▁ news ▁ ता <unk> ा ▁ <unk> र ें,▁x x bo s ▁ ⁄ ▁ਚੋਣਾਂ ▁ ⁄ ▁ਲੋਕ ▁ਸਭਾ ▁ਦਰਿਆ ਈ ▁ਪਾਣੀ ▁ਹੋਇਆ ▁ਜ਼ਹਿਰੀਲਾ , ▁ਨਾ ਮੁਰਾਦ ▁ਬਿਮਾਰੀਆਂ ▁ਨੇ ▁ਪਸਾਰ ੇ ▁ਪੈਰ <unk> ▁p ub lish <unk> ▁d ate : t u e , ▁14 ▁ <unk> <unk> ▁ 2019 ▁11 : 33 <unk> ▁p m ▁( i <unk> st ) ▁ਮਹਿ ਤ ਪੁਰ ▁ਦੇ ▁ਮੰਡ ▁ਖੇਤਰ ▁ਦੇ ▁ਸਤਲੁਜ ▁ਦਰਿਆ ▁ਕੰਢੇ ▁ਵਸਦੇ ▁ਬੂਟੇ ▁ਦੀਆਂ ▁ਛੰਨਾ , ▁ਭੋ ਡੇ , ▁ਕੈਮ ਵਾਲਾ , ▁ਉਮਰ ੇਵਾਲ , ▁ਧਰਮ ੇ ▁ਦੀਆਂ ▁ਛੰਨਾ , ▁ਬਹਿਰ ਾ , ▁ਛੋਲੇ , ▁ਰਾਏਪੁਰ ▁ਗੁੱਜਰਾਂ ▁ਆਦਿ ▁ਪਿੰਡਾਂ ▁ਦੇ ▁ਲੋਕਾਂ ▁ਨੇ ▁ਦੱਸਿਆ ▁ਕਿ ▁ਉਹ ▁ਖੇਤੀ ▁ਅਤੇ ▁ਰੋਜ਼ ਮਰ ੍ਹ ▁ਤੇ ਜਿੰਦਰ ▁ਕੌਰ ▁ਥਿੰਦ ▁/ ▁ਮਨੋਜ ▁ਚੋਪੜਾ , ▁ਜਲੰਧਰ ▁/ ▁ਮਹਿ ਤ ਪੁਰ ▁: ▁ਅੱਜ ▁ਦੇ ▁ਤਕਨੀਕੀ ▁ਯੁੱਗ ▁ਨੇ ▁ਕੁਦਰਤੀ ▁ਸਰੋਤਾਂ ▁ਨੂੰ ▁ਏਨਾ ▁ਗੰਧ ਲਾ ▁ਕਰ ▁ਦਿਤਾ ▁ਹੈ ▁ਕਿ ▁ਨਾ ▁ਪਾਣੀ ▁ਨਿਰਮਲ ▁ਰਿਹਾ ▁ਹੈ ▁ਅਤੇ ▁ਨਾ ▁ਹੀ ▁ਹਵਾ ▁ਸ਼ੁੱਧ । ▁ਮਨੁੱਖ ▁ਨੇ ▁ਆਪਣੀਆਂ ▁ਕਾਢ ਾਂ ▁ਨਾਲ ▁ਇਕ ▁ਪਾਸੇ ▁ਜਿਥੇ ▁ਜੀਵਨ ▁ਨੂੰ ▁ਸੁਖਾ ਲਾ ▁ਬਣਾ ▁ਲਿਆ ▁ਹੈ ▁ਉਥੇ ▁ਦੂਜੇ ▁ਪਾਸੇ ▁ਕੁਦਰਤੀ ▁ਸਰੋਤਾਂ ▁ਨਾਲ ▁ਖਿਲ ਵਾੜ ▁ਕਰ ▁ਕੁਰਦ ਤੀ ▁ਕਰੋ ਪੀ ਆਂ ▁ਅਤੇ ▁ਬਿਮਾਰੀਆਂ ▁ਨੂੰ ▁ਸੱਦਾ ▁ਵੀ ▁ਦਿਤਾ ▁ਹੈ । ▁ਮਹਿ ਤ ਪੁਰ ▁ਦੇ ▁ਮੰਡ ▁ਖੇਤਰ ▁ਦੇ ▁ਸਤਲੁਜ ▁ਦਰਿਆ ▁ਕੰਢੇ ▁ਵਸਦੇ ▁ਬੂਟੇ ▁ਦੀਆਂ ▁ਛੰਨਾ , ▁ਭੋ ਡੇ , ▁ਕੈਮ ਵਾਲਾ , ▁ਉਮਰ ੇਵਾਲ , ▁ਧਰਮ ੇ ▁ਦੀਆਂ ▁ਛੰਨਾ , ▁ਬਹਿਰ ਾ , ▁ਛੋਲੇ , ▁ਰਾਏਪੁਰ ▁ਗੁੱਜਰਾਂ ▁ਆਦਿ ▁ਪਿੰਡਾਂ ▁ਦੇ ▁ਲੋਕਾਂ ▁ਨੇ ▁ਦੱਸਿਆ ▁ਕਿ ▁ਉਹ ▁ਖੇਤੀ ▁ਅਤੇ ▁ਰੋਜ਼ ਮ ਰ੍ਹਾਂ ▁ਦੇ ▁ਜੀਵਨ ▁ਲਈ ▁ਦਰਿਆ ਈ ▁ਪਾਣੀ ▁ਦੀ ▁ਵਰਤੋਂ ▁ਕਰਦੇ ▁ਸਨ । ▁ਅੱਜ ▁ਤੋਂ ▁ਲ ਗਪਗ ▁20 ▁ਸਾਲ ▁ਪਹਿਲਾਂ ▁ਸਤਲੁਜ ▁ਦਰਿਆ ▁ਦਾ ▁ਪਾਣੀ ▁ਏਨਾ ▁ਸਾਫ਼ ▁ਤੇ ▁ਨਿਰਮਲ ▁ਸੀ ▁ਕਿ ▁ਉਸ ▁ਵਿਚ ▁ਸੁੱਟਿਆ ▁ਸਿੱਕਾ ▁ਵੀ ▁ਸਪਸ਼ੱਟ ▁ਨਜ਼ਰ ▁ਆਉਂਦਾ ▁ਸੀ । ▁ਪੀਣ ▁ਵਿਚ ▁ਏਨਾ ▁ਮਿੱਠਾ ▁ਕਿ ▁ਤਨ ▁ਮਨ ▁ਨੂੰ ▁ਤਾ ਜ਼ ਗੀ ▁ਪ੍ਰਦਾਨ ▁ਕਰਦਾ ▁ਸੀ ▁ਪਰ ▁ਪਿਛਲੇ ▁17 ▁ਕੁ ▁ਸਾਲਾਂ ▁ਤੋਂ ▁ਲੁਧਿਆਣਾ ▁ਦੇ ▁ਬੁੱਢੇ ▁ਨਾਲ ੇ ▁ਦਾ ▁ਗੰਧ ਲਾ ▁ਪਾਣੀ ▁ਦਰਿਆ ▁ਵਿਚ ▁ਪੈਣ ▁ਕਾਰਨ ▁ਦਰਿਆ ▁ਦਾ ▁ਪਾਣੀ ▁ਏਨਾ ▁ਜ਼ਹਿਰੀਲਾ ▁ਅਤੇ ▁ਗ ੰਦਾ ▁ਹੋ ▁ਗਿਆ ▁ਕਿ ▁ਇਸ ▁ਵਿਚਲੇ ▁ਜੀਵ ▁ਖਤਮ ▁ਹੋ ▁ਗਏ ▁ਹਨ । ▁ਜੇ ▁ਬੁੱਢੇ ▁ਨਾਲ ੇ ▁ਦੀ ▁ਗੱਲ ▁ਕਰ ੀਂ ਏ ▁ਤਾਂ ▁ਕਹਿਣ ▁ਨੂੰ ▁ਭਾਵੇਂ ▁ਇਹ ▁ਨਾਲ ਾ ▁ਹੈ ▁ਪਰ ▁ਅੱਜ ▁ਤੋਂ ▁18 ▁ਕੁ ▁ਸਾਲ ▁ਪਹਿਲਾਂ ▁ਇਸ ▁ਦਾ ▁ਪਾਣੀ ▁ਏਨਾ ▁ਸਾਫ ▁ਸੁਥਰਾ ▁ਸੀ ▁ਕਿ ▁ਉਸ ▁ਦੇ ▁ਧਰਾਤਲ ▁' ਤੇ ▁ਡਿੱਗ ੀ ▁ਕੋਈ ▁ਚੀਜ਼ ▁ਸਪਸ਼ਟ ▁ਨਜ਼ਰ ▁ਨਾ ▁ਜਾਂਦੀ ▁ਸੀ । ▁ਜਦੋਂ ▁ਇਸ ▁ਦੇ ▁ਕੰਢੇ ▁' ਤੇ ▁ਡਾਈ ▁ਦੀਆਂ ▁ਫੈਕਟਰੀਆਂ ▁ਸ਼ੁਰੂ ▁ਹੋਈਆਂ ▁ਤੇ ▁ਉਨ੍ਹਾਂ ▁ਵਿਚੋਂ ▁ਨਿਕਲਣ ▁ਵਾਲਾ ▁ਵੈਸਟ ▁ਇਸ ▁ਨਾਲ ੇ ▁ਵਿਚ ▁ਪਾਇਆ ▁ਜਾਣ ▁ਲੱਗਾ ▁ਤਾਂ ▁ਇਹ ▁ਪਾਣੀ ▁ਤੇਜਾਬ ੀ ▁ਹੋਣ ▁ਲੱਗ ▁ਪਿਆ । ▁ਹੁਣ ▁ਹਾਲਾਤ ▁ਏਨੇ ▁ਬਦਤਰ ▁ਹੋ ▁ਗਏ ▁ਹਨ ▁ਕਿ ▁ਬੱ ਢੇ ▁ਨਾਲ ▁ਦੇ ▁ਨਾਲ ▁ਸਤਲੁਜ ▁ਦਰਿਆ ▁ਦਾ ▁ਪਾਣੀ ▁ਵੀ ▁ਬੁਰੀ ▁ਤਰ੍ਹਾਂ ▁ਪਲੀ ਤ ▁ਹੋ ▁ਗਿਆ ▁ਹੈ । ▁ਦਰਿਆ ਈ ▁ਜੀਵ ▁ਖਤਮ ▁ਹੋ ▁ਚੁੱਕੇ ▁ਹਨ । ▁ਨਿਰਮਲ ▁ਪਾਣੀ ▁ਕਾਲਾ ▁ਤੇ ▁ਜ਼ਹਿਰੀਲਾ ▁ਹੋ ▁ਗਿਆ ▁ਹੈ । ▁ਜਿਸ ▁ਕਾਰਨ ▁ਜ਼ਮੀਨ ▁ਵਿਚਲਾ ▁ਉਪਜਾਊ ਪਨ ▁ਅਤੇ ▁ਜ਼ਮੀਨ ▁ਹੇਠਲੇ ▁ਪਾਣੀ ▁ਵਿਚ ▁ਵੀ ▁ਇਹ ▁ਜ਼ਹਿਰੀਲੇ ▁ਤੱਤ ▁ਮਿਲ ▁ਚੁੱਕੇ ▁ਹਨ । ▁ਕਦੇ ▁ਇਸ ▁ਇਲਾਕੇ ▁ਵਿਚ ▁5 ▁ਫੁੱਟ ▁' ਤੇ ▁ਵੀ ▁ਸਾਫ ▁ਤੇ ▁ਪੀਣ ਯੋਗ ▁ਪਾਣੀ ▁ਸੀ ▁ਪਰ ▁ਹੁਣ ▁350 ▁ਫੁੱਟ ▁' ਤੇ ▁ਪਾਣੀ ▁ਗੰਧ ਲਾ ▁ਹੈ । ▁ਪਰ ▁ਇਥੋ ਂ ▁ਦੇ ▁ਲੋਕ ▁ਇਹ ▁ਪਾਣੀ ▁ਪੀਣ ▁ਲਈ ▁ਮਜਬੂਰ ▁ਹਨ । ▁ਜਿਸ ▁ਕਾਰਨ ▁ਇਸ ▁ਇਲਾਕੇ ▁ਵਿਚ ▁ਭਿਆਨਕ ▁ਅਤੇ ▁ਨਾ ਮੁਰਾਦ ▁ਬਿਮਾਰੀਆਂ ▁ਲਗਾਤਾਰ ▁ਪੈ ਸ ▁ਪਸਾਰ ▁ਰਹੀਆਂ ▁ਹਨ । ▁ਇਲਾਕੇ ▁ਦੇ ▁ਲੋਕਾਂ ▁ਨੇ ▁ਦੱਸਿਆ ▁ਕਿ ▁ਕਦੇ ▁ਸਾਫ ▁ਤੇ ▁ਸ਼ੁੱਧ ▁ਹਵਾ ▁ਅਤੇ ▁ਬੁਰੀ ▁ਤਰ੍ਹਾਂ ▁ਪਲੀ ਤ ▁ਹੋ ▁ਚੁੱਕੀ ▁ਹੈ । ▁ਦਰਿਆ ▁ਦੇ ▁ ਗੰਦੇ ▁ਪਾਣੀ ▁ਬਦ ਬੂ ▁ਨਾਲ ▁ਉਥੇ ▁ਰਹਿਣਾ ▁ਮੁਸ਼ਕਲ ▁ਹੋਇਆ ▁ਪਿਆ ▁ਹੈ । ▁ਇਸ ▁ਹਵਾ ▁ਨਾਲ ▁ਚਮੜੀ ▁ਅਤੇ ▁ਅੱਖਾਂ ▁ਦੇ ▁ਰੋਗਾਂ ▁ਵਿਚ ▁ਵੱਡੀ ▁ਪੱਧਰ ▁' ਤੇ ▁ਇ ਜਾ ਫਾ ▁ਹੋਇਆ ▁ਹੈ । ▁ਧੁੱ ਸੀ ▁ਬੰਨ੍ਹ ▁' ਤੇ ▁ਕੰਢੇ ▁ਦਰਿਆ ▁ਦੇ ▁ਬੰਨੇ ▁ਬੰਨੇ ▁ਵੱਸ ਦੇ ▁ਇਨ੍ਹਾਂ ▁ਪਿੰਡਾਂ ▁ਵਿਚ ▁ਕੋਈ ▁ਅਜਿਹਾ ▁ਘਰ ▁ਨਹੀਂ ▁ਜਿਸ ▁ਦਾ ▁ਇਕ ▁ਜੀਅ ▁ਵੀ ▁ਪੱਥਰ ੀਆਂ ▁ਦੀਆਂ ▁ਬਿਮਾਰੀਆਂ ▁ਤੋਂ ▁ਬਚਿਆ ▁ਹੋਵੇ । ▁ਜਿਗਰ ▁ਦੇ ▁ਰੋਗ ▁ਅਤੇ ▁ਕਾਲਾ ▁ਪੀ ਲੀਆ ▁ਵਰਗੀਆਂ ▁ਬਿਮਾਰੀਆਂ ▁ਨੇ ▁ਵੀ ▁ਭਿਆਨਕ ▁ਰੂਪ ▁ਧਾਰਨ ▁ਕੀਤਾ ▁ਹੋਇਆ ▁ਹੈ । ▁ਹੁਣ ▁ਤਾਂ ▁ਕੈਂਸਰ ▁ਵਰਗੀ ▁ਨਾ ਮੁਰਾਦ ▁ਬਿਮਾਰੀ ▁ਨੇ ▁ਵੀ ▁ਵੱਡੇ ▁ਪੱਧਰ ▁' ਤੇ ▁ਇਲਾਕੇ ▁ਵਿਚ ▁ਪੈਰ ▁ਪਸਾਰ ▁ਲਏ ▁ਹਨ । ▁ਸਭ ▁ਤੋਂ ▁ਵੱਡੀ ▁ਪਰੇਸ਼ਾਨੀ ▁ਤਾਂ ▁ਇਹ ▁ਹੈ ▁ਕਿ ▁ਇਨ੍ਹਾਂ ▁ਪਿੰਡਾਂ ▁ਵਿਚ ▁ਰਹਿਣ ▁ਵਾਲੇ ▁ਲੋਕ ▁ਆਰਥਕ ▁ਪੱਖੋਂ ▁ਬਹੁਤੇ ▁ਮਜਬੂਤ ▁ਨਹੀਂ ▁ਹਨ ▁ਕਿ ▁ਇਲਾਜ ▁ਲਈ ▁ਪੈਸਾ ▁ਪਾਣੀ ▁ਵਾਂਗ ▁ਵਹਾ ▁ਸਕਣ , ▁ਸੋ ▁ਬਿਮਾਰੀਆਂ ▁ਨਾਲ ▁ਹੋਣ ▁ਵਾਲੀਆਂ ▁ਮੌਤਾਂ ▁ਨੂੰ ▁ਰੱਬ ▁ਦਾ ▁ਭਾਣਾ ▁ਮੰਨ ▁ਕੇ ▁ਵੱਡੇ ▁ਜਿਗਰ ੇ ▁ਨਾਲ ▁ਸਬ ਰ ▁ਕਰ ▁ਲੈਂਦੇ ▁ਹਨ । ▁ਇਨ੍ਹਾਂ ▁ਪਿੰਡ ਾ ▁ਦੇ ▁ਲੋਕਾਂ ▁ਦਾ ▁ਕਹਿਣਾ ▁ਕਿ ▁ਲ ਗਪਗ ▁50 ▁ਸਾਲ ▁ਪਹਿਲਾਂ ▁ਜਦੋਂ ▁ਇਹ ▁ਲੋਕ ▁ਇਥੇ ▁ਆਣ ▁ਕੇ ▁ਵੱਸੇ ▁ਸਨ ▁ਤਾਂ ▁ਦਰਿਆ ▁ਇਨ੍ਹਾਂ ▁ਤੋਂ ▁ਲ ਗਪਗ ▁ਡੇਢ ▁ਕਿਲੋਮੀਟਰ ▁ਦੂਰ ▁ਵਹਿੰਦ ਾ ▁ਸੀ ▁ਪਰ ▁ਲਗਾਤਾਰ ▁ਦਰਿਆ ▁ਵਿਚ ▁ਰੇਤ ਾ ▁ਦਾ ▁ਵੱਡੇ ▁ਪੱਧਰ ▁' ਤੇ ▁ਕੱਢੇ ▁ਜਾਣ ▁ਨਾਲ ▁ਮੌਜੂਦਾ ▁ਹਾਲਾਤ ▁ਇਹ ▁ਹੋ ▁ਗਏ ▁ਹਨ ▁ਦਰਿਆ ▁ਇਨ੍ਹਾਂ ▁ਤੋਂ ▁500 ▁ਮੀਟਰ ▁ਦੀ ▁ਦੂਰੀ ▁' ਤੇ ▁ਹੈ ▁ਤੇ ▁ਜੇ ▁ਲਗਾਤਾਰ ▁ਇਸੇ ▁ਤਰ੍ਹਾਂ ▁ਜੰਗੀ ▁ਪੱਧਰ ▁' ਤੇ ▁ਨਾਜਾਇਜ਼ ▁ਰੇਤ ਾ ▁ਦੀ ▁ਮਾਈ ਨਿੰਗ ▁ਹੁੰਦੀ ▁ਰਹੀ ▁ਤਾਂ ▁ਆਉਂਦੇ ▁8 ▁ -10 ▁ਮਹੀਨਿਆਂ ▁ਵਿਚ ▁ਇਨ੍ਹਾਂ ▁ਨੂੰ ▁ਘਰ ੋ ▁ਬੇਘਰ ▁ਹੋਣਾ ▁ਪੈ ▁ਜਾਣਾ ▁ਹੈ । ▁ਉਨ੍ਹਾਂ ▁ਸਰਕਾਰਾਂ ▁ਤੋਂ ▁ਮੰਗ ▁ਕੀਤੀ ▁ਕਿ ▁ਜਲਦ ▁ਤੋਂ ▁ਜਲਦ ▁ਲੁਧਿਆਣਾ ▁ਦੇ ▁ਬੁੱਢੇ ▁ਨਾਲ ੇ ▁ਵਿਚ ▁ਡਾਈ ▁ਦੀਆਂ ▁ਫੈਕਟਰੀਆਂ ▁ਦੀ ▁ਵੇਸਟ ੇਜ਼ ▁ਬੰਦ ▁ਕਰਵਾਈ ▁ਜਾਵੇ ▁ਤਾਂ ▁ਜੋ ▁ਬੁੱਢੇ ▁ਨਾਲ ੇ ▁ਵਿਚ ▁ਤੇਜ਼ਾਬ ▁ਦੀ ▁ਮਿਲਾਵਟ ▁ਰੁਕ ▁ਸਕੇ । ▁ਜੇ ▁ਇਹ ▁ਤੇਜ਼ਾਬ ੀ ▁ਮਿਲਾਵਟ ▁ਨਾ ▁ਰੋਕੀ ▁ਗਈ ▁ਤਾਂ ▁ਉਨ੍ਹਾਂ ▁ਦੇ ▁ਨਾਲ ▁ਨਾਲ ▁ਦਰਿਆ ▁ਦੇ ▁ਨਾਲ ▁ਵੱਸ ਦੇ ▁ਉਨ੍ਹਾਂ ▁ਤੋਂ ▁ਅਗਲੇ ▁ਇਲਾਕੇ ▁ਦੇ ▁ਪਿੰਡਾਂ ▁ਦੇ ▁ਰਹਿਣ ▁ਵਾਲੇ ▁ਲੋਕਾਂ ▁ਦਾ ▁ਵੀ ▁ਜੀ ਉਣਾ ▁ਦੁਸ਼ ਵਾਰ ▁ਹੋ ▁ਜਾਵੇਗਾ । ▁ਮਾਈ ਨਿੰਗ ▁ਨੂੰ ▁ਵੀ ▁ਠ ੱਲ੍ਹ ▁ਪਾਈ ▁ਜਾਵੇ ▁ਤਾਂ ▁ਜੋ ▁ਉਨ੍ਹਾਂ ▁ਨੂੰ ▁ਇਥੋ ਂ ▁ਉਜੜ ਣਾ ▁ਨਾ ▁ਪਵੇ । ▁post ed <unk> ▁b y : <unk> j it <unk>\n",
              "y: LMLabelList\n",
              ",,,,\n",
              "Path: .;\n",
              "\n",
              "Test: LabelList (312 items)\n",
              "x: LMTextList\n",
              "▁x x bo s ▁ਪ੍ਰਸ਼ਾਸਨ ▁ਨੇ ▁ਡਾ . ▁ਧਰਮਵੀਰ ▁ਗਾਂਧੀ ▁ਦੇ ▁ਨਾਂ ▁' ਤੇ ▁ਲਾਈ ▁ਚੇ ਪੀ <unk> ▁p ub lish <unk> ▁d ate : t hu , ▁11 <unk> ▁a pr ▁ 2019 ▁ 08 : 45 <unk> ▁p m ▁( i <unk> st ) ▁ਡਾ . ▁ਧਰਮਵੀਰ ▁ਗਾਂਧੀ ▁ਨੇ ▁ਆਪਣੇ ▁ਨਾਂ ▁' ਤੇ ▁ਲਾਈ ▁ਚੇ ਪੀ ▁ਤੋਂ ▁ਭੜਕ ਦਿਆਂ ▁ਪ੍ਰਸ਼ਾਸਨ ▁ਦੀ ▁ਇਸ ▁ਕਾਰਵਾਈ ▁ਦੀ ▁ਨਿਖੇਧੀ ▁ਕੀਤੀ ▁ਹੈ । ▁ਡਾ . ▁ਗਾਂਧੀ ▁ਨੇ ▁ਦੋਸ਼ ▁ਲਾਇਆ ▁ਕਿ ▁ਪ੍ਰਸ਼ਾਸਨ ▁ਸਿਆਸੀ ▁ਦਬਾਅ ▁ਹੇਠ ▁ਅਜਿਹੀ ▁ਕਾਰਵਾਈ ▁ਨੂੰ ▁ਅੰਜਾਮ ▁ਦੇ ▁ਰਿਹਾ ▁ਹੈ । ▁ਨਵ ਦੀਪ ▁ਢੀਂਗਰਾ , ▁ਪਟਿਆਲਾ ▁: ▁ਮੈਂਬਰ ▁ਪਾਰਲੀਮੈਂਟ ▁ਵੱਲੋਂ ▁ਆਪਣੇ ▁ਲੈਂਡ ▁ਫੰਡ ▁' ਚੋਂ ▁ਪਿੰਡਾਂ ▁ਨੂੰ ▁ਦਿੱਤੇ ▁ਗਏ ▁ਪਾਣੀ ▁ਦੇ ▁ਟੈਂਕ ਰਾਂ ▁ਉਪਰ ▁ਛਪੇ ▁ਐੱਮ ਪੀ ▁ਦੇ ▁ਨਾਂ ▁' ਤੇ ▁ਪ੍ਰਸ਼ਾਸਨ ▁ਨੇ ▁ਚੇ ਪੀ ▁ਲਗਾ ▁ਦਿੱਤੀ ▁ਹੈ । ▁ਡਾ . ▁ਧਰਮਵੀਰ ▁ਗਾਂਧੀ ▁ਨੇ ▁ਆਪਣੇ ▁ਨਾਂ ▁' ਤੇ ▁ਲਾਈ ▁ਚੇ ਪੀ ▁ਤੋਂ ▁ਭੜਕ ਦਿਆਂ ▁ਪ੍ਰਸ਼ਾਸਨ ▁ਦੀ ▁ਇਸ ▁ਕਾਰਵਾਈ ▁ਦੀ ▁ਨਿਖੇਧੀ ▁ਕੀਤੀ ▁ਹੈ । ▁ਡਾ . ▁ਗਾਂਧੀ ▁ਨੇ ▁ਦੋਸ਼ ▁ਲਾਇਆ ▁ਕਿ ▁ਪ੍ਰਸ਼ਾਸਨ ▁ਸਿਆਸੀ ▁ਦਬਾਅ ▁ਹੇਠ ▁ਅਜਿਹੀ ▁ਕਾਰਵਾਈ ▁ਨੂੰ ▁ਅੰਜਾਮ ▁ਦੇ ▁ਰਿਹਾ ▁ਹੈ । ▁ਡਾ . ▁ਗਾਂਧੀ ▁ਨੇ ▁ਕਿਹਾ ▁ਕਿ ▁ਅੱਗ ▁ਬੁਝ ਾਉਣ ▁ਲਈ ▁ਪਾਣੀ ▁ਦੇ ▁ਟੈਂਕ ਰ ▁ਚੋਣ ▁ਜ਼ਾਬ ਤਾ ▁ਲਾਗੂ ▁ਹੋਣ ▁ਤੋਂ ▁ਪਹਿਲਾਂ ▁ਦਿੱਤੇ ▁ਗਏ ▁ਸਨ । ▁ਇਸ ▁ਉਪਰ ▁ਸਬੰਧਤ ▁ਮੈਂਬਰ ▁ਪਾਰਲੀਮੈਂਟ ▁ਦਾ ▁ਨਾਂ ▁ਐੱਮ ਪੀ ▁ਲੈਂਡ ▁ਦੇ ▁ਨਿਯਮਾਂ ▁ਮੁਤਾਬਕ ▁ਲਿਖਿਆ ▁ਗਿਆ ▁ਸੀ । ▁ਡਾ . ▁ਗਾਂਧੀ ▁ਨੇ ▁ਕਿਹਾ ▁ਕਿ ▁ਹੋਰਨਾਂ ▁ਥਾਵਾਂ ▁' ਤੇ ▁ਨੀਂਹ ▁ਪੱਥਰਾਂ ▁ਅਤੇ ▁ਐੱਮ ਪੀ ▁ਲੈਂਡ ▁ਦੀਆਂ ▁ਲਿਖਤਾਂ ▁ਨੂੰ ▁ਨਹੀਂ ▁ਮਿਟਾਇਆ ▁ਗਿਆ । ▁ਮੰਤਰੀਆਂ , ▁ਮੁੱਖ ▁ਮੰਤਰੀਆਂ ▁ਦੇ ▁ਨਾਂ ▁ਉਸੇ ▁ਤਰ੍ਹਾਂ ▁ਮੌਜੂਦ ▁ਹਨ । ▁ਇਸ ▁ਸਬੰਧੀ ▁ਡਾ . ▁ਗਾਂਧੀ ▁ਨੇ ▁ਇਕ ▁ਚਿੱਠੀ ▁ਮੁੱਖ ▁ਚੋਣ ▁ਅਫਸਰ ▁ਨੂੰ ▁ਲਿਖੀ ▁ਹੈ , ▁ਜਿਸ ▁ਵਿਚ ▁ਉਨ੍ਹਾਂ ▁ਮਾਮਲੇ ▁ਦੀ ▁ਜਾਂਚ ▁ਕਰਵਾਉਣ ▁ਦੀ ▁ਮੰਗ ▁ਕੀਤੀ ▁ਹੈ । ▁ਨਾਂ ▁ਦੁਬਾਰਾ ▁ਲਿਖ ੋ ▁ਜਾਂ ▁ ਸਾਰਿਆਂ ▁ਦੇ ▁ਮਿਟਾ ਏ ▁ਜਾਣ ▁: ▁ਡਾ . ▁ਗਾਂਧੀ ▁ਡਾ . ▁ਧਰਮਵੀਰ ▁ਗਾਂਧੀ ▁ਨੇ ▁ਮੰਗ ▁ਕੀਤੀ ▁ਕਿ ▁ਜਾਂ ▁ਤਾਂ ▁ਐੱਮ ਪੀ ▁ਲੈਂਡ ▁ਫੰਡ ▁ਦੇ ▁ਨਿਯਮਾਂ ▁ਅਨੁਸਾਰ ▁ਪਾਰਲੀਮੈਂਟ ▁ਦੇ ▁ਹੁਕਮ ਾਂ ▁ਤਹਿਤ ▁ਉਨ੍ਹਾਂ ▁ਦਾ ▁ਨਾਂ ▁ਮੁੜ ▁ਲਿਖਿਆ ▁ਜਾਵੇ , ▁ਨਹੀਂ ▁ਤਾਂ ▁ਚੋਣ ▁ਜ਼ਾਬ ਤੇ ▁ਅਨੁਸਾਰ ▁ਨੀਂਹ ▁ਪੱਥਰ ▁ਜਾਂ ▁ਐੱਮ ਪੀ ▁ਲੈਂਡ ▁ਦੇ ▁ਸਾਰੇ ▁ਨਾਂ ▁ਮਿਟਾ ▁ਦਿੱਤੇ ▁ਜਾਣ । ▁ਨਿਯਮਾਂ ▁ਤਹਿਤ ▁ਹੀ ▁ਹੋ ▁ਰਹੀ ▁ਕਾਰਵਾਈ ▁: ▁ਡੀਸੀ ▁ਡਿਪਟੀ ▁ਕਮਿਸ਼ਨਰ - ਕਮ - ਜ਼ਿਲ੍ਹਾ ▁ਚੋਣ ▁ਅਧਿਕਾਰੀ ▁ਕੁਮਾਰ ▁ਅਮਿਤ ▁ਨੇ ▁ਕਿਹਾ ▁ਕਿ ▁ਜ਼ਿਲ੍ਹੇ ▁ਵਿਚ ▁ਚੋਣ ▁ਜ਼ਾਬ ਤੇ ▁ਦੀ ▁ਉਲੰਘਣਾ ▁ਨਹੀਂ ▁ਹੋਣ ▁ਦਿੱਤੀ ▁ਜਾਵੇਗੀ । ▁ਜ਼ਾਬ ਤੇ ▁ਤਹਿਤ ▁ਕਿਤੇ ▁ਵੀ ▁ਕਿਸੇ ▁ਵੀ ▁ਪਾਰਟੀ ▁ਦੇ ▁ਆਗੂ ▁ਦਾ ▁ਨਾਂ ▁ਜਾਂ ▁ਪਾਰਟੀ ▁ਦੀ ▁ਮਸ਼ਹੂਰੀ ▁ਨਹੀਂ ▁ਕਰਨ ▁ਦਿੱਤੀ ▁ਜਾਵੇਗੀ । ▁ਨਿਯਮਾਂ ▁ਤਹਿਤ ▁ਹੀ ▁ਪਾਣੀ ▁ਦੇ ▁ਟੈਂਕ ਰਾਂ ▁ਤੋਂ ▁ਐੱਮ ਪੀ ▁ਦਾ ▁ਨਾਂ ▁ਹਟਾਇਆ ▁ਗਿਆ ▁ਹੈ ।,▁x x bo s ▁ਹਰ ▁ਸਮੇਂ ▁ਨਾਲ ▁ਨਹੀਂ ▁ਰਹੇਗਾ ▁ਖਿਡਾਰੀਆਂ ▁ਦਾ ▁ਪਰਿਵਾਰ <unk> ▁p ub lish <unk> ▁d ate : f ri , ▁10 ▁ <unk> <unk> ▁ 2019 ▁0 9 : 55 <unk> ▁p m ▁( i <unk> st ) ▁ਇੰਡੀਅਨ ▁ਪ੍ਰੀਮੀਅਰ ▁ਲੀਗ ▁ਸਮਾਪਤ ▁ਹੋਣ ▁ਵਾਲੀ ▁ਹੈ ▁ਤੇ ▁ਕ੍ਰਿਕਟ ▁ਦਾ ▁ਵਿਸ਼ਵ ▁ਕੱਪ ▁ਸ਼ੁਰੂ ▁ਹੋਣ ▁ਵਾਲਾ ▁ਹੈ । ▁ਇਸ ▁ਕਾਰਨ ▁ਜਲਦ ▁ਹੀ ▁ਸਾਰਾ ▁ਫੋਕਸ ▁30 ▁ਮਈ ▁ਤੋਂ ▁ਇੰਗਲੈਂਡ ▁ਵਿਚ ▁ਸ਼ੁਰੂ ▁ਹੋਣ ▁ਵਾਲੇ ▁ਵਿਸ਼ਵ ▁ਕੱਪ ▁ਵੱਲ ▁ਸ਼ਿਫਟ ▁ਹੋ ▁ਜਾਵੇਗਾ । ▁ਨਵੀਂ ▁ਦਿੱਲੀ ▁( ਜੇ ਐੱਨ ਐੱਨ ) ▁: ▁ਇੰਡੀਅਨ ▁ਪ੍ਰੀਮੀਅਰ ▁ਲੀਗ ▁ਸਮਾਪਤ ▁ਹੋਣ ▁ਵਾਲੀ ▁ਹੈ ▁ਤੇ ▁ਕ੍ਰਿਕਟ ▁ਦਾ ▁ਵਿਸ਼ਵ ▁ਕੱਪ ▁ਸ਼ੁਰੂ ▁ਹੋਣ ▁ਵਾਲਾ ▁ਹੈ । ▁ਇਸ ▁ਕਾਰਨ ▁ਜਲਦ ▁ਹੀ ▁ਸਾਰਾ ▁ਫੋਕਸ ▁30 ▁ਮਈ ▁ਤੋਂ ▁ਇੰਗਲੈਂਡ ▁ਵਿਚ ▁ਸ਼ੁਰੂ ▁ਹੋਣ ▁ਵਾਲੇ ▁ਵਿਸ਼ਵ ▁ਕੱਪ ▁ਵੱਲ ▁ਸ਼ਿਫਟ ▁ਹੋ ▁ਜਾਵੇਗਾ । ▁ਹਾਲਾਂਕਿ ▁ਇਸ ▁ਵਿਚਾਲੇ ▁ਭਾਰਤੀ ▁ਟੀਮ ▁ਮੈਨੇਜਮੈਂਟ ▁ਨੇ ▁ਬੀ ਸੀਸੀ ਆਈ ▁ਤੋਂ ▁ਵਿਸ਼ਵ ▁ਕੱਪ ▁ਦੌਰਾਨ ▁ਖਿਡਾਰੀਆਂ ▁ਨੂੰ ▁ਪਤਨੀ ▁ਤੇ ▁ਪਰਿਵਾਰ ▁ਨੂੰ ▁ਨਾਲ ▁ਰੱਖਣ ▁ਦੇਣ ▁ਦਾ ▁ਬਿਨ ੈ ▁ਕੀਤਾ ▁ਸੀ ▁ਪਰ ▁ਬੋਰਡ ▁ਨੇ ▁ਸਿਰਫ਼ ▁14 ▁ਦਿਨ ▁ਦੀ ▁ਹੀ ▁ਇਜਾਜ਼ਤ ▁ਦਿੱਤੀ ▁ਹੈ । ▁ਇਸ ▁ਐਤਵਾਰ ▁ਨੂੰ ▁ਆਈ ਪੀ ਐੱਲ ▁ਫਾਈਨਲ ▁ਹੈ ▁ਤੇ ▁ਇਸ ▁ਤੋਂ ▁ਇਕ ▁ਹਫਤੇ ▁ਬਾਅਦ ▁ਟੀਮ ▁ਇੰਡੀਆ ▁ਇੰਗਲੈਂਡ ▁ ਰਵਾਨਾ ▁ਹੋ ▁ਜਾਵੇਗੀ । ▁ਬੀ ਸੀਸੀ ਆਈ ▁ਦੇ ▁ਇਕ ▁ਅਧਿਕਾਰੀ ▁ਨੇ ▁ਕਿਹਾ ▁ਕਿ ▁ਟੀਮ ▁ਇੰਡੀਆ ▁ਦੇ ▁ਕਪਤਾਨ ▁ਵਿਰਾਟ ▁ਕੋਹਲੀ ▁ਨੇ ▁ਬੀ ਸੀਸੀ ਆਈ ▁ਨੂੰ ▁ਗੁਜ਼ਾਰ ਿਸ਼ ▁ਕੀਤੀ ▁ਸੀ ▁ਕਿ ▁ਵਿਸ਼ਵ ▁ਕੱਪ ▁ਦੌਰਾਨ ▁ਖਿਡਾਰੀਆਂ ▁ਨੂੰ ▁ਉਨ੍ਹਾਂ ▁ਦੇ ▁ਪਰਿਵਾਰ ▁ਵਾਲਿਆਂ ▁ਨਾਲ ▁ਰਹਿਣ ▁ਦੀ ▁ਇਜਾਜ਼ਤ ▁ਦਿੱਤੀ ▁ਜਾਵੇ । ▁ਬੀ ਸੀਸੀ ਆਈ ▁ਨੇ ▁ਉਨ੍ਹਾਂ ▁ਦੀ ▁ਇਸ ▁ਮੰਗ ▁ਨੂੰ ▁ਮੰਨ ▁ਤਾਂ ▁ਲਿਆ ▁ਪਰ ▁ਇਸ ▁ਵਿਚਾਲੇ ▁ਬੀ ਸੀਸੀ ਆਈ ▁ਨੇ ▁ਇਕ ▁ਸ਼ਰਤ ▁ਵੀ ▁ਰੱਖ ▁ਦਿੱਤੀ ▁ਹੈ ▁ਕਿ ▁ਵਿਸ਼ਵ ▁ਕੱਪ ▁ਸ਼ੁਰੂ ▁ਹੋਣ ▁ਤੋਂ ▁21 ▁ਦਿਨ ▁ਬਾਅਦ ▁ਹੀ ▁ਕੋਈ ▁ਵੀ ▁ਖਿਡਾਰੀ ▁ਆਪਣੀ ▁ਪਤਨੀ ▁ਜਾਂ ▁ਪਰਿਵਾਰ ▁ਨੂੰ ▁ਸਿਰਫ਼ ▁15 ▁ਦਿਨ ▁ਲਈ ▁ਹੀ ▁ਆਪਣੇ ▁ਨਾਲ ▁ਰੱਖ ▁ਸਕਦਾ ▁ਹੈ । ▁ਖੇਡ ▁ਦੌਰਾਨ ▁ਖਿਡਾਰੀਆਂ ▁ਦਾ ▁ਧਿਆਨ ▁ਨਾ ▁ਭਟਕ ੇ ▁ਇਸ ▁ਕਾਰਨ ▁ਬੀ ਸੀਸੀ ਆਈ ▁ਨੇ ▁ਇਹ ▁ਸ਼ਰਤ ▁ਰੱਖੀ ▁ਹੈ । ▁ਪਹਿਲਾ ▁ਅਭਿਆਸ ▁ਮੈਚ ▁ਹੋਵੇਗਾ ▁25 ▁ਮਈ ▁ਨੂੰ ▁ਭਾਰਤ ▁ਨੇ ▁ਆਪਣਾ ▁ਪਹਿਲਾ ▁ਅਭਿਆਸ ▁ਮੈਚ ▁25 ▁ਮਈ ▁ਨੂੰ ▁ਓ ਵਲ ▁ਵਿਚ ▁ਨਿਊਜ਼ੀਲੈਂਡ ▁ਨਾਲ ▁ਤੇ ▁ਦੂਜਾ ▁ਅਭਿਆਸ ▁ਮੈਚ ▁28 ▁ਮਈ ▁ਨੂੰ ▁ਬੰਗਲਾਦੇਸ਼ ▁ਖ਼ਿਲਾਫ਼ ▁ਕਾਰਡਿਫ ▁ਵਿਚ ▁ਖੇਡਣਾ ▁ਹੈ । ▁ਭਾਰਤ ▁ਨੇ ▁ਵਿਸ਼ਵ ▁ਕੱਪ ▁ਦਾ ▁ਪਹਿਲਾ ▁ਮੁਕਾਬਲਾ ▁ਪੰਜ ▁ਜੂਨ ▁ਨੂੰ ▁ਦੱਖਣੀ ▁ਅਫਰੀਕਾ ▁ਨਾਲ ▁ਖੇਡਣਾ ▁ਹੈ । ▁ਜੇ ▁ਟੀਮ ▁ਫਾਈਨਲ ▁( 14 ▁ਜੂਨ ) ▁' ਚ ▁ਪੁੱਜਦੀ ▁ਹੈ ▁ਤਾਂ ▁ਉਸ ▁ਨੂੰ ▁ਲ ਗਪਗ ▁55 ▁ਦਿਨ ▁ਘਰ ▁ਤੋਂ ▁ਬਾਹਰ ▁ਰਹਿਣਾ ▁ਪਵੇਗਾ ।,▁x x bo s ▁4 ਜੀ ▁ਨੂੰ ▁ਪਛਾੜ ▁ਐੱਲ ਈ ਡੀ ▁ਬਲਬ ▁ਦੇਵੇਗਾ ▁ਹਾਈ ▁ਸਪੀਡ ▁ਇੰਟਰਨੈੱਟ <unk> ▁p ub lish <unk> ▁d ate : t u e , ▁30 <unk> ▁2018 ▁0 6 : 19 <unk> ▁p m ▁( i <unk> st ) ▁ -10 ▁ਜੀ ਬੀ ▁ਪ ੫ ਤੀ ▁ਸੈਕਿੰਡ ▁ਹੋਵੇਗੀ ▁ਸਪੀਡ ▁- ਵਾਈ ਫਾਈ ▁ਨਾਲ ▁ਹੋਵੇਗਾ ▁100 ▁ਗੁਣਾ ▁ਤੇਜ਼ , ▁ਭਾਰਤ ▁' ਚ ▁ਹੋ ▁ਰਹੀ ▁ਹੈ ▁ਲਾਈ ਫਾਈ ▁ਦੀ ▁ਟੈਸਟ ਿੰਗ ▁ਨਵੀਂ ▁ਦਿੱਲੀ ▁( ਏ ਜ ੰਸ ੀ )। ▁ਅੱਜ ▁ਦੇ ▁ਸਮੇਂ ▁' ਚ ▁4 ▁ਜੀ ▁ਇੰਟਰ ਨੈ ੱ ਅ ▁ਦੀ ▁ਵਰਤੋਂ ▁ਵਧਦੀ ▁ਜਾ ▁ਰਹੀ ▁ਹੈ ▁ਪਰ ▁ਹ ▁ -10 ▁ਜੀ ਬੀ ▁ਪ ੫ ਤੀ ▁ਸੈਕਿੰਡ ▁ਹੋਵੇਗੀ ▁ਸਪੀਡ ▁- ਵਾਈ ਫਾਈ ▁ਨਾਲ ▁ਹੋਵੇਗਾ ▁100 ▁ਗੁਣਾ ▁ਤੇਜ਼ , ▁ਭਾਰਤ ▁' ਚ ▁ਹੋ ▁ਰਹੀ ▁ਹੈ ▁ਲਾਈ ਫਾਈ ▁ਦੀ ▁ਟੈਸਟ ਿੰਗ ▁ਨਵੀਂ ▁ਦਿੱਲੀ ▁( ਏ ਜ ੰਸ ੀ )। ▁ਅੱਜ ▁ਦੇ ▁ਸਮੇਂ ▁' ਚ ▁4 ▁ਜੀ ▁ਇੰਟਰ ਨੈ ੱ ਅ ▁ਦੀ ▁ਵਰਤੋਂ ▁ਵਧਦੀ ▁ਜਾ ▁ਰਹੀ ▁ਹੈ ▁ਪਰ ▁ਹੁ ੁਣ ▁ਤਕਨੀਕ ▁4 ਜੀ ▁ਤੋਂ ▁ਵੀ ▁ਅੱਗੇ ▁ਵਧਣ ▁ਵਾਲੀ ▁ਹੈ । ▁ਆਉਣ ▁ਵਾਲੇ ▁ਸਮੇਂ ▁' ਚ ▁4 ਜੀ ▁ਨੂੰ ▁ਪਿੱਛੇ ▁ਛੱਡਦੇ ▁ਹੋਏ ▁ਵਾਈ ਫਾਈ ▁ਜਾਂ ▁ਬ ੫ ਾਂ ਡ ਬੈਂਡ ▁ਲੋਕਾਂ ▁ਨੂੰ ▁ਹਾਈ ▁ਸਪੀਡ ▁ਇੰਟਰਨੈੱਟ ▁ਡਾਟਾ ▁ਦਾ ▁ਵੱਖ ▁ਤੋਂ ▁ਤ ਜ਼ਰ ਬਾ ▁ਪ ੫ ਦਾਨ ▁ਕਰੇਗਾ । ▁ਪਰ ▁ਹੈਰਾਨ ▁ਕਰਨਾ ▁ਗੱਲ ▁ਇਹ ▁ਹੈ ▁ਕਿ ▁ਆਉਣ ▁ਵਾਲੇ ▁ਸਮੇਂ ▁' ਚ ▁ਤੁਹਾਨੂੰ ▁ਐਲ ਈ ਡੀ ▁ਬਲਬ ▁ਨਾਲ ▁ਇੰਟਰਨੈੱਟ ▁ਦੀ ▁ਸਹੂਲਤ ▁ਮਿਲ ▁ਸਕਦੀ ▁ਹੈ । ▁ਆਓ ▁ਜਾਣਦੇ ▁ਹਾਂ ▁ਕਿ ਹੋ ▁ਜਿਹੀ ▁ਹੋਵੇਗੀ ▁ਇਹ ▁ਤਕਨੀਕ ▁:- ▁ਹਾਲ ▁ਹੀ ▁' ਚ ▁ਇਕ ▁ਪ ੫ ਾ ਜੈਕਟ ▁ਤਹਿਤ ▁ਇਨ ਫਾਰਮ ੈਸ਼ਨ ▁ਐਂਡ ▁ਟੈਕ ਨ ੋਲਾਜੀ ▁ਮਨਿਸਟਰ ੀ ▁ਨੇ ▁ਇਕ ▁ਹੋਰ ▁ਨਵੀਂ ▁ਤਕਨੀਕ ▁ਦਾ ▁ਸਫ਼ਲ ▁ਟੈਸਟ ▁ਕੀਤਾ ▁ਹੈ । ▁ਇਸ ▁ਨਵੀਂ ▁ਤਕਨੀਕ ▁ਨੂੰ ▁ਲਾਈ ਫਾਈ ▁ਦਾ ▁ਨਾਂ ▁ਦਿੱਤਾ ▁ਗਿਆ ▁ਹੈ । ▁ਕੀ ▁ਹੈ ▁ਇਹ ▁ਨਵੀਂ ▁ਤਕਨੀਕ ▁: ▁ਲਾਈ ਫਾਈ ▁ਡਾਟਾ ▁ਟਰਾਂਸਫਰ ▁ਲਈ ▁ਰੇਡੀਓ ▁ ਫਿਕ ਵ ੈਂਸੀ ▁ਵੈਬ ਸ ▁ਦੀ ▁ਥਾਂ ▁ਵਿ ਜੀ ਬਲ ▁ਲਾਈਟ ▁ਕਮਿਊਨੀਕੇਸ਼ਨ ▁ਜਾਂ ▁ਇੰ ਫ ੫ ਾਰੇ ਡ ▁ਜਾਂ ▁ਨਜਦੀਕ ੀ ▁ਅਲਟਰਾ ਵਾਇ ਲਟ ▁ਦੀ ▁ਵਰਤੋਂ ▁ਕਰਦਾ ▁ਹੈ । ▁ਇਹ ▁ਟੈਕ ਨ ੋਲਾਜੀ ▁400 ▁ਅਤੇ ▁800 ▁ਟੀ ਐੱਚ ਜ ੈੱਡ ▁ਦਰਮਿਆਨ ▁ਦੇ ▁ਵਿ ਜੀਵ ਲ ▁ਲਾਈਟ ▁ਦੀ ▁ਵਰਤੋਂ ▁ਕਰਦੀ ▁ਹੈ । ▁ਬਲਬ ▁ਦੇ ▁ਸਵਿੱਚ ▁ਆਨ ▁ਜਾਂ ▁ਆਫ ▁ਕਰਨ ▁ਨਾਲ ▁ਇਸ ▁ਦੀ ▁ਵਰਤੋਂ ▁ਕੀਤੀ ▁ਜਾਵੇਗੀ , ▁ਤਾਂ ▁ਕਿ ▁ਇਹ ▁ਨੈਨੋ ਸੇ ਕੇ ਡ ▁' ਚ ▁ਹੋਵੇ ਗੇ ਾ ▁ਇਸ ▁ਲਈ ▁ਆਮ ▁ਤੌਰ ▁' ਤੇ ▁ਅਸੀਂ ▁ਅੱਖਾਂ ▁ਨਾਲ ▁ਨਹੀਂ ▁ਵੇਖ ▁ਸਕ ਾਂਗੇ । ▁4 ਜੀ ▁ਤੋਂ ▁ਬਾਅਦ ▁ਵੀ ▁ਇੰਟਰਨੈੱਟ ▁ਦੀ ▁ਸਪੀਡ ▁ਹੈ ▁ਹੌਲੀ ▁ਹੁ ੁਣ ▁ਟਰਾਈ ▁ਕਰੇਗਾ ▁ਤੁਹਾਡੀ ▁ਮਦਦ ▁ਲਾਈ ਫਾਈ ▁ਨਾਂ ▁ਦੀ ▁ਇਹ ▁ਤਕਨੀਕ ▁ਵਾਈ ਫਾਈ ▁ਦੀ ▁ਥਾਂ ▁ਨਹੀਂ ▁ਲੈਣਾ ▁ਚਾਹੁੰਦੀ ▁ਪਰ ▁ਇਹ ▁ਆਪਣੇ ▁ਤਰੀਕੇ ▁ਦਾ ▁ਫਾਇਦੇ ▁ਲੈ ▁ਕੇ ▁ਆਇਆ ▁ਹੈ , ▁ਵਿਸ਼ੇਸ਼ ▁ਤੌਰ ▁' ਤੇ ▁ਸਕ ਿਊਰ ਿਟੀ । ▁ਜਿਵੇਂ ▁ਕਿ ▁ਅਸੀਂ ▁ਜਾਣਦੇ ▁ਹਾਂ ▁ਕਿ ▁ਪ ੫ ਕਾਸ਼ ▁ਦੀਆਂ ▁ਤਰੰਗਾਂ ▁ਕੰਧਾਂ ▁ਦੇ ▁ਆਰ - ਪਾਰ ▁ਨਹੀਂ ▁ਜਾ ▁ਸਕਦੀਆਂ , ▁ਇਹ ▁ਤਕਨੀਕ ▁ਘੱਟ ▁ਦੂਰੀ ▁ਲਈ ▁ਕਾਫ਼ੀ ▁ਪ ੫ ਭਾਵ ੀ ▁ਹੋਵੇਗੀ ▁ਤੇ ▁ਹੈ ਕਿੰਗ ▁ਵਰਗੀਆਂ ▁ਮੁਸ਼ਕਿਲ ਾਂ ▁ਨੂੰ ▁ਰੋਕ ੇਗੀ । ▁ਸੁਪਰ ▁ਫਾਸਟ ▁ਸਪੀਡ ▁' ਤੇ ▁ਹੋਵੇਗਾ ▁ਡਾਟਾ ▁ਟਰਾਂਸਫਰ ▁ਉਮੀਦ ▁ਕੀਤੀ ▁ਜਾ ▁ਰਹੀ ▁ਹੈ ▁ਕਿ ▁ਇਸ ▁ਤਕਨੀਕ ▁ਨਾਲ ▁ਇਕ ▁ਕਿਲੋਮੀਟਰ ▁ਦੇ ▁ਇਲਾਕੇ ▁' ▁10 ਜੀ ਡੀ ▁ਪ ੫ ਤੀ ▁ਸੈਕਿੰਡ ▁ਦੀ ▁ਸਪੀਡ ▁ਨਾਲ ▁ਡਾਟਾ ▁ਟਰਾਂਸਫਰ ▁ਕੀਤਾ ▁ਜਾ ▁ਸਕੇਗਾ । ▁ਇਸ ▁ਤਕਨੀਕ ▁ਦੀ ▁ਮਦਦ ▁ਨਾਲ ▁ਲ ਗਪਗ ▁ਦੇਸ਼ ▁ਦੇ ▁ਹਰ ▁ਹਿੱਸੇ ▁' ਚ ▁ਇੰਟਰਨੈੱਟ ▁ਮੁਹੱਈਆ ▁ਕਰਵਾਉਣਾ ▁ਸੰਭਵ ▁ਹੋ ▁ਸਕੇਗਾ ।,▁x x bo s ▁ਪੀ ਐਮ ▁ਮੋਦੀ ▁ਦੇ ▁ਬਚਪਨ ▁’ ਤੇ ▁ਬਣੀ ▁ਫਿ ਼ ਲਮ ▁‘ ਚ ਲੋ ▁ਜੀ ਤੇ ▁ਹੈ ਂ ’ ▁ਰਿਲੀਜ਼ <unk> ▁m on , ▁30 <unk> ▁j ul ▁2018 ▁0 2 : 07 <unk> ▁p m <unk> ▁i <unk> st ▁1 ▁/ ▁8 ▁ਪ੍ਰਧਾਨ ▁ਮੰਤਰੀ ▁ਨਰਿੰਦਰ ▁ਮੋਦੀ ▁ਦੇ ▁ਬਚਪਨ ▁ਤੇ ▁ਬਣੀ ▁ਸ਼ਾਰਟ ▁ਫਿ ਼ ਲਮ ▁ਚ ਲੋ ▁ਜੀ ਤੇ ▁ਹੈ ਂ ▁ਲੰਘ ੇ ▁ਦਿਨੀਂ ▁ਰਿਲੀਜ਼ ▁ਹੋ ▁ਗਈ । ▁ਫਿ ਼ ਲਮ ▁ਰਿਲੀਜ਼ ▁ਤੋਂ ▁ਇੱਕ ▁ਪਹਿਲਾਂ ▁ਸ਼ ਨਿ ਵਾਰ ▁ਨੂੰ ▁ਫਿ ਼ ਲਮ ▁ਦੀ ▁ਸਕਰੀਨ ਿੰਗ ▁ਮੁੰਬਈ ▁ਚ ▁ਹੋਈ । ▁2 ▁/ ▁8 ▁ਚ ਲੋ ▁ਜੀ ਤੇ ▁ਹੈ ਂ ▁ਦੀ ▁ਸਪੈਸ਼ਲ ▁ਸਕਰੀਨ ਿੰਗ ▁ਚ ▁ਬਾਲੀਵੁੱਡ ▁ਦਿੱਗਜ ਼ ▁ਤੋਂ ▁ਲੈ ▁ਕੇ ▁ਅੰਬਾਨੀ ▁ਸਮੇਤ ▁ਕਈ ▁ਵੱਡੇ ▁ਨੇਤਾ ▁ਸ਼ਾਮਲ ▁ਸਨ । ▁ ਅਕਸ਼ੈ ▁ਕੁਮਾਰ , ▁ਕੈਲਾਸ਼ ▁ਖੇਰ , ▁ਆਨੰਦ ▁ਐਲ ▁ਰਾਏ , ▁ਪ੍ਰ ਸੂਨ ▁ਜੋਸ਼ੀ ▁ਨਜ਼ਰ ▁ਆਏ ▁3 ▁/ ▁8 ▁ਇਸ ▁ਖਾਸ ▁ਮੌਕੇ ▁ਪ੍ਰ ਸੂਨ ▁ਜੋਸ਼ੀ , ▁ਕੰਗ ਨਾ ▁ਰਣ ਾ ਵਤ ▁ਵੀ ▁ਨਜ਼ਰ ▁ਆਈ ਂ । ▁4 ▁/ ▁8 ▁ਦੱਸ ▁ਦ ਈਏ ▁ਕਿ ▁29 ▁ਜੁਲਾਈ ▁ਨੂੰ ▁ਡਿਜੀਟਲ ▁ਪਲੇਟਫਾਰਮ ▁ਤੇ ▁ਰਿਲੀਜ਼ ▁ਹੋਈ ▁ਫਿਲਮ ▁ਚ ਲੋ ▁ਜੀ ਤੇ ▁ਹੈ ਂ ▁ਸੱਚ ੀਆਂ ▁ਘਟਨਾਵਾਂ ▁ਤੇ ▁ਆਧਾਰਿਤ ▁ਹੈ । ▁ਇਹ ▁ਇੱਕ ▁ਬੱਚੇ ▁ਦੀ ▁ਕਹਾਣੀ ▁ਹੈ ▁ਜੋ ▁ਦੇਸ਼ ▁ਲਈ ▁ਕੁੱਝ ▁ਕਰਨਾ ▁ਚਾਹੁੰਦਾ ▁ਹੈ । ▁5 ▁/ ▁8 ▁ਛੋਟੇ ▁ਪਰਦੇ ▁ਦੇ ▁ਮਸ਼ਹੂਰ ▁ਸਟਾਰ ▁ਗੁਰਮੀਤ ▁ਅਤੇ ▁ਦੇ ਬੀ ਨਾ ▁ਵੀ ▁ਫਿ ਼ ਲਮ ▁ਦੀ ▁ਸਪੇਸ਼ ਲ ▁ਸਕਰੀਨ ਿੰਗ ▁ਚ ▁ਪੁੱਜੇ । ▁ਗੁਰਮੀਤ ▁ਨੇ ▁ਫਿ ਼ ਲਮ ▁ਦੀ ▁ਰੱਜ ▁ਕੇ ▁ ਸ਼ਾਲਾ ਘ ਾਂ ▁ਕੀਤੀ । ▁6 ▁/ ▁8 ▁ਬਾਲੀਵੁੱਡ ▁ਦੀਆਂ ▁ਹਸਤੀਆਂ ▁ਅਤੇ ▁ਸਿਆਸੀ ▁ਆਗੂਆਂ ▁ਤੋਂ ▁ਇਲਾਵਾ ▁ਕ੍ਰਿਕਟ ▁ਜਗਤ ▁ਤੋਂ ▁ਸਚ ਿੱ ਨ ▁ਤੇਂਦੂ ਲ ਕਰ ▁ਨੇ ▁ਵੀ ▁ਇਸ ▁ਮੌਕੇ ▁ਆਪਣਾ ▁ਨਾਂ ▁ਦਰਜ ▁ਕਰਵਾਇਆ । ▁7 ▁/ ▁8 ▁ਬੱਚੇ ▁ਦੇ ▁ਬਚਪਨ ▁ਦਾ ▁ਨਾਂ ▁ਹੈ ▁ਨਰ ੂ । ▁ਦੱਸਿਆ ▁ਜਾ ▁ਰਿਹਾ ▁ਹੈ ▁ਕਿ ▁ਫਿ ਼ ਲਮ ▁ਨਰਿੰਦਰ ▁ਮੋਦੀ ▁ਦੇ ▁ਬਚਪਨ ▁ਤੋਂ ▁ਪ੍ਰੇਰਿਤ ▁ਹੈ । ▁ਇਸ ▁ਮੌਕੇ ▁ਤੇ ▁ਅਦਾਕਾਰਾ ▁ਕੰਗ ਨਾ ▁ਰਣ ਾ ਵਤ ▁ਵੀ ▁ਨਜ਼ਰ ▁ਆਈ । ▁ਉਨ੍ਹਾਂ ▁ਨੇ ▁ਪੀ ਐਮ ▁ਦੀ ▁ਰੱਜ ▁ਕੇ ▁ਸ਼ਲਾਘਾ ਂ ▁ਕੀਤੀ । ▁8 ▁/ ▁8 ▁ਦੱਸ ▁ਦੇ ਈਏ ▁ਕਿ ▁32 ▁ਮਿੰਟਾਂ ▁ਦੀ ▁ਇਹ ▁ਫਿ ਼ ਲਮ ▁ਮੰਗ ੇਸ਼ ▁ਹਦ ਾਵ ਲੇ ▁ਦੁਆਰਾ ▁ਨਿਰਦੇਸ਼ ੀ ਤ ▁ਹੈ । ▁ਮੰਗ ੇਸ਼ ▁ਦੀ ▁ਡੈਬ ਯੂ ▁ਮਰਾਠੀ ▁ਫਿ ਼ ਲਮ ▁ ਟਿੰਗ ਿ ਯੋ ▁ਨੂੰ ▁ਕੌਮੀ ▁ਸਮੇਤ ▁ਕਈ ▁ਅੰਤਰ ਰਾਜ ੀ ▁ਪੁਰਸਕਾਰ ▁ਮਿਲ ▁ਚੁੱਕੇ ▁ਹਨ ।,▁x x bo s ▁ਬਹੁਤ ▁ਚੰਗਾ ▁ਮਹਿਸੂਸ ▁ਹੋ ▁ਰਿ ਹੈ ▁: ▁ਕੋਹਲੀ <unk> ▁p ub lish <unk> ▁d ate : w ed , ▁23 <unk> ▁o ct ▁ 2019 ▁0 9 : 16 <unk> ▁p m ▁( i <unk> st ) ▁ਕੋਹਲੀ ▁ਨੇ ▁ਪਿਛਲੇ ▁ਸਾਲ ▁ਸ਼ਾਕਾਹਾਰੀ ▁ਬਣਨ ▁ਦਾ ▁ਫ਼ੈਸਲਾ ▁ਲਿਆ ▁ਸੀ । ▁ਕੋਹਲੀ ▁ਨੇ ▁ਗੇਮ ▁ਚ ੇਂਜਰ ▁ਸ਼ੋਅ ▁ਦੇਖਣ ▁ਤੋਂ ▁ਬਾਅਦ ▁ਟਵ ੀਟ ▁ਕੀਤਾ ▁ਕਿ ▁ਗੇਮ ▁ਚ ੇਂਜਰ ▁ਸ਼ੋਅ ▁ਦੇਖਿਆ । ▁ਸ਼ਾਕਾਹਾਰੀ ▁ਬਣਨ ▁ਤੋਂ ▁ਬਾਅਦ ▁ਮੈਨੂੰ ▁ਇਹ ▁ਪਤਾ ▁ਲੱਗਾ ▁ਕਿ ▁ਇੰਨ ੇ ▁ਸਾਲਾਂ ▁ਤੋਂ ▁ਡ ▁ਨਵੀਂ ▁ਦਿੱਲੀ ▁( ਜੇ ਐੱਨ ਐੱਨ ) ▁: ▁ਅੰਤਰਰਾਸ਼ਟਰੀ ▁ਕ੍ਰਿਕਟ ▁ਵਿਚ ▁ਸ਼ੁਰੂਆਤ ▁ਕਰਨ ▁ਤੋਂ ▁ਬਾਅਦ ▁ਤੋਂ ▁ਹੀ ▁ਵਿਰਾਟ ▁ਕੋਹਲੀ ▁ਭਾਰਤੀ ▁ਬੱਲੇਬਾਜ਼ੀ ▁ਦਾ ▁ਅਹਿਮ ▁ਹਿੱਸਾ ▁ਹਨ । ▁ਭਾਰਤ ▁ਲਈ ▁2008 ▁ਵਿਚ ▁ਪਹਿਲਾ ▁ਅੰਤਰਰਾਸ਼ਟਰੀ ▁ਮੈਚ ▁ਖੇਡਦੇ ▁ਸਮੇਂ ▁ਕੋਹਲੀ ▁ਗੋਲ ▁ਮ ਟੋਲ ▁ਚਿਹਰੇ ▁ਵਾਲੇ ▁ਇਕ ▁ਨੌਜਵਾਨ ▁ਖਿਡਾਰੀ ▁ਸਨ ▁ਪਰ ▁ਉਹ ▁ਹੁਣ ▁ਦੁਨੀਆ ▁ਦੇ ▁ਸਭ ▁ਤੋਂ ▁ਫਿੱਟ ▁ਖਿਡਾਰੀਆਂ ▁ਵਿਚੋਂ ▁ਇਕ ▁ਹਨ ▁ਤੇ ▁ਸਾਰੇ ▁ਉਨ੍ਹਾਂ ▁ਦੀ ▁ਤਬਦੀਲੀ ▁ਨੂੰ ▁ਦੇਖ ▁ਸਕਦੇ ▁ਹਨ । ▁ਉਹ ▁ਸਿਰਫ਼ ▁ਫਿੱਟ ▁ਨਹੀਂ ▁ਹੋਏ ▁ਹਨ ▁ਬਲਕਿ ▁ਟੀਮ ▁ਦੇ ▁ਅੰਦਰ ▁ਵੀ ▁ਹੋਰ ▁ਖਿਡਾਰੀਆਂ ▁ਨੂੰ ▁ਫਿਟ ਨੈੱਸ ▁ਪ੍ਰਤੀ ▁ਜਾਗਰੂਕ ▁ਕੀਤਾ ▁ਹੈ । ▁ਕੋਹਲੀ ▁ਨੇ ▁ਪਿਛਲੇ ▁ਸਾਲ ▁ਸ਼ਾਕਾਹਾਰੀ ▁ਬਣਨ ▁ਦਾ ▁ਫ਼ੈਸਲਾ ▁ਲਿਆ ▁ਸੀ । ▁ਕੋਹਲੀ ▁ਨੇ ▁ਗੇਮ ▁ਚ ੇਂਜਰ ▁ਸ਼ੋਅ ▁ਦੇਖਣ ▁ਤੋਂ ▁ਬਾਅਦ ▁ਟਵ ੀਟ ▁ਕੀਤਾ ▁ਕਿ ▁ਗੇਮ ▁ਚ ੇਂਜਰ ▁ਸ਼ੋਅ ▁ਦੇਖਿਆ । ▁ਸ਼ਾਕਾਹਾਰੀ ▁ਬਣਨ ▁ਤੋਂ ▁ਬਾਅਦ ▁ਮੈਨੂੰ ▁ਇਹ ▁ਪਤਾ ▁ਲੱਗਾ ▁ਕਿ ▁ਇੰਨ ੇ ▁ਸਾਲਾਂ ▁ਤੋਂ ▁ਡਾਈ ਟ ▁ਬਾਰੇ ▁ਮੇਰੀ ▁ਜੋ ▁ਸੋਚ ▁ਸੀ ▁ਉਹ ▁ਬਸ ▁ਇਕ ▁ਕਲਪਨਾ ▁ਹੀ ▁ਸੀ । ▁ਬਹੁਤ ▁ਸ਼ਾਨਦਾਰ ▁ਡਾਕੂਮੈਂਟਰੀ ▁ਹੈ ▁ਤੇ ▁ਹਾਂ ▁ਸ਼ਾਕਾਹਾਰੀ ▁ਬਣਨ ▁ਤੋਂ ▁ਬਾਅਦ ▁ਮੈਨੂੰ ▁ਜਿਵੇਂ ▁ਮਹਿਸੂਸ ▁ਹੋਇਆ ▁ਉਵੇਂ ▁ਜੀਵਨ ▁ਵਿਚ ▁ਪਹਿਲਾਂ ▁ਕਦੀ ▁ਨਹੀਂ ▁ਹੋਇਆ । ▁ਸ਼ਾਕਾਹਾਰੀ ▁ਬਣਨ ▁ਲਈ ▁ਪ੍ਰੇਰ ਦੀ ▁ਹੈ ▁ਡਾਕੂਮੈਂਟਰੀ ▁ਗੇਮ ▁ਚ ੇਂਦਰ ▁ਪਿਛਲੇ ▁ਸੈਸ਼ਨ ▁ਦੌਰਾਨ ▁ਆਈ ▁ਇਕ ▁ਅਜਿਹੀ ▁ਡਾਕੂਮੈਂਟਰੀ ▁ਹੈ ▁ਜਿਸ ▁ਵਿਚ ▁ਸ਼ਾਕਾਹਾਰੀ ▁ਭੋਜਨ ▁ਨਾਲ ▁ਖਿਡਾਰੀਆਂ ▁ਨੂੰ ▁ਹੋਣ ▁ਵਾਲੇ ▁ਕਈ ▁ਤਰ੍ਹਾਂ ▁ਦਾ ▁ਫ਼ਾਇ ਦਿਆਂ ▁ਬਾਰੇ ▁ਜਾਣਕਾਰੀ ▁ਦਿੱਤੀ ▁ਗਈ ▁ਹੈ ।\n",
              "y: EmptyLabelList\n",
              ",,,,\n",
              "Path: ., model=SequentialRNN(\n",
              "  (0): AWD_LSTM(\n",
              "    (encoder): Embedding(30000, 400, padding_idx=1)\n",
              "    (encoder_dp): EmbeddingDropout(\n",
              "      (emb): Embedding(30000, 400, padding_idx=1)\n",
              "    )\n",
              "    (rnns): ModuleList(\n",
              "      (0): WeightDropout(\n",
              "        (module): LSTM(400, 1152, batch_first=True)\n",
              "      )\n",
              "      (1): WeightDropout(\n",
              "        (module): LSTM(1152, 1152, batch_first=True)\n",
              "      )\n",
              "      (2): WeightDropout(\n",
              "        (module): LSTM(1152, 400, batch_first=True)\n",
              "      )\n",
              "    )\n",
              "    (input_dp): RNNDropout()\n",
              "    (hidden_dps): ModuleList(\n",
              "      (0): RNNDropout()\n",
              "      (1): RNNDropout()\n",
              "      (2): RNNDropout()\n",
              "    )\n",
              "  )\n",
              "  (1): LinearDecoder(\n",
              "    (decoder): Linear(in_features=400, out_features=30000, bias=True)\n",
              "    (output_dp): RNNDropout()\n",
              "  )\n",
              "), opt_func=functools.partial(<class 'torch.optim.adam.Adam'>, betas=(0.9, 0.99)), loss_func=FlattenedLoss of CrossEntropyLoss(), metrics=[<function accuracy at 0x7fa4dedb6ef0>], true_wd=True, bn_wd=True, wd=0.01, train_bn=True, path=PosixPath('.'), model_dir='models', callback_fns=[functools.partial(<class 'fastai.basic_train.Recorder'>, add_time=True, silent=False)], callbacks=[RNNTrainer\n",
              "learn: ...\n",
              "alpha: 2.0\n",
              "beta: 1.0], layer_groups=[Sequential(\n",
              "  (0): WeightDropout(\n",
              "    (module): LSTM(400, 1152, batch_first=True)\n",
              "  )\n",
              "  (1): RNNDropout()\n",
              "), Sequential(\n",
              "  (0): WeightDropout(\n",
              "    (module): LSTM(1152, 1152, batch_first=True)\n",
              "  )\n",
              "  (1): RNNDropout()\n",
              "), Sequential(\n",
              "  (0): WeightDropout(\n",
              "    (module): LSTM(1152, 400, batch_first=True)\n",
              "  )\n",
              "  (1): RNNDropout()\n",
              "), Sequential(\n",
              "  (0): Embedding(30000, 400, padding_idx=1)\n",
              "  (1): EmbeddingDropout(\n",
              "    (emb): Embedding(30000, 400, padding_idx=1)\n",
              "  )\n",
              "  (2): LinearDecoder(\n",
              "    (decoder): Linear(in_features=400, out_features=30000, bias=True)\n",
              "    (output_dp): RNNDropout()\n",
              "  )\n",
              ")], add_time=True, silent=False)"
            ]
          },
          "metadata": {},
          "execution_count": 26
        }
      ],
      "source": [
        "# Loading the pretrained language model on panjabi wikipedia\n",
        "learn.load('/content/drive/MyDrive/NLP/model', with_opt=True)"
      ]
    },
    {
      "cell_type": "code",
      "execution_count": null,
      "metadata": {
        "colab": {
          "base_uri": "https://localhost:8080/"
        },
        "id": "_Xkj6C_0NByL",
        "outputId": "9b78585b-40f5-4019-ef1d-496102b5a548"
      },
      "outputs": [
        {
          "output_type": "stream",
          "name": "stdout",
          "text": [
            "Drive already mounted at /content/drive; to attempt to forcibly remount, call drive.mount(\"/content/drive\", force_remount=True).\n"
          ]
        }
      ],
      "source": [
        "from google.colab import drive\n",
        "drive.mount('/content/drive')"
      ]
    },
    {
      "cell_type": "code",
      "execution_count": null,
      "metadata": {
        "colab": {
          "base_uri": "https://localhost:8080/",
          "height": 35
        },
        "id": "0e0rOUP4VGN2",
        "outputId": "2d2faac9-1d44-4aec-c666-759a34a88c6d"
      },
      "outputs": [
        {
          "output_type": "execute_result",
          "data": {
            "text/plain": [
              "'ਜੋ ਉਹਨਾਂ ਦੇ ਰੱਬਾਂ ਨੂੰ ਪ੍ਰਸਤੁਤ ਕਰਦੇ ▁ਹਨ ▁ਅਤੇ ▁ਕੁਦਰਤ ▁ਦਾ ▁ਅੰਦਰ ▁ਜਾਣ ੇਗਾ ▁ਇਸ ▁ਮੇਲੇ ▁ਨੂੰ'"
            ],
            "application/vnd.google.colaboratory.intrinsic+json": {
              "type": "string"
            }
          },
          "metadata": {},
          "execution_count": 28
        }
      ],
      "source": [
        "learn.predict('ਜੋ ਉਹਨਾਂ ਦੇ ਰੱਬਾਂ ਨੂੰ ਪ੍ਰਸਤੁਤ ਕਰਦੇ',n_words=10)"
      ]
    },
    {
      "cell_type": "code",
      "execution_count": null,
      "metadata": {
        "id": "Hbmr_mMuVGN9"
      },
      "outputs": [],
      "source": [
        "learn.save_encoder('fine_tuned_enc')"
      ]
    },
    {
      "cell_type": "code",
      "execution_count": null,
      "metadata": {
        "colab": {
          "base_uri": "https://localhost:8080/",
          "height": 72
        },
        "id": "9FJzRwyTVGN9",
        "outputId": "849d0ae2-8912-444b-9128-b3e9f027d855"
      },
      "outputs": [
        {
          "output_type": "display_data",
          "data": {
            "text/plain": [
              "<IPython.core.display.HTML object>"
            ],
            "text/html": [
              "\n",
              "<style>\n",
              "    /* Turns off some styling */\n",
              "    progress {\n",
              "        /* gets rid of default border in Firefox and Opera. */\n",
              "        border: none;\n",
              "        /* Needs to be in here for Safari polyfill so background images work as expected. */\n",
              "        background-size: auto;\n",
              "    }\n",
              "    .progress-bar-interrupted, .progress-bar-interrupted::-webkit-progress-bar {\n",
              "        background: #F44336;\n",
              "    }\n",
              "</style>\n"
            ]
          },
          "metadata": {}
        },
        {
          "output_type": "display_data",
          "data": {
            "text/plain": [
              "<IPython.core.display.HTML object>"
            ],
            "text/html": [
              ""
            ]
          },
          "metadata": {}
        },
        {
          "output_type": "stream",
          "name": "stderr",
          "text": [
            "/usr/local/lib/python3.7/dist-packages/fastai/core.py:302: VisibleDeprecationWarning: Creating an ndarray from ragged nested sequences (which is a list-or-tuple of lists-or-tuples-or ndarrays with different lengths or shapes) is deprecated. If you meant to do this, you must specify 'dtype=object' when creating the ndarray.\n",
            "  return np.array(a, dtype=dtype, **kwargs)\n"
          ]
        },
        {
          "output_type": "display_data",
          "data": {
            "text/plain": [
              "<IPython.core.display.HTML object>"
            ],
            "text/html": [
              "\n",
              "<style>\n",
              "    /* Turns off some styling */\n",
              "    progress {\n",
              "        /* gets rid of default border in Firefox and Opera. */\n",
              "        border: none;\n",
              "        /* Needs to be in here for Safari polyfill so background images work as expected. */\n",
              "        background-size: auto;\n",
              "    }\n",
              "    .progress-bar-interrupted, .progress-bar-interrupted::-webkit-progress-bar {\n",
              "        background: #F44336;\n",
              "    }\n",
              "</style>\n"
            ]
          },
          "metadata": {}
        },
        {
          "output_type": "display_data",
          "data": {
            "text/plain": [
              "<IPython.core.display.HTML object>"
            ],
            "text/html": [
              ""
            ]
          },
          "metadata": {}
        },
        {
          "output_type": "display_data",
          "data": {
            "text/plain": [
              "<IPython.core.display.HTML object>"
            ],
            "text/html": [
              "\n",
              "<style>\n",
              "    /* Turns off some styling */\n",
              "    progress {\n",
              "        /* gets rid of default border in Firefox and Opera. */\n",
              "        border: none;\n",
              "        /* Needs to be in here for Safari polyfill so background images work as expected. */\n",
              "        background-size: auto;\n",
              "    }\n",
              "    .progress-bar-interrupted, .progress-bar-interrupted::-webkit-progress-bar {\n",
              "        background: #F44336;\n",
              "    }\n",
              "</style>\n"
            ]
          },
          "metadata": {}
        },
        {
          "output_type": "display_data",
          "data": {
            "text/plain": [
              "<IPython.core.display.HTML object>"
            ],
            "text/html": [
              ""
            ]
          },
          "metadata": {}
        }
      ],
      "source": [
        "data_clas = TextClasDataBunch.from_df(path=path, train_df=df_train, valid_df=df_valid, test_df=df_test, tokenizer=tokenizer, vocab=panjabi_vocab, label_cols=label_cols, bs=64)"
      ]
    },
    {
      "cell_type": "code",
      "execution_count": null,
      "metadata": {
        "colab": {
          "base_uri": "https://localhost:8080/",
          "height": 293
        },
        "id": "EZBlqJHSVGN9",
        "outputId": "4324bd39-4cf2-423a-cb14-fcbfc0badb89"
      },
      "outputs": [
        {
          "output_type": "display_data",
          "data": {
            "text/plain": [
              "<IPython.core.display.HTML object>"
            ],
            "text/html": [
              "<table border=\"1\" class=\"dataframe\">\n",
              "  <thead>\n",
              "    <tr style=\"text-align: right;\">\n",
              "      <th>text</th>\n",
              "      <th>target</th>\n",
              "    </tr>\n",
              "  </thead>\n",
              "  <tbody>\n",
              "    <tr>\n",
              "      <td>▁x x bo s ▁60 ▁ਸਾਲ ▁ਦਾ ▁ਪਾਪ ▁ਧੋਣ ▁ਦੀ ▁ਕੋਸ਼ਿਸ਼ ▁ਕਰ ▁ਰਹੀ ▁ਹੈ ▁ਕਾਂਗਰਸ &lt;unk&gt; ▁p ub lish &lt;unk&gt; ▁d ate : t u e , ▁0 9 &lt;unk&gt; ▁a pr ▁ 2019 ▁0 6 : 00 &lt;unk&gt; &lt;unk&gt; ▁( i &lt;unk&gt; st ) ▁ਚੋਣ ▁ਜ਼ਾਬ ਤੇ ▁ਕਾਰਨ ▁ਸਰਕਾਰ ▁ਦੇ ▁ਕੰਮਕਾਜ ▁ਰੁਕ ▁ਜਾਂਦੇ ▁ਹਨ । ▁ਦੂਜਾ ▁ਮੇਰੀ ▁ਕੋਸ਼ਿਸ਼ ▁ਹੁੰਦੀ ▁ਹੈ ▁ਕਿ ▁ਵੱਧ ▁ਤੋਂ ▁ਵੱਧ ▁ਲੋਕਾਂ ▁ਨੂੰ ▁ਮਿਲਾ । ▁ਇ</td>\n",
              "      <td>politics</td>\n",
              "    </tr>\n",
              "    <tr>\n",
              "      <td>▁x x bo s ▁ਵਿਜ਼ ਨ ▁ਸਬਕ ਾ ▁ਸਾਥ - ਸਬ ਕਾ ▁ਵਿਕਾਸ ▁ 2019 -20 &lt;unk&gt; ▁p ub lish &lt;unk&gt; ▁d ate : s un , ▁31 &lt;unk&gt; ▁ 2019 ▁ 08 : 13 &lt;unk&gt; &lt;unk&gt; ▁( i &lt;unk&gt; st ) ▁ਪਿਛਲੇ ▁ਇਕ ▁ਦਹਾਕੇ ▁' ਚ ▁ਭਾਰਤੀ ▁ਅਰਥਚਾਰਾ ▁ਕੌਮਾਂਤਰੀ ▁ਵਿਕਾਸ ▁' ਚ ▁ਸਭ ▁ਤੋਂ ▁ਵੱਡੇ ▁ਯੋਗਦਾਨ ▁ਕਰ ਤਾਵਾਂ ▁' ਚੋਂ ▁ਇਕ ▁ਰਿਹਾ ▁ਹੈ , ▁ਜੋ ▁ਆਰਥਿਕ ▁ਸਰਗਰਮੀਆਂ ▁' ਚ</td>\n",
              "      <td>politics</td>\n",
              "    </tr>\n",
              "    <tr>\n",
              "      <td>▁x x bo s ▁ਸੁਪਰ ▁ਓਵਰ ▁' ਚ ▁ਜਿੱਤਿਆ ▁ਮੁ ਬੰ ਈ , ▁ਪੁੱਜਾ ▁ਪਲੇ ਆ ਫ ▁' ਚ &lt;unk&gt; ▁f ri , ▁ 03 ▁ &lt;unk&gt; &lt;unk&gt; ▁ 2019 ▁12 : 0 6 &lt;unk&gt; &lt;unk&gt; ▁( i &lt;unk&gt; st ) ▁| ▁ਹਾਈ ਲਾਈਟ ▁ਮਨੀਸ਼ ▁ਪਾਂਡੇ ▁ਨੇ ▁ਖੇਡੀ ▁71 ▁ਦੌੜਾਂ ▁ਦੀ ▁ਪਾਰੀ ▁ਵੀ ▁ਨਾ ▁ਜਿ ਤਾ ▁ਸਕੀ ▁ਹੈਦਰਾਬਾਦ ▁ਨੂੰ ▁ਹੈਦਰਾਬਾਦ ▁ਨੂੰ ▁ ਵਾਰਨਰ ▁ਦੀ ▁ਰੜਕ ੇਗੀ ▁ਘਾਟ ▁ਸੁਪਰ ▁ਓਵਰ ▁'</td>\n",
              "      <td>sports</td>\n",
              "    </tr>\n",
              "    <tr>\n",
              "      <td>▁x x bo s ▁ਲੋਕਤੰਤਰ ▁ਦੇ ▁ਪਹਿਰੇਦਾਰ &lt;unk&gt; ▁p ub lish &lt;unk&gt; ▁d ate : m on , ▁15 &lt;unk&gt; ▁a pr ▁ 2019 ▁12 : 29 &lt;unk&gt; &lt;unk&gt; ▁( i &lt;unk&gt; st ) ▁ਚੋਣਾਂ ▁ਆਉਂਦੇ ▁ਹੀ ▁ਸਾਰੇ ▁ਦਲ , ▁ਵੋਟ , ▁ਚੋਣ ▁ਨਿਸ਼ਾਨ , ▁ਉਮੀਦਵਾਰ ▁ਤੇ ▁ਦੇਸ਼ ▁ਦੀਆਂ ▁ਵੱਡੀਆਂ - ਵੱਡੀਆਂ ▁ਸਿਆਸੀ ▁ਪਾਰਟੀਆਂ ▁ਦੀ ▁ਗੱਲ ▁ਕਰਦੇ ▁ਹਨ । ▁ਪਰ ▁ਇਸ ▁ਸ਼ੋਰ ▁ਵਿਚਕਾਰ ▁ਅਸੀਂ ▁ਉਸ ▁ਦੀ ▁ਭੂਮਿਕਾ ▁ਭੁੱਲ ▁ਜਾਂਦੇ ▁ਹਾਂ</td>\n",
              "      <td>politics</td>\n",
              "    </tr>\n",
              "    <tr>\n",
              "      <td>▁x x bo s ▁ਬ੍ਰਾਜ਼ੀਲ ▁ਦੀ ▁ਮਾਰ ਤਾ ▁ਨੇ ▁ਸਿਰਜਿਆ ▁ਰਿਕਾਰਡ &lt;unk&gt; ▁p ub lish &lt;unk&gt; ▁d ate : f ri , ▁28 &lt;unk&gt; ▁j un ▁ 2019 ▁10 : 17 &lt;unk&gt; &lt;unk&gt; ▁( i &lt;unk&gt; st ) ▁ਫਰਾਂਸ ▁ਵਿਚ ▁ਖੇਡੇ ▁ਜਾ ▁ਰਹੇ ▁ਵਿਸ਼ਵ ▁ਫੁੱਟਬਾਲ ▁ਕੱਪ ▁' ਚ ▁ਬ੍ਰਾਜ਼ੀਲੀ ▁ਮਹਿਲਾ ▁ਟੀਮ ▁ਦੀ ▁ਕਪਤਾਨ ▁ਮਾਰ ਤਾ ▁ਨੇ ▁17 ਵਾਂ ▁ਗੋਲ ▁ਸਕੋਰ ▁ਕਰ ▁ਕੇ ▁ਇਤਿਹਾਸ ▁ਸਿਰਜਿਆ ▁ਹੈ । ▁ਬ੍ਰਾਜ਼ੀਲ ▁ਦਾ ▁ਫੁੱਟਬਾਲ ▁ਖੇਡ</td>\n",
              "      <td>sports</td>\n",
              "    </tr>\n",
              "  </tbody>\n",
              "</table>"
            ]
          },
          "metadata": {}
        }
      ],
      "source": [
        "data_clas.show_batch()"
      ]
    },
    {
      "cell_type": "code",
      "execution_count": null,
      "metadata": {
        "colab": {
          "base_uri": "https://localhost:8080/",
          "height": 34
        },
        "id": "SLFlaKK5VGN-",
        "outputId": "738f8a55-76e1-4ba8-b64e-ad7e3085f149"
      },
      "outputs": [
        {
          "output_type": "stream",
          "name": "stdout",
          "text": [
            "Downloading https://s3.amazonaws.com/fast-ai-modelzoo/wt103-fwd.tgz\n"
          ]
        },
        {
          "output_type": "display_data",
          "data": {
            "text/plain": [
              "<IPython.core.display.HTML object>"
            ],
            "text/html": [
              "\n",
              "<style>\n",
              "    /* Turns off some styling */\n",
              "    progress {\n",
              "        /* gets rid of default border in Firefox and Opera. */\n",
              "        border: none;\n",
              "        /* Needs to be in here for Safari polyfill so background images work as expected. */\n",
              "        background-size: auto;\n",
              "    }\n",
              "    .progress-bar-interrupted, .progress-bar-interrupted::-webkit-progress-bar {\n",
              "        background: #F44336;\n",
              "    }\n",
              "</style>\n"
            ]
          },
          "metadata": {}
        },
        {
          "output_type": "display_data",
          "data": {
            "text/plain": [
              "<IPython.core.display.HTML object>"
            ],
            "text/html": [
              ""
            ]
          },
          "metadata": {}
        }
      ],
      "source": [
        "learn = text_classifier_learner(data_clas, arch=AWD_LSTM, drop_mult=0.5)"
      ]
    },
    {
      "cell_type": "code",
      "execution_count": null,
      "metadata": {
        "colab": {
          "base_uri": "https://localhost:8080/"
        },
        "id": "Vw5biVFAVGN-",
        "outputId": "b4f42eda-d2f0-4716-c816-a96e2eb433b1"
      },
      "outputs": [
        {
          "output_type": "execute_result",
          "data": {
            "text/plain": [
              "RNNLearner(data=TextClasDataBunch;\n",
              "\n",
              "Train: LabelList (2496 items)\n",
              "x: TextList\n",
              "▁x x bo s ▁ ⁄ ▁ਕ੍ਰਿਕੇਟ ▁ ⁄ ▁ਜਨਰਲ ▁in d ▁vs <unk> ▁b an ▁: ▁ਚਾਰ ▁ਸਾਲਾਂ ▁' ਚ ▁ਖੇਡੇ ▁ਗਏ ▁ਸਿਰਫ਼ ▁11 <unk> - n ight ▁ਟੈਸਟ ▁ਮੈਚ , ▁ਭਾਰਤ ▁ਬਣੇਗਾ ▁ਅਜਿਹਾ ▁ਕਰਨ ▁ਵਾਲਾ ▁7 ਵਾਂ ▁ਦੇਸ਼ <unk> ▁p ub lish <unk> ▁d ate : t hu , ▁31 <unk> ▁o ct ▁ 2019 ▁0 9 : 13 <unk> <unk> ▁( i <unk> st ) ▁ਭਾਰਤੀ ▁ਕ੍ਰਿਕਟ ▁ਕੰਟਰੋਲ ▁ਬੋਰਡ ▁ਦੇ ▁ਪ੍ਰਧਾਨ ▁ਸੌਰ ਵ ▁ਗਾਂਗੁਲੀ ▁ਦੇ ▁ ਡੇਅ - ਨਾਈਟ ▁ਟੈਸਟ ▁ਦੇ ▁ਭਾਰਤ ▁' ਚ ▁' ਚ ▁ਕਰਵਾਉਣ ▁ਦੇ ▁ਫ਼ੈਸਲੇ ▁ਨੇ ▁ਨਵਾਂ ▁ਇਤਿਹਾਸ ▁ਰਚਿਆ ▁ਹੈ । ▁ਨਵੀਂ ▁ਦਿੱਲੀ , ▁ਜੇ ਐੱਨ ਐੱਨ ▁: ▁ਭਾਰਤੀ ▁ਕ੍ਰਿਕਟ ▁ਕੰਟਰੋਲ ▁ਬੋਰਡ ▁ਦੇ ▁ਪ੍ਰਧਾਨ ▁ਸੌਰ ਵ ▁ਗਾਂਗੁਲੀ ▁ਦੇ ▁ ਡੇਅ - ਨਾਈਟ ▁ਟੈਸਟ ▁ਦੇ ▁ਭਾਰਤ ▁' ਚ ▁' ਚ ▁ਕਰਵਾਉਣ ▁ਦੇ ▁ਫ਼ੈਸਲੇ ▁ਨੇ ▁ਨਵਾਂ ▁ਇਤਿਹਾਸ ▁ਰਚਿਆ ▁ਹੈ । ▁ਇਸ ▁ਫ਼ੈਸਲੇ ▁ਤੋਂ ▁ਬਾਅਦ ▁ਹੁਣ ▁ਭਾਰਤ ▁ਵੀ ▁ਉਨ੍ਹਾਂ ▁ਟੀਮਾਂ ▁ਦੀ ▁ਸੂਚੀ ▁' ਚ ▁ਸ਼ਾਮਲ ▁ਹੋ ▁ਜਾਵੇਗਾ , ▁ਜਿਨ੍ਹਾਂ ▁ਨੇ ▁ਟੈਸਟ ▁ਕ੍ਰਿਕਟ ▁ਦੇ ▁ਇਸ ▁ਨਵੇਂ ▁ਰੋਮ ਾਂ ਚ ▁' ਚ ▁ਸ਼ਿਰਕ ਤ ▁ਕੀਤੀ ▁ਹੈ । ▁ਸੰਨ ▁2015 ▁' ਚ ▁ਨਵੰਬਰ ▁' ਚ ▁ਪਹਿਲੀ ▁ਵਾਰ ▁ਇੰਟਰਨੈਸ਼ਨਲ ▁ ਡੇਅ - ਨਾਈਟ ▁ਟੈਸਟ ▁ਮੈਚ ▁ਖੇਡਿਆ ▁ਗਿਆ ▁ਸੀ ▁ਪਰ ▁ਉਦੋਂ ▁ਤੋਂ ▁ਹੁਣ ▁ਤਕ ▁ਸਿਰਫ਼ ▁11 ▁ਮੈਚ ▁ਹੀ ▁ਖੇਡੇ ▁ਜਾ ▁ਸਕੇ ▁ਹਨ । ▁ਭਾਰਤ ▁ਅਤੇ ▁ਬੰਗਲਾਦੇਸ਼ ▁ਦਰਮਿਆਨ ▁22 ▁ਤੋਂ ▁26 ▁ਨਵੰਬਰ ▁ਦਰਮਿਆਨ ▁ਕੋਲਕਾਤਾ ▁ਦੇ ▁ਈ ਡਨ ▁ਗਾਰਡਨ ▁ਮੈਦਾਨ ▁' ਤੇ ▁ ਡੇਅ - ਨਾਈਟ ▁ਟੈਸਟ ▁ਮੈਚ ▁ਖੇਡਿਆ ▁ਜਾਵੇਗਾ । ▁ਇਸ ▁ਮੈਚ ▁ਦਾ ▁ਮਹੱਤਵ ▁ਇਸ ▁ਲਈ ▁ਵੀ ▁ਹੈ ▁ਕਿ ▁ਟੀਮ ▁ਇੰਡੀਆ ▁ਪਹਿਲੀ ▁ਵਾਰ ▁ਕੋਈ ▁ ਡੇਅ - ਨਾਈਟ ▁ਮੈਚ ▁ਖੇਡੇ ਗੀ ▁ਅਤੇ ▁ਇਸ ▁ਦਾ ▁ਪ੍ਰਬੰਧ ▁ਭਾਰਤ ▁' ਚ ▁ਕੀਤਾ ▁ਜਾਣਾ ▁ਹੈ । ▁ਭਾਰਤ ▁ਅਤੇ ▁ਬੰਗਲਾਦੇਸ਼ ▁ਦਰਮਿਆਨ ▁ਹੋਣ ▁ਵਾਲਾ ▁ਇਹ ▁ਮੁਕਾਬਲਾ ▁12 ਵਾਂ ▁ ਡੇਅ - ਨਾਈਟ ▁ਟੈਸਟ ▁ਹੋਵੇਗਾ । ▁ਇਸ ▁ਤੋਂ ▁ਪਹਿਲਾਂ ▁ਕੁੱਲ ▁11 ▁ਅਜਿਹੇ ▁ਟੈਸਟ ▁ਮੈਚ ▁ਖੇਡੇ ▁ਜਾ ▁ਚੁੱਕੇ ▁ਹਨ । ▁ਚ ਲੋ ▁ਤੁਹਾਨੂੰ ▁ਦੱਸਦੇ ▁ਹਾਂ ▁ਕਿਹੜੀ ਆਂ - ਕਿ ਹੜ ੀਆਂ ▁ਟੀਮਾਂ ▁ਵਿਚਕਾਰ ▁ਖੇਡਿਆ ▁ਜਾ ▁ਚੁੱਕਿਆ ▁ਹੈ ▁ ਡੇਅ - ਨਾਈਟ ▁ਮੈਚ ▁ਆਸਟ੍ਰੇਲੀਆ ▁ਅਤੇ ▁ਨਿਊਜ਼ੀਲੈਂਡ ▁ਨੇ ▁ਕੀਤਾ ▁ਸੀ ▁ਆਗਾਜ਼ ▁ਪਹਿਲੇ ▁ ਡੇਅ - ਨਾਈਟ ▁ਟੈਸਟ ▁ਮੈਚ ▁ਨੂੰ ▁ਸਾਲ ▁2015 ▁' ਚ ▁ਆਸਟ੍ਰੇਲੀਆ ▁ਅਤੇ ▁ਨਿਊਜ਼ੀਲੈਂਡ ▁ਦੀ ▁ਟੀਮ ▁ਵਿਚਕਾਰ ▁ਖੇਡਿਆ ▁ਗਿਆ ▁ਸੀ । ▁ਇਹ ▁ਮੈਚ ▁ਆਸਟ੍ਰੇਲੀਆ ▁ਦੇ ▁ਏ ਡੀ ਲੇ ਡ ▁' ਚ ▁27 ▁ਨਵੰਬਰ ▁ਤੋਂ ▁ਇਕ ▁ਦਸੰਬਰ ▁ਦੌਰਾਨ ▁ਖੇਡਿਆ ▁ਗਿਆ ▁ਸੀ । ▁ਮੇਜ਼ਬਾਨ ▁ਆਸਟ੍ਰੇਲੀਆ ▁ਨੇ ▁ਇਹ ▁ਮੈਚ ▁ਤਿੰਨ ▁ਵਿਕਟਾਂ ▁ਨਾਲ ▁ਜਿੱਤਿਆ ▁ਸੀ । ▁ਭਾਰਤ ▁ ਡੇਅ - ਨਾਈਟ ▁ਟੈਸਟ ▁ਦੀ ▁ਮੇਜ਼ਬਾਨੀ ▁ਕਰਨ ▁ਵਾਲੀ ▁ਸੱਤਵੀਂ ▁ਟੀਮ ▁ਹੁਣ ▁ਤਕ ▁ਆਸਟ੍ਰੇਲੀਆ , ▁ਪਾਕਿਸਤਾਨ , ▁ਇੰਗਲੈਂਡ , ▁ਦੱਖਣੀ ▁ਅਫਰੀਕਾ , ▁ਨਿਊਜ਼ੀਲੈਂਡ ▁ਅਤੇ ▁ਵੈਸਟਇੰਡੀਜ਼ ▁ ਡੇਅ - ਨਾਈਟ ▁ਟੈਸਟ ▁ਦੀ ▁ਮੇਜ਼ਬਾਨੀ ▁ਕਰ ▁ਚੁੱਕੀ ▁ਹੈ । ▁ਕੋਲਕਾਤਾ ▁ਟੈਸਟ ▁ਮੈਚ ▁ਤੋਂ ▁ਬਾਅਦ ▁ਭਾਰਤ ▁ਅਜਿਹਾ ▁ਕਰਨ ▁ਵਾਲਾ ▁ਸੱਤ ਵਾਂ ▁ਦੇਸ਼ ▁ਬਣ ▁ਜਾਵੇਗਾ । ▁ਹੁਣ ▁ਤਕ ▁ਸਭ ▁ਤੋਂ ▁ਵੱਧ ▁ਆਸਟ੍ਰੇਲੀਆ ▁ਨੇ ▁ ਡੇਅ - ਨਾਈਟ ▁ਟੈਸਟ ▁ਮੈਚ ▁ਦੀ ▁ਮੇਜ਼ਬਾਨੀ ▁ਕੀਤੀ ▁ਹੈ । ▁ਉੱਥੇ ▁ਪਾਕਿਸਤਾਨ ▁ਇਸ ▁ਸੂਚੀ ▁' ਚ ▁ਦੂਜੇ ▁ਨੰਬਰ ▁' ਤੇ ▁ਹੈ । ▁ਹੁਣ ▁ਤਕ ▁ਖੇਡੇ ▁ਗਏ ▁11 ▁ ਡੇਅ - ਨਾਈਟ ▁ਟੈਸਟ ▁ਮੈਚ ▁ਆਸਟ੍ਰੇਲੀਆ ▁ਬਨਾਮ ▁ਨਿਊਜ਼ੀਲੈਂਡ ▁27 ▁ਨਵੰਬਰ ▁ਤੋਂ ▁1 ▁ਦਸੰਬਰ ▁2015 ▁ਪਾਕਿਸਤਾਨ ▁ਬਨਾਮ ▁ਵੈਸਟਇੰਡੀਜ਼ ▁13 ▁ਤੋਂ ▁17 ▁ਅਕਤੂਬਰ ▁2016 ▁ਆਸਟ੍ਰੇਲੀਆ ▁ਬਨਾਮ ▁ਦੱਖਣੀ ▁ਅਫਰੀਕਾ ▁24 ▁ਤੋਂ ▁28 ▁ਨਵੰਬਰ ▁2016 ▁ਆਸਟ੍ਰੇਲੀਆ ▁ਬਨਾਮ ▁ਪਾਕਿਸਤਾਨ ▁15 ▁ਤੋਂ ▁19 ▁ਦਸੰਬਰ ▁2016 ▁ਇੰਗਲੈਂਡ ▁ਬਨਾਮ ▁ਵੈਸਟਇੰਡੀਜ਼ ▁17 ▁ਤੋਂ ▁21 ਅਗਸਤ ▁2017 ▁ਪਾਕਿਸਤਾਨ ▁ਬਨਾਮ ▁ਸ੍ਰੀਲੰਕਾ ▁6 ▁ਤੋਂ ▁10 ▁ਅਕਤੂਬਰ ▁2017 ▁ਆਸਟ੍ਰੇਲੀਆ ▁ਬਨਾਮ ▁ਇੰਗਲੈਂਡ ▁2 ▁ਤੋਂ ▁6 ▁ਦਸੰਬਰ ▁2017 ▁ਦੱਖਣੀ ▁ਅਫਰੀਕਾ ▁ਬਨਾਮ ▁ਜਿੰ ਬਾਬ ਵੇ ▁26 ▁ਤੋਂ ▁29 ▁ਦਸੰਬਰ ▁2017 ▁ਨਿਊਜ਼ੀਲੈਂਡ ▁ਬਨਾਮ ▁ਇੰਗਲੈਂਡ ▁22 ▁ਤੋਂ ▁26 ▁ਮਾਰਚ ▁2018 ▁ਵੈਸਟਇੰਡੀਜ਼ ▁ਬਨਾਮ ▁ਸ੍ਰੀਲੰਕਾ ▁23 ▁ਤੋਂ ▁27 ▁ਜੂਨ ▁2018 ▁ਆਸਟ੍ਰੇਲੀਆ ▁ਬਨਾਮ ▁ਸ੍ਰੀਲੰਕਾ ▁24 ▁ਤੋਂ ▁28 ▁ਜਨਵਰੀ ▁ 2019 ▁post ed <unk> ▁b y : <unk> j it <unk>,▁x x bo s ▁ਸੈਂ ਸੈਕਸ ▁ਦੀਆਂ ▁ਟਾਪ ▁10 ▁ਕੰਪਨੀਆਂ ▁' ਚੋਂ ▁ਸੱਤ ▁ਦਾ ▁ਬਾਜ਼ਾਰ ▁ਪੂੰਜੀ ਕਰਨ ▁ਇਕ ▁ਲੱਖ ▁ਕਰੋੜ ▁ਘਟ ਿਆ <unk> ▁b <unk> us i n e <unk> <unk> ▁ <unk> news <unk> ( ਵ ਪਾਰ ) ▁ਸੈਂ ਸੈਕਸ ▁ਦੀਆਂ ▁ਟਾਪ ▁10 ▁ਕੰਪਨੀਆਂ ▁' ਚੋਂ ▁ਸੱਤ ▁ਦਾ ▁ਬਾਜ਼ਾਰ ▁ਪੂੰਜੀ ਕਰਨ ▁ਇਕ ▁ਲੱਖ ▁ਕਰੋੜ ▁ਘਟ ਿਆ ▁edit ed <unk> ▁b y <unk> ▁a art i <unk> ▁d hil lon , <unk> ▁t w it ter ▁ਨਵੀਂ ▁ਦਿੱਲੀ — ਸੈਂਸ ੈਕਸ ▁ਦੀਆਂ ▁ਟਾਪ ▁10 ▁ਕੰਪਨੀਆਂ ▁' ਚੋਂ ▁ਸੱਤ ▁ਦੇ ▁ਬਾਜ਼ਾਰ ▁ਪੂੰਜੀ ਕਰਨ ▁( ਐਮ - ਕ ੈਪ ) ▁' ਚ ▁ਬੀਤੇ ▁ਹਫਤੇ ▁ਕੁੱਲ ▁ਮਿਲਾ ▁ਕੇ ▁ਇਕ ▁ਲੱਖ ▁ਕਰੋੜ ▁ਰੁਪਏ ▁ਦੀ ▁ਕਮੀ ▁ਆਈ । ▁ਐੱਚ . ਡੀ . ਐੱਫ . ਸੀ . ▁ਬੈਂਕ ▁ਦੇ ▁ਐਮ - ਕ ੈਪ ▁' ਚ ▁ਸਭ ▁ਤੋਂ ▁ਜ਼ਿਆਦਾ ▁30,000 ▁ਕਰੋੜ ▁ਰੁਪਏ ▁ਤੋਂ ▁ਜ਼ਿਆਦਾ ▁ਦੀ ▁ਕਮੀ ▁ਦਰਜ ▁ਕੀਤੀ ▁ਗਈ ▁ਹੈ । ▁ਐੱਚ . ਡੀ . ਐੱਫ . ਸੀ . ▁ਬੈਂਕ ▁ਦੇ ▁ਇਲਾਵਾ , ▁ਰਿਲਾਇੰਸ ▁ਇੰਡਸਟਰੀਜ਼ , ▁ਹਿੰਦੁਸਤਾਨ ▁ਯੂਨੀ ਲੀ ਵਰ ▁ਲਿਮਟਿਡ , ▁ਐੱਚ . ਡੀ . ਐੱਫ . ਸੀ . , ▁ਕੋਟ ਕ ▁ਮਹਿੰਦਰ ਾ ▁ਬੈਂਕ , ▁ਆਈ . ਸੀ . ਆਈ . ਸੀ . ਆਈ . ▁ਅਤੇ ▁ਬਜਾਜ ▁ਫਾਈਨੈਂਸ ▁ਦਾ ▁ਬਾਜ਼ਾਰ ▁ਪੂੰਜੀ ਕਰਨ ▁ਘਟ ਿਆ ▁ਹੈ । ▁ਉੱਧ ਰ ▁ਦੂਜੇ ▁ਪਾਸੇ ▁ਟਾਟਾ ▁ਕੰਸ ਲਟ ੈਂਸੀ ▁ਸਰਵਿਸ ੇਜ਼ , ▁ਇੰ ਫ ੋਸਿਸ ▁ਅਤੇ ▁ਆਈ . ਟੀ . ਸੀ . ▁ਦੇ ▁ਬਾਜ਼ਾਰ ▁ਪੂੰਜੀ ਕਰਨ ▁' ਚ ▁ਵਾਧਾ ▁ਦਰਜ ▁ਕੀਤਾ ▁ਗਿਆ ▁ਹੈ । ▁ਐੱਚ . ਡੀ . ਐੱਫ . ਸੀ . ਬੈਂਕ ▁ਦਾ ▁ਬਾਜ਼ਾਰ ▁ਪੂੰਜੀ ਕਰਨ ▁30 , 19 8 . 62 ▁ਕਰੋੜ ▁ਰੁਪਏ ▁ਘੱਟ ▁ਕੇ ▁6 , 50 , 44 6. 47 ▁ਕਰੋੜ ▁ਰੁਪਏ ▁' ਤੇ ▁ਆ ▁ਗਿਆ ▁ਹੈ । ▁ਆਈ . ਸੀ . ਆਈ . ਸੀ . ਆਈ . ▁ਬੈਂਕ ▁ਦਾ ▁ਐਮ - ਕ ੈਪ ▁22 , 86 6. 93 ▁ਕਰੋੜ ▁ਰੁਪਏ ▁ਡਿੱਗ ▁ਕੇ ▁2 , 67 , 26 2. 32 ▁ਕਰੋੜ ▁ਰੁਪਏ ▁ਅਤੇ ▁ਕੋਟ ਕ ▁ਮਹਿੰਦਰ ਾ ▁ਬੈਂਕ ▁ਦਾ ▁ਪੂੰਜੀ ਕਰਨ ▁15 , 62 4. 6 ▁ਕਰੋੜ ▁ਘੱਟ ▁ਕੇ ▁2 , 98 , 4 13 . 27 ▁ਕਰੋੜ ▁ਰੁਪਏ ▁ਰਹਿ ▁ਗਿਆ । ▁ਇਸ ▁ਤਰ੍ਹਾਂ ▁ਹਿੰਦੁਸਤਾਨ ▁ਯੂਨੀ ਲੀ ਵਰ ▁ਦਾ ▁ਬਾਜ਼ਾਰ ▁ਪੂੰਜੀ ਕਰਨ ▁14 , 2 87 . 76 ▁ਕਰੋੜ ▁ਰੁਪਏ ▁ਘੱਟ ▁ਹੋ ▁ਕੇ ▁4 , 20 , 77 4. 52 ▁ਕਰੋੜ ▁ਰੁਪਏ ▁ਜਦੋਂਕਿ ▁ਐੱਚ . ਡੀ . ਐੱਫ . ਸੀ . ▁ਦਾ ▁ਐਮ - ਕ ੈਪ ▁10 , 1 78 . 8 4 ▁ਕਰੋੜ ▁ਰੁਪਏ ▁ਡਿੱਗ ▁ਕੇ ▁3 , 4 1,3 49 . 33 ▁ਕਰੋੜ ▁ਰੁਪਏ ▁' ਤੇ ▁ਆ ▁ਗਿਆ ▁ਹੈ । ▁ਬਜਾਜ ▁ਫਾਈਨੈਂਸ ▁ਦਾ ▁ਐਮ - ਕ ੈਪ ▁9 , 4 37 . 91 ▁ਕਰੋੜ ▁ਘੱਟ ▁ਕੇ ▁2 , 26 , 30 9.3 7 ▁ਕਰੋੜ ▁ਰੁਪਏ ▁ਅਤੇ ▁ਰਿਲਾਇੰਸ ▁ਇੰਡਸਟਰੀਜ਼ ▁ਦਾ ▁ਪੂੰਜੀ ਕਰਨ ▁8 24 .08 ▁ਕਰੋੜ ▁ਰੁਪਏ ▁ਘੱਟ ▁ਹੋ ▁ਕੇ ▁8 , 28 , 80 8 . 67 ▁ਕਰੋੜ ▁ਰੁਪਏ ▁ਰਹਿ ▁ਗਿਆ । ▁ਦੂਜੇ ▁ਪਾਸੇ , ▁ਟੀ . ਸੀ . ਐੱਸ . ▁ਦਾ ▁ਬਾਜ਼ਾਰ ▁ਪੂੰਜੀ ਕਰਨ ▁8 , 23 6. 49 ▁ਕਰੋੜ ▁ਰੁਪਏ ▁ਉ ਛ ਲ ▁ਕੇ ▁7, 79 , 98 9 .45 ▁ਕਰੋੜ ▁ਰੁਪਏ ▁ਅਤੇ ▁ਇੰ ਫ ੋਸਿਸ ▁ਦਾ ▁ਪੂੰਜੀ ਕਰਨ ▁4 , 68 1.5 9 ▁ਕਰੋੜ ▁ਰੁਪਏ ▁ਵਧ ▁ਕੇ ▁3 , 40 , 70 4. 24 ▁ਕਰੋੜ ▁ਰੁਪਏ ▁ਹੋ ▁ਗਿਆ । ▁ਆਈ . ਟੀ . ਸੀ . ਦਾ ▁ਐਮ - ਕ ੈਪ ▁5 ,344 . 62 ▁ਕਰੋੜ ▁ਰੁਪਏ ▁ਚੜ੍ਹ ▁ਕੇ ▁3 , 16 , 0 69 . 96 ▁ਕਰੋੜ ▁ਰੁਪਏ ▁' ਤੇ ▁ਪਹੁੰਚ ▁ਗਿਆ ।,▁x x bo s ▁ਵਿੱਦਿਆ ▁ਬਾਲ ਨ ▁ਨੇ ▁ਮਨਾਇਆ ▁ਵਰਲਡ ▁ਮੈਥ ਸ ▁ਡੇ <unk> ▁p ub lish <unk> ▁d ate : t u e , ▁15 <unk> ▁o ct ▁ 2019 ▁ 07 : 43 <unk> ▁p m ▁( i <unk> st ) ▁ਮਿਸ਼ਨ ▁ਮੰਗਲ ▁' ਚ ▁ਇਸ ਰੋ ▁ਦੇ ▁ਵਿਗਿਆਨੀ ▁ਦਾ ▁ਰੋਲ ▁ਨਿਭਾਉਣ ▁ਤੋਂ ▁ਬਾਅਦ ▁ਹੁਣ ▁ਅਦਾਕਾਰਾ ▁ਵਿੱਦਿਆ ▁ਬਾਲ ਨ ▁ਮਹਾਨ ▁ਗਣਿਤ ▁ਮਾਹਿਰ ▁ਸ਼ਕੁੰਤਲਾ ▁ਦੇਵੀ ▁ਦਾ ▁ਕਿਰਦਾਰ ▁ਨਿਭਾਉਣ ▁ਲਈ ▁ਪੂ ੁਰੀ ▁ਤਰ੍ਹਾਂ ▁ਤਿਆਰ ▁ਹੈ । ▁ਮਿਸ਼ਨ ▁ਮੰਗਲ ▁' ਚ ▁ਇਸ ਰੋ ▁ਦੇ ▁ਵਿਗਿਆਨੀ ▁ਦਾ ▁ਰੋਲ ▁ਨਿਭਾਉਣ ▁ਤੋਂ ▁ਬਾਅਦ ▁ਹੁਣ ▁ਅਦਾਕਾਰਾ ▁ਵਿੱਦਿਆ ▁ਬਾਲ ਨ ▁ਮਹਾਨ ▁ਗਣਿਤ ▁ਮਾਹਿਰ ▁ਸ਼ਕੁੰਤਲਾ ▁ਦੇਵੀ ▁ਦਾ ▁ਕਿਰਦਾਰ ▁ਨਿਭਾਉਣ ▁ਲਈ ▁ਪੂ ੁਰੀ ▁ਤਰ੍ਹਾਂ ▁ਤਿਆਰ ▁ਹੈ । ▁ਵਰਲਡ ▁ਮੈਥ ਸ ▁ਡੇ ▁ਮੌਕੇ ▁15 ▁ਅਕਤੂਬਰ ▁ਨੂੰ ▁ਅਦਾਕਾਰਾ ▁ਵਿੱਦਿਆ ▁ਬਾਲ ਨ ▁ਨੇ ▁ਉਨ੍ਹਾਂ ▁ਦੀ ▁ਆਉਣ ▁ਵਾਲੀ ▁ਫਿਲਮ ▁' ਸ਼ ਕੁ ੰਤ ਲਾ ▁ਦੇਵੀ ' ▁ਦਾ ▁ਇਕ ▁ਨਵਾਂ ▁ਪੋਸਟ ਰ ▁ਸ਼ੇਅਰ ▁ਕੀਤਾ ▁ਹੈ । ▁ਵਿੱਦਿਆ ▁ਨੇ ▁ਆਪਣੇ ▁ਇੰਸ ਟਾ ਗ੍ਰਾਮ ▁' ਤੇ ▁ਪੋਸਟ ਰ ▁ਸ਼ੇਅਰ ▁ਕਰਦਿਆਂ ▁ਕੈਪ ਸ਼ਨ ▁ਦਿੱਤਾ ▁ਹੈ , ▁' ਦੁਨੀਆ ▁ਦੀ ▁ਸੰਕਲਪ ਨਾ ▁ਜੋ ▁ਅੰਕਾਂ ▁ਨੂੰ ▁ਲੈ ▁ਕੇ ▁ਸੀ , ▁ਉਸ ▁ਨੂੰ ▁ਉਨ੍ਹਾਂ ▁ਬਦਲ ▁ਦਿੱਤਾ । ▁ਸੈਲੀ ਬ੍ਰੇਟ ਿੰਗ ▁ਦ ▁ਮੈਥ ▁ਵਿਦ ▁ਜੀ ਨੀਅਸ । ' ▁ਸ਼ਕੁੰਤਲਾ ▁ਦੇਵੀ ▁ਨੇ ▁ਆਪਣੇ ▁ਟੈਲ ੇਂਟ ▁ਦੀ ▁ਵਜ੍ਹਾ ▁ਨਾਲ ▁ਗਿਨੀ ਜ਼ ▁ਬੁੱਕ ▁ਆਫ ▁ਵਰਲਡ ▁ਰਿਕਾਰਡਜ਼ ▁' ਚ ▁ਆਪਣਾ ▁ਨਾਂ ▁ਦਰਜ ▁ਕਰਵਾ ▁ਲਿਆ ▁ਸੀ । ▁ਉਹ ▁ਪੰਜ ▁ਸਾਲ ▁ਦੀ ▁ਉਮਰ ▁' ਚ ▁ਹੀ ▁ਗਣਿਤ ▁ਦੀਆਂ ▁ਉਨ੍ਹਾਂ ▁ਸਮੱਸਿਆਵਾਂ ▁ਦਾ ▁ਹੱਲ ▁ਕੱਢ ▁ਦਿੰਦੀ ▁ਸੀ , ▁ਜੋ ▁18 ▁ਸਾਲ ▁ਦੇ ▁ਵਿਦਿਆਰਥੀ ▁ਹੀ ▁ਹੱਲ ▁ਕਰ ▁ਸਕਦੇ ▁ਹਨ । ▁ਹੁਣ ▁ਇਹ ▁ਵੇਖਣਾ ▁ਹੈ ▁ਕਿ ▁ਵਿੱਦਿਆ ▁ਉਨ੍ਹਾਂ ▁ਦੇ ▁ਕਿਰਦਾਰ ▁ਨੂੰ ▁ਕਿਸ ▁ਤਰ੍ਹਾਂ ▁ਨਿਭਾਉਂਦੀ ▁ਹੈ । ▁post ed <unk> ▁b y : <unk> ▁s ara b jee t <unk>,▁x x bo s ▁ਆਈ ਐੱਸ ਐੱਲ - 6 ▁ਦਾ ▁ਆਗਾਜ਼ , ▁ਬਲ ਾ ਸਟਰ ਜ਼ ▁ਨੇ ▁ਜਿੱਤਿਆ ▁ਮੈਚ <unk> ▁p ub lish <unk> ▁d ate : m on , ▁21 <unk> ▁o ct ▁ 2019 ▁12 : 39 <unk> <unk> ▁( i <unk> st ) ▁ਇੰਡੀਅਨ ▁ਸੁਪਰ ▁ਲੀਗ ▁( ਆਈ ਐੱਸ ਐੱਲ - 6 ) ▁ਦੇ ▁ਛੇਵੇਂ ▁ਸੈਸ਼ਨ ▁ਦੇ ▁ਪਹਿਲੇ ▁ਮੁਕਾਬਲੇ ▁ਵਿਚ ▁ਕੇਰਲ ▁ਬਲ ਾ ਸਟਰ ਜ਼ ▁ਨੇ ▁ਐਤਵਾਰ ▁ਨੂੰ ▁ਇੱਥੇ ▁ਜਵਾਹਰ ▁ਲਾਲ ▁ਨਹਿਰੂ ▁ਸਟੇਡੀਅਮ ▁ਵਿਚ ▁ਦੋ ▁ਵਾਰ ▁ਦੇ ▁ਚੈਂਪੀਅਨ ▁ਏ ਟੀ ਕੇ ▁ਨੂੰ ▁2 -1 ▁ਨਾਲ ▁ਹਰਾ ▁ਦਿੱਤਾ ▁ਤੇ ▁ਇਸੇ ▁ਨਾਲ ▁ਕੋਚੀ ▁( ਪੀ ਟੀ ਆਈ ) ▁: ▁ਇੰਡੀਅਨ ▁ਸੁਪਰ ▁ਲੀਗ ▁( ਆਈ ਐੱਸ ਐੱਲ - 6 ) ▁ਦੇ ▁ਛੇਵੇਂ ▁ਸੈਸ਼ਨ ▁ਦੇ ▁ਪਹਿਲੇ ▁ਮੁਕਾਬਲੇ ▁ਵਿਚ ▁ਕੇਰਲ ▁ਬਲ ਾ ਸਟਰ ਜ਼ ▁ਨੇ ▁ਐਤਵਾਰ ▁ਨੂੰ ▁ਇੱਥੇ ▁ਜਵਾਹਰ ▁ਲਾਲ ▁ਨਹਿਰੂ ▁ਸਟੇਡੀਅਮ ▁ਵਿਚ ▁ਦੋ ▁ਵਾਰ ▁ਦੇ ▁ਚੈਂਪੀਅਨ ▁ਏ ਟੀ ਕੇ ▁ਨੂੰ ▁2 -1 ▁ਨਾਲ ▁ਹਰਾ ▁ਦਿੱਤਾ ▁ਤੇ ▁ਇਸੇ ▁ਨਾਲ ▁ਇਸ ▁ਸੈਸ਼ਨ ▁ਦਾ ▁ਅਗਾ ਜ਼ ▁ਵੀ ▁ਹੋ ▁ਗਿਆ । ▁ਬਲ ਾ ਸਟਰ ਜ਼ ▁ਦੀ ▁ਜਿੱਤ ▁ਵਿਚ ▁ਉਸ ▁ਦੇ ▁ਕਪਤਾਨ ▁ਬਾਰ ਥੋਲ ੋਮੋ ਵ ▁ਓ ਗ ਬੇ ਚੇ ▁ਦਾ ▁ਅਹਿਮ ▁ਯੋਗਦਾਨ ▁ਰਿਹਾ ▁ਜਿਨ੍ਹਾਂ ▁ਨੇ ▁ਦੋਵੇਂ ▁ਗੋਲ ▁ਕੀਤੇ । ▁ਇਸ ▁ਤੋਂ ▁ਪਹਿਲਾਂ ▁ਖੇਡ ▁ਦੇ ▁ਛੇਵੇਂ ▁ਮਿੰਟ ▁ਵਿਚ ▁ਹੀ ▁ਕਾਰਲ ▁ਮੈਕ ਹ ਗ ▁ਨੇ ▁ਗੇਂਦ ▁ਨੂੰ ▁ਗੋਲ ▁ਪੋਸਟ ▁ਵਿਚ ▁ਪਹੁੰਚਾ ▁ਕੇ ▁ਏ ਟੀ ਕੇ ▁ਨੂੰ ▁ਬ ੜ੍ਹ ਤ ▁ਦਿਵਾਈ ▁ਸੀ । ▁ਹਾਲਾਂਕਿ ▁35 000 ▁ਦਰਸ਼ਕਾਂ ▁ਦੀ ▁ਮੌਜੂਦਗੀ ▁ਵਿਚ ▁ਓ ਗ ਬੇ ਚੇ ▁(3 0 ਵੇਂ ▁ਤੇ ▁45 ਵੇਂ ▁ਮਿੰਟ ) ▁ਨੇ ▁15 ▁ਮਿੰਟ ▁ਅੰਦਰ ▁ਦੋ ▁ਗੋਲ ▁ਕਰ ▁ਕੇ ▁ਆਪਣੀ ▁ਟੀਮ ▁ਨੂੰ ▁ਸ਼ਾਨਦਾਰ ▁ਜਿੱਤ ▁ਦਿਵਾਈ ।,▁x x bo s ▁ਬਚਪਨ ▁ਦੇ ▁ਦੋਸਤ ▁ਲਈ ▁ਰਣ ਵੀਰ ▁ਸਿੰਘ ▁ਨੇ ▁ਬਦਲਿਆ ▁ਆਪਣਾ ▁ਸ਼ ਡ ਿਊਲ <unk> ▁p ub lish <unk> ▁d ate : f ri , ▁18 <unk> ▁o ct ▁ 2019 ▁ 08 : 18 <unk> ▁p m ▁( i <unk> st ) ▁ਆਮ ▁ਤੌਰ ▁' ਤੇ ▁ਉਸ ▁ਵਿਚ ▁ਬਦਲਾਅ ▁ਦੀ ▁ਗੁੰਜਾਇਸ਼ ▁ਨਹੀਂ ▁ਹੁੰਦੀ ▁ਹੈ , ▁ਪਰ ▁ਜਦੋਂ ▁ਗੱਲ ▁ਬਚਪਨ ▁ਦੀ ▁ਦੋਸਤੀ ▁ਦੀ ▁ਆਉਂਦੀ ▁ਹੈ ▁ਤਾਂ ▁ਹਰ ▁ਬਦਲਾਅ ▁ਮੁਮਕਿਨ ▁ਹੈ । ▁ਕੁਝ ▁ਅਜਿਹਾ ▁ਹੀ ▁ਕੀਤਾ ▁ਰਣ ਵੀਰ ▁ਸਿੰਘ ▁ਨੇ ▁ਵੀ । ▁ਦਰਅਸਲ , ▁ਉਨ੍ਹਾਂ ▁ਦੀ ▁ਬ੍ਰ ਾਈਡ ਲ ▁ਡਿਜ਼ਾਈਨ ▁ਸਿਤਾਰੇ ▁ਆਪਣੇ ▁ਮਸ ਰੂ ਫ਼ ▁ਸ਼ ਡ ਿਊਲ ▁ਮੁਤਾਬਕ ▁ਹੀ ▁ਕੰਮ ▁ਕਰਦੇ ▁ਹਨ । ▁ਆਮ ▁ਤੌਰ ▁' ਤੇ ▁ਉਸ ▁ਵਿਚ ▁ਬਦਲਾਅ ▁ਦੀ ▁ਗੁੰਜਾਇਸ਼ ▁ਨਹੀਂ ▁ਹੁੰਦੀ ▁ਹੈ , ▁ਪਰ ▁ਜਦੋਂ ▁ਗੱਲ ▁ਬਚਪਨ ▁ਦੀ ▁ਦੋਸਤੀ ▁ਦੀ ▁ਆਉਂਦੀ ▁ਹੈ ▁ਤਾਂ ▁ਹਰ ▁ਬਦਲਾਅ ▁ਮੁਮਕਿਨ ▁ਹੈ । ▁ਕੁਝ ▁ਅਜਿਹਾ ▁ਹੀ ▁ਕੀਤਾ ▁ਰਣ ਵੀਰ ▁ਸਿੰਘ ▁ਨੇ ▁ਵੀ । ▁ਦਰਅਸਲ , ▁ਉਨ੍ਹਾਂ ▁ਦੀ ▁ਬ੍ਰ ਾਈਡ ਲ ▁ਡਿਜ਼ਾਈਨ ▁ਫ੍ਰੈਂਡ ▁ਸਿਮੋਨ ▁ਖੰਬ ਾ ਟਾ ▁ਉਨ੍ਹਾਂ ▁ਦੀ ▁ਬਚਪਨ ▁ਦੀ ▁ਦੋਸਤ ▁ਹੈ । ▁ਜਦੋਂ ▁ਦੋਵੇਂ ▁11 ▁ਸਾਲ ▁ਦੇ ▁ਸਨ , ▁ਉਦੋਂ ▁ਤੋਂ ▁ਉਨ੍ਹਾਂ ▁ਦੀ ▁ਦੋਸਤੀ ▁ਚੱਲੀ ▁ਆ ▁ਰਹੀ ▁ਹੈ । ▁ਵਧਦੀ ▁ਉਮਰ ▁ਨਾਲ ▁ਰਣ ਵੀਰ ▁ਦੀ ▁ਸਭ ▁ਤੋਂ ▁ਚੰਗੀ ▁ਦੋਸਤ ▁ਸਿਮੋਨ ▁ਉਨ੍ਹਾਂ ▁ਨਾਲ ▁ਕਈ ▁ਯਾਤਰਾਵਾਂ ▁' ਤੇ ▁ਵੀ ▁ਗਈ ▁ਹੈ । ▁ਸਟਾਰ ▁ਬਣਨ ▁ਤੋਂ ▁ਬਾਅਦ ▁ਰਣ ਵੀਰ ▁ਦਾ ▁ਸ਼ੂਟਿੰਗ ▁ਦੇ ▁ਸਿਲਸਿਲੇ ▁ਵਿਚ ▁ਮੁੰਬਈ ▁ਤੋਂ ▁ਬਾਹਰ ▁ਆਉਣਾ - ਜਾਣ ਾ ▁ਲੱਗਾ ▁ਰਹਿੰਦਾ ▁ਹੈ । ▁ਇਸ ▁ਵਾਰ ▁ਜਦੋਂ ▁ਉਨ੍ਹਾਂ ▁ਦੀ ▁ਦੋਸਤ ▁ਨੂੰ ▁ਉਨ੍ਹਾਂ ▁ਦੀ ▁ਜ਼ਰੂਰਤ ▁ਸੀ ▁ਤਾਂ ▁ਰਣ ਵੀਰ ▁ਮੁੰਬਈ ▁ਵਿਚ ▁ਹੀ ▁ਸਨ । ▁ਸੂਤਰਾਂ ▁ਦੀ ▁ਮੰਨੀ ਏ ▁ਤਾਂ ▁ਸਿਮੋਨ ▁ਦੋ ▁ਦਿਨਾਂ ▁ਤਕ ▁ਚੱਲਣ ▁ਵਾਲੇ ▁ਵੈਡ ਿੰਗ ▁ਐਗ ਜੀ ਬਿ ਸ਼ਨ ▁ਵਿਚ ▁ਆਪਣਾ ▁ਕਲੈਕਸ਼ਨ ▁ਸ਼ੋਅ ਕੇਸ ▁ਕਰਨ ▁ਵਾਲੀ ▁ਸੀ । ▁ਜਿਵੇਂ ▁ਹੀ ▁ਇਸ ▁ਦੀ ▁ਖ਼ਬਰ ▁ਰਣ ਵੀਰ ▁ਨੂੰ ▁ਲੱਗੀ , ▁ਉਨ੍ਹਾਂ ▁ਸਿਮੋਨ ▁ਦੇ ▁ਸ਼ੋਅ ▁ਵਿਚ ▁ਰ ੈਂਪ ▁ਵਾਕ ▁ਕਰਨ ▁ਲਈ ▁ਉਸ ▁ਦਿਨ ▁ਦੇ ▁ਸਾਰੇ ▁ਕੰਮ ▁ਰੱਦ ▁ਕਰ ▁ਦਿੱਤੇ ▁ਅਤੇ ▁ਪੂਰਾ ▁ਦਿਨ ▁ਆਪਣੀ ▁ਦੋਸਤ ▁ਨੂੰ ▁ਸਮਰਪਿਤ ▁ਕਰ ▁ਦਿੱਤਾ । ▁ਸਿਮੋਨ ▁ਨੂੰ ▁ਸਪੋਰਟ ▁ਕਰਨ ▁ਲਈ ▁ਰਣ ਵੀਰ ▁ਉਸ ▁ਦੇ ▁ਫੈਸ਼ਨ ▁ਸ਼ੋਅ ▁ਵਿਚ ▁ਪੁੱਜੇ । ▁ਸਿਮੋਨ ▁ਰਣ ਵੀਰ ▁ਦੇ ▁ਸ਼ੋਅ ▁ਸਟਾਪ ਰ ▁ਬਣਨ ▁ਦੇ ▁ਫ਼ੈਸਲੇ ▁ਤੋਂ ▁ਬਹੁਤ ▁ਖ਼ੁਸ਼ ▁ਸੀ । ▁ਉਨ੍ਹਾਂ ▁ਕਿਹਾ ▁ਕਿ ▁ਰਣ ਵੀਰ ▁ਅਤੇ ▁ਉਨ੍ਹਾਂ ▁ਦੀ ▁ਦੋਸਤੀ ▁ਸਮੇਂ ▁ਦੇ ▁ਨਾਲ - ਨਾਲ ▁ਡੂੰਘੀ ▁ਹੋਈ ▁ਹੈ । ▁ਜਦੋਂ ▁ਰਣ ਵੀਰ ▁ਆਪਣੇ ▁ਜਨਮ ▁ਦਿਨ ▁ਦੀ ▁ਪਾਰਟੀ ▁ਵਿਚ ▁ਗੋਵਿੰਦ ਾ ▁ਦੇ ▁ਗੀਤਾਂ ▁' ਤੇ ▁ਡਾਂਸ ▁ਕਰਦੇ ▁ਸਨ , ▁ਉਹ ▁ਉਦੋਂ ▁ਤੋਂ ▁ਹੀ ▁ਇਹ ▁ਗੱਲ ▁ਜਾਣਦੀ ▁ਸੀ ▁ਕਿ ▁ਉਹ ▁ਇਕ ▁ਦਿਨ ▁ਬਹੁਤ ▁ਵੱਡੇ ▁ਸਟਾਰ ▁ਬਣਨ ਗੇ । ▁post ed <unk> ▁b y : ▁su kh de v <unk>\n",
              "y: CategoryList\n",
              "sports,business,entertainment,sports,entertainment\n",
              "Path: .;\n",
              "\n",
              "Valid: LabelList (312 items)\n",
              "x: TextList\n",
              "▁x x bo s ▁ ⁄ ▁ਮਨੋਰੰਜਨ ▁ ⁄ ▁ਬਾਲੀਵੁੱਡ <unk> <unk> ▁g ag a <unk> ▁v ir al <unk> ▁v ide o : ▁ਫੈਨ ▁ਨੇ ▁ਕੀਤੀ ▁ਅਜਿਹੀ ▁ਹਰਕਤ ▁ਕਿ ▁ਲਾਈਵ ▁ਕੰਸ ਰਟ ▁ਦੌਰਾਨ ▁ਸਟੇਜ ▁ਤੋਂ ▁ਡਿੱਗ ੀ ▁ਲੇਡੀ ▁ਗਾਗ ਾ , ▁ਦੇਖੋ ▁ਵਾਇਰਲ ▁ਵੀਡੀਓ <unk> ▁p ub lish <unk> ▁d ate : <unk> <unk> , ▁19 <unk> ▁o ct ▁ 2019 ▁0 2 :15 <unk> ▁p m ▁( i <unk> st ) ▁ਅਮਰੀਕਾ ▁ਦੀ ▁ਪਾਪ ਲੂਰ ▁ਗਾਇਕਾ ▁ਲੇਡੀ ▁ਗਾਗ ਾ ▁ਆਏ ▁ਦਿਨ ▁ਬੇ ਹਤਰੀਨ ▁ਗਾਣ ਿਆਂ ▁ਦੇ ▁ਚਲਦੇ ▁ਸੁਰਖੀਆਂ ▁' ਚ ▁ਬਣੀ ▁ਰਹਿੰਦੀ ▁ਹੈ । ▁ਲੇਡੀ ▁ਗਾਗ ਾ ▁ਨੂੰ ▁ਹਾਲ ▁ਹੀ ▁' ਚ ▁ਫਿਲਮ ▁' ਅ ▁ਸਟਾਰ ▁ਈ ਜ਼ ▁ਬੋਰਨ ' ▁ਦੇ ▁ਗਾਣੇ ▁' ਸ਼ੈਲ ੋ ' ▁ਲਈ ▁ਆਸਕਰ ▁ਐਵਾਰਡ ▁ਨਾਲ ▁ਨਵ ਜ ਾਇਆ ▁ਜਾ ▁ਜੇ ਐੱਨ ਐੱਨ , ▁ਨਵੀਂ ▁ਦਿੱਲੀ ▁: ▁ਅਮਰੀਕਾ ▁ਦੀ ▁ਪਾਪ ਲੂਰ ▁ਗਾਇਕਾ ▁ਲੇਡੀ ▁ਗਾਗ ਾ ▁ਆਏ ▁ਦਿਨ ▁ਬੇ ਹਤਰੀਨ ▁ਗਾਣ ਿਆਂ ▁ਦੇ ▁ਚਲਦੇ ▁ਸੁਰਖੀਆਂ ▁' ਚ ▁ਬਣੀ ▁ਰਹਿੰਦੀ ▁ਹੈ । ▁ਲੇਡੀ ▁ਗਾਗ ਾ ▁ਨੂੰ ▁ਹਾਲ ▁ਹੀ ▁' ਚ ▁ਫਿਲਮ ▁' ਅ ▁ਸਟਾਰ ▁ਈ ਜ਼ ▁ਬੋਰਨ ' ▁ਦੇ ▁ਗਾਣੇ ▁' ਸ਼ੈਲ ੋ ' ▁ਲਈ ▁ਆਸਕਰ ▁ਐਵਾਰਡ ▁ਨਾਲ ▁ਨਵ ਜ ਾਇਆ ▁ਜਾ ▁ਚੁੱਕਿਆ ▁ਹੈ । ▁ਪਰ ▁ਇਨ੍ ਹੀਂ ▁ਦਿਨਾਂ ▁ਗਾਗ ਾ ▁ਆਪਣੇ ▁ਇਕ ▁ਫੈਨ ▁ਦੀ ▁ਹਰਕਤ ▁ਕਾਰਨ ▁ਸੋਸ਼ਲ ▁ਮੀਡੀਆ ▁' ਤੇ ▁ ਛਾਈ ▁ਹੋਈ ▁ਹੈ । ▁ਦਰਅਸਲ ▁ਹਾਲ ▁ਹੀ ▁' ਚ ▁ਲੇਡੀ ▁ਗਾਗ ਾ ▁ਇਕ ▁ਕੰਸ ਰਟ ▁' ਚ ▁ਪਹੁੰਚੀ ▁ਸੀ ▁ਜਿੱਥੇ ▁ਇਕ ▁ਵੀਡੀਓ ▁ਇਨ੍ ਹੀਂ ▁ਦਿਨੀਂ ▁ਸੋਸ਼ਲ ▁ਮੀਡੀਆ ▁' ਤੇ ▁ਤੇ ਜ਼ੀ ▁ਨਾਲ ▁ਵਾਇਰਲ ▁ਹੋ ▁ਰਹੀ ▁ਹੈ । ▁ਇਸ ▁ਵੀਡੀਓ ▁' ਚ ▁ਦਿਖਾਇਆ ▁ਗਿਆ ▁ਹੈ ▁ਕਿ ▁ਸਟੇਜ ਼ ▁' ਤੇ ▁ਪਰ ਫਾਰਮ ▁ਕਰਨ ▁ਦੌਰਾਨ ▁ਲੇਡੀ ▁ਗਾਗ ਾ ▁ਦਾ ▁ਇਕ ▁ਫੈਨ ▁ਸਟੇਜ ਼ ▁' ਤੇ ▁ਅਚਾਨਕ ▁ਚੜ ▁ਜਾਂਦਾ ▁ਹੈ । ▁ਕਿਉਂਕਿ ▁ਲੇਡੀ ▁ਗਾਗ ਾ ▁ਹਮੇਸ਼ਾ ▁ਤੋਂ ▁ਹੀ ▁ਆਪਣੇ ▁ਫੈਨ ਜ਼ ▁ਦਾ ▁ਖਿਆਲ ▁ਰੱਖਦੀ ▁ਹੈ । ▁ਸਟੇਜ ਼ ▁' ਤੇ ▁ਪਹੁੰਚੇ ▁ਆਪਣੇ ▁ਫੈਨ ਜ਼ ▁ਨੂੰ ▁ਦੇਖ ▁ਕੇ ▁ਲੇਡੀ ▁ਗਾਗ ਾ ▁ਨੇ ▁ਉਸ ▁ਨੂੰ ▁ਗਲ਼ ੇ ▁ਲਗਾ ▁ਲਿਆ , ▁ਪਰ ▁ਉਸ ▁ਤੋਂ ▁ਬਾਅਦ ▁ਜੋ ▁ਹੋਇਆ ▁ਉਹ ▁ਕਾਫੀ ▁ਹੈਰਾਨ ▁ਕਰਨ ▁ਵਾਲਾ ▁ਸੀ । ▁w ww . ins ta gra m . com ▁/ ▁ tv ▁/ <unk> ▁b 3 v 9 r n z j l k y ▁/ ▁ਜਿਵੇਂ ▁ਹੀ ▁ਫੈਨ ▁ਨੇ ▁ਲੇਡੀ ▁ਗਾਗ ਾ ▁ਨੂੰ ▁ਆਪਣੇ ▁ਗਲ਼ ੇ ▁ਨਾਲ ▁ਲਗਾਇਆ , ▁ਉਵੇਂ ▁ਹੀ ▁ਗਾਗ ਾ ▁ਉਨ੍ਹਾਂ ▁ਦੀ ▁ਗੋਦ ▁' ਚ ▁ਆ ▁ਗਈ , ▁ਫੈਨ ਜ਼ ▁ਸਟੇਜ ਼ ▁' ਤੇ ▁ਗਾਗ ਾ ▁ਨੂੰ ▁ਉਠਾ ▁ਕੇ ▁ਮਸਤੀ ▁ਕਰ ▁ਰਿਹਾ ▁ਸੀ ▁ਉਦੋਂ ▁ਉਨ੍ਹਾਂ ▁ਦਾ ▁ਬੈਲੇ ਂਸ ▁ਖਰਾਬ ▁ਹੋ ▁ਗਿਆ ▁ਤੇ ▁ਉਹ ▁ਗਾਗ ਾ ▁ਨੂੰ ▁ਲੈ ▁ਕੇ ▁ਸਟੇਜ ਼ ▁ਤੋਂ ▁ਸਿੱਧਾ ▁ਹੇਠਾਂ ▁ਡਿੱਗ ▁ਗਿਆ । ▁ਇਸ ▁ਮੰ ਜ਼ਰ ▁ਨੂੰ ▁ਦੇਖ ▁ਕੰਸ ਰਟ ▁' ਚ ▁ਮੌਜੂਦ ▁ਸਾਰੇ ▁ਲੋਕ ▁ਹੱਕ ਾ - ਬ ੱਕਾ ▁ਰਹਿ ▁ਗਏ । ▁ਅਚਾਨਕ ▁ਜ਼ਮੀਨ ▁' ਤੇ ▁ਡਿੱਗ ੀ ▁ਲੇਡੀ ▁ਗਾਗ ਾ ▁ਨੇ ▁ਮਾਈ ਕ ▁' ਤੇ ▁ਕਿਹਾ , ▁' ਸਭ ▁ਠੀਕ ▁ਹੈ ▁ਤੇ ▁ਇਸੇ ▁ਨਾਲ ▁ਕੌਨ ਸਰ ਟ ▁' ਚ ▁ਦੁਬਾਰਾ ▁ਜਾਨ ▁ਆ ▁ਗਈ । ' ▁ਲੇਡੀ ▁ਗਾਗ ਾ ▁ਨੇ ▁ਮਾਈ ਕ ▁' ਤੇ ▁ਆਪਣੇ ▁ਫੈਨ ▁ਨੂੰ ▁ਕਿਹਾ ▁ਕਿ ▁ਇਹ ▁ਤੁਹਾਡੀ ▁ਗਲਤੀ ▁ਨਹੀਂ ▁ਹੈ , ▁ਚ ਲੋ ▁ , ▁ਕੀ ▁ਤੁਸੀਂ ▁ਠੀਕ ▁ਹੋ । ▁ਇਸ ▁ਤੋਂ ▁ਬਾਅਦ ▁ਗਾਗ ਾ ▁ਦੁਬਾਰਾ ▁ਆਪਣੇ ▁ਫੈਨ ▁ਨੂੰ ▁ਸਟੇਜ ਼ ▁' ਤੇ ▁ਲੈ ▁ਕੇ ▁ਜਾਂਦੀ ▁ਹੈ । ▁ਲੇਡੀ ▁ਗਾਗ ਾ ▁ਦਾ ▁ਇਹ ▁ਐਕਸ਼ਨ ▁ਦੇਖ ▁ਕੇ ▁ਪੂਰਾ ▁ਗਰਾਊਂਡ ▁ਉਨ੍ਹਾਂ ▁ਦੀ ▁ਤਾਰੀਫ਼ ▁ਕਰ ▁ਰਿਹਾ ▁ਸੀ । ▁post ed <unk> ▁b y : <unk> ▁a mi ta <unk> ▁v er ma,▁x x bo s ▁ ⁄ ▁ਮਨੋਰੰਜਨ ▁ ⁄ ▁ਬਾਲੀਵੁੱਡ ▁ਨਸੀਰ ੂਦੀਨ ▁ਸ਼ਾਹ ▁ਦੇ ▁ਬਿਆਨ ▁' ਤੇ ▁ਹੰਗਾਮ ਾ , ▁ ਪਾਕਿ ▁ਦਾ ▁ਹੋਇਆ ▁ਟਿਕਟ ▁ਬੁੱਕ <unk> ▁p ub lish <unk> ▁d ate : f ri , ▁21 ▁de c ▁2018 ▁ 05 : 10 <unk> ▁p m ▁( i <unk> st ) ▁ਨਸੀਰ ੂਦੀਨ ▁ਸ਼ਾਹ ▁ਦਾ ▁ਇਕ ▁ਵੀਡੀਓ ▁ਵਾਇਰਲ ▁ਹੋ ▁ਰਿਹਾ ▁ਹੈ ▁ਜਿਸ ▁' ਚ ▁ਉਨ੍ਹਾਂ ▁ਦੇ ▁ਦਿੱਤੇ ▁ਗਏ ▁ਬਿਆਨ ▁ਨੂੰ ▁ਲੈ ▁ਕੇ ▁ਕਾਫੀ ▁ਹੰਗਾਮ ਾ ▁ਮਚ ▁ਗਿਆ ▁ਹੈ । ▁ਨਸੀਰ ▁ਦੇ ▁ਬਿਆਨ ▁ਤੋਂ ▁ਬਾਅਦ ▁ਕਿਤੇ ▁ਦੇਸ਼ ▁' ਚ ▁ਅ ਸਹਿਣ ਸ਼ੀਲਤਾ ▁ਦੀ ▁ਕੋਈ ▁ਵਾਪਸੀ ▁ਤਾਂ ▁ਨਹੀਂ ▁ਹੋ ▁ਰਹੀ ▁ਮੁੰਬਈ - ▁ਨਸੀਰ ੂਦੀਨ ▁ਸ਼ਾਹ ▁ਦਾ ▁ਇਕ ▁ਵੀਡੀਓ ▁ਵਾਇਰਲ ▁ਹੋ ▁ਰਿਹਾ ▁ਹੈ ▁ਜਿਸ ▁' ਚ ▁ਉਨ੍ਹਾਂ ▁ਦੇ ▁ਦਿੱਤੇ ▁ਗਏ ▁ਬਿਆਨ ▁ਨੂੰ ▁ਲੈ ▁ਕੇ ▁ਕਾਫੀ ▁ਹੰਗਾਮ ਾ ▁ਮਚ ▁ਗਿਆ ▁ਹੈ । ▁ਨਸੀਰ ▁ਦੇ ▁ਬਿਆਨ ▁ਤੋਂ ▁ਬਾਅਦ ▁ਕਿਤੇ ▁ਦੇਸ਼ ▁' ਚ ▁ਅ ਸਹਿਣ ਸ਼ੀਲਤਾ ▁ਦੀ ▁ਕੋਈ ▁ਵਾਪਸੀ ▁ਤਾਂ ▁ਨਹੀਂ ▁ਹੋ ▁ਰਹੀ ▁ਹੈ । ▁ਨਸੀਰ ▁ਪਿਛਲੇ ▁ਕੁਝ ▁ਦਿਨਾਂ ▁ਤੋਂ ▁ਚਰਚਾ ▁' ਚ ▁ਹੈ । ▁ਪਹਿਲਾਂ ▁ਉਨ੍ਹਾਂ ▁ਟੀਮ ▁ਇੰਡੀਆ ▁ਦੇ ▁ਕਪਤਾਨ ▁ਵਿਰਾਟ ▁ਕੋਹਲੀ ▁ਖਿਲਾਫ਼ ▁ਟਿੱਪਣੀ ▁ਕਰਦਿਆਂ ▁ਕਿਹਾ , ▁' ▁ਉਹ ▁ਨਾ ▁ਸਿਰਫ ▁ਦੁਨੀਆ ▁ਦਾ ▁ਵਧੀਆ ▁ਬੱਲੇਬਾਜ਼ ▁ਹੈ ▁ਬਲਕਿ ▁ਉਹ ▁ਦੁਨੀਆ ▁ਦਾ ▁ਸਭ ▁ਤੋਂ ▁ਖਰਾਬ ▁ਵਰਤ ਾਅ ▁ਕਰਨ ▁ਵਾਲਾ ▁ਖਿਡਾਰੀ ▁ਹੈ । ▁ਉਨ੍ਹਾਂ ▁ਦੇ ▁ਗਲਤ ▁ਵਰਤ ਾਅ ▁ਸਾਹਮਣੇ ▁ਉਨਾਂ ▁ਦੀ ▁ਇਸ ▁ਖੇਡ ▁ਦੀ ▁ਮਹਾਨਤਾ ▁ਫੀ ਕੀ ▁ਲੱਗਣ ▁ਲੱਗਦੀ ▁ਹੈ । ' ▁ਦੂਜਾ ▁ਵਿਵਾਦ ▁ਹੋਇਆ ▁ਹੈ ▁ਨਸੀਰ ▁ਦੇ ▁ਵੀਡੀਓ ▁ਨੂੰ ▁ਲੈ ▁ਕੇ । ▁' ਕਾਰ ਵਾਂ - ਏ - ਮੁਹ ੰਬ ਤ ▁ਇੰਡੀਆ ' ▁ਦੇ ▁ਇਕ ▁ਵੀਡੀਓ ▁ਇੰਟਰਵਿਊ ▁' ਚ ▁ਨਸੀਰ ▁ਨੇ ▁ਭੀੜ ▁ਦੀ ▁ਹਿੰਸਾ ▁ਨੂੰ ▁ਲੈ ▁ਕੇ ▁ਟਿੱਪਣੀ ▁ਕਰਦਿਆਂ ▁ਕਿਹਾ ▁ਕਿ ▁ਕਈ ▁ਥਾਵਾਂ ▁' ਤੇ ▁ਇਕ ▁ਗਾਂ ▁ਦੀ ▁ਮੌਤ ▁ਨੂੰ ▁ਇਕ ▁ਪੁਲਿਸ ▁ਅਧਿਕਾਰੀ ▁ਦੀ ▁ਹੱਤਿਆ ▁ਨਾਲ ▁ਜ਼ਿਆਦਾ ▁ਤਵੱਜੋ ▁ਦਿੱਤੀ ▁ਗਈ ▁ਹੈ । ▁ਕਈ ▁ਰਾਜਨੀਤਕ ▁ਦਲ ▁ਨਸੀਰ ੂਦੀਨ ▁ਸ਼ਾਹ ▁ਦੀ ▁ਅਲੋਚਨਾ ▁ਕਰ ▁ਰਹੇ ▁ਹਨ ▁ਤੇ ▁ਕੁਝ ▁ਬਿਆਨ ▁ਦਾ ▁ਸਮਰਥਨ ▁ਵੀ ▁ਕਰ ▁ਰਹੇ ▁ਹਨ ▁ਪਰ ▁ਹੁਣ ▁ਉੱਤਰ ▁ਪ੍ਰਦੇਸ਼ ▁ਨਵ - ਨਿਰਮਾਣ ▁ਸੈਨਾ ▁ਦੇ ▁ਮੁਖੀ ▁ਅਮਿਤ ▁ਜਾਨੀ ▁ਨੇ ▁ਨਸੀਰ ੂਦੀਨ ▁ਸ਼ਾਹ ▁ਲਈ ▁ਪਾਕਿਸਤਾਨ ▁ਦੀ ▁ਟਿਕਟ ▁ਬੁੱਕ ▁ਕਰਵਾ ▁ਦਿੱਤੀ ▁ਹੈ ।,▁x x bo s ▁ਮਾਸਟਰ ▁ਹੈੱਡ <unk> ▁p ub lish <unk> ▁d ate : m on , ▁20 <unk> ▁a ug ▁2018 ▁10 : 24 <unk> ▁p m ▁( i <unk> st ) ▁ਇੰਡੋਨੇਸ਼ੀਆ ▁ਦੇ ▁ਰਾਸ਼ਟਰਪਤੀ ▁ਜੋ ਕੋ ▁ਜੋ ਕੋਵ ੀ ▁ਵਿ ਡੋ ਡੋ ▁ਨੇ ▁ਇੰਡੋਨੇਸ਼ੀਆ ▁ਦੀ ▁ਵੁ ਸ਼ੂ ▁ਐਥਲੀਟ ▁ਲ ਿੰਡ ਸ ਵੇਲ ▁ਕਵ ੋਕ ▁ਨੂੰ ▁ਏਸ਼ੀਆ ▁ਦੀ ▁ਕ ▁ਇੰਡੋਨੇਸ਼ੀਆ ▁ਦੇ ▁ਰਾਸ਼ਟਰਪਤੀ ▁ਜੋ ਕੋ ▁ਜੋ ਕੋਵ ੀ ▁ਵਿ ਡੋ ਡੋ ▁ਨੇ ▁ਇੰਡੋਨੇਸ਼ੀਆ ▁ਦੀ ▁ਵੁ ਸ਼ੂ ▁ਐਥਲੀਟ ▁ਲ ਿੰਡ ਸ ਵੇਲ ▁ਕਵ ੋਕ ▁ਨ ▁ਇੰਡੋਨੇਸ਼ੀਆ ▁ਦੇ ▁ਰਾਸ਼ਟਰਪਤੀ ▁ਜੋ ਕੋ ▁ਜੋ ਕੋਵ ੀ ▁ਵਿ ਡੋ ਡੋ ▁ਨੇ ▁ਇੰਡੋਨੇਸ਼ੀਆ ▁ਦੀ ▁ਵੁ ਸ਼ੂ ▁ਐਥਲੀਟ ▁ਲ ਿੰਡ ਸ ਵੇਲ ▁ਕਵ ੋਕ ▁ਨੂੰ ▁ਏਸ਼ੀਆ ▁ਦੀ ▁ਕਵੀ ਨ ▁ਦੱਸਿਆ । ▁ਲ ਿੰਡ ਸ ਵੇਲ ▁ਨੇ ▁ਏਸ਼ੀਅਨ ▁ਖੇਡਾਂ ▁ਵਿਚ ▁ਦੂਜਾ ▁ਗੋਲਡ ▁ਮੈਡਲ ▁ਜਿੱਤਿਆ ▁ਹੈ ।,▁x x bo s ▁ਟੀਵੀ ਐੱਸ ▁ਮੋਟਰ ▁ਦਾ ▁ਮੁਨਾਫ਼ਾ ▁ਵਧ ▁ਕੇ ▁ਹੋਇਆ ▁15 4. 3 ▁ਕਰੋੜ ▁ਰੁਪਏ <unk> ▁p ub lish <unk> ▁d ate : t u e , ▁30 <unk> ▁2018 ▁ 04 : 20 <unk> ▁p m ▁( i <unk> st ) ▁ਨਵੀਂ ▁ਦਿੱਲੀ ▁( ਏ ਜ ੰਸ ੀ ) ▁: ▁ਵਿੱਤੀ ▁ਸਾਲ ▁2018 ▁ਦੀ ▁ਤੀਜੀ ▁ਤਿਮਾਹੀ ▁' ਚ ▁ਟੀਵੀ ਐੱਸ ▁ਮੋਟਰ ▁ਦਾ ▁ਮੁਨਾਫ਼ਾ ▁16 . 3 ▁ਫ਼ੀਸਦੀ ▁ਵਧ ▁ਕੇ ▁15 4. 3 ▁ਕਰੋ ੋ ੜ ▁ਰੁਪਏ ▁ਹੋ ▁ਗਿਆ ▁ਹੈ । ▁ਪਿਛਲੇ ▁ਸਾਲ ▁ਇਸ ▁ਦਾ ▁ਮੁਨਾਫ਼ਾ ▁132 . 7 ▁ਕਰੋੜ ▁ਰੁਪਏ ▁ਰਿਹਾ ▁ਸੀ । ▁ਵਿੱਤੀ ▁ਸਾਲ ▁ਨਵੀਂ ▁ਦਿੱਲੀ ▁( ਏ ਜ ੰਸ ੀ ) ▁: ▁ਵਿੱਤੀ ▁ਸਾਲ ▁2018 ▁ਦੀ ▁ਤੀਜੀ ▁ਤਿਮਾਹੀ ▁' ਚ ▁ਟੀਵੀ ਐੱਸ ▁ਮੋਟਰ ▁ਦਾ ▁ਮੁਨਾਫ਼ਾ ▁16 . 3 ▁ਫ਼ੀਸਦੀ ▁ਵਧ ▁ਕੇ ▁15 4. 3 ▁ਕਰੋ ੋ ੜ ▁ਰੁਪਏ ▁ਹੋ ▁ਗਿਆ ▁ਹੈ । ▁ਪਿਛਲੇ ▁ਸਾਲ ▁ਇਸ ▁ਦਾ ▁ਮੁਨਾਫ਼ਾ ▁132 . 7 ▁ਕਰੋੜ ▁ਰੁਪਏ ▁ਰਿਹਾ ▁ਸੀ । ▁ਵਿੱਤੀ ▁ਸਾਲ ▁2018 ▁ਦੀ ▁ਤੀਜੀ ▁ਤਿਮਾਹੀ ▁' ਚ ▁ਟੀਵੀ ਐੱਸ ▁ਮੋਟਰ ▁ਦੀ ▁ਆਮਦਨ ▁23 . 5 ▁ਫ਼ੀਸਦੀ ▁ਵਧ ▁ਕੇ ▁3 , 6 85 ▁ਕਰੋੜ ▁ਰੁਪਏ ▁ਪਹੁੰਚ ▁ਗਈ ▁ਹੈ । ▁ਉਥੇ ▁ਪਿਛਲੇ ▁ਸਾਲ ▁ਟੀਵੀ ਐੱਸ ▁ਮੋਟਰ ▁ਦੀ ▁ਆਮਦਨ ▁2 , 983 .4 ▁ਕਰੋੜ ▁ਰੁਪਏ ▁ਰਹੀ ▁ਸੀ । ▁ਸਾਲਾਨਾ ▁ਆਧਾਰ ▁' ਤੇ ▁ਤੀਜੀ ▁ਤਿਮਾਹੀ ▁' ਚ ▁ਟੀਵੀ ਐੱਸ ▁ਮੋਟਰ ▁ਦਾ ▁ਐ ਵਿਟ ਡਾ ▁2 18 . 5 ▁ਕਰੋੜ ▁ਰੁਪਏ ▁ਤੋਂ ▁ਵਧ ▁ਕੇ ▁28 6. 8 ▁ਕਰੋੜ ▁ਰੁਪਏ ▁ਰਿਹਾ ▁ਹੈ । ▁ਸਾਲ ▁ਦਰ ▁ਸਾਲ ▁ਆਧਾਰ ▁' ਤੇ ▁ਤੀਜੀ ▁ਤਿਮਾਹੀ ▁' ਚ ▁ਟੀਵੀ ਐੱਸ ▁ਮੋਟਰ ▁ਦਾ ▁ਐ ਵਿਟ ਡਾ ▁ਮਾਰ ਿਜ ਿਜ਼ ▁7. 3 ▁ਫ਼ੀਸਦੀ ▁ਤੋਂ ▁ਵਧ ▁ਕੇ ▁7. 8 ▁ਫ਼ੀਸਦੀ ▁ਰਿਹਾ ▁ਹੈ । ▁ਟੀਵੀ ਐੱਸ ▁ਮੋਟਰ ▁ਦਾ ▁ਟੈਕਸ ▁ਖਰਚ ▁37 ▁ਕਰੋੜ ▁ਰੁਪਏ ▁ਤੋਂ ▁ਵਧ ▁ਕੇ ▁56 ▁ਕਰੋੜ ▁ਰੁਪਏ ▁ਰਿਹਾ ▁ਹੈ ▁ਉਥੇ ▁ਘਰੇਲੂ ▁ਬਾਜ਼ਾਰਾਂ ▁' ਚ ▁ਟੀਵੀ ਐੱਸ ▁ਮੋਟਰ ▁ਦੀ ▁2 ▁ਵਹੀ ਲਰ ▁ਦੇ ▁ਐਕਸ ਪੋਰਟ ▁' ਚ ▁38 ▁ਫ਼ੀਸਦੀ ▁ਦਾ ▁ਵਾਧਾ ▁ਦਰਜ ▁ਕੀਤਾ ▁ਗਿਆ ▁ਹੈ । ▁# ▁ news ▁ ता <unk> ा ▁ <unk> र ें,▁x x bo s ▁ ⁄ ▁ਚੋਣਾਂ ▁ ⁄ ▁ਲੋਕ ▁ਸਭਾ ▁ਦਰਿਆ ਈ ▁ਪਾਣੀ ▁ਹੋਇਆ ▁ਜ਼ਹਿਰੀਲਾ , ▁ਨਾ ਮੁਰਾਦ ▁ਬਿਮਾਰੀਆਂ ▁ਨੇ ▁ਪਸਾਰ ੇ ▁ਪੈਰ <unk> ▁p ub lish <unk> ▁d ate : t u e , ▁14 ▁ <unk> <unk> ▁ 2019 ▁11 : 33 <unk> ▁p m ▁( i <unk> st ) ▁ਮਹਿ ਤ ਪੁਰ ▁ਦੇ ▁ਮੰਡ ▁ਖੇਤਰ ▁ਦੇ ▁ਸਤਲੁਜ ▁ਦਰਿਆ ▁ਕੰਢੇ ▁ਵਸਦੇ ▁ਬੂਟੇ ▁ਦੀਆਂ ▁ਛੰਨਾ , ▁ਭੋ ਡੇ , ▁ਕੈਮ ਵਾਲਾ , ▁ਉਮਰ ੇਵਾਲ , ▁ਧਰਮ ੇ ▁ਦੀਆਂ ▁ਛੰਨਾ , ▁ਬਹਿਰ ਾ , ▁ਛੋਲੇ , ▁ਰਾਏਪੁਰ ▁ਗੁੱਜਰਾਂ ▁ਆਦਿ ▁ਪਿੰਡਾਂ ▁ਦੇ ▁ਲੋਕਾਂ ▁ਨੇ ▁ਦੱਸਿਆ ▁ਕਿ ▁ਉਹ ▁ਖੇਤੀ ▁ਅਤੇ ▁ਰੋਜ਼ ਮਰ ੍ਹ ▁ਤੇ ਜਿੰਦਰ ▁ਕੌਰ ▁ਥਿੰਦ ▁/ ▁ਮਨੋਜ ▁ਚੋਪੜਾ , ▁ਜਲੰਧਰ ▁/ ▁ਮਹਿ ਤ ਪੁਰ ▁: ▁ਅੱਜ ▁ਦੇ ▁ਤਕਨੀਕੀ ▁ਯੁੱਗ ▁ਨੇ ▁ਕੁਦਰਤੀ ▁ਸਰੋਤਾਂ ▁ਨੂੰ ▁ਏਨਾ ▁ਗੰਧ ਲਾ ▁ਕਰ ▁ਦਿਤਾ ▁ਹੈ ▁ਕਿ ▁ਨਾ ▁ਪਾਣੀ ▁ਨਿਰਮਲ ▁ਰਿਹਾ ▁ਹੈ ▁ਅਤੇ ▁ਨਾ ▁ਹੀ ▁ਹਵਾ ▁ਸ਼ੁੱਧ । ▁ਮਨੁੱਖ ▁ਨੇ ▁ਆਪਣੀਆਂ ▁ਕਾਢ ਾਂ ▁ਨਾਲ ▁ਇਕ ▁ਪਾਸੇ ▁ਜਿਥੇ ▁ਜੀਵਨ ▁ਨੂੰ ▁ਸੁਖਾ ਲਾ ▁ਬਣਾ ▁ਲਿਆ ▁ਹੈ ▁ਉਥੇ ▁ਦੂਜੇ ▁ਪਾਸੇ ▁ਕੁਦਰਤੀ ▁ਸਰੋਤਾਂ ▁ਨਾਲ ▁ਖਿਲ ਵਾੜ ▁ਕਰ ▁ਕੁਰਦ ਤੀ ▁ਕਰੋ ਪੀ ਆਂ ▁ਅਤੇ ▁ਬਿਮਾਰੀਆਂ ▁ਨੂੰ ▁ਸੱਦਾ ▁ਵੀ ▁ਦਿਤਾ ▁ਹੈ । ▁ਮਹਿ ਤ ਪੁਰ ▁ਦੇ ▁ਮੰਡ ▁ਖੇਤਰ ▁ਦੇ ▁ਸਤਲੁਜ ▁ਦਰਿਆ ▁ਕੰਢੇ ▁ਵਸਦੇ ▁ਬੂਟੇ ▁ਦੀਆਂ ▁ਛੰਨਾ , ▁ਭੋ ਡੇ , ▁ਕੈਮ ਵਾਲਾ , ▁ਉਮਰ ੇਵਾਲ , ▁ਧਰਮ ੇ ▁ਦੀਆਂ ▁ਛੰਨਾ , ▁ਬਹਿਰ ਾ , ▁ਛੋਲੇ , ▁ਰਾਏਪੁਰ ▁ਗੁੱਜਰਾਂ ▁ਆਦਿ ▁ਪਿੰਡਾਂ ▁ਦੇ ▁ਲੋਕਾਂ ▁ਨੇ ▁ਦੱਸਿਆ ▁ਕਿ ▁ਉਹ ▁ਖੇਤੀ ▁ਅਤੇ ▁ਰੋਜ਼ ਮ ਰ੍ਹਾਂ ▁ਦੇ ▁ਜੀਵਨ ▁ਲਈ ▁ਦਰਿਆ ਈ ▁ਪਾਣੀ ▁ਦੀ ▁ਵਰਤੋਂ ▁ਕਰਦੇ ▁ਸਨ । ▁ਅੱਜ ▁ਤੋਂ ▁ਲ ਗਪਗ ▁20 ▁ਸਾਲ ▁ਪਹਿਲਾਂ ▁ਸਤਲੁਜ ▁ਦਰਿਆ ▁ਦਾ ▁ਪਾਣੀ ▁ਏਨਾ ▁ਸਾਫ਼ ▁ਤੇ ▁ਨਿਰਮਲ ▁ਸੀ ▁ਕਿ ▁ਉਸ ▁ਵਿਚ ▁ਸੁੱਟਿਆ ▁ਸਿੱਕਾ ▁ਵੀ ▁ਸਪਸ਼ੱਟ ▁ਨਜ਼ਰ ▁ਆਉਂਦਾ ▁ਸੀ । ▁ਪੀਣ ▁ਵਿਚ ▁ਏਨਾ ▁ਮਿੱਠਾ ▁ਕਿ ▁ਤਨ ▁ਮਨ ▁ਨੂੰ ▁ਤਾ ਜ਼ ਗੀ ▁ਪ੍ਰਦਾਨ ▁ਕਰਦਾ ▁ਸੀ ▁ਪਰ ▁ਪਿਛਲੇ ▁17 ▁ਕੁ ▁ਸਾਲਾਂ ▁ਤੋਂ ▁ਲੁਧਿਆਣਾ ▁ਦੇ ▁ਬੁੱਢੇ ▁ਨਾਲ ੇ ▁ਦਾ ▁ਗੰਧ ਲਾ ▁ਪਾਣੀ ▁ਦਰਿਆ ▁ਵਿਚ ▁ਪੈਣ ▁ਕਾਰਨ ▁ਦਰਿਆ ▁ਦਾ ▁ਪਾਣੀ ▁ਏਨਾ ▁ਜ਼ਹਿਰੀਲਾ ▁ਅਤੇ ▁ਗ ੰਦਾ ▁ਹੋ ▁ਗਿਆ ▁ਕਿ ▁ਇਸ ▁ਵਿਚਲੇ ▁ਜੀਵ ▁ਖਤਮ ▁ਹੋ ▁ਗਏ ▁ਹਨ । ▁ਜੇ ▁ਬੁੱਢੇ ▁ਨਾਲ ੇ ▁ਦੀ ▁ਗੱਲ ▁ਕਰ ੀਂ ਏ ▁ਤਾਂ ▁ਕਹਿਣ ▁ਨੂੰ ▁ਭਾਵੇਂ ▁ਇਹ ▁ਨਾਲ ਾ ▁ਹੈ ▁ਪਰ ▁ਅੱਜ ▁ਤੋਂ ▁18 ▁ਕੁ ▁ਸਾਲ ▁ਪਹਿਲਾਂ ▁ਇਸ ▁ਦਾ ▁ਪਾਣੀ ▁ਏਨਾ ▁ਸਾਫ ▁ਸੁਥਰਾ ▁ਸੀ ▁ਕਿ ▁ਉਸ ▁ਦੇ ▁ਧਰਾਤਲ ▁' ਤੇ ▁ਡਿੱਗ ੀ ▁ਕੋਈ ▁ਚੀਜ਼ ▁ਸਪਸ਼ਟ ▁ਨਜ਼ਰ ▁ਨਾ ▁ਜਾਂਦੀ ▁ਸੀ । ▁ਜਦੋਂ ▁ਇਸ ▁ਦੇ ▁ਕੰਢੇ ▁' ਤੇ ▁ਡਾਈ ▁ਦੀਆਂ ▁ਫੈਕਟਰੀਆਂ ▁ਸ਼ੁਰੂ ▁ਹੋਈਆਂ ▁ਤੇ ▁ਉਨ੍ਹਾਂ ▁ਵਿਚੋਂ ▁ਨਿਕਲਣ ▁ਵਾਲਾ ▁ਵੈਸਟ ▁ਇਸ ▁ਨਾਲ ੇ ▁ਵਿਚ ▁ਪਾਇਆ ▁ਜਾਣ ▁ਲੱਗਾ ▁ਤਾਂ ▁ਇਹ ▁ਪਾਣੀ ▁ਤੇਜਾਬ ੀ ▁ਹੋਣ ▁ਲੱਗ ▁ਪਿਆ । ▁ਹੁਣ ▁ਹਾਲਾਤ ▁ਏਨੇ ▁ਬਦਤਰ ▁ਹੋ ▁ਗਏ ▁ਹਨ ▁ਕਿ ▁ਬੱ ਢੇ ▁ਨਾਲ ▁ਦੇ ▁ਨਾਲ ▁ਸਤਲੁਜ ▁ਦਰਿਆ ▁ਦਾ ▁ਪਾਣੀ ▁ਵੀ ▁ਬੁਰੀ ▁ਤਰ੍ਹਾਂ ▁ਪਲੀ ਤ ▁ਹੋ ▁ਗਿਆ ▁ਹੈ । ▁ਦਰਿਆ ਈ ▁ਜੀਵ ▁ਖਤਮ ▁ਹੋ ▁ਚੁੱਕੇ ▁ਹਨ । ▁ਨਿਰਮਲ ▁ਪਾਣੀ ▁ਕਾਲਾ ▁ਤੇ ▁ਜ਼ਹਿਰੀਲਾ ▁ਹੋ ▁ਗਿਆ ▁ਹੈ । ▁ਜਿਸ ▁ਕਾਰਨ ▁ਜ਼ਮੀਨ ▁ਵਿਚਲਾ ▁ਉਪਜਾਊ ਪਨ ▁ਅਤੇ ▁ਜ਼ਮੀਨ ▁ਹੇਠਲੇ ▁ਪਾਣੀ ▁ਵਿਚ ▁ਵੀ ▁ਇਹ ▁ਜ਼ਹਿਰੀਲੇ ▁ਤੱਤ ▁ਮਿਲ ▁ਚੁੱਕੇ ▁ਹਨ । ▁ਕਦੇ ▁ਇਸ ▁ਇਲਾਕੇ ▁ਵਿਚ ▁5 ▁ਫੁੱਟ ▁' ਤੇ ▁ਵੀ ▁ਸਾਫ ▁ਤੇ ▁ਪੀਣ ਯੋਗ ▁ਪਾਣੀ ▁ਸੀ ▁ਪਰ ▁ਹੁਣ ▁350 ▁ਫੁੱਟ ▁' ਤੇ ▁ਪਾਣੀ ▁ਗੰਧ ਲਾ ▁ਹੈ । ▁ਪਰ ▁ਇਥੋ ਂ ▁ਦੇ ▁ਲੋਕ ▁ਇਹ ▁ਪਾਣੀ ▁ਪੀਣ ▁ਲਈ ▁ਮਜਬੂਰ ▁ਹਨ । ▁ਜਿਸ ▁ਕਾਰਨ ▁ਇਸ ▁ਇਲਾਕੇ ▁ਵਿਚ ▁ਭਿਆਨਕ ▁ਅਤੇ ▁ਨਾ ਮੁਰਾਦ ▁ਬਿਮਾਰੀਆਂ ▁ਲਗਾਤਾਰ ▁ਪੈ ਸ ▁ਪਸਾਰ ▁ਰਹੀਆਂ ▁ਹਨ । ▁ਇਲਾਕੇ ▁ਦੇ ▁ਲੋਕਾਂ ▁ਨੇ ▁ਦੱਸਿਆ ▁ਕਿ ▁ਕਦੇ ▁ਸਾਫ ▁ਤੇ ▁ਸ਼ੁੱਧ ▁ਹਵਾ ▁ਅਤੇ ▁ਬੁਰੀ ▁ਤਰ੍ਹਾਂ ▁ਪਲੀ ਤ ▁ਹੋ ▁ਚੁੱਕੀ ▁ਹੈ । ▁ਦਰਿਆ ▁ਦੇ ▁ ਗੰਦੇ ▁ਪਾਣੀ ▁ਬਦ ਬੂ ▁ਨਾਲ ▁ਉਥੇ ▁ਰਹਿਣਾ ▁ਮੁਸ਼ਕਲ ▁ਹੋਇਆ ▁ਪਿਆ ▁ਹੈ । ▁ਇਸ ▁ਹਵਾ ▁ਨਾਲ ▁ਚਮੜੀ ▁ਅਤੇ ▁ਅੱਖਾਂ ▁ਦੇ ▁ਰੋਗਾਂ ▁ਵਿਚ ▁ਵੱਡੀ ▁ਪੱਧਰ ▁' ਤੇ ▁ਇ ਜਾ ਫਾ ▁ਹੋਇਆ ▁ਹੈ । ▁ਧੁੱ ਸੀ ▁ਬੰਨ੍ਹ ▁' ਤੇ ▁ਕੰਢੇ ▁ਦਰਿਆ ▁ਦੇ ▁ਬੰਨੇ ▁ਬੰਨੇ ▁ਵੱਸ ਦੇ ▁ਇਨ੍ਹਾਂ ▁ਪਿੰਡਾਂ ▁ਵਿਚ ▁ਕੋਈ ▁ਅਜਿਹਾ ▁ਘਰ ▁ਨਹੀਂ ▁ਜਿਸ ▁ਦਾ ▁ਇਕ ▁ਜੀਅ ▁ਵੀ ▁ਪੱਥਰ ੀਆਂ ▁ਦੀਆਂ ▁ਬਿਮਾਰੀਆਂ ▁ਤੋਂ ▁ਬਚਿਆ ▁ਹੋਵੇ । ▁ਜਿਗਰ ▁ਦੇ ▁ਰੋਗ ▁ਅਤੇ ▁ਕਾਲਾ ▁ਪੀ ਲੀਆ ▁ਵਰਗੀਆਂ ▁ਬਿਮਾਰੀਆਂ ▁ਨੇ ▁ਵੀ ▁ਭਿਆਨਕ ▁ਰੂਪ ▁ਧਾਰਨ ▁ਕੀਤਾ ▁ਹੋਇਆ ▁ਹੈ । ▁ਹੁਣ ▁ਤਾਂ ▁ਕੈਂਸਰ ▁ਵਰਗੀ ▁ਨਾ ਮੁਰਾਦ ▁ਬਿਮਾਰੀ ▁ਨੇ ▁ਵੀ ▁ਵੱਡੇ ▁ਪੱਧਰ ▁' ਤੇ ▁ਇਲਾਕੇ ▁ਵਿਚ ▁ਪੈਰ ▁ਪਸਾਰ ▁ਲਏ ▁ਹਨ । ▁ਸਭ ▁ਤੋਂ ▁ਵੱਡੀ ▁ਪਰੇਸ਼ਾਨੀ ▁ਤਾਂ ▁ਇਹ ▁ਹੈ ▁ਕਿ ▁ਇਨ੍ਹਾਂ ▁ਪਿੰਡਾਂ ▁ਵਿਚ ▁ਰਹਿਣ ▁ਵਾਲੇ ▁ਲੋਕ ▁ਆਰਥਕ ▁ਪੱਖੋਂ ▁ਬਹੁਤੇ ▁ਮਜਬੂਤ ▁ਨਹੀਂ ▁ਹਨ ▁ਕਿ ▁ਇਲਾਜ ▁ਲਈ ▁ਪੈਸਾ ▁ਪਾਣੀ ▁ਵਾਂਗ ▁ਵਹਾ ▁ਸਕਣ , ▁ਸੋ ▁ਬਿਮਾਰੀਆਂ ▁ਨਾਲ ▁ਹੋਣ ▁ਵਾਲੀਆਂ ▁ਮੌਤਾਂ ▁ਨੂੰ ▁ਰੱਬ ▁ਦਾ ▁ਭਾਣਾ ▁ਮੰਨ ▁ਕੇ ▁ਵੱਡੇ ▁ਜਿਗਰ ੇ ▁ਨਾਲ ▁ਸਬ ਰ ▁ਕਰ ▁ਲੈਂਦੇ ▁ਹਨ । ▁ਇਨ੍ਹਾਂ ▁ਪਿੰਡ ਾ ▁ਦੇ ▁ਲੋਕਾਂ ▁ਦਾ ▁ਕਹਿਣਾ ▁ਕਿ ▁ਲ ਗਪਗ ▁50 ▁ਸਾਲ ▁ਪਹਿਲਾਂ ▁ਜਦੋਂ ▁ਇਹ ▁ਲੋਕ ▁ਇਥੇ ▁ਆਣ ▁ਕੇ ▁ਵੱਸੇ ▁ਸਨ ▁ਤਾਂ ▁ਦਰਿਆ ▁ਇਨ੍ਹਾਂ ▁ਤੋਂ ▁ਲ ਗਪਗ ▁ਡੇਢ ▁ਕਿਲੋਮੀਟਰ ▁ਦੂਰ ▁ਵਹਿੰਦ ਾ ▁ਸੀ ▁ਪਰ ▁ਲਗਾਤਾਰ ▁ਦਰਿਆ ▁ਵਿਚ ▁ਰੇਤ ਾ ▁ਦਾ ▁ਵੱਡੇ ▁ਪੱਧਰ ▁' ਤੇ ▁ਕੱਢੇ ▁ਜਾਣ ▁ਨਾਲ ▁ਮੌਜੂਦਾ ▁ਹਾਲਾਤ ▁ਇਹ ▁ਹੋ ▁ਗਏ ▁ਹਨ ▁ਦਰਿਆ ▁ਇਨ੍ਹਾਂ ▁ਤੋਂ ▁500 ▁ਮੀਟਰ ▁ਦੀ ▁ਦੂਰੀ ▁' ਤੇ ▁ਹੈ ▁ਤੇ ▁ਜੇ ▁ਲਗਾਤਾਰ ▁ਇਸੇ ▁ਤਰ੍ਹਾਂ ▁ਜੰਗੀ ▁ਪੱਧਰ ▁' ਤੇ ▁ਨਾਜਾਇਜ਼ ▁ਰੇਤ ਾ ▁ਦੀ ▁ਮਾਈ ਨਿੰਗ ▁ਹੁੰਦੀ ▁ਰਹੀ ▁ਤਾਂ ▁ਆਉਂਦੇ ▁8 ▁ -10 ▁ਮਹੀਨਿਆਂ ▁ਵਿਚ ▁ਇਨ੍ਹਾਂ ▁ਨੂੰ ▁ਘਰ ੋ ▁ਬੇਘਰ ▁ਹੋਣਾ ▁ਪੈ ▁ਜਾਣਾ ▁ਹੈ । ▁ਉਨ੍ਹਾਂ ▁ਸਰਕਾਰਾਂ ▁ਤੋਂ ▁ਮੰਗ ▁ਕੀਤੀ ▁ਕਿ ▁ਜਲਦ ▁ਤੋਂ ▁ਜਲਦ ▁ਲੁਧਿਆਣਾ ▁ਦੇ ▁ਬੁੱਢੇ ▁ਨਾਲ ੇ ▁ਵਿਚ ▁ਡਾਈ ▁ਦੀਆਂ ▁ਫੈਕਟਰੀਆਂ ▁ਦੀ ▁ਵੇਸਟ ੇਜ਼ ▁ਬੰਦ ▁ਕਰਵਾਈ ▁ਜਾਵੇ ▁ਤਾਂ ▁ਜੋ ▁ਬੁੱਢੇ ▁ਨਾਲ ੇ ▁ਵਿਚ ▁ਤੇਜ਼ਾਬ ▁ਦੀ ▁ਮਿਲਾਵਟ ▁ਰੁਕ ▁ਸਕੇ । ▁ਜੇ ▁ਇਹ ▁ਤੇਜ਼ਾਬ ੀ ▁ਮਿਲਾਵਟ ▁ਨਾ ▁ਰੋਕੀ ▁ਗਈ ▁ਤਾਂ ▁ਉਨ੍ਹਾਂ ▁ਦੇ ▁ਨਾਲ ▁ਨਾਲ ▁ਦਰਿਆ ▁ਦੇ ▁ਨਾਲ ▁ਵੱਸ ਦੇ ▁ਉਨ੍ਹਾਂ ▁ਤੋਂ ▁ਅਗਲੇ ▁ਇਲਾਕੇ ▁ਦੇ ▁ਪਿੰਡਾਂ ▁ਦੇ ▁ਰਹਿਣ ▁ਵਾਲੇ ▁ਲੋਕਾਂ ▁ਦਾ ▁ਵੀ ▁ਜੀ ਉਣਾ ▁ਦੁਸ਼ ਵਾਰ ▁ਹੋ ▁ਜਾਵੇਗਾ । ▁ਮਾਈ ਨਿੰਗ ▁ਨੂੰ ▁ਵੀ ▁ਠ ੱਲ੍ਹ ▁ਪਾਈ ▁ਜਾਵੇ ▁ਤਾਂ ▁ਜੋ ▁ਉਨ੍ਹਾਂ ▁ਨੂੰ ▁ਇਥੋ ਂ ▁ਉਜੜ ਣਾ ▁ਨਾ ▁ਪਵੇ । ▁post ed <unk> ▁b y : <unk> j it <unk>\n",
              "y: CategoryList\n",
              "entertainment,entertainment,sports,business,politics\n",
              "Path: .;\n",
              "\n",
              "Test: LabelList (312 items)\n",
              "x: TextList\n",
              "▁x x bo s ▁ਪ੍ਰਸ਼ਾਸਨ ▁ਨੇ ▁ਡਾ . ▁ਧਰਮਵੀਰ ▁ਗਾਂਧੀ ▁ਦੇ ▁ਨਾਂ ▁' ਤੇ ▁ਲਾਈ ▁ਚੇ ਪੀ <unk> ▁p ub lish <unk> ▁d ate : t hu , ▁11 <unk> ▁a pr ▁ 2019 ▁ 08 : 45 <unk> ▁p m ▁( i <unk> st ) ▁ਡਾ . ▁ਧਰਮਵੀਰ ▁ਗਾਂਧੀ ▁ਨੇ ▁ਆਪਣੇ ▁ਨਾਂ ▁' ਤੇ ▁ਲਾਈ ▁ਚੇ ਪੀ ▁ਤੋਂ ▁ਭੜਕ ਦਿਆਂ ▁ਪ੍ਰਸ਼ਾਸਨ ▁ਦੀ ▁ਇਸ ▁ਕਾਰਵਾਈ ▁ਦੀ ▁ਨਿਖੇਧੀ ▁ਕੀਤੀ ▁ਹੈ । ▁ਡਾ . ▁ਗਾਂਧੀ ▁ਨੇ ▁ਦੋਸ਼ ▁ਲਾਇਆ ▁ਕਿ ▁ਪ੍ਰਸ਼ਾਸਨ ▁ਸਿਆਸੀ ▁ਦਬਾਅ ▁ਹੇਠ ▁ਅਜਿਹੀ ▁ਕਾਰਵਾਈ ▁ਨੂੰ ▁ਅੰਜਾਮ ▁ਦੇ ▁ਰਿਹਾ ▁ਹੈ । ▁ਨਵ ਦੀਪ ▁ਢੀਂਗਰਾ , ▁ਪਟਿਆਲਾ ▁: ▁ਮੈਂਬਰ ▁ਪਾਰਲੀਮੈਂਟ ▁ਵੱਲੋਂ ▁ਆਪਣੇ ▁ਲੈਂਡ ▁ਫੰਡ ▁' ਚੋਂ ▁ਪਿੰਡਾਂ ▁ਨੂੰ ▁ਦਿੱਤੇ ▁ਗਏ ▁ਪਾਣੀ ▁ਦੇ ▁ਟੈਂਕ ਰਾਂ ▁ਉਪਰ ▁ਛਪੇ ▁ਐੱਮ ਪੀ ▁ਦੇ ▁ਨਾਂ ▁' ਤੇ ▁ਪ੍ਰਸ਼ਾਸਨ ▁ਨੇ ▁ਚੇ ਪੀ ▁ਲਗਾ ▁ਦਿੱਤੀ ▁ਹੈ । ▁ਡਾ . ▁ਧਰਮਵੀਰ ▁ਗਾਂਧੀ ▁ਨੇ ▁ਆਪਣੇ ▁ਨਾਂ ▁' ਤੇ ▁ਲਾਈ ▁ਚੇ ਪੀ ▁ਤੋਂ ▁ਭੜਕ ਦਿਆਂ ▁ਪ੍ਰਸ਼ਾਸਨ ▁ਦੀ ▁ਇਸ ▁ਕਾਰਵਾਈ ▁ਦੀ ▁ਨਿਖੇਧੀ ▁ਕੀਤੀ ▁ਹੈ । ▁ਡਾ . ▁ਗਾਂਧੀ ▁ਨੇ ▁ਦੋਸ਼ ▁ਲਾਇਆ ▁ਕਿ ▁ਪ੍ਰਸ਼ਾਸਨ ▁ਸਿਆਸੀ ▁ਦਬਾਅ ▁ਹੇਠ ▁ਅਜਿਹੀ ▁ਕਾਰਵਾਈ ▁ਨੂੰ ▁ਅੰਜਾਮ ▁ਦੇ ▁ਰਿਹਾ ▁ਹੈ । ▁ਡਾ . ▁ਗਾਂਧੀ ▁ਨੇ ▁ਕਿਹਾ ▁ਕਿ ▁ਅੱਗ ▁ਬੁਝ ਾਉਣ ▁ਲਈ ▁ਪਾਣੀ ▁ਦੇ ▁ਟੈਂਕ ਰ ▁ਚੋਣ ▁ਜ਼ਾਬ ਤਾ ▁ਲਾਗੂ ▁ਹੋਣ ▁ਤੋਂ ▁ਪਹਿਲਾਂ ▁ਦਿੱਤੇ ▁ਗਏ ▁ਸਨ । ▁ਇਸ ▁ਉਪਰ ▁ਸਬੰਧਤ ▁ਮੈਂਬਰ ▁ਪਾਰਲੀਮੈਂਟ ▁ਦਾ ▁ਨਾਂ ▁ਐੱਮ ਪੀ ▁ਲੈਂਡ ▁ਦੇ ▁ਨਿਯਮਾਂ ▁ਮੁਤਾਬਕ ▁ਲਿਖਿਆ ▁ਗਿਆ ▁ਸੀ । ▁ਡਾ . ▁ਗਾਂਧੀ ▁ਨੇ ▁ਕਿਹਾ ▁ਕਿ ▁ਹੋਰਨਾਂ ▁ਥਾਵਾਂ ▁' ਤੇ ▁ਨੀਂਹ ▁ਪੱਥਰਾਂ ▁ਅਤੇ ▁ਐੱਮ ਪੀ ▁ਲੈਂਡ ▁ਦੀਆਂ ▁ਲਿਖਤਾਂ ▁ਨੂੰ ▁ਨਹੀਂ ▁ਮਿਟਾਇਆ ▁ਗਿਆ । ▁ਮੰਤਰੀਆਂ , ▁ਮੁੱਖ ▁ਮੰਤਰੀਆਂ ▁ਦੇ ▁ਨਾਂ ▁ਉਸੇ ▁ਤਰ੍ਹਾਂ ▁ਮੌਜੂਦ ▁ਹਨ । ▁ਇਸ ▁ਸਬੰਧੀ ▁ਡਾ . ▁ਗਾਂਧੀ ▁ਨੇ ▁ਇਕ ▁ਚਿੱਠੀ ▁ਮੁੱਖ ▁ਚੋਣ ▁ਅਫਸਰ ▁ਨੂੰ ▁ਲਿਖੀ ▁ਹੈ , ▁ਜਿਸ ▁ਵਿਚ ▁ਉਨ੍ਹਾਂ ▁ਮਾਮਲੇ ▁ਦੀ ▁ਜਾਂਚ ▁ਕਰਵਾਉਣ ▁ਦੀ ▁ਮੰਗ ▁ਕੀਤੀ ▁ਹੈ । ▁ਨਾਂ ▁ਦੁਬਾਰਾ ▁ਲਿਖ ੋ ▁ਜਾਂ ▁ ਸਾਰਿਆਂ ▁ਦੇ ▁ਮਿਟਾ ਏ ▁ਜਾਣ ▁: ▁ਡਾ . ▁ਗਾਂਧੀ ▁ਡਾ . ▁ਧਰਮਵੀਰ ▁ਗਾਂਧੀ ▁ਨੇ ▁ਮੰਗ ▁ਕੀਤੀ ▁ਕਿ ▁ਜਾਂ ▁ਤਾਂ ▁ਐੱਮ ਪੀ ▁ਲੈਂਡ ▁ਫੰਡ ▁ਦੇ ▁ਨਿਯਮਾਂ ▁ਅਨੁਸਾਰ ▁ਪਾਰਲੀਮੈਂਟ ▁ਦੇ ▁ਹੁਕਮ ਾਂ ▁ਤਹਿਤ ▁ਉਨ੍ਹਾਂ ▁ਦਾ ▁ਨਾਂ ▁ਮੁੜ ▁ਲਿਖਿਆ ▁ਜਾਵੇ , ▁ਨਹੀਂ ▁ਤਾਂ ▁ਚੋਣ ▁ਜ਼ਾਬ ਤੇ ▁ਅਨੁਸਾਰ ▁ਨੀਂਹ ▁ਪੱਥਰ ▁ਜਾਂ ▁ਐੱਮ ਪੀ ▁ਲੈਂਡ ▁ਦੇ ▁ਸਾਰੇ ▁ਨਾਂ ▁ਮਿਟਾ ▁ਦਿੱਤੇ ▁ਜਾਣ । ▁ਨਿਯਮਾਂ ▁ਤਹਿਤ ▁ਹੀ ▁ਹੋ ▁ਰਹੀ ▁ਕਾਰਵਾਈ ▁: ▁ਡੀਸੀ ▁ਡਿਪਟੀ ▁ਕਮਿਸ਼ਨਰ - ਕਮ - ਜ਼ਿਲ੍ਹਾ ▁ਚੋਣ ▁ਅਧਿਕਾਰੀ ▁ਕੁਮਾਰ ▁ਅਮਿਤ ▁ਨੇ ▁ਕਿਹਾ ▁ਕਿ ▁ਜ਼ਿਲ੍ਹੇ ▁ਵਿਚ ▁ਚੋਣ ▁ਜ਼ਾਬ ਤੇ ▁ਦੀ ▁ਉਲੰਘਣਾ ▁ਨਹੀਂ ▁ਹੋਣ ▁ਦਿੱਤੀ ▁ਜਾਵੇਗੀ । ▁ਜ਼ਾਬ ਤੇ ▁ਤਹਿਤ ▁ਕਿਤੇ ▁ਵੀ ▁ਕਿਸੇ ▁ਵੀ ▁ਪਾਰਟੀ ▁ਦੇ ▁ਆਗੂ ▁ਦਾ ▁ਨਾਂ ▁ਜਾਂ ▁ਪਾਰਟੀ ▁ਦੀ ▁ਮਸ਼ਹੂਰੀ ▁ਨਹੀਂ ▁ਕਰਨ ▁ਦਿੱਤੀ ▁ਜਾਵੇਗੀ । ▁ਨਿਯਮਾਂ ▁ਤਹਿਤ ▁ਹੀ ▁ਪਾਣੀ ▁ਦੇ ▁ਟੈਂਕ ਰਾਂ ▁ਤੋਂ ▁ਐੱਮ ਪੀ ▁ਦਾ ▁ਨਾਂ ▁ਹਟਾਇਆ ▁ਗਿਆ ▁ਹੈ ।,▁x x bo s ▁ਹਰ ▁ਸਮੇਂ ▁ਨਾਲ ▁ਨਹੀਂ ▁ਰਹੇਗਾ ▁ਖਿਡਾਰੀਆਂ ▁ਦਾ ▁ਪਰਿਵਾਰ <unk> ▁p ub lish <unk> ▁d ate : f ri , ▁10 ▁ <unk> <unk> ▁ 2019 ▁0 9 : 55 <unk> ▁p m ▁( i <unk> st ) ▁ਇੰਡੀਅਨ ▁ਪ੍ਰੀਮੀਅਰ ▁ਲੀਗ ▁ਸਮਾਪਤ ▁ਹੋਣ ▁ਵਾਲੀ ▁ਹੈ ▁ਤੇ ▁ਕ੍ਰਿਕਟ ▁ਦਾ ▁ਵਿਸ਼ਵ ▁ਕੱਪ ▁ਸ਼ੁਰੂ ▁ਹੋਣ ▁ਵਾਲਾ ▁ਹੈ । ▁ਇਸ ▁ਕਾਰਨ ▁ਜਲਦ ▁ਹੀ ▁ਸਾਰਾ ▁ਫੋਕਸ ▁30 ▁ਮਈ ▁ਤੋਂ ▁ਇੰਗਲੈਂਡ ▁ਵਿਚ ▁ਸ਼ੁਰੂ ▁ਹੋਣ ▁ਵਾਲੇ ▁ਵਿਸ਼ਵ ▁ਕੱਪ ▁ਵੱਲ ▁ਸ਼ਿਫਟ ▁ਹੋ ▁ਜਾਵੇਗਾ । ▁ਨਵੀਂ ▁ਦਿੱਲੀ ▁( ਜੇ ਐੱਨ ਐੱਨ ) ▁: ▁ਇੰਡੀਅਨ ▁ਪ੍ਰੀਮੀਅਰ ▁ਲੀਗ ▁ਸਮਾਪਤ ▁ਹੋਣ ▁ਵਾਲੀ ▁ਹੈ ▁ਤੇ ▁ਕ੍ਰਿਕਟ ▁ਦਾ ▁ਵਿਸ਼ਵ ▁ਕੱਪ ▁ਸ਼ੁਰੂ ▁ਹੋਣ ▁ਵਾਲਾ ▁ਹੈ । ▁ਇਸ ▁ਕਾਰਨ ▁ਜਲਦ ▁ਹੀ ▁ਸਾਰਾ ▁ਫੋਕਸ ▁30 ▁ਮਈ ▁ਤੋਂ ▁ਇੰਗਲੈਂਡ ▁ਵਿਚ ▁ਸ਼ੁਰੂ ▁ਹੋਣ ▁ਵਾਲੇ ▁ਵਿਸ਼ਵ ▁ਕੱਪ ▁ਵੱਲ ▁ਸ਼ਿਫਟ ▁ਹੋ ▁ਜਾਵੇਗਾ । ▁ਹਾਲਾਂਕਿ ▁ਇਸ ▁ਵਿਚਾਲੇ ▁ਭਾਰਤੀ ▁ਟੀਮ ▁ਮੈਨੇਜਮੈਂਟ ▁ਨੇ ▁ਬੀ ਸੀਸੀ ਆਈ ▁ਤੋਂ ▁ਵਿਸ਼ਵ ▁ਕੱਪ ▁ਦੌਰਾਨ ▁ਖਿਡਾਰੀਆਂ ▁ਨੂੰ ▁ਪਤਨੀ ▁ਤੇ ▁ਪਰਿਵਾਰ ▁ਨੂੰ ▁ਨਾਲ ▁ਰੱਖਣ ▁ਦੇਣ ▁ਦਾ ▁ਬਿਨ ੈ ▁ਕੀਤਾ ▁ਸੀ ▁ਪਰ ▁ਬੋਰਡ ▁ਨੇ ▁ਸਿਰਫ਼ ▁14 ▁ਦਿਨ ▁ਦੀ ▁ਹੀ ▁ਇਜਾਜ਼ਤ ▁ਦਿੱਤੀ ▁ਹੈ । ▁ਇਸ ▁ਐਤਵਾਰ ▁ਨੂੰ ▁ਆਈ ਪੀ ਐੱਲ ▁ਫਾਈਨਲ ▁ਹੈ ▁ਤੇ ▁ਇਸ ▁ਤੋਂ ▁ਇਕ ▁ਹਫਤੇ ▁ਬਾਅਦ ▁ਟੀਮ ▁ਇੰਡੀਆ ▁ਇੰਗਲੈਂਡ ▁ ਰਵਾਨਾ ▁ਹੋ ▁ਜਾਵੇਗੀ । ▁ਬੀ ਸੀਸੀ ਆਈ ▁ਦੇ ▁ਇਕ ▁ਅਧਿਕਾਰੀ ▁ਨੇ ▁ਕਿਹਾ ▁ਕਿ ▁ਟੀਮ ▁ਇੰਡੀਆ ▁ਦੇ ▁ਕਪਤਾਨ ▁ਵਿਰਾਟ ▁ਕੋਹਲੀ ▁ਨੇ ▁ਬੀ ਸੀਸੀ ਆਈ ▁ਨੂੰ ▁ਗੁਜ਼ਾਰ ਿਸ਼ ▁ਕੀਤੀ ▁ਸੀ ▁ਕਿ ▁ਵਿਸ਼ਵ ▁ਕੱਪ ▁ਦੌਰਾਨ ▁ਖਿਡਾਰੀਆਂ ▁ਨੂੰ ▁ਉਨ੍ਹਾਂ ▁ਦੇ ▁ਪਰਿਵਾਰ ▁ਵਾਲਿਆਂ ▁ਨਾਲ ▁ਰਹਿਣ ▁ਦੀ ▁ਇਜਾਜ਼ਤ ▁ਦਿੱਤੀ ▁ਜਾਵੇ । ▁ਬੀ ਸੀਸੀ ਆਈ ▁ਨੇ ▁ਉਨ੍ਹਾਂ ▁ਦੀ ▁ਇਸ ▁ਮੰਗ ▁ਨੂੰ ▁ਮੰਨ ▁ਤਾਂ ▁ਲਿਆ ▁ਪਰ ▁ਇਸ ▁ਵਿਚਾਲੇ ▁ਬੀ ਸੀਸੀ ਆਈ ▁ਨੇ ▁ਇਕ ▁ਸ਼ਰਤ ▁ਵੀ ▁ਰੱਖ ▁ਦਿੱਤੀ ▁ਹੈ ▁ਕਿ ▁ਵਿਸ਼ਵ ▁ਕੱਪ ▁ਸ਼ੁਰੂ ▁ਹੋਣ ▁ਤੋਂ ▁21 ▁ਦਿਨ ▁ਬਾਅਦ ▁ਹੀ ▁ਕੋਈ ▁ਵੀ ▁ਖਿਡਾਰੀ ▁ਆਪਣੀ ▁ਪਤਨੀ ▁ਜਾਂ ▁ਪਰਿਵਾਰ ▁ਨੂੰ ▁ਸਿਰਫ਼ ▁15 ▁ਦਿਨ ▁ਲਈ ▁ਹੀ ▁ਆਪਣੇ ▁ਨਾਲ ▁ਰੱਖ ▁ਸਕਦਾ ▁ਹੈ । ▁ਖੇਡ ▁ਦੌਰਾਨ ▁ਖਿਡਾਰੀਆਂ ▁ਦਾ ▁ਧਿਆਨ ▁ਨਾ ▁ਭਟਕ ੇ ▁ਇਸ ▁ਕਾਰਨ ▁ਬੀ ਸੀਸੀ ਆਈ ▁ਨੇ ▁ਇਹ ▁ਸ਼ਰਤ ▁ਰੱਖੀ ▁ਹੈ । ▁ਪਹਿਲਾ ▁ਅਭਿਆਸ ▁ਮੈਚ ▁ਹੋਵੇਗਾ ▁25 ▁ਮਈ ▁ਨੂੰ ▁ਭਾਰਤ ▁ਨੇ ▁ਆਪਣਾ ▁ਪਹਿਲਾ ▁ਅਭਿਆਸ ▁ਮੈਚ ▁25 ▁ਮਈ ▁ਨੂੰ ▁ਓ ਵਲ ▁ਵਿਚ ▁ਨਿਊਜ਼ੀਲੈਂਡ ▁ਨਾਲ ▁ਤੇ ▁ਦੂਜਾ ▁ਅਭਿਆਸ ▁ਮੈਚ ▁28 ▁ਮਈ ▁ਨੂੰ ▁ਬੰਗਲਾਦੇਸ਼ ▁ਖ਼ਿਲਾਫ਼ ▁ਕਾਰਡਿਫ ▁ਵਿਚ ▁ਖੇਡਣਾ ▁ਹੈ । ▁ਭਾਰਤ ▁ਨੇ ▁ਵਿਸ਼ਵ ▁ਕੱਪ ▁ਦਾ ▁ਪਹਿਲਾ ▁ਮੁਕਾਬਲਾ ▁ਪੰਜ ▁ਜੂਨ ▁ਨੂੰ ▁ਦੱਖਣੀ ▁ਅਫਰੀਕਾ ▁ਨਾਲ ▁ਖੇਡਣਾ ▁ਹੈ । ▁ਜੇ ▁ਟੀਮ ▁ਫਾਈਨਲ ▁( 14 ▁ਜੂਨ ) ▁' ਚ ▁ਪੁੱਜਦੀ ▁ਹੈ ▁ਤਾਂ ▁ਉਸ ▁ਨੂੰ ▁ਲ ਗਪਗ ▁55 ▁ਦਿਨ ▁ਘਰ ▁ਤੋਂ ▁ਬਾਹਰ ▁ਰਹਿਣਾ ▁ਪਵੇਗਾ ।,▁x x bo s ▁4 ਜੀ ▁ਨੂੰ ▁ਪਛਾੜ ▁ਐੱਲ ਈ ਡੀ ▁ਬਲਬ ▁ਦੇਵੇਗਾ ▁ਹਾਈ ▁ਸਪੀਡ ▁ਇੰਟਰਨੈੱਟ <unk> ▁p ub lish <unk> ▁d ate : t u e , ▁30 <unk> ▁2018 ▁0 6 : 19 <unk> ▁p m ▁( i <unk> st ) ▁ -10 ▁ਜੀ ਬੀ ▁ਪ ੫ ਤੀ ▁ਸੈਕਿੰਡ ▁ਹੋਵੇਗੀ ▁ਸਪੀਡ ▁- ਵਾਈ ਫਾਈ ▁ਨਾਲ ▁ਹੋਵੇਗਾ ▁100 ▁ਗੁਣਾ ▁ਤੇਜ਼ , ▁ਭਾਰਤ ▁' ਚ ▁ਹੋ ▁ਰਹੀ ▁ਹੈ ▁ਲਾਈ ਫਾਈ ▁ਦੀ ▁ਟੈਸਟ ਿੰਗ ▁ਨਵੀਂ ▁ਦਿੱਲੀ ▁( ਏ ਜ ੰਸ ੀ )। ▁ਅੱਜ ▁ਦੇ ▁ਸਮੇਂ ▁' ਚ ▁4 ▁ਜੀ ▁ਇੰਟਰ ਨੈ ੱ ਅ ▁ਦੀ ▁ਵਰਤੋਂ ▁ਵਧਦੀ ▁ਜਾ ▁ਰਹੀ ▁ਹੈ ▁ਪਰ ▁ਹ ▁ -10 ▁ਜੀ ਬੀ ▁ਪ ੫ ਤੀ ▁ਸੈਕਿੰਡ ▁ਹੋਵੇਗੀ ▁ਸਪੀਡ ▁- ਵਾਈ ਫਾਈ ▁ਨਾਲ ▁ਹੋਵੇਗਾ ▁100 ▁ਗੁਣਾ ▁ਤੇਜ਼ , ▁ਭਾਰਤ ▁' ਚ ▁ਹੋ ▁ਰਹੀ ▁ਹੈ ▁ਲਾਈ ਫਾਈ ▁ਦੀ ▁ਟੈਸਟ ਿੰਗ ▁ਨਵੀਂ ▁ਦਿੱਲੀ ▁( ਏ ਜ ੰਸ ੀ )। ▁ਅੱਜ ▁ਦੇ ▁ਸਮੇਂ ▁' ਚ ▁4 ▁ਜੀ ▁ਇੰਟਰ ਨੈ ੱ ਅ ▁ਦੀ ▁ਵਰਤੋਂ ▁ਵਧਦੀ ▁ਜਾ ▁ਰਹੀ ▁ਹੈ ▁ਪਰ ▁ਹੁ ੁਣ ▁ਤਕਨੀਕ ▁4 ਜੀ ▁ਤੋਂ ▁ਵੀ ▁ਅੱਗੇ ▁ਵਧਣ ▁ਵਾਲੀ ▁ਹੈ । ▁ਆਉਣ ▁ਵਾਲੇ ▁ਸਮੇਂ ▁' ਚ ▁4 ਜੀ ▁ਨੂੰ ▁ਪਿੱਛੇ ▁ਛੱਡਦੇ ▁ਹੋਏ ▁ਵਾਈ ਫਾਈ ▁ਜਾਂ ▁ਬ ੫ ਾਂ ਡ ਬੈਂਡ ▁ਲੋਕਾਂ ▁ਨੂੰ ▁ਹਾਈ ▁ਸਪੀਡ ▁ਇੰਟਰਨੈੱਟ ▁ਡਾਟਾ ▁ਦਾ ▁ਵੱਖ ▁ਤੋਂ ▁ਤ ਜ਼ਰ ਬਾ ▁ਪ ੫ ਦਾਨ ▁ਕਰੇਗਾ । ▁ਪਰ ▁ਹੈਰਾਨ ▁ਕਰਨਾ ▁ਗੱਲ ▁ਇਹ ▁ਹੈ ▁ਕਿ ▁ਆਉਣ ▁ਵਾਲੇ ▁ਸਮੇਂ ▁' ਚ ▁ਤੁਹਾਨੂੰ ▁ਐਲ ਈ ਡੀ ▁ਬਲਬ ▁ਨਾਲ ▁ਇੰਟਰਨੈੱਟ ▁ਦੀ ▁ਸਹੂਲਤ ▁ਮਿਲ ▁ਸਕਦੀ ▁ਹੈ । ▁ਆਓ ▁ਜਾਣਦੇ ▁ਹਾਂ ▁ਕਿ ਹੋ ▁ਜਿਹੀ ▁ਹੋਵੇਗੀ ▁ਇਹ ▁ਤਕਨੀਕ ▁:- ▁ਹਾਲ ▁ਹੀ ▁' ਚ ▁ਇਕ ▁ਪ ੫ ਾ ਜੈਕਟ ▁ਤਹਿਤ ▁ਇਨ ਫਾਰਮ ੈਸ਼ਨ ▁ਐਂਡ ▁ਟੈਕ ਨ ੋਲਾਜੀ ▁ਮਨਿਸਟਰ ੀ ▁ਨੇ ▁ਇਕ ▁ਹੋਰ ▁ਨਵੀਂ ▁ਤਕਨੀਕ ▁ਦਾ ▁ਸਫ਼ਲ ▁ਟੈਸਟ ▁ਕੀਤਾ ▁ਹੈ । ▁ਇਸ ▁ਨਵੀਂ ▁ਤਕਨੀਕ ▁ਨੂੰ ▁ਲਾਈ ਫਾਈ ▁ਦਾ ▁ਨਾਂ ▁ਦਿੱਤਾ ▁ਗਿਆ ▁ਹੈ । ▁ਕੀ ▁ਹੈ ▁ਇਹ ▁ਨਵੀਂ ▁ਤਕਨੀਕ ▁: ▁ਲਾਈ ਫਾਈ ▁ਡਾਟਾ ▁ਟਰਾਂਸਫਰ ▁ਲਈ ▁ਰੇਡੀਓ ▁ ਫਿਕ ਵ ੈਂਸੀ ▁ਵੈਬ ਸ ▁ਦੀ ▁ਥਾਂ ▁ਵਿ ਜੀ ਬਲ ▁ਲਾਈਟ ▁ਕਮਿਊਨੀਕੇਸ਼ਨ ▁ਜਾਂ ▁ਇੰ ਫ ੫ ਾਰੇ ਡ ▁ਜਾਂ ▁ਨਜਦੀਕ ੀ ▁ਅਲਟਰਾ ਵਾਇ ਲਟ ▁ਦੀ ▁ਵਰਤੋਂ ▁ਕਰਦਾ ▁ਹੈ । ▁ਇਹ ▁ਟੈਕ ਨ ੋਲਾਜੀ ▁400 ▁ਅਤੇ ▁800 ▁ਟੀ ਐੱਚ ਜ ੈੱਡ ▁ਦਰਮਿਆਨ ▁ਦੇ ▁ਵਿ ਜੀਵ ਲ ▁ਲਾਈਟ ▁ਦੀ ▁ਵਰਤੋਂ ▁ਕਰਦੀ ▁ਹੈ । ▁ਬਲਬ ▁ਦੇ ▁ਸਵਿੱਚ ▁ਆਨ ▁ਜਾਂ ▁ਆਫ ▁ਕਰਨ ▁ਨਾਲ ▁ਇਸ ▁ਦੀ ▁ਵਰਤੋਂ ▁ਕੀਤੀ ▁ਜਾਵੇਗੀ , ▁ਤਾਂ ▁ਕਿ ▁ਇਹ ▁ਨੈਨੋ ਸੇ ਕੇ ਡ ▁' ਚ ▁ਹੋਵੇ ਗੇ ਾ ▁ਇਸ ▁ਲਈ ▁ਆਮ ▁ਤੌਰ ▁' ਤੇ ▁ਅਸੀਂ ▁ਅੱਖਾਂ ▁ਨਾਲ ▁ਨਹੀਂ ▁ਵੇਖ ▁ਸਕ ਾਂਗੇ । ▁4 ਜੀ ▁ਤੋਂ ▁ਬਾਅਦ ▁ਵੀ ▁ਇੰਟਰਨੈੱਟ ▁ਦੀ ▁ਸਪੀਡ ▁ਹੈ ▁ਹੌਲੀ ▁ਹੁ ੁਣ ▁ਟਰਾਈ ▁ਕਰੇਗਾ ▁ਤੁਹਾਡੀ ▁ਮਦਦ ▁ਲਾਈ ਫਾਈ ▁ਨਾਂ ▁ਦੀ ▁ਇਹ ▁ਤਕਨੀਕ ▁ਵਾਈ ਫਾਈ ▁ਦੀ ▁ਥਾਂ ▁ਨਹੀਂ ▁ਲੈਣਾ ▁ਚਾਹੁੰਦੀ ▁ਪਰ ▁ਇਹ ▁ਆਪਣੇ ▁ਤਰੀਕੇ ▁ਦਾ ▁ਫਾਇਦੇ ▁ਲੈ ▁ਕੇ ▁ਆਇਆ ▁ਹੈ , ▁ਵਿਸ਼ੇਸ਼ ▁ਤੌਰ ▁' ਤੇ ▁ਸਕ ਿਊਰ ਿਟੀ । ▁ਜਿਵੇਂ ▁ਕਿ ▁ਅਸੀਂ ▁ਜਾਣਦੇ ▁ਹਾਂ ▁ਕਿ ▁ਪ ੫ ਕਾਸ਼ ▁ਦੀਆਂ ▁ਤਰੰਗਾਂ ▁ਕੰਧਾਂ ▁ਦੇ ▁ਆਰ - ਪਾਰ ▁ਨਹੀਂ ▁ਜਾ ▁ਸਕਦੀਆਂ , ▁ਇਹ ▁ਤਕਨੀਕ ▁ਘੱਟ ▁ਦੂਰੀ ▁ਲਈ ▁ਕਾਫ਼ੀ ▁ਪ ੫ ਭਾਵ ੀ ▁ਹੋਵੇਗੀ ▁ਤੇ ▁ਹੈ ਕਿੰਗ ▁ਵਰਗੀਆਂ ▁ਮੁਸ਼ਕਿਲ ਾਂ ▁ਨੂੰ ▁ਰੋਕ ੇਗੀ । ▁ਸੁਪਰ ▁ਫਾਸਟ ▁ਸਪੀਡ ▁' ਤੇ ▁ਹੋਵੇਗਾ ▁ਡਾਟਾ ▁ਟਰਾਂਸਫਰ ▁ਉਮੀਦ ▁ਕੀਤੀ ▁ਜਾ ▁ਰਹੀ ▁ਹੈ ▁ਕਿ ▁ਇਸ ▁ਤਕਨੀਕ ▁ਨਾਲ ▁ਇਕ ▁ਕਿਲੋਮੀਟਰ ▁ਦੇ ▁ਇਲਾਕੇ ▁' ▁10 ਜੀ ਡੀ ▁ਪ ੫ ਤੀ ▁ਸੈਕਿੰਡ ▁ਦੀ ▁ਸਪੀਡ ▁ਨਾਲ ▁ਡਾਟਾ ▁ਟਰਾਂਸਫਰ ▁ਕੀਤਾ ▁ਜਾ ▁ਸਕੇਗਾ । ▁ਇਸ ▁ਤਕਨੀਕ ▁ਦੀ ▁ਮਦਦ ▁ਨਾਲ ▁ਲ ਗਪਗ ▁ਦੇਸ਼ ▁ਦੇ ▁ਹਰ ▁ਹਿੱਸੇ ▁' ਚ ▁ਇੰਟਰਨੈੱਟ ▁ਮੁਹੱਈਆ ▁ਕਰਵਾਉਣਾ ▁ਸੰਭਵ ▁ਹੋ ▁ਸਕੇਗਾ ।,▁x x bo s ▁ਪੀ ਐਮ ▁ਮੋਦੀ ▁ਦੇ ▁ਬਚਪਨ ▁’ ਤੇ ▁ਬਣੀ ▁ਫਿ ਼ ਲਮ ▁‘ ਚ ਲੋ ▁ਜੀ ਤੇ ▁ਹੈ ਂ ’ ▁ਰਿਲੀਜ਼ <unk> ▁m on , ▁30 <unk> ▁j ul ▁2018 ▁0 2 : 07 <unk> ▁p m <unk> ▁i <unk> st ▁1 ▁/ ▁8 ▁ਪ੍ਰਧਾਨ ▁ਮੰਤਰੀ ▁ਨਰਿੰਦਰ ▁ਮੋਦੀ ▁ਦੇ ▁ਬਚਪਨ ▁ਤੇ ▁ਬਣੀ ▁ਸ਼ਾਰਟ ▁ਫਿ ਼ ਲਮ ▁ਚ ਲੋ ▁ਜੀ ਤੇ ▁ਹੈ ਂ ▁ਲੰਘ ੇ ▁ਦਿਨੀਂ ▁ਰਿਲੀਜ਼ ▁ਹੋ ▁ਗਈ । ▁ਫਿ ਼ ਲਮ ▁ਰਿਲੀਜ਼ ▁ਤੋਂ ▁ਇੱਕ ▁ਪਹਿਲਾਂ ▁ਸ਼ ਨਿ ਵਾਰ ▁ਨੂੰ ▁ਫਿ ਼ ਲਮ ▁ਦੀ ▁ਸਕਰੀਨ ਿੰਗ ▁ਮੁੰਬਈ ▁ਚ ▁ਹੋਈ । ▁2 ▁/ ▁8 ▁ਚ ਲੋ ▁ਜੀ ਤੇ ▁ਹੈ ਂ ▁ਦੀ ▁ਸਪੈਸ਼ਲ ▁ਸਕਰੀਨ ਿੰਗ ▁ਚ ▁ਬਾਲੀਵੁੱਡ ▁ਦਿੱਗਜ ਼ ▁ਤੋਂ ▁ਲੈ ▁ਕੇ ▁ਅੰਬਾਨੀ ▁ਸਮੇਤ ▁ਕਈ ▁ਵੱਡੇ ▁ਨੇਤਾ ▁ਸ਼ਾਮਲ ▁ਸਨ । ▁ ਅਕਸ਼ੈ ▁ਕੁਮਾਰ , ▁ਕੈਲਾਸ਼ ▁ਖੇਰ , ▁ਆਨੰਦ ▁ਐਲ ▁ਰਾਏ , ▁ਪ੍ਰ ਸੂਨ ▁ਜੋਸ਼ੀ ▁ਨਜ਼ਰ ▁ਆਏ ▁3 ▁/ ▁8 ▁ਇਸ ▁ਖਾਸ ▁ਮੌਕੇ ▁ਪ੍ਰ ਸੂਨ ▁ਜੋਸ਼ੀ , ▁ਕੰਗ ਨਾ ▁ਰਣ ਾ ਵਤ ▁ਵੀ ▁ਨਜ਼ਰ ▁ਆਈ ਂ । ▁4 ▁/ ▁8 ▁ਦੱਸ ▁ਦ ਈਏ ▁ਕਿ ▁29 ▁ਜੁਲਾਈ ▁ਨੂੰ ▁ਡਿਜੀਟਲ ▁ਪਲੇਟਫਾਰਮ ▁ਤੇ ▁ਰਿਲੀਜ਼ ▁ਹੋਈ ▁ਫਿਲਮ ▁ਚ ਲੋ ▁ਜੀ ਤੇ ▁ਹੈ ਂ ▁ਸੱਚ ੀਆਂ ▁ਘਟਨਾਵਾਂ ▁ਤੇ ▁ਆਧਾਰਿਤ ▁ਹੈ । ▁ਇਹ ▁ਇੱਕ ▁ਬੱਚੇ ▁ਦੀ ▁ਕਹਾਣੀ ▁ਹੈ ▁ਜੋ ▁ਦੇਸ਼ ▁ਲਈ ▁ਕੁੱਝ ▁ਕਰਨਾ ▁ਚਾਹੁੰਦਾ ▁ਹੈ । ▁5 ▁/ ▁8 ▁ਛੋਟੇ ▁ਪਰਦੇ ▁ਦੇ ▁ਮਸ਼ਹੂਰ ▁ਸਟਾਰ ▁ਗੁਰਮੀਤ ▁ਅਤੇ ▁ਦੇ ਬੀ ਨਾ ▁ਵੀ ▁ਫਿ ਼ ਲਮ ▁ਦੀ ▁ਸਪੇਸ਼ ਲ ▁ਸਕਰੀਨ ਿੰਗ ▁ਚ ▁ਪੁੱਜੇ । ▁ਗੁਰਮੀਤ ▁ਨੇ ▁ਫਿ ਼ ਲਮ ▁ਦੀ ▁ਰੱਜ ▁ਕੇ ▁ ਸ਼ਾਲਾ ਘ ਾਂ ▁ਕੀਤੀ । ▁6 ▁/ ▁8 ▁ਬਾਲੀਵੁੱਡ ▁ਦੀਆਂ ▁ਹਸਤੀਆਂ ▁ਅਤੇ ▁ਸਿਆਸੀ ▁ਆਗੂਆਂ ▁ਤੋਂ ▁ਇਲਾਵਾ ▁ਕ੍ਰਿਕਟ ▁ਜਗਤ ▁ਤੋਂ ▁ਸਚ ਿੱ ਨ ▁ਤੇਂਦੂ ਲ ਕਰ ▁ਨੇ ▁ਵੀ ▁ਇਸ ▁ਮੌਕੇ ▁ਆਪਣਾ ▁ਨਾਂ ▁ਦਰਜ ▁ਕਰਵਾਇਆ । ▁7 ▁/ ▁8 ▁ਬੱਚੇ ▁ਦੇ ▁ਬਚਪਨ ▁ਦਾ ▁ਨਾਂ ▁ਹੈ ▁ਨਰ ੂ । ▁ਦੱਸਿਆ ▁ਜਾ ▁ਰਿਹਾ ▁ਹੈ ▁ਕਿ ▁ਫਿ ਼ ਲਮ ▁ਨਰਿੰਦਰ ▁ਮੋਦੀ ▁ਦੇ ▁ਬਚਪਨ ▁ਤੋਂ ▁ਪ੍ਰੇਰਿਤ ▁ਹੈ । ▁ਇਸ ▁ਮੌਕੇ ▁ਤੇ ▁ਅਦਾਕਾਰਾ ▁ਕੰਗ ਨਾ ▁ਰਣ ਾ ਵਤ ▁ਵੀ ▁ਨਜ਼ਰ ▁ਆਈ । ▁ਉਨ੍ਹਾਂ ▁ਨੇ ▁ਪੀ ਐਮ ▁ਦੀ ▁ਰੱਜ ▁ਕੇ ▁ਸ਼ਲਾਘਾ ਂ ▁ਕੀਤੀ । ▁8 ▁/ ▁8 ▁ਦੱਸ ▁ਦੇ ਈਏ ▁ਕਿ ▁32 ▁ਮਿੰਟਾਂ ▁ਦੀ ▁ਇਹ ▁ਫਿ ਼ ਲਮ ▁ਮੰਗ ੇਸ਼ ▁ਹਦ ਾਵ ਲੇ ▁ਦੁਆਰਾ ▁ਨਿਰਦੇਸ਼ ੀ ਤ ▁ਹੈ । ▁ਮੰਗ ੇਸ਼ ▁ਦੀ ▁ਡੈਬ ਯੂ ▁ਮਰਾਠੀ ▁ਫਿ ਼ ਲਮ ▁ ਟਿੰਗ ਿ ਯੋ ▁ਨੂੰ ▁ਕੌਮੀ ▁ਸਮੇਤ ▁ਕਈ ▁ਅੰਤਰ ਰਾਜ ੀ ▁ਪੁਰਸਕਾਰ ▁ਮਿਲ ▁ਚੁੱਕੇ ▁ਹਨ ।,▁x x bo s ▁ਬਹੁਤ ▁ਚੰਗਾ ▁ਮਹਿਸੂਸ ▁ਹੋ ▁ਰਿ ਹੈ ▁: ▁ਕੋਹਲੀ <unk> ▁p ub lish <unk> ▁d ate : w ed , ▁23 <unk> ▁o ct ▁ 2019 ▁0 9 : 16 <unk> ▁p m ▁( i <unk> st ) ▁ਕੋਹਲੀ ▁ਨੇ ▁ਪਿਛਲੇ ▁ਸਾਲ ▁ਸ਼ਾਕਾਹਾਰੀ ▁ਬਣਨ ▁ਦਾ ▁ਫ਼ੈਸਲਾ ▁ਲਿਆ ▁ਸੀ । ▁ਕੋਹਲੀ ▁ਨੇ ▁ਗੇਮ ▁ਚ ੇਂਜਰ ▁ਸ਼ੋਅ ▁ਦੇਖਣ ▁ਤੋਂ ▁ਬਾਅਦ ▁ਟਵ ੀਟ ▁ਕੀਤਾ ▁ਕਿ ▁ਗੇਮ ▁ਚ ੇਂਜਰ ▁ਸ਼ੋਅ ▁ਦੇਖਿਆ । ▁ਸ਼ਾਕਾਹਾਰੀ ▁ਬਣਨ ▁ਤੋਂ ▁ਬਾਅਦ ▁ਮੈਨੂੰ ▁ਇਹ ▁ਪਤਾ ▁ਲੱਗਾ ▁ਕਿ ▁ਇੰਨ ੇ ▁ਸਾਲਾਂ ▁ਤੋਂ ▁ਡ ▁ਨਵੀਂ ▁ਦਿੱਲੀ ▁( ਜੇ ਐੱਨ ਐੱਨ ) ▁: ▁ਅੰਤਰਰਾਸ਼ਟਰੀ ▁ਕ੍ਰਿਕਟ ▁ਵਿਚ ▁ਸ਼ੁਰੂਆਤ ▁ਕਰਨ ▁ਤੋਂ ▁ਬਾਅਦ ▁ਤੋਂ ▁ਹੀ ▁ਵਿਰਾਟ ▁ਕੋਹਲੀ ▁ਭਾਰਤੀ ▁ਬੱਲੇਬਾਜ਼ੀ ▁ਦਾ ▁ਅਹਿਮ ▁ਹਿੱਸਾ ▁ਹਨ । ▁ਭਾਰਤ ▁ਲਈ ▁2008 ▁ਵਿਚ ▁ਪਹਿਲਾ ▁ਅੰਤਰਰਾਸ਼ਟਰੀ ▁ਮੈਚ ▁ਖੇਡਦੇ ▁ਸਮੇਂ ▁ਕੋਹਲੀ ▁ਗੋਲ ▁ਮ ਟੋਲ ▁ਚਿਹਰੇ ▁ਵਾਲੇ ▁ਇਕ ▁ਨੌਜਵਾਨ ▁ਖਿਡਾਰੀ ▁ਸਨ ▁ਪਰ ▁ਉਹ ▁ਹੁਣ ▁ਦੁਨੀਆ ▁ਦੇ ▁ਸਭ ▁ਤੋਂ ▁ਫਿੱਟ ▁ਖਿਡਾਰੀਆਂ ▁ਵਿਚੋਂ ▁ਇਕ ▁ਹਨ ▁ਤੇ ▁ਸਾਰੇ ▁ਉਨ੍ਹਾਂ ▁ਦੀ ▁ਤਬਦੀਲੀ ▁ਨੂੰ ▁ਦੇਖ ▁ਸਕਦੇ ▁ਹਨ । ▁ਉਹ ▁ਸਿਰਫ਼ ▁ਫਿੱਟ ▁ਨਹੀਂ ▁ਹੋਏ ▁ਹਨ ▁ਬਲਕਿ ▁ਟੀਮ ▁ਦੇ ▁ਅੰਦਰ ▁ਵੀ ▁ਹੋਰ ▁ਖਿਡਾਰੀਆਂ ▁ਨੂੰ ▁ਫਿਟ ਨੈੱਸ ▁ਪ੍ਰਤੀ ▁ਜਾਗਰੂਕ ▁ਕੀਤਾ ▁ਹੈ । ▁ਕੋਹਲੀ ▁ਨੇ ▁ਪਿਛਲੇ ▁ਸਾਲ ▁ਸ਼ਾਕਾਹਾਰੀ ▁ਬਣਨ ▁ਦਾ ▁ਫ਼ੈਸਲਾ ▁ਲਿਆ ▁ਸੀ । ▁ਕੋਹਲੀ ▁ਨੇ ▁ਗੇਮ ▁ਚ ੇਂਜਰ ▁ਸ਼ੋਅ ▁ਦੇਖਣ ▁ਤੋਂ ▁ਬਾਅਦ ▁ਟਵ ੀਟ ▁ਕੀਤਾ ▁ਕਿ ▁ਗੇਮ ▁ਚ ੇਂਜਰ ▁ਸ਼ੋਅ ▁ਦੇਖਿਆ । ▁ਸ਼ਾਕਾਹਾਰੀ ▁ਬਣਨ ▁ਤੋਂ ▁ਬਾਅਦ ▁ਮੈਨੂੰ ▁ਇਹ ▁ਪਤਾ ▁ਲੱਗਾ ▁ਕਿ ▁ਇੰਨ ੇ ▁ਸਾਲਾਂ ▁ਤੋਂ ▁ਡਾਈ ਟ ▁ਬਾਰੇ ▁ਮੇਰੀ ▁ਜੋ ▁ਸੋਚ ▁ਸੀ ▁ਉਹ ▁ਬਸ ▁ਇਕ ▁ਕਲਪਨਾ ▁ਹੀ ▁ਸੀ । ▁ਬਹੁਤ ▁ਸ਼ਾਨਦਾਰ ▁ਡਾਕੂਮੈਂਟਰੀ ▁ਹੈ ▁ਤੇ ▁ਹਾਂ ▁ਸ਼ਾਕਾਹਾਰੀ ▁ਬਣਨ ▁ਤੋਂ ▁ਬਾਅਦ ▁ਮੈਨੂੰ ▁ਜਿਵੇਂ ▁ਮਹਿਸੂਸ ▁ਹੋਇਆ ▁ਉਵੇਂ ▁ਜੀਵਨ ▁ਵਿਚ ▁ਪਹਿਲਾਂ ▁ਕਦੀ ▁ਨਹੀਂ ▁ਹੋਇਆ । ▁ਸ਼ਾਕਾਹਾਰੀ ▁ਬਣਨ ▁ਲਈ ▁ਪ੍ਰੇਰ ਦੀ ▁ਹੈ ▁ਡਾਕੂਮੈਂਟਰੀ ▁ਗੇਮ ▁ਚ ੇਂਦਰ ▁ਪਿਛਲੇ ▁ਸੈਸ਼ਨ ▁ਦੌਰਾਨ ▁ਆਈ ▁ਇਕ ▁ਅਜਿਹੀ ▁ਡਾਕੂਮੈਂਟਰੀ ▁ਹੈ ▁ਜਿਸ ▁ਵਿਚ ▁ਸ਼ਾਕਾਹਾਰੀ ▁ਭੋਜਨ ▁ਨਾਲ ▁ਖਿਡਾਰੀਆਂ ▁ਨੂੰ ▁ਹੋਣ ▁ਵਾਲੇ ▁ਕਈ ▁ਤਰ੍ਹਾਂ ▁ਦਾ ▁ਫ਼ਾਇ ਦਿਆਂ ▁ਬਾਰੇ ▁ਜਾਣਕਾਰੀ ▁ਦਿੱਤੀ ▁ਗਈ ▁ਹੈ ।\n",
              "y: EmptyLabelList\n",
              ",,,,\n",
              "Path: ., model=SequentialRNN(\n",
              "  (0): MultiBatchEncoder(\n",
              "    (module): AWD_LSTM(\n",
              "      (encoder): Embedding(30000, 400, padding_idx=1)\n",
              "      (encoder_dp): EmbeddingDropout(\n",
              "        (emb): Embedding(30000, 400, padding_idx=1)\n",
              "      )\n",
              "      (rnns): ModuleList(\n",
              "        (0): WeightDropout(\n",
              "          (module): LSTM(400, 1152, batch_first=True)\n",
              "        )\n",
              "        (1): WeightDropout(\n",
              "          (module): LSTM(1152, 1152, batch_first=True)\n",
              "        )\n",
              "        (2): WeightDropout(\n",
              "          (module): LSTM(1152, 400, batch_first=True)\n",
              "        )\n",
              "      )\n",
              "      (input_dp): RNNDropout()\n",
              "      (hidden_dps): ModuleList(\n",
              "        (0): RNNDropout()\n",
              "        (1): RNNDropout()\n",
              "        (2): RNNDropout()\n",
              "      )\n",
              "    )\n",
              "  )\n",
              "  (1): PoolingLinearClassifier(\n",
              "    (layers): Sequential(\n",
              "      (0): BatchNorm1d(1200, eps=1e-05, momentum=0.1, affine=True, track_running_stats=True)\n",
              "      (1): Dropout(p=0.2, inplace=False)\n",
              "      (2): Linear(in_features=1200, out_features=50, bias=True)\n",
              "      (3): ReLU(inplace=True)\n",
              "      (4): BatchNorm1d(50, eps=1e-05, momentum=0.1, affine=True, track_running_stats=True)\n",
              "      (5): Dropout(p=0.1, inplace=False)\n",
              "      (6): Linear(in_features=50, out_features=4, bias=True)\n",
              "    )\n",
              "  )\n",
              "), opt_func=functools.partial(<class 'torch.optim.adam.Adam'>, betas=(0.9, 0.99)), loss_func=FlattenedLoss of CrossEntropyLoss(), metrics=[<function accuracy at 0x7fa4dedb6ef0>], true_wd=True, bn_wd=True, wd=0.01, train_bn=True, path=PosixPath('.'), model_dir='models', callback_fns=[functools.partial(<class 'fastai.basic_train.Recorder'>, add_time=True, silent=False)], callbacks=[RNNTrainer\n",
              "learn: ...\n",
              "alpha: 2.0\n",
              "beta: 1.0], layer_groups=[Sequential(\n",
              "  (0): Embedding(30000, 400, padding_idx=1)\n",
              "  (1): EmbeddingDropout(\n",
              "    (emb): Embedding(30000, 400, padding_idx=1)\n",
              "  )\n",
              "), Sequential(\n",
              "  (0): WeightDropout(\n",
              "    (module): LSTM(400, 1152, batch_first=True)\n",
              "  )\n",
              "  (1): RNNDropout()\n",
              "), Sequential(\n",
              "  (0): WeightDropout(\n",
              "    (module): LSTM(1152, 1152, batch_first=True)\n",
              "  )\n",
              "  (1): RNNDropout()\n",
              "), Sequential(\n",
              "  (0): WeightDropout(\n",
              "    (module): LSTM(1152, 400, batch_first=True)\n",
              "  )\n",
              "  (1): RNNDropout()\n",
              "), Sequential(\n",
              "  (0): PoolingLinearClassifier(\n",
              "    (layers): Sequential(\n",
              "      (0): BatchNorm1d(1200, eps=1e-05, momentum=0.1, affine=True, track_running_stats=True)\n",
              "      (1): Dropout(p=0.2, inplace=False)\n",
              "      (2): Linear(in_features=1200, out_features=50, bias=True)\n",
              "      (3): ReLU(inplace=True)\n",
              "      (4): BatchNorm1d(50, eps=1e-05, momentum=0.1, affine=True, track_running_stats=True)\n",
              "      (5): Dropout(p=0.1, inplace=False)\n",
              "      (6): Linear(in_features=50, out_features=4, bias=True)\n",
              "    )\n",
              "  )\n",
              ")], add_time=True, silent=False)"
            ]
          },
          "metadata": {},
          "execution_count": 33
        }
      ],
      "source": [
        "learn.load_encoder('fine_tuned_enc')"
      ]
    },
    {
      "cell_type": "code",
      "execution_count": null,
      "metadata": {
        "colab": {
          "base_uri": "https://localhost:8080/"
        },
        "id": "0fvBGZ3iVGN-",
        "outputId": "12efbc19-032a-4228-a6a6-927bf45891ff"
      },
      "outputs": [
        {
          "output_type": "execute_result",
          "data": {
            "text/plain": [
              "CrossEntropyLoss()"
            ]
          },
          "metadata": {},
          "execution_count": 34
        }
      ],
      "source": [
        "learn.loss_func.func"
      ]
    },
    {
      "cell_type": "code",
      "execution_count": null,
      "metadata": {
        "id": "UKIVczfzVGN-"
      },
      "outputs": [],
      "source": [
        "mcc = MatthewsCorreff()"
      ]
    },
    {
      "cell_type": "code",
      "execution_count": null,
      "metadata": {
        "id": "4w-sndwWVGN_"
      },
      "outputs": [],
      "source": [
        "learn.metrics = [accuracy, mcc]"
      ]
    },
    {
      "cell_type": "code",
      "execution_count": null,
      "metadata": {
        "colab": {
          "base_uri": "https://localhost:8080/",
          "height": 144
        },
        "id": "sfJj6inSVGOA",
        "outputId": "c7f6bd8f-a444-42fa-a286-a16def4fc265"
      },
      "outputs": [
        {
          "data": {
            "text/html": [
              "\n",
              "<style>\n",
              "    /* Turns off some styling */\n",
              "    progress {\n",
              "        /* gets rid of default border in Firefox and Opera. */\n",
              "        border: none;\n",
              "        /* Needs to be in here for Safari polyfill so background images work as expected. */\n",
              "        background-size: auto;\n",
              "    }\n",
              "    .progress-bar-interrupted, .progress-bar-interrupted::-webkit-progress-bar {\n",
              "        background: #F44336;\n",
              "    }\n",
              "</style>\n"
            ],
            "text/plain": [
              "<IPython.core.display.HTML object>"
            ]
          },
          "metadata": {},
          "output_type": "display_data"
        },
        {
          "data": {
            "text/html": [
              "\n",
              "    <div>\n",
              "      <progress value='1' class='' max='2' style='width:300px; height:20px; vertical-align: middle;'></progress>\n",
              "      50.00% [1/2 22:04<22:04]\n",
              "    </div>\n",
              "    \n",
              "<table border=\"1\" class=\"dataframe\">\n",
              "  <thead>\n",
              "    <tr style=\"text-align: left;\">\n",
              "      <th>epoch</th>\n",
              "      <th>train_loss</th>\n",
              "      <th>valid_loss</th>\n",
              "      <th>accuracy</th>\n",
              "      <th>matthews_correff</th>\n",
              "      <th>time</th>\n",
              "    </tr>\n",
              "  </thead>\n",
              "  <tbody>\n",
              "    <tr>\n",
              "      <td>0</td>\n",
              "      <td>0.351644</td>\n",
              "      <td>0.193595</td>\n",
              "      <td>0.967949</td>\n",
              "      <td>0.957154</td>\n",
              "      <td>22:04</td>\n",
              "    </tr>\n",
              "  </tbody>\n",
              "</table><p>\n",
              "\n",
              "    <div>\n",
              "      <progress value='0' class='' max='39' style='width:300px; height:20px; vertical-align: middle;'></progress>\n",
              "      0.00% [0/39 00:00<00:00]\n",
              "    </div>\n",
              "    "
            ],
            "text/plain": [
              "<IPython.core.display.HTML object>"
            ]
          },
          "metadata": {},
          "output_type": "display_data"
        },
        {
          "metadata": {
            "tags": null
          },
          "name": "stdout",
          "output_type": "stream",
          "text": [
            "Better model found at epoch 0 with accuracy value: 0.9679487347602844.\n"
          ]
        }
      ],
      "source": [
        "learn.fit_one_cycle(2, 1e-2, callbacks=[callbacks.SaveModelCallback(learn, every='improvement', monitor='accuracy', name='final')])"
      ]
    },
    {
      "cell_type": "code",
      "execution_count": null,
      "metadata": {
        "id": "bCdmrjC3lJZU"
      },
      "outputs": [],
      "source": [
        "from keras.models import load_model\n",
        "learn.save('My_Model.h5')\n",
        "del learn"
      ]
    },
    {
      "cell_type": "code",
      "execution_count": null,
      "metadata": {
        "colab": {
          "base_uri": "https://localhost:8080/",
          "height": 234
        },
        "id": "Ec0faqPiCk-8",
        "outputId": "67b4aa72-71c7-4ab4-b6d3-cba923dbd960"
      },
      "outputs": [
        {
          "output_type": "error",
          "ename": "NameError",
          "evalue": "ignored",
          "traceback": [
            "\u001b[0;31m---------------------------------------------------------------------------\u001b[0m",
            "\u001b[0;31mNameError\u001b[0m                                 Traceback (most recent call last)",
            "\u001b[0;32m<ipython-input-56-6706d01414d8>\u001b[0m in \u001b[0;36m<module>\u001b[0;34m()\u001b[0m\n\u001b[1;32m      6\u001b[0m \u001b[0;34m\u001b[0m\u001b[0m\n\u001b[1;32m      7\u001b[0m \u001b[0mi2c\u001b[0m \u001b[0;34m=\u001b[0m \u001b[0;34m{\u001b[0m\u001b[0;34m}\u001b[0m\u001b[0;34m\u001b[0m\u001b[0;34m\u001b[0m\u001b[0m\n\u001b[0;32m----> 8\u001b[0;31m \u001b[0;32mfor\u001b[0m \u001b[0mkey\u001b[0m\u001b[0;34m,\u001b[0m \u001b[0mvalue\u001b[0m \u001b[0;32min\u001b[0m \u001b[0mlearn\u001b[0m\u001b[0;34m.\u001b[0m\u001b[0mdata\u001b[0m\u001b[0;34m.\u001b[0m\u001b[0mc2i\u001b[0m\u001b[0;34m.\u001b[0m\u001b[0mitems\u001b[0m\u001b[0;34m(\u001b[0m\u001b[0;34m)\u001b[0m\u001b[0;34m:\u001b[0m\u001b[0;34m\u001b[0m\u001b[0;34m\u001b[0m\u001b[0m\n\u001b[0m\u001b[1;32m      9\u001b[0m     \u001b[0mi2c\u001b[0m\u001b[0;34m[\u001b[0m\u001b[0mvalue\u001b[0m\u001b[0;34m]\u001b[0m \u001b[0;34m=\u001b[0m \u001b[0mkey\u001b[0m\u001b[0;34m\u001b[0m\u001b[0;34m\u001b[0m\u001b[0m\n\u001b[1;32m     10\u001b[0m \u001b[0;34m\u001b[0m\u001b[0m\n",
            "\u001b[0;31mNameError\u001b[0m: name 'learn' is not defined"
          ]
        }
      ],
      "source": [
        "from sklearn.metrics import accuracy_score, matthews_corrcoef\n",
        "df_dict = {'query': list(df_test[1]), 'actual_label': list(df_test[0]), 'predicted_label': ['']*df_test.shape[0]}\n",
        "all_nodes = list(set(df_train[0]))\n",
        "for node in all_nodes:\n",
        "    df_dict[node] = ['']*df_test.shape[0]\n",
        "    \n",
        "i2c = {}\n",
        "for key, value in learn.data.c2i.items():\n",
        "    i2c[value] = key\n",
        "    \n",
        "df_result = pd.DataFrame(df_dict)\n",
        "preds = learn.get_preds(ds_type=DatasetType.Test, ordered=True)\n",
        "for index, row in df_result.iterrows():\n",
        "    for node in all_nodes:\n",
        "        row[node] = preds[0][index][learn.data.c2i[node]].item()\n",
        "    row['predicted_label'] = i2c[np.argmax(preds[0][index]).data.item()]\n",
        "df_result.head()"
      ]
    },
    {
      "cell_type": "code",
      "execution_count": null,
      "metadata": {
        "colab": {
          "background_save": true
        },
        "id": "NwDMFGT8VGOB",
        "outputId": "2cf66a0c-3aad-4cff-f5eb-f5b5cf505eef"
      },
      "outputs": [
        {
          "data": {
            "text/plain": [
              "0.9583333333333334"
            ]
          },
          "execution_count": null,
          "metadata": {},
          "output_type": "execute_result"
        }
      ],
      "source": [
        "accuracy_score(df_result['actual_label'], df_result['predicted_label'])"
      ]
    },
    {
      "cell_type": "code",
      "execution_count": null,
      "metadata": {
        "colab": {
          "background_save": true
        },
        "id": "r-h5uDsrVGOB",
        "outputId": "b19dca5a-b7a5-4633-c571-0e8210105ba6"
      },
      "outputs": [
        {
          "data": {
            "text/plain": [
              "0.9448994337320976"
            ]
          },
          "execution_count": null,
          "metadata": {},
          "output_type": "execute_result"
        }
      ],
      "source": [
        "matthews_corrcoef(df_result['actual_label'], df_result['predicted_label'])"
      ]
    },
    {
      "cell_type": "code",
      "execution_count": null,
      "metadata": {
        "colab": {
          "background_save": true
        },
        "id": "TMIQkCxHVGOB"
      },
      "outputs": [],
      "source": [
        "df_result.to_csv('indicnlp_news_articles_pa_result.csv', index=False)"
      ]
    }
  ],
  "metadata": {
    "colab": {
      "collapsed_sections": [],
      "name": "Copy of NLP_MINI_PROJECT_Classification",
      "provenance": [],
      "include_colab_link": true
    },
    "kernelspec": {
      "display_name": "in",
      "language": "python",
      "name": "in"
    },
    "language_info": {
      "codemirror_mode": {
        "name": "ipython",
        "version": 3
      },
      "file_extension": ".py",
      "mimetype": "text/x-python",
      "name": "python",
      "nbconvert_exporter": "python",
      "pygments_lexer": "ipython3",
      "version": "3.6.3"
    }
  },
  "nbformat": 4,
  "nbformat_minor": 0
}